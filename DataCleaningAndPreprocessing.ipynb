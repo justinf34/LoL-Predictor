{
  "nbformat": 4,
  "nbformat_minor": 0,
  "metadata": {
    "colab": {
      "name": "DataCleaningAndPreprocessing.ipynb",
      "provenance": [],
      "collapsed_sections": [],
      "authorship_tag": "ABX9TyPaEtPvXUZ7+9q1dw/1O5yy",
      "include_colab_link": true
    },
    "kernelspec": {
      "name": "python3",
      "display_name": "Python 3"
    }
  },
  "cells": [
    {
      "cell_type": "markdown",
      "metadata": {
        "id": "view-in-github",
        "colab_type": "text"
      },
      "source": [
        "<a href=\"https://colab.research.google.com/github/justinf34/SENG550-Project/blob/main/DataCleaningAndPreprocessing.ipynb\" target=\"_parent\"><img src=\"https://colab.research.google.com/assets/colab-badge.svg\" alt=\"Open In Colab\"/></a>"
      ]
    },
    {
      "cell_type": "markdown",
      "metadata": {
        "id": "9JdRgqRnJDqh"
      },
      "source": [
        "## Setting up Colab Environment\n"
      ]
    },
    {
      "cell_type": "markdown",
      "metadata": {
        "id": "iOq4BXUIJSDj"
      },
      "source": [
        "#### Mounting google drive to this colab notebook"
      ]
    },
    {
      "cell_type": "code",
      "metadata": {
        "colab": {
          "base_uri": "https://localhost:8080/"
        },
        "id": "lHS106f_JP9E",
        "outputId": "3f5c4b2d-96e0-48ae-d1da-4aa52b51e24d"
      },
      "source": [
        "from google.colab import drive\n",
        "drive.mount('/content/drive') "
      ],
      "execution_count": null,
      "outputs": [
        {
          "output_type": "stream",
          "text": [
            "Mounted at /content/drive\n"
          ],
          "name": "stdout"
        }
      ]
    },
    {
      "cell_type": "code",
      "metadata": {
        "colab": {
          "base_uri": "https://localhost:8080/"
        },
        "id": "YUfUsggDMWXG",
        "outputId": "9085d5cf-694c-4f5c-ed51-15efd2e0fec9"
      },
      "source": [
        "import os\n",
        "\n",
        "os.chdir('drive/MyDrive/Colab Notebooks/SENG550/dataset/') # Chaging to dataset dir\n",
        "print(os.listdir())"
      ],
      "execution_count": null,
      "outputs": [
        {
          "output_type": "stream",
          "text": [
            "['LeagueofLegends.csv', 'gold.csv', '_columns.csv', 'bans.csv', 'kills.csv', 'monsters.csv', 'structures.csv', 'matchinfo.csv', 'Reference-Dataset', 'model_features']\n"
          ],
          "name": "stdout"
        }
      ]
    },
    {
      "cell_type": "markdown",
      "metadata": {
        "id": "rsltBgV6LnxC"
      },
      "source": [
        "#### Downloading and Setting up Spark"
      ]
    },
    {
      "cell_type": "code",
      "metadata": {
        "colab": {
          "base_uri": "https://localhost:8080/"
        },
        "id": "Lblh1wqjLm2a",
        "outputId": "6a666ce5-be87-4fc5-b1d5-6f414bd74b38"
      },
      "source": [
        "!pip install pyspark"
      ],
      "execution_count": null,
      "outputs": [
        {
          "output_type": "stream",
          "text": [
            "Collecting pyspark\n",
            "\u001b[?25l  Downloading https://files.pythonhosted.org/packages/f0/26/198fc8c0b98580f617cb03cb298c6056587b8f0447e20fa40c5b634ced77/pyspark-3.0.1.tar.gz (204.2MB)\n",
            "\u001b[K     |████████████████████████████████| 204.2MB 66kB/s \n",
            "\u001b[?25hCollecting py4j==0.10.9\n",
            "\u001b[?25l  Downloading https://files.pythonhosted.org/packages/9e/b6/6a4fb90cd235dc8e265a6a2067f2a2c99f0d91787f06aca4bcf7c23f3f80/py4j-0.10.9-py2.py3-none-any.whl (198kB)\n",
            "\u001b[K     |████████████████████████████████| 204kB 47.8MB/s \n",
            "\u001b[?25hBuilding wheels for collected packages: pyspark\n",
            "  Building wheel for pyspark (setup.py) ... \u001b[?25l\u001b[?25hdone\n",
            "  Created wheel for pyspark: filename=pyspark-3.0.1-py2.py3-none-any.whl size=204612243 sha256=c981f3022f75370cb791aa10d6dde8efe6fec4d1b57412496229a8af19d6e6b5\n",
            "  Stored in directory: /root/.cache/pip/wheels/5e/bd/07/031766ca628adec8435bb40f0bd83bb676ce65ff4007f8e73f\n",
            "Successfully built pyspark\n",
            "Installing collected packages: py4j, pyspark\n",
            "Successfully installed py4j-0.10.9 pyspark-3.0.1\n"
          ],
          "name": "stdout"
        }
      ]
    },
    {
      "cell_type": "code",
      "metadata": {
        "id": "gEiMLbrNajh9"
      },
      "source": [
        "# Setting up spark\n",
        "from pyspark import SparkContext, SparkConf\n",
        "\n",
        "conf = SparkConf().setAppName(\"SENG550\").setMaster(\"local[*]\")\n",
        "sc = SparkContext(conf=conf)"
      ],
      "execution_count": null,
      "outputs": []
    },
    {
      "cell_type": "code",
      "metadata": {
        "id": "au7muD23V0lN"
      },
      "source": [
        "sc.stop()"
      ],
      "execution_count": null,
      "outputs": []
    },
    {
      "cell_type": "code",
      "metadata": {
        "id": "TSftRb3NL4xy"
      },
      "source": [
        "# Setting up Spark context using SparkSession\n",
        "import pyspark\n",
        "from pyspark.sql import SparkSession\n",
        "\n",
        "spark = SparkSession.builder.master(\"local[*]\").getOrCreate()"
      ],
      "execution_count": null,
      "outputs": []
    },
    {
      "cell_type": "code",
      "metadata": {
        "id": "njtza6eKpRMS"
      },
      "source": [
        "spark.stop()"
      ],
      "execution_count": null,
      "outputs": []
    },
    {
      "cell_type": "markdown",
      "metadata": {
        "id": "LILU1TQPQ_Ln"
      },
      "source": [
        "## Cleaning Data & Preprocessing Data\n"
      ]
    },
    {
      "cell_type": "markdown",
      "metadata": {
        "id": "9_34Y9mCRo6_"
      },
      "source": [
        "Loading the data and creating an RDD."
      ]
    },
    {
      "cell_type": "code",
      "metadata": {
        "colab": {
          "base_uri": "https://localhost:8080/"
        },
        "id": "JxvQ25BNRWxg",
        "outputId": "ce667333-7347-40ab-cba5-b9922fd1b3d2"
      },
      "source": [
        "filename = 'LeagueofLegends.csv'\n",
        "fileDir = os.path.join(os.getcwd(),filename)\n",
        "\n",
        "games_df = spark.read.csv(fileDir,inferSchema=True,header=True)\n",
        "games_df.createOrReplaceTempView(\"games\")\n",
        "games_df.printSchema()"
      ],
      "execution_count": null,
      "outputs": [
        {
          "output_type": "stream",
          "text": [
            "root\n",
            " |-- League: string (nullable = true)\n",
            " |-- Year: integer (nullable = true)\n",
            " |-- Season: string (nullable = true)\n",
            " |-- Type: string (nullable = true)\n",
            " |-- blueTeamTag: string (nullable = true)\n",
            " |-- bResult: integer (nullable = true)\n",
            " |-- rResult: integer (nullable = true)\n",
            " |-- redTeamTag: string (nullable = true)\n",
            " |-- gamelength: integer (nullable = true)\n",
            " |-- golddiff: string (nullable = true)\n",
            " |-- goldblue: string (nullable = true)\n",
            " |-- bKills: string (nullable = true)\n",
            " |-- bTowers: string (nullable = true)\n",
            " |-- bInhibs: string (nullable = true)\n",
            " |-- bDragons: string (nullable = true)\n",
            " |-- bBarons: string (nullable = true)\n",
            " |-- bHeralds: string (nullable = true)\n",
            " |-- goldred: string (nullable = true)\n",
            " |-- rKills: string (nullable = true)\n",
            " |-- rTowers: string (nullable = true)\n",
            " |-- rInhibs: string (nullable = true)\n",
            " |-- rDragons: string (nullable = true)\n",
            " |-- rBarons: string (nullable = true)\n",
            " |-- rHeralds: string (nullable = true)\n",
            " |-- blueTop: string (nullable = true)\n",
            " |-- blueTopChamp: string (nullable = true)\n",
            " |-- goldblueTop: string (nullable = true)\n",
            " |-- blueJungle: string (nullable = true)\n",
            " |-- blueJungleChamp: string (nullable = true)\n",
            " |-- goldblueJungle: string (nullable = true)\n",
            " |-- blueMiddle: string (nullable = true)\n",
            " |-- blueMiddleChamp: string (nullable = true)\n",
            " |-- goldblueMiddle: string (nullable = true)\n",
            " |-- blueADC: string (nullable = true)\n",
            " |-- blueADCChamp: string (nullable = true)\n",
            " |-- goldblueADC: string (nullable = true)\n",
            " |-- blueSupport: string (nullable = true)\n",
            " |-- blueSupportChamp: string (nullable = true)\n",
            " |-- goldblueSupport: string (nullable = true)\n",
            " |-- blueBans: string (nullable = true)\n",
            " |-- redTop: string (nullable = true)\n",
            " |-- redTopChamp: string (nullable = true)\n",
            " |-- goldredTop: string (nullable = true)\n",
            " |-- redJungle: string (nullable = true)\n",
            " |-- redJungleChamp: string (nullable = true)\n",
            " |-- goldredJungle: string (nullable = true)\n",
            " |-- redMiddle: string (nullable = true)\n",
            " |-- redMiddleChamp: string (nullable = true)\n",
            " |-- goldredMiddle: string (nullable = true)\n",
            " |-- redADC: string (nullable = true)\n",
            " |-- redADCChamp: string (nullable = true)\n",
            " |-- goldredADC: string (nullable = true)\n",
            " |-- redSupport: string (nullable = true)\n",
            " |-- redSupportChamp: string (nullable = true)\n",
            " |-- goldredSupport: string (nullable = true)\n",
            " |-- redBans: string (nullable = true)\n",
            " |-- Address: string (nullable = true)\n",
            "\n"
          ],
          "name": "stdout"
        }
      ]
    },
    {
      "cell_type": "code",
      "metadata": {
        "colab": {
          "base_uri": "https://localhost:8080/"
        },
        "id": "EAKjQGe2XhxE",
        "outputId": "a12b0b92-4e5b-49a2-c91e-e93e76ec5c72"
      },
      "source": [
        "get_cols_query = 'SELECT bResult, rResult, golddiff, bKills, \\\n",
        "               bTowers, bInhibs, bDragons, bBarons, \\\n",
        "               bHeralds, goldred, rKills, rTowers, \\\n",
        "               rInhibs, rDragons, rBarons, rHeralds \\\n",
        "               FROM games'\n",
        "basic_team_stats_df = spark.sql(get_cols_query)\n",
        "basic_team_stats_df.printSchema()\n",
        "basic_team_stats_df.show()"
      ],
      "execution_count": null,
      "outputs": [
        {
          "output_type": "stream",
          "text": [
            "root\n",
            " |-- bResult: integer (nullable = true)\n",
            " |-- rResult: integer (nullable = true)\n",
            " |-- golddiff: string (nullable = true)\n",
            " |-- bKills: string (nullable = true)\n",
            " |-- bTowers: string (nullable = true)\n",
            " |-- bInhibs: string (nullable = true)\n",
            " |-- bDragons: string (nullable = true)\n",
            " |-- bBarons: string (nullable = true)\n",
            " |-- bHeralds: string (nullable = true)\n",
            " |-- goldred: string (nullable = true)\n",
            " |-- rKills: string (nullable = true)\n",
            " |-- rTowers: string (nullable = true)\n",
            " |-- rInhibs: string (nullable = true)\n",
            " |-- rDragons: string (nullable = true)\n",
            " |-- rBarons: string (nullable = true)\n",
            " |-- rHeralds: string (nullable = true)\n",
            "\n",
            "+-------+-------+--------------------+--------------------+--------------------+--------------------+--------------------+--------------------+--------+--------------------+--------------------+--------------------+--------------------+--------------------+--------------------+--------+\n",
            "|bResult|rResult|            golddiff|              bKills|             bTowers|             bInhibs|            bDragons|             bBarons|bHeralds|             goldred|              rKills|             rTowers|             rInhibs|            rDragons|             rBarons|rHeralds|\n",
            "+-------+-------+--------------------+--------------------+--------------------+--------------------+--------------------+--------------------+--------+--------------------+--------------------+--------------------+--------------------+--------------------+--------------------+--------+\n",
            "|      1|      0|[0, 0, -14, -65, ...|[[10.82, 'C9 Hai'...|[[27.542, 'MID_LA...|[[36.686, 'MID_LA...|    [[37.267, None]]|                  []|      []|[2415, 2415, 2725...|[[16.529, 'TSM Lu...|[[39.23, 'TOP_LAN...|                  []|[[17.14, None], [...|          [[29.954]]|      []|\n",
            "|      0|      1|[0, 0, -26, -18, ...|[[11.104, 'DIG Sh...|[[23.239, 'BOT_LA...|                  []|[[32.545, None], ...|          [[29.255]]|      []|[2415, 2415, 2731...|[[12.387, 'CST Je...|[[19.257, 'MID_LA...|[[36.813, 'MID_LA...|    [[12.264, None]]|                  []|      []|\n",
            "|      1|      0|[0, 0, 10, -60, 3...|[[5.255, 'GV Kean...|[[15.045, 'BOT_LA...|[[37.511, 'TOP_LA...|[[24.577, None], ...|          [[35.144]]|      []|[2415, 2415, 2716...|[[8.449, 'WFX Alt...|[[24.62, 'MID_LAN...|                  []|                  []|                  []|      []|\n",
            "|      0|      1|[0, 0, -15, 25, 2...|[[8.274, 'TL Quas...|[[19.941, 'BOT_LA...|                  []|                  []|          [[37.513]]|      []|[2415, 2415, 2720...|[[7.768, 'TIP Rus...|[[36.384, 'MID_LA...|[[35.867, 'MID_LA...|[[26.274, None], ...|                  []|      []|\n",
            "|      1|      0|[40, 40, 44, -36,...|[[11.438, 'T8 Dod...|[[22.594, 'MID_LA...|[[34.069, 'BOT_LA...|[[14.589, None], ...|          [[32.556]]|      []|[2375, 2375, 2666...|[[11.988, 'CLG Do...|[[11.644, 'MID_LA...|                  []|    [[21.901, None]]|                  []|      []|\n",
            "|      0|      1|[0, 0, 20, -42, -...|[[11.143, 'TIP Ad...|                  []|                  []|                  []|                  []|      []|[2415, 2415, 2705...|[[12.216, 'DIG Ki...|[[17.977, 'TOP_LA...|[[20.869, 'MID_LA...|[[15.73, None], [...|                  []|      []|\n",
            "|      1|      0|[0, 13, -7, 6, -3...|[[7.242, 'WFX Fla...|[[24.494, 'TOP_LA...|[[35.782, 'BOT_LA...|[[36.126, None], ...|          [[28.745]]|      []|[2415, 2420, 2741...|[[5.866, 'CST Imp...|[[13.891, 'TOP_LA...|                  []|[[9.321, None], [...|                  []|      []|\n",
            "|      1|      0|[0, 0, 26, 91, -1...|[[4.413, 'CLG Xmi...|[[14.046, 'MID_LA...|[[41.77, 'BOT_LAN...|[[11.316, None], ...|[[31.577], [39.029]]|      []|[2415, 2415, 2705...|[[17.48, 'TL Feni...|[[27.121, 'BOT_LA...|                  []|[[32.204, None], ...|                  []|      []|\n",
            "|      0|      1|[0, -10, 0, 162, ...|[[7.593, 'GV Sain...|[[24.108, 'TOP_LA...|                  []|                  []|          [[21.657]]|      []|[2415, 2425, 2721...|[[3.429, 'C9 Ball...|[[22.167, 'BOT_LA...|[[33.079, 'MID_LA...|[[22.465, None], ...|          [[32.145]]|      []|\n",
            "|      1|      0|[0, 0, 0, 68, 498...|[[3.652, 'TSM Dyr...|[[19.95, 'BOT_LAN...|[[26.337, 'MID_LA...|    [[19.537, None]]|          [[27.532]]|      []|[2415, 2415, 2711...|[[11.625, 'T8 Por...|[[19.558, 'TOP_LA...|                  []|    [[26.965, None]]|                  []|      []|\n",
            "|      1|      0|[0, -10, -15, -27...|[[20.55, 'DIG Cru...|[[15.531, 'TOP_LA...|[[46.475, 'MID_LA...|[[39.705, None], ...|          [[48.915]]|      []|[2415, 2425, 2731...|[[22.492, 'GV Kea...|[[29.936, 'BOT_LA...|                  []|    [[13.393, None]]|                  []|      []|\n",
            "|      1|      0|[0, 0, 15, -91, -...|[[6.213, 'CST Cri...|[[37.651, 'MID_LA...|[[37.707, 'MID_LA...|    [[38.076, None]]|          [[28.332]]|      []|[2415, 2415, 2705...|[[6.611, 'T8 Sloo...|[[21.116, 'TOP_LA...|[[39.355, 'TOP_LA...|[[12.099, None], ...|          [[39.788]]|      []|\n",
            "|      1|      0|[40, 40, 56, 30, ...|[[13.371, 'TL Xpe...|[[14.38, 'BOT_LAN...|[[36.495, 'MID_LA...|[[24.216, None], ...|[[35.751], [28.563]]|      []|[2375, 2375, 2670...|[[17.257, 'C9 Hai...|[[31.288, 'MID_LA...|                  []|                  []|                  []|      []|\n",
            "|      0|      1|[0, 0, 6, -532, -...|[[3.853, 'CLG Zio...|[[21.955, 'BOT_LA...|                  []|     [[4.656, None]]|                  []|      []|[2415, 2415, 2710...|[[2.547, 'TIP Imp...|[[24.232, 'TOP_LA...|[[25.299, 'TOP_LA...|[[19.08, None], [...|          [[27.243]]|      []|\n",
            "|      1|      0|[0, 0, 0, 708, 46...|[[2.601, 'WFX Pob...|[[13.042, 'BOT_LA...|[[27.398, 'BOT_LA...|[[13.488, None], ...|          [[25.352]]|      []|[2415, 2415, 2716...|[[3.778, 'TSM Lus...|[[15.744, 'BOT_LA...|                  []|                  []|                  []|      []|\n",
            "|      1|      0|[0, 0, 0, 101, 28...|[[10.155, 'C9 Hai...|[[22.656, 'TOP_LA...|[[34.501, 'MID_LA...|[[24.303, None], ...|                  []|      []|[2415, 2415, 2711...|[[13.878, 'CLG Xm...|[[14.43, 'TOP_LAN...|                  []|                  []|                  []|      []|\n",
            "|      0|      1|[0, 10, -7, 78, 7...|[[26.576, 'WFX Po...|[[12.985, 'BOT_LA...|                  []|                  []|                  []|      []|[2415, 2415, 2738...|[[10.164, 'DIG Sh...|[[30.583, 'TOP_LA...|[[37.275, 'MID_LA...|[[28.754, None], ...|[[36.139], [26.788]]|      []|\n",
            "|      1|      0|[0, 0, 0, -230, -...|[[12.101, 'TL Fen...|[[11.018, 'BOT_LA...|[[36.233, 'MID_LA...|[[14.868, None], ...|          [[31.889]]|      []|[2415, 2415, 2716...|[[38.476, 'TSM Wi...|[[11.073, 'TOP_LA...|                  []|     [[8.246, None]]|                  []|      []|\n",
            "|      1|      0|[0, 15, 35, 8, -1...|[[5.773, 'T8 Sloo...|[[13.393, 'TOP_LA...|[[39.355, 'MID_LA...|[[26.959, None], ...|                  []|      []|[2415, 2415, 2711...|[[15.969, 'TIP Ru...|[[16.225, 'BOT_LA...|[[34.423, 'BOT_LA...|[[13.617, None], ...|          [[31.408]]|      []|\n",
            "|      0|      1|[0, 0, 26, -26, -...|[[15.172, 'GV Sai...|[[24.471, 'TOP_LA...|                  []|    [[21.822, None]]|                  []|      []|[2415, 2415, 2710...|[[6.876, 'CST Mas...|[[19.211, 'MID_LA...|[[38.565, 'TOP_LA...|[[34.958, None], ...|          [[36.047]]|      []|\n",
            "+-------+-------+--------------------+--------------------+--------------------+--------------------+--------------------+--------------------+--------+--------------------+--------------------+--------------------+--------------------+--------------------+--------------------+--------+\n",
            "only showing top 20 rows\n",
            "\n"
          ],
          "name": "stdout"
        }
      ]
    },
    {
      "cell_type": "markdown",
      "metadata": {
        "id": "n0foRx_OqS9n"
      },
      "source": [
        "#### Part(1a): Winner Column\n",
        "\n",
        "For this step, we are adding a new colum `winner` that indicates which team won the match(record). `1` will indicate as the blue being the winner and `0` for the red team. This new schema will be added to a new dataframe."
      ]
    },
    {
      "cell_type": "code",
      "metadata": {
        "colab": {
          "base_uri": "https://localhost:8080/"
        },
        "id": "o2ZMX_qrhWgY",
        "outputId": "dc96f9c5-4fc2-4dac-e2b9-e6f01bdfc547"
      },
      "source": [
        "import pyspark.sql.functions as f\n",
        "import pyspark.sql.types as types\n",
        "\n",
        "def calcWinner(blue , red):\n",
        "  print(red, blue)\n",
        "  if blue == 1:\n",
        "    return 1\n",
        "  else:\n",
        "    return 0\n",
        "\n",
        "udf_calcWinner = f.udf(calcWinner, types.IntegerType())\n",
        "\n",
        "new_df = basic_team_stats_df.withColumn(\"winner\", udf_calcWinner(f.col('bResult'), f.col('rResult')))\n",
        "new_df.show()"
      ],
      "execution_count": null,
      "outputs": [
        {
          "output_type": "stream",
          "text": [
            "+-------+-------+--------------------+--------------------+--------------------+--------------------+--------------------+--------------------+--------+--------------------+--------------------+--------------------+--------------------+--------------------+--------------------+--------+------+\n",
            "|bResult|rResult|            golddiff|              bKills|             bTowers|             bInhibs|            bDragons|             bBarons|bHeralds|             goldred|              rKills|             rTowers|             rInhibs|            rDragons|             rBarons|rHeralds|winner|\n",
            "+-------+-------+--------------------+--------------------+--------------------+--------------------+--------------------+--------------------+--------+--------------------+--------------------+--------------------+--------------------+--------------------+--------------------+--------+------+\n",
            "|      1|      0|[0, 0, -14, -65, ...|[[10.82, 'C9 Hai'...|[[27.542, 'MID_LA...|[[36.686, 'MID_LA...|    [[37.267, None]]|                  []|      []|[2415, 2415, 2725...|[[16.529, 'TSM Lu...|[[39.23, 'TOP_LAN...|                  []|[[17.14, None], [...|          [[29.954]]|      []|     1|\n",
            "|      0|      1|[0, 0, -26, -18, ...|[[11.104, 'DIG Sh...|[[23.239, 'BOT_LA...|                  []|[[32.545, None], ...|          [[29.255]]|      []|[2415, 2415, 2731...|[[12.387, 'CST Je...|[[19.257, 'MID_LA...|[[36.813, 'MID_LA...|    [[12.264, None]]|                  []|      []|     0|\n",
            "|      1|      0|[0, 0, 10, -60, 3...|[[5.255, 'GV Kean...|[[15.045, 'BOT_LA...|[[37.511, 'TOP_LA...|[[24.577, None], ...|          [[35.144]]|      []|[2415, 2415, 2716...|[[8.449, 'WFX Alt...|[[24.62, 'MID_LAN...|                  []|                  []|                  []|      []|     1|\n",
            "|      0|      1|[0, 0, -15, 25, 2...|[[8.274, 'TL Quas...|[[19.941, 'BOT_LA...|                  []|                  []|          [[37.513]]|      []|[2415, 2415, 2720...|[[7.768, 'TIP Rus...|[[36.384, 'MID_LA...|[[35.867, 'MID_LA...|[[26.274, None], ...|                  []|      []|     0|\n",
            "|      1|      0|[40, 40, 44, -36,...|[[11.438, 'T8 Dod...|[[22.594, 'MID_LA...|[[34.069, 'BOT_LA...|[[14.589, None], ...|          [[32.556]]|      []|[2375, 2375, 2666...|[[11.988, 'CLG Do...|[[11.644, 'MID_LA...|                  []|    [[21.901, None]]|                  []|      []|     1|\n",
            "|      0|      1|[0, 0, 20, -42, -...|[[11.143, 'TIP Ad...|                  []|                  []|                  []|                  []|      []|[2415, 2415, 2705...|[[12.216, 'DIG Ki...|[[17.977, 'TOP_LA...|[[20.869, 'MID_LA...|[[15.73, None], [...|                  []|      []|     0|\n",
            "|      1|      0|[0, 13, -7, 6, -3...|[[7.242, 'WFX Fla...|[[24.494, 'TOP_LA...|[[35.782, 'BOT_LA...|[[36.126, None], ...|          [[28.745]]|      []|[2415, 2420, 2741...|[[5.866, 'CST Imp...|[[13.891, 'TOP_LA...|                  []|[[9.321, None], [...|                  []|      []|     1|\n",
            "|      1|      0|[0, 0, 26, 91, -1...|[[4.413, 'CLG Xmi...|[[14.046, 'MID_LA...|[[41.77, 'BOT_LAN...|[[11.316, None], ...|[[31.577], [39.029]]|      []|[2415, 2415, 2705...|[[17.48, 'TL Feni...|[[27.121, 'BOT_LA...|                  []|[[32.204, None], ...|                  []|      []|     1|\n",
            "|      0|      1|[0, -10, 0, 162, ...|[[7.593, 'GV Sain...|[[24.108, 'TOP_LA...|                  []|                  []|          [[21.657]]|      []|[2415, 2425, 2721...|[[3.429, 'C9 Ball...|[[22.167, 'BOT_LA...|[[33.079, 'MID_LA...|[[22.465, None], ...|          [[32.145]]|      []|     0|\n",
            "|      1|      0|[0, 0, 0, 68, 498...|[[3.652, 'TSM Dyr...|[[19.95, 'BOT_LAN...|[[26.337, 'MID_LA...|    [[19.537, None]]|          [[27.532]]|      []|[2415, 2415, 2711...|[[11.625, 'T8 Por...|[[19.558, 'TOP_LA...|                  []|    [[26.965, None]]|                  []|      []|     1|\n",
            "|      1|      0|[0, -10, -15, -27...|[[20.55, 'DIG Cru...|[[15.531, 'TOP_LA...|[[46.475, 'MID_LA...|[[39.705, None], ...|          [[48.915]]|      []|[2415, 2425, 2731...|[[22.492, 'GV Kea...|[[29.936, 'BOT_LA...|                  []|    [[13.393, None]]|                  []|      []|     1|\n",
            "|      1|      0|[0, 0, 15, -91, -...|[[6.213, 'CST Cri...|[[37.651, 'MID_LA...|[[37.707, 'MID_LA...|    [[38.076, None]]|          [[28.332]]|      []|[2415, 2415, 2705...|[[6.611, 'T8 Sloo...|[[21.116, 'TOP_LA...|[[39.355, 'TOP_LA...|[[12.099, None], ...|          [[39.788]]|      []|     1|\n",
            "|      1|      0|[40, 40, 56, 30, ...|[[13.371, 'TL Xpe...|[[14.38, 'BOT_LAN...|[[36.495, 'MID_LA...|[[24.216, None], ...|[[35.751], [28.563]]|      []|[2375, 2375, 2670...|[[17.257, 'C9 Hai...|[[31.288, 'MID_LA...|                  []|                  []|                  []|      []|     1|\n",
            "|      0|      1|[0, 0, 6, -532, -...|[[3.853, 'CLG Zio...|[[21.955, 'BOT_LA...|                  []|     [[4.656, None]]|                  []|      []|[2415, 2415, 2710...|[[2.547, 'TIP Imp...|[[24.232, 'TOP_LA...|[[25.299, 'TOP_LA...|[[19.08, None], [...|          [[27.243]]|      []|     0|\n",
            "|      1|      0|[0, 0, 0, 708, 46...|[[2.601, 'WFX Pob...|[[13.042, 'BOT_LA...|[[27.398, 'BOT_LA...|[[13.488, None], ...|          [[25.352]]|      []|[2415, 2415, 2716...|[[3.778, 'TSM Lus...|[[15.744, 'BOT_LA...|                  []|                  []|                  []|      []|     1|\n",
            "|      1|      0|[0, 0, 0, 101, 28...|[[10.155, 'C9 Hai...|[[22.656, 'TOP_LA...|[[34.501, 'MID_LA...|[[24.303, None], ...|                  []|      []|[2415, 2415, 2711...|[[13.878, 'CLG Xm...|[[14.43, 'TOP_LAN...|                  []|                  []|                  []|      []|     1|\n",
            "|      0|      1|[0, 10, -7, 78, 7...|[[26.576, 'WFX Po...|[[12.985, 'BOT_LA...|                  []|                  []|                  []|      []|[2415, 2415, 2738...|[[10.164, 'DIG Sh...|[[30.583, 'TOP_LA...|[[37.275, 'MID_LA...|[[28.754, None], ...|[[36.139], [26.788]]|      []|     0|\n",
            "|      1|      0|[0, 0, 0, -230, -...|[[12.101, 'TL Fen...|[[11.018, 'BOT_LA...|[[36.233, 'MID_LA...|[[14.868, None], ...|          [[31.889]]|      []|[2415, 2415, 2716...|[[38.476, 'TSM Wi...|[[11.073, 'TOP_LA...|                  []|     [[8.246, None]]|                  []|      []|     1|\n",
            "|      1|      0|[0, 15, 35, 8, -1...|[[5.773, 'T8 Sloo...|[[13.393, 'TOP_LA...|[[39.355, 'MID_LA...|[[26.959, None], ...|                  []|      []|[2415, 2415, 2711...|[[15.969, 'TIP Ru...|[[16.225, 'BOT_LA...|[[34.423, 'BOT_LA...|[[13.617, None], ...|          [[31.408]]|      []|     1|\n",
            "|      0|      1|[0, 0, 26, -26, -...|[[15.172, 'GV Sai...|[[24.471, 'TOP_LA...|                  []|    [[21.822, None]]|                  []|      []|[2415, 2415, 2710...|[[6.876, 'CST Mas...|[[19.211, 'MID_LA...|[[38.565, 'TOP_LA...|[[34.958, None], ...|          [[36.047]]|      []|     0|\n",
            "+-------+-------+--------------------+--------------------+--------------------+--------------------+--------------------+--------------------+--------+--------------------+--------------------+--------------------+--------------------+--------------------+--------------------+--------+------+\n",
            "only showing top 20 rows\n",
            "\n"
          ],
          "name": "stdout"
        }
      ]
    },
    {
      "cell_type": "markdown",
      "metadata": {
        "id": "koB00bK-p0yH"
      },
      "source": [
        "#### Part(1b): Final Gold diff Column\n",
        "\n",
        "For this step we are calculating the final gold difference in the game. The `golddiff` column in the original contains a list of gold difference at different times of the match and is represented as a string. The gold differences is calculated by subtractice red gold to blue gold. To get the final gold difference, we just need to extract the last gold difference in the list."
      ]
    },
    {
      "cell_type": "code",
      "metadata": {
        "colab": {
          "base_uri": "https://localhost:8080/"
        },
        "id": "rJcAdl4Q0aky",
        "outputId": "9a146d21-307f-4452-e2f0-fa8f30b2b6a6"
      },
      "source": [
        "GGdef finalGoldDiff(golddiff):\n",
        "  gDiff = golddiff\n",
        "  gDiff = gDiff.rstrip(\"]\").lstrip(\"[\")\n",
        "  gDiff = list(map(int, gDiff.split(\",\")))\n",
        "  \n",
        "  return gDiff[len(gDiff) - 1]\n",
        "\n",
        "udf_finalGoldDiff = f.udf(finalGoldDiff, types.StringType())\n",
        "\n",
        "new_df = new_df.withColumn(\"final_golddiff\", udf_finalGoldDiff(f.col('golddiff')))\n",
        "new_df.show()"
      ],
      "execution_count": null,
      "outputs": [
        {
          "output_type": "stream",
          "text": [
            "+-------+-------+--------------------+--------------------+--------------------+--------------------+--------------------+--------------------+--------+--------------------+--------------------+--------------------+--------------------+--------------------+--------------------+--------+------+--------------+\n",
            "|bResult|rResult|            golddiff|              bKills|             bTowers|             bInhibs|            bDragons|             bBarons|bHeralds|             goldred|              rKills|             rTowers|             rInhibs|            rDragons|             rBarons|rHeralds|winner|final_golddiff|\n",
            "+-------+-------+--------------------+--------------------+--------------------+--------------------+--------------------+--------------------+--------+--------------------+--------------------+--------------------+--------------------+--------------------+--------------------+--------+------+--------------+\n",
            "|      1|      0|[0, 0, -14, -65, ...|[[10.82, 'C9 Hai'...|[[27.542, 'MID_LA...|[[36.686, 'MID_LA...|    [[37.267, None]]|                  []|      []|[2415, 2415, 2725...|[[16.529, 'TSM Lu...|[[39.23, 'TOP_LAN...|                  []|[[17.14, None], [...|          [[29.954]]|      []|     1|          6057|\n",
            "|      0|      1|[0, 0, -26, -18, ...|[[11.104, 'DIG Sh...|[[23.239, 'BOT_LA...|                  []|[[32.545, None], ...|          [[29.255]]|      []|[2415, 2415, 2731...|[[12.387, 'CST Je...|[[19.257, 'MID_LA...|[[36.813, 'MID_LA...|    [[12.264, None]]|                  []|      []|     0|          1165|\n",
            "|      1|      0|[0, 0, 10, -60, 3...|[[5.255, 'GV Kean...|[[15.045, 'BOT_LA...|[[37.511, 'TOP_LA...|[[24.577, None], ...|          [[35.144]]|      []|[2415, 2415, 2716...|[[8.449, 'WFX Alt...|[[24.62, 'MID_LAN...|                  []|                  []|                  []|      []|     1|         13915|\n",
            "|      0|      1|[0, 0, -15, 25, 2...|[[8.274, 'TL Quas...|[[19.941, 'BOT_LA...|                  []|                  []|          [[37.513]]|      []|[2415, 2415, 2720...|[[7.768, 'TIP Rus...|[[36.384, 'MID_LA...|[[35.867, 'MID_LA...|[[26.274, None], ...|                  []|      []|     0|         -4507|\n",
            "|      1|      0|[40, 40, 44, -36,...|[[11.438, 'T8 Dod...|[[22.594, 'MID_LA...|[[34.069, 'BOT_LA...|[[14.589, None], ...|          [[32.556]]|      []|[2375, 2375, 2666...|[[11.988, 'CLG Do...|[[11.644, 'MID_LA...|                  []|    [[21.901, None]]|                  []|      []|     1|         11322|\n",
            "|      0|      1|[0, 0, 20, -42, -...|[[11.143, 'TIP Ad...|                  []|                  []|                  []|                  []|      []|[2415, 2415, 2705...|[[12.216, 'DIG Ki...|[[17.977, 'TOP_LA...|[[20.869, 'MID_LA...|[[15.73, None], [...|                  []|      []|     0|         -7052|\n",
            "|      1|      0|[0, 13, -7, 6, -3...|[[7.242, 'WFX Fla...|[[24.494, 'TOP_LA...|[[35.782, 'BOT_LA...|[[36.126, None], ...|          [[28.745]]|      []|[2415, 2420, 2741...|[[5.866, 'CST Imp...|[[13.891, 'TOP_LA...|                  []|[[9.321, None], [...|                  []|      []|     1|         14093|\n",
            "|      1|      0|[0, 0, 26, 91, -1...|[[4.413, 'CLG Xmi...|[[14.046, 'MID_LA...|[[41.77, 'BOT_LAN...|[[11.316, None], ...|[[31.577], [39.029]]|      []|[2415, 2415, 2705...|[[17.48, 'TL Feni...|[[27.121, 'BOT_LA...|                  []|[[32.204, None], ...|                  []|      []|     1|         15396|\n",
            "|      0|      1|[0, -10, 0, 162, ...|[[7.593, 'GV Sain...|[[24.108, 'TOP_LA...|                  []|                  []|          [[21.657]]|      []|[2415, 2425, 2721...|[[3.429, 'C9 Ball...|[[22.167, 'BOT_LA...|[[33.079, 'MID_LA...|[[22.465, None], ...|          [[32.145]]|      []|     0|        -10914|\n",
            "|      1|      0|[0, 0, 0, 68, 498...|[[3.652, 'TSM Dyr...|[[19.95, 'BOT_LAN...|[[26.337, 'MID_LA...|    [[19.537, None]]|          [[27.532]]|      []|[2415, 2415, 2711...|[[11.625, 'T8 Por...|[[19.558, 'TOP_LA...|                  []|    [[26.965, None]]|                  []|      []|     1|         10867|\n",
            "|      1|      0|[0, -10, -15, -27...|[[20.55, 'DIG Cru...|[[15.531, 'TOP_LA...|[[46.475, 'MID_LA...|[[39.705, None], ...|          [[48.915]]|      []|[2415, 2425, 2731...|[[22.492, 'GV Kea...|[[29.936, 'BOT_LA...|                  []|    [[13.393, None]]|                  []|      []|     1|         12212|\n",
            "|      1|      0|[0, 0, 15, -91, -...|[[6.213, 'CST Cri...|[[37.651, 'MID_LA...|[[37.707, 'MID_LA...|    [[38.076, None]]|          [[28.332]]|      []|[2415, 2415, 2705...|[[6.611, 'T8 Sloo...|[[21.116, 'TOP_LA...|[[39.355, 'TOP_LA...|[[12.099, None], ...|          [[39.788]]|      []|     1|           498|\n",
            "|      1|      0|[40, 40, 56, 30, ...|[[13.371, 'TL Xpe...|[[14.38, 'BOT_LAN...|[[36.495, 'MID_LA...|[[24.216, None], ...|[[35.751], [28.563]]|      []|[2375, 2375, 2670...|[[17.257, 'C9 Hai...|[[31.288, 'MID_LA...|                  []|                  []|                  []|      []|     1|         15884|\n",
            "|      0|      1|[0, 0, 6, -532, -...|[[3.853, 'CLG Zio...|[[21.955, 'BOT_LA...|                  []|     [[4.656, None]]|                  []|      []|[2415, 2415, 2710...|[[2.547, 'TIP Imp...|[[24.232, 'TOP_LA...|[[25.299, 'TOP_LA...|[[19.08, None], [...|          [[27.243]]|      []|     0|        -10854|\n",
            "|      1|      0|[0, 0, 0, 708, 46...|[[2.601, 'WFX Pob...|[[13.042, 'BOT_LA...|[[27.398, 'BOT_LA...|[[13.488, None], ...|          [[25.352]]|      []|[2415, 2415, 2716...|[[3.778, 'TSM Lus...|[[15.744, 'BOT_LA...|                  []|                  []|                  []|      []|     1|         10191|\n",
            "|      1|      0|[0, 0, 0, 101, 28...|[[10.155, 'C9 Hai...|[[22.656, 'TOP_LA...|[[34.501, 'MID_LA...|[[24.303, None], ...|                  []|      []|[2415, 2415, 2711...|[[13.878, 'CLG Xm...|[[14.43, 'TOP_LAN...|                  []|                  []|                  []|      []|     1|          7085|\n",
            "|      0|      1|[0, 10, -7, 78, 7...|[[26.576, 'WFX Po...|[[12.985, 'BOT_LA...|                  []|                  []|                  []|      []|[2415, 2415, 2738...|[[10.164, 'DIG Sh...|[[30.583, 'TOP_LA...|[[37.275, 'MID_LA...|[[28.754, None], ...|[[36.139], [26.788]]|      []|     0|        -20606|\n",
            "|      1|      0|[0, 0, 0, -230, -...|[[12.101, 'TL Fen...|[[11.018, 'BOT_LA...|[[36.233, 'MID_LA...|[[14.868, None], ...|          [[31.889]]|      []|[2415, 2415, 2716...|[[38.476, 'TSM Wi...|[[11.073, 'TOP_LA...|                  []|     [[8.246, None]]|                  []|      []|     1|         12327|\n",
            "|      1|      0|[0, 15, 35, 8, -1...|[[5.773, 'T8 Sloo...|[[13.393, 'TOP_LA...|[[39.355, 'MID_LA...|[[26.959, None], ...|                  []|      []|[2415, 2415, 2711...|[[15.969, 'TIP Ru...|[[16.225, 'BOT_LA...|[[34.423, 'BOT_LA...|[[13.617, None], ...|          [[31.408]]|      []|     1|          2002|\n",
            "|      0|      1|[0, 0, 26, -26, -...|[[15.172, 'GV Sai...|[[24.471, 'TOP_LA...|                  []|    [[21.822, None]]|                  []|      []|[2415, 2415, 2710...|[[6.876, 'CST Mas...|[[19.211, 'MID_LA...|[[38.565, 'TOP_LA...|[[34.958, None], ...|          [[36.047]]|      []|     0|         -2297|\n",
            "+-------+-------+--------------------+--------------------+--------------------+--------------------+--------------------+--------------------+--------+--------------------+--------------------+--------------------+--------------------+--------------------+--------------------+--------+------+--------------+\n",
            "only showing top 20 rows\n",
            "\n"
          ],
          "name": "stdout"
        }
      ]
    },
    {
      "cell_type": "markdown",
      "metadata": {
        "id": "7vuLABDSjStQ"
      },
      "source": [
        "#### Part(1c): Kill Count Columns\n",
        "\n",
        "In this step, we are determining how many kills each team got in each game."
      ]
    },
    {
      "cell_type": "code",
      "metadata": {
        "id": "ycb0WAJfL_5u"
      },
      "source": [
        "import ast\n",
        "\n",
        "def countKills(kills):\n",
        "  return len(ast.literal_eval(kills))\n",
        "\n",
        "udf_countKills = f.udf(countKills, types.StringType())"
      ],
      "execution_count": null,
      "outputs": []
    },
    {
      "cell_type": "code",
      "metadata": {
        "id": "bW1IiW4XMHsj"
      },
      "source": [
        "new_df = new_df.withColumn(\"bKillCount\", udf_countKills(f.col('bKills')))\\\n",
        "         .withColumn(\"rKillCount\", udf_countKills(f.col('rKills')))\n",
        "\n",
        "new_df.show()"
      ],
      "execution_count": null,
      "outputs": []
    },
    {
      "cell_type": "markdown",
      "metadata": {
        "id": "27wJbfTcNtM4"
      },
      "source": [
        "#### Part(1d): First Blood Column\n",
        "\n",
        "In this step, we are determining which team got the first kill of the game"
      ]
    },
    {
      "cell_type": "code",
      "metadata": {
        "id": "AEzMzQSnOGPj"
      },
      "source": [
        "def firstKill(bKills, rKills):\n",
        "  blue_fk = ast.literal_eval(bKills)\n",
        "  red_fk = ast.literal_eval(rKills)\n",
        "\n",
        "  if(len(blue_fk) == 0 and len(red_fk) == 0): return -1\n",
        "  if(len(blue_fk) == 0): return 0\n",
        "  if(len(red_fk) == 0): return 1\n",
        "\n",
        "  return 1 if blue_fk[0][0] < red_fk[0][0] else 0\n",
        "\n",
        "udf_firstKill = f.udf(firstKill, types.StringType())"
      ],
      "execution_count": null,
      "outputs": []
    },
    {
      "cell_type": "code",
      "metadata": {
        "colab": {
          "base_uri": "https://localhost:8080/"
        },
        "id": "-owYITU3GfE2",
        "outputId": "3f6a8e0c-34a7-49d8-d863-4a44d3877303"
      },
      "source": [
        "new_df = new_df.withColumn(\"first_blood\", udf_firstKill(f.col('bKills'), f.col('rKills')))\n",
        "new_df.show()"
      ],
      "execution_count": null,
      "outputs": [
        {
          "output_type": "stream",
          "text": [
            "+-------+-------+--------------------+--------------------+--------------------+--------------------+--------------------+--------------------+--------+--------------------+--------------------+--------------------+--------------------+--------------------+--------------------+--------+------+-----------+\n",
            "|bResult|rResult|            golddiff|              bKills|             bTowers|             bInhibs|            bDragons|             bBarons|bHeralds|             goldred|              rKills|             rTowers|             rInhibs|            rDragons|             rBarons|rHeralds|winner|first_blood|\n",
            "+-------+-------+--------------------+--------------------+--------------------+--------------------+--------------------+--------------------+--------+--------------------+--------------------+--------------------+--------------------+--------------------+--------------------+--------+------+-----------+\n",
            "|      1|      0|[0, 0, -14, -65, ...|[[10.82, 'C9 Hai'...|[[27.542, 'MID_LA...|[[36.686, 'MID_LA...|    [[37.267, None]]|                  []|      []|[2415, 2415, 2725...|[[16.529, 'TSM Lu...|[[39.23, 'TOP_LAN...|                  []|[[17.14, None], [...|          [[29.954]]|      []|     1|          1|\n",
            "|      0|      1|[0, 0, -26, -18, ...|[[11.104, 'DIG Sh...|[[23.239, 'BOT_LA...|                  []|[[32.545, None], ...|          [[29.255]]|      []|[2415, 2415, 2731...|[[12.387, 'CST Je...|[[19.257, 'MID_LA...|[[36.813, 'MID_LA...|    [[12.264, None]]|                  []|      []|     0|          1|\n",
            "|      1|      0|[0, 0, 10, -60, 3...|[[5.255, 'GV Kean...|[[15.045, 'BOT_LA...|[[37.511, 'TOP_LA...|[[24.577, None], ...|          [[35.144]]|      []|[2415, 2415, 2716...|[[8.449, 'WFX Alt...|[[24.62, 'MID_LAN...|                  []|                  []|                  []|      []|     1|          1|\n",
            "|      0|      1|[0, 0, -15, 25, 2...|[[8.274, 'TL Quas...|[[19.941, 'BOT_LA...|                  []|                  []|          [[37.513]]|      []|[2415, 2415, 2720...|[[7.768, 'TIP Rus...|[[36.384, 'MID_LA...|[[35.867, 'MID_LA...|[[26.274, None], ...|                  []|      []|     0|          0|\n",
            "|      1|      0|[40, 40, 44, -36,...|[[11.438, 'T8 Dod...|[[22.594, 'MID_LA...|[[34.069, 'BOT_LA...|[[14.589, None], ...|          [[32.556]]|      []|[2375, 2375, 2666...|[[11.988, 'CLG Do...|[[11.644, 'MID_LA...|                  []|    [[21.901, None]]|                  []|      []|     1|          1|\n",
            "|      0|      1|[0, 0, 20, -42, -...|[[11.143, 'TIP Ad...|                  []|                  []|                  []|                  []|      []|[2415, 2415, 2705...|[[12.216, 'DIG Ki...|[[17.977, 'TOP_LA...|[[20.869, 'MID_LA...|[[15.73, None], [...|                  []|      []|     0|          1|\n",
            "|      1|      0|[0, 13, -7, 6, -3...|[[7.242, 'WFX Fla...|[[24.494, 'TOP_LA...|[[35.782, 'BOT_LA...|[[36.126, None], ...|          [[28.745]]|      []|[2415, 2420, 2741...|[[5.866, 'CST Imp...|[[13.891, 'TOP_LA...|                  []|[[9.321, None], [...|                  []|      []|     1|          0|\n",
            "|      1|      0|[0, 0, 26, 91, -1...|[[4.413, 'CLG Xmi...|[[14.046, 'MID_LA...|[[41.77, 'BOT_LAN...|[[11.316, None], ...|[[31.577], [39.029]]|      []|[2415, 2415, 2705...|[[17.48, 'TL Feni...|[[27.121, 'BOT_LA...|                  []|[[32.204, None], ...|                  []|      []|     1|          1|\n",
            "|      0|      1|[0, -10, 0, 162, ...|[[7.593, 'GV Sain...|[[24.108, 'TOP_LA...|                  []|                  []|          [[21.657]]|      []|[2415, 2425, 2721...|[[3.429, 'C9 Ball...|[[22.167, 'BOT_LA...|[[33.079, 'MID_LA...|[[22.465, None], ...|          [[32.145]]|      []|     0|          0|\n",
            "|      1|      0|[0, 0, 0, 68, 498...|[[3.652, 'TSM Dyr...|[[19.95, 'BOT_LAN...|[[26.337, 'MID_LA...|    [[19.537, None]]|          [[27.532]]|      []|[2415, 2415, 2711...|[[11.625, 'T8 Por...|[[19.558, 'TOP_LA...|                  []|    [[26.965, None]]|                  []|      []|     1|          1|\n",
            "|      1|      0|[0, -10, -15, -27...|[[20.55, 'DIG Cru...|[[15.531, 'TOP_LA...|[[46.475, 'MID_LA...|[[39.705, None], ...|          [[48.915]]|      []|[2415, 2425, 2731...|[[22.492, 'GV Kea...|[[29.936, 'BOT_LA...|                  []|    [[13.393, None]]|                  []|      []|     1|          1|\n",
            "|      1|      0|[0, 0, 15, -91, -...|[[6.213, 'CST Cri...|[[37.651, 'MID_LA...|[[37.707, 'MID_LA...|    [[38.076, None]]|          [[28.332]]|      []|[2415, 2415, 2705...|[[6.611, 'T8 Sloo...|[[21.116, 'TOP_LA...|[[39.355, 'TOP_LA...|[[12.099, None], ...|          [[39.788]]|      []|     1|          1|\n",
            "|      1|      0|[40, 40, 56, 30, ...|[[13.371, 'TL Xpe...|[[14.38, 'BOT_LAN...|[[36.495, 'MID_LA...|[[24.216, None], ...|[[35.751], [28.563]]|      []|[2375, 2375, 2670...|[[17.257, 'C9 Hai...|[[31.288, 'MID_LA...|                  []|                  []|                  []|      []|     1|          1|\n",
            "|      0|      1|[0, 0, 6, -532, -...|[[3.853, 'CLG Zio...|[[21.955, 'BOT_LA...|                  []|     [[4.656, None]]|                  []|      []|[2415, 2415, 2710...|[[2.547, 'TIP Imp...|[[24.232, 'TOP_LA...|[[25.299, 'TOP_LA...|[[19.08, None], [...|          [[27.243]]|      []|     0|          0|\n",
            "|      1|      0|[0, 0, 0, 708, 46...|[[2.601, 'WFX Pob...|[[13.042, 'BOT_LA...|[[27.398, 'BOT_LA...|[[13.488, None], ...|          [[25.352]]|      []|[2415, 2415, 2716...|[[3.778, 'TSM Lus...|[[15.744, 'BOT_LA...|                  []|                  []|                  []|      []|     1|          1|\n",
            "|      1|      0|[0, 0, 0, 101, 28...|[[10.155, 'C9 Hai...|[[22.656, 'TOP_LA...|[[34.501, 'MID_LA...|[[24.303, None], ...|                  []|      []|[2415, 2415, 2711...|[[13.878, 'CLG Xm...|[[14.43, 'TOP_LAN...|                  []|                  []|                  []|      []|     1|          1|\n",
            "|      0|      1|[0, 10, -7, 78, 7...|[[26.576, 'WFX Po...|[[12.985, 'BOT_LA...|                  []|                  []|                  []|      []|[2415, 2415, 2738...|[[10.164, 'DIG Sh...|[[30.583, 'TOP_LA...|[[37.275, 'MID_LA...|[[28.754, None], ...|[[36.139], [26.788]]|      []|     0|          0|\n",
            "|      1|      0|[0, 0, 0, -230, -...|[[12.101, 'TL Fen...|[[11.018, 'BOT_LA...|[[36.233, 'MID_LA...|[[14.868, None], ...|          [[31.889]]|      []|[2415, 2415, 2716...|[[38.476, 'TSM Wi...|[[11.073, 'TOP_LA...|                  []|     [[8.246, None]]|                  []|      []|     1|          1|\n",
            "|      1|      0|[0, 15, 35, 8, -1...|[[5.773, 'T8 Sloo...|[[13.393, 'TOP_LA...|[[39.355, 'MID_LA...|[[26.959, None], ...|                  []|      []|[2415, 2415, 2711...|[[15.969, 'TIP Ru...|[[16.225, 'BOT_LA...|[[34.423, 'BOT_LA...|[[13.617, None], ...|          [[31.408]]|      []|     1|          1|\n",
            "|      0|      1|[0, 0, 26, -26, -...|[[15.172, 'GV Sai...|[[24.471, 'TOP_LA...|                  []|    [[21.822, None]]|                  []|      []|[2415, 2415, 2710...|[[6.876, 'CST Mas...|[[19.211, 'MID_LA...|[[38.565, 'TOP_LA...|[[34.958, None], ...|          [[36.047]]|      []|     0|          0|\n",
            "+-------+-------+--------------------+--------------------+--------------------+--------------------+--------------------+--------------------+--------+--------------------+--------------------+--------------------+--------------------+--------------------+--------------------+--------+------+-----------+\n",
            "only showing top 20 rows\n",
            "\n"
          ],
          "name": "stdout"
        }
      ]
    },
    {
      "cell_type": "markdown",
      "metadata": {
        "id": "DLBPPbC7dp-I"
      },
      "source": [
        "#### Part(1e): Tower, Inhib, Dragon, Baron, Herald\n",
        "\n",
        "For counting and calculating who got the other objective first, we can re use the same function as their formats are very similar."
      ]
    },
    {
      "cell_type": "code",
      "metadata": {
        "id": "8pH4xaa3bq-9"
      },
      "source": [
        "def firstObj(bObj, rObj):\n",
        "  blue = ast.literal_eval(bObj)\n",
        "  red = ast.literal_eval(rObj)\n",
        "\n",
        "  blue = list(filter(None, blue))\n",
        "  red = list(filter(None, red))\n",
        "\n",
        "  if(len(blue) == 0 and len(red) == 0): return -1\n",
        "  if(len(blue) == 0): return 0\n",
        "  if(len(red) == 0): return 1\n",
        "\n",
        "  return 1 if blue[0][0] < red[0][0] else 0\n",
        "\n",
        "udf_firstObj = f.udf(firstObj, types.StringType());"
      ],
      "execution_count": null,
      "outputs": []
    },
    {
      "cell_type": "code",
      "metadata": {
        "id": "vzlhmtUwlmzl"
      },
      "source": [
        "def countObj(obj):\n",
        "  obj_lists = ast.literal_eval(obj)\n",
        "  obj_lists = list(filter(None, obj_lists))\n",
        "  return len(obj_lists)\n",
        "\n",
        "udf_countObj = f.udf(countObj, types.StringType())"
      ],
      "execution_count": null,
      "outputs": []
    },
    {
      "cell_type": "markdown",
      "metadata": {
        "id": "G3EjUVyeeNHA"
      },
      "source": [
        "##### Tower\n",
        "For this part, we are calcuating how many towers each team knocked down and which team got the first tower."
      ]
    },
    {
      "cell_type": "code",
      "metadata": {
        "colab": {
          "base_uri": "https://localhost:8080/"
        },
        "id": "O9tNr0vpeWkR",
        "outputId": "ef5d60a3-0749-46f8-fde5-8f4d2aa81ea6"
      },
      "source": [
        "new_df = new_df.withColumn('bTowerCount', udf_countObj(f.col('bTowers')))\\\n",
        "         .withColumn('rTowerCount', udf_countObj(f.col('rTowers')))\\\n",
        "         .withColumn('first_tower', udf_firstObj(f.col('bTowers'), f.col('rTowers')))\n",
        "\n",
        "new_df.show()"
      ],
      "execution_count": null,
      "outputs": [
        {
          "output_type": "stream",
          "text": [
            "+-------+-------+--------------------+--------------------+--------------------+--------------------+--------------------+--------------------+--------+--------------------+--------------------+--------------------+--------------------+--------------------+--------------------+--------+------+--------------+----------+----------+-----------+-----------+-----------+-----------+\n",
            "|bResult|rResult|            golddiff|              bKills|             bTowers|             bInhibs|            bDragons|             bBarons|bHeralds|             goldred|              rKills|             rTowers|             rInhibs|            rDragons|             rBarons|rHeralds|winner|final_golddiff|bKillCount|rKillCount|first_blood|bTowerCount|rTowerCount|first_tower|\n",
            "+-------+-------+--------------------+--------------------+--------------------+--------------------+--------------------+--------------------+--------+--------------------+--------------------+--------------------+--------------------+--------------------+--------------------+--------+------+--------------+----------+----------+-----------+-----------+-----------+-----------+\n",
            "|      1|      0|[0, 0, -14, -65, ...|[[10.82, 'C9 Hai'...|[[27.542, 'MID_LA...|[[36.686, 'MID_LA...|    [[37.267, None]]|                  []|      []|[2415, 2415, 2725...|[[16.529, 'TSM Lu...|[[39.23, 'TOP_LAN...|                  []|[[17.14, None], [...|          [[29.954]]|      []|     1|          6057|        16|         9|          1|          9|          4|          1|\n",
            "|      0|      1|[0, 0, -26, -18, ...|[[11.104, 'DIG Sh...|[[23.239, 'BOT_LA...|                  []|[[32.545, None], ...|          [[29.255]]|      []|[2415, 2415, 2731...|[[12.387, 'CST Je...|[[19.257, 'MID_LA...|[[36.813, 'MID_LA...|    [[12.264, None]]|                  []|      []|     0|          1165|        10|         9|          1|          7|          7|          0|\n",
            "|      1|      0|[0, 0, 10, -60, 3...|[[5.255, 'GV Kean...|[[15.045, 'BOT_LA...|[[37.511, 'TOP_LA...|[[24.577, None], ...|          [[35.144]]|      []|[2415, 2415, 2716...|[[8.449, 'WFX Alt...|[[24.62, 'MID_LAN...|                  []|                  []|                  []|      []|     1|         13915|        22|         8|          1|         15|          2|          1|\n",
            "|      0|      1|[0, 0, -15, 25, 2...|[[8.274, 'TL Quas...|[[19.941, 'BOT_LA...|                  []|                  []|          [[37.513]]|      []|[2415, 2415, 2720...|[[7.768, 'TIP Rus...|[[36.384, 'MID_LA...|[[35.867, 'MID_LA...|[[26.274, None], ...|                  []|      []|     0|         -4507|        10|        21|          0|          4|          7|          1|\n",
            "|      1|      0|[40, 40, 44, -36,...|[[11.438, 'T8 Dod...|[[22.594, 'MID_LA...|[[34.069, 'BOT_LA...|[[14.589, None], ...|          [[32.556]]|      []|[2375, 2375, 2666...|[[11.988, 'CLG Do...|[[11.644, 'MID_LA...|                  []|    [[21.901, None]]|                  []|      []|     1|         11322|        22|        10|          1|          8|          4|          0|\n",
            "|      0|      1|[0, 0, 20, -42, -...|[[11.143, 'TIP Ad...|                  []|                  []|                  []|                  []|      []|[2415, 2415, 2705...|[[12.216, 'DIG Ki...|[[17.977, 'TOP_LA...|[[20.869, 'MID_LA...|[[15.73, None], [...|                  []|      []|     0|         -7052|         4|         8|          1|          0|         10|          0|\n",
            "|      1|      0|[0, 13, -7, 6, -3...|[[7.242, 'WFX Fla...|[[24.494, 'TOP_LA...|[[35.782, 'BOT_LA...|[[36.126, None], ...|          [[28.745]]|      []|[2415, 2420, 2741...|[[5.866, 'CST Imp...|[[13.891, 'TOP_LA...|                  []|[[9.321, None], [...|                  []|      []|     1|         14093|        25|         7|          0|         10|          3|          0|\n",
            "|      1|      0|[0, 0, 26, 91, -1...|[[4.413, 'CLG Xmi...|[[14.046, 'MID_LA...|[[41.77, 'BOT_LAN...|[[11.316, None], ...|[[31.577], [39.029]]|      []|[2415, 2415, 2705...|[[17.48, 'TL Feni...|[[27.121, 'BOT_LA...|                  []|[[32.204, None], ...|                  []|      []|     1|         15396|        27|        12|          1|         11|          9|          1|\n",
            "|      0|      1|[0, -10, 0, 162, ...|[[7.593, 'GV Sain...|[[24.108, 'TOP_LA...|                  []|                  []|          [[21.657]]|      []|[2415, 2425, 2721...|[[3.429, 'C9 Ball...|[[22.167, 'BOT_LA...|[[33.079, 'MID_LA...|[[22.465, None], ...|          [[32.145]]|      []|     0|        -10914|         8|        22|          0|          6|         11|          0|\n",
            "|      1|      0|[0, 0, 0, 68, 498...|[[3.652, 'TSM Dyr...|[[19.95, 'BOT_LAN...|[[26.337, 'MID_LA...|    [[19.537, None]]|          [[27.532]]|      []|[2415, 2415, 2711...|[[11.625, 'T8 Por...|[[19.558, 'TOP_LA...|                  []|    [[26.965, None]]|                  []|      []|     1|         10867|        16|         9|          1|         11|          3|          0|\n",
            "|      1|      0|[0, -10, -15, -27...|[[20.55, 'DIG Cru...|[[15.531, 'TOP_LA...|[[46.475, 'MID_LA...|[[39.705, None], ...|          [[48.915]]|      []|[2415, 2425, 2731...|[[22.492, 'GV Kea...|[[29.936, 'BOT_LA...|                  []|    [[13.393, None]]|                  []|      []|     1|         12212|         5|         4|          1|         11|          7|          1|\n",
            "|      1|      0|[0, 0, 15, -91, -...|[[6.213, 'CST Cri...|[[37.651, 'MID_LA...|[[37.707, 'MID_LA...|    [[38.076, None]]|          [[28.332]]|      []|[2415, 2415, 2705...|[[6.611, 'T8 Sloo...|[[21.116, 'TOP_LA...|[[39.355, 'TOP_LA...|[[12.099, None], ...|          [[39.788]]|      []|     1|           498|        16|        14|          1|          8|          6|          0|\n",
            "|      1|      0|[40, 40, 56, 30, ...|[[13.371, 'TL Xpe...|[[14.38, 'BOT_LAN...|[[36.495, 'MID_LA...|[[24.216, None], ...|[[35.751], [28.563]]|      []|[2375, 2375, 2670...|[[17.257, 'C9 Hai...|[[31.288, 'MID_LA...|                  []|                  []|                  []|      []|     1|         15884|        15|         3|          1|         11|          4|          1|\n",
            "|      0|      1|[0, 0, 6, -532, -...|[[3.853, 'CLG Zio...|[[21.955, 'BOT_LA...|                  []|     [[4.656, None]]|                  []|      []|[2415, 2415, 2710...|[[2.547, 'TIP Imp...|[[24.232, 'TOP_LA...|[[25.299, 'TOP_LA...|[[19.08, None], [...|          [[27.243]]|      []|     0|        -10854|         4|        12|          0|          2|         11|          1|\n",
            "|      1|      0|[0, 0, 0, 708, 46...|[[2.601, 'WFX Pob...|[[13.042, 'BOT_LA...|[[27.398, 'BOT_LA...|[[13.488, None], ...|          [[25.352]]|      []|[2415, 2415, 2716...|[[3.778, 'TSM Lus...|[[15.744, 'BOT_LA...|                  []|                  []|                  []|      []|     1|         10191|        13|         4|          1|         11|          3|          1|\n",
            "|      1|      0|[0, 0, 0, 101, 28...|[[10.155, 'C9 Hai...|[[22.656, 'TOP_LA...|[[34.501, 'MID_LA...|[[24.303, None], ...|                  []|      []|[2415, 2415, 2711...|[[13.878, 'CLG Xm...|[[14.43, 'TOP_LAN...|                  []|                  []|                  []|      []|     1|          7085|        15|         7|          1|         10|          3|          0|\n",
            "|      0|      1|[0, 10, -7, 78, 7...|[[26.576, 'WFX Po...|[[12.985, 'BOT_LA...|                  []|                  []|                  []|      []|[2415, 2415, 2738...|[[10.164, 'DIG Sh...|[[30.583, 'TOP_LA...|[[37.275, 'MID_LA...|[[28.754, None], ...|[[36.139], [26.788]]|      []|     0|        -20606|         2|        21|          0|          4|         12|          1|\n",
            "|      1|      0|[0, 0, 0, -230, -...|[[12.101, 'TL Fen...|[[11.018, 'BOT_LA...|[[36.233, 'MID_LA...|[[14.868, None], ...|          [[31.889]]|      []|[2415, 2415, 2716...|[[38.476, 'TSM Wi...|[[11.073, 'TOP_LA...|                  []|     [[8.246, None]]|                  []|      []|     1|         12327|        13|         1|          1|         10|          3|          1|\n",
            "|      1|      0|[0, 15, 35, 8, -1...|[[5.773, 'T8 Sloo...|[[13.393, 'TOP_LA...|[[39.355, 'MID_LA...|[[26.959, None], ...|                  []|      []|[2415, 2415, 2711...|[[15.969, 'TIP Ru...|[[16.225, 'BOT_LA...|[[34.423, 'BOT_LA...|[[13.617, None], ...|          [[31.408]]|      []|     1|          2002|        20|        14|          1|          8|          8|          1|\n",
            "|      0|      1|[0, 0, 26, -26, -...|[[15.172, 'GV Sai...|[[24.471, 'TOP_LA...|                  []|    [[21.822, None]]|                  []|      []|[2415, 2415, 2710...|[[6.876, 'CST Mas...|[[19.211, 'MID_LA...|[[38.565, 'TOP_LA...|[[34.958, None], ...|          [[36.047]]|      []|     0|         -2297|        15|        19|          0|          4|          8|          0|\n",
            "+-------+-------+--------------------+--------------------+--------------------+--------------------+--------------------+--------------------+--------+--------------------+--------------------+--------------------+--------------------+--------------------+--------------------+--------+------+--------------+----------+----------+-----------+-----------+-----------+-----------+\n",
            "only showing top 20 rows\n",
            "\n"
          ],
          "name": "stdout"
        }
      ]
    },
    {
      "cell_type": "markdown",
      "metadata": {
        "id": "LotUZ0iWftyH"
      },
      "source": [
        "##### Inhibitors\n",
        "\n",
        "For this part, we are calculating how many inhibitors each team knocked down and which team knocked down the first inhib."
      ]
    },
    {
      "cell_type": "code",
      "metadata": {
        "colab": {
          "base_uri": "https://localhost:8080/"
        },
        "id": "DetGeRV5f8mn",
        "outputId": "82915ccd-a009-4693-afd6-617f842a58da"
      },
      "source": [
        "new_df = new_df.withColumn('bInhibCount', udf_countObj(f.col('bInhibs')))\\\n",
        "         .withColumn('rInhibCount', udf_countObj(f.col('rInhibs')))\\\n",
        "         .withColumn('first_inhib', udf_firstObj(f.col('bInhibs'), f.col('rInhibs')))\n",
        "\n",
        "new_df.show()"
      ],
      "execution_count": null,
      "outputs": [
        {
          "output_type": "stream",
          "text": [
            "+-------+-------+--------------------+--------------------+--------------------+--------------------+--------------------+--------------------+--------+--------------------+--------------------+--------------------+--------------------+--------------------+--------------------+--------+------+--------------+----------+----------+-----------+-----------+-----------+-----------+-----------+-----------+-----------+\n",
            "|bResult|rResult|            golddiff|              bKills|             bTowers|             bInhibs|            bDragons|             bBarons|bHeralds|             goldred|              rKills|             rTowers|             rInhibs|            rDragons|             rBarons|rHeralds|winner|final_golddiff|bKillCount|rKillCount|first_blood|bTowerCount|rTowerCount|first_tower|bInhibCount|rInhibCount|first_inhib|\n",
            "+-------+-------+--------------------+--------------------+--------------------+--------------------+--------------------+--------------------+--------+--------------------+--------------------+--------------------+--------------------+--------------------+--------------------+--------+------+--------------+----------+----------+-----------+-----------+-----------+-----------+-----------+-----------+-----------+\n",
            "|      1|      0|[0, 0, -14, -65, ...|[[10.82, 'C9 Hai'...|[[27.542, 'MID_LA...|[[36.686, 'MID_LA...|    [[37.267, None]]|                  []|      []|[2415, 2415, 2725...|[[16.529, 'TSM Lu...|[[39.23, 'TOP_LAN...|                  []|[[17.14, None], [...|          [[29.954]]|      []|     1|          6057|        16|         9|          1|          9|          4|          1|          2|          0|          1|\n",
            "|      0|      1|[0, 0, -26, -18, ...|[[11.104, 'DIG Sh...|[[23.239, 'BOT_LA...|                  []|[[32.545, None], ...|          [[29.255]]|      []|[2415, 2415, 2731...|[[12.387, 'CST Je...|[[19.257, 'MID_LA...|[[36.813, 'MID_LA...|    [[12.264, None]]|                  []|      []|     0|          1165|        10|         9|          1|          7|          7|          0|          0|          1|          0|\n",
            "|      1|      0|[0, 0, 10, -60, 3...|[[5.255, 'GV Kean...|[[15.045, 'BOT_LA...|[[37.511, 'TOP_LA...|[[24.577, None], ...|          [[35.144]]|      []|[2415, 2415, 2716...|[[8.449, 'WFX Alt...|[[24.62, 'MID_LAN...|                  []|                  []|                  []|      []|     1|         13915|        22|         8|          1|         15|          2|          1|          4|          0|          1|\n",
            "|      0|      1|[0, 0, -15, 25, 2...|[[8.274, 'TL Quas...|[[19.941, 'BOT_LA...|                  []|                  []|          [[37.513]]|      []|[2415, 2415, 2720...|[[7.768, 'TIP Rus...|[[36.384, 'MID_LA...|[[35.867, 'MID_LA...|[[26.274, None], ...|                  []|      []|     0|         -4507|        10|        21|          0|          4|          7|          1|          0|          1|          0|\n",
            "|      1|      0|[40, 40, 44, -36,...|[[11.438, 'T8 Dod...|[[22.594, 'MID_LA...|[[34.069, 'BOT_LA...|[[14.589, None], ...|          [[32.556]]|      []|[2375, 2375, 2666...|[[11.988, 'CLG Do...|[[11.644, 'MID_LA...|                  []|    [[21.901, None]]|                  []|      []|     1|         11322|        22|        10|          1|          8|          4|          0|          1|          0|          1|\n",
            "|      0|      1|[0, 0, 20, -42, -...|[[11.143, 'TIP Ad...|                  []|                  []|                  []|                  []|      []|[2415, 2415, 2705...|[[12.216, 'DIG Ki...|[[17.977, 'TOP_LA...|[[20.869, 'MID_LA...|[[15.73, None], [...|                  []|      []|     0|         -7052|         4|         8|          1|          0|         10|          0|          0|          2|          0|\n",
            "|      1|      0|[0, 13, -7, 6, -3...|[[7.242, 'WFX Fla...|[[24.494, 'TOP_LA...|[[35.782, 'BOT_LA...|[[36.126, None], ...|          [[28.745]]|      []|[2415, 2420, 2741...|[[5.866, 'CST Imp...|[[13.891, 'TOP_LA...|                  []|[[9.321, None], [...|                  []|      []|     1|         14093|        25|         7|          0|         10|          3|          0|          2|          0|          1|\n",
            "|      1|      0|[0, 0, 26, 91, -1...|[[4.413, 'CLG Xmi...|[[14.046, 'MID_LA...|[[41.77, 'BOT_LAN...|[[11.316, None], ...|[[31.577], [39.029]]|      []|[2415, 2415, 2705...|[[17.48, 'TL Feni...|[[27.121, 'BOT_LA...|                  []|[[32.204, None], ...|                  []|      []|     1|         15396|        27|        12|          1|         11|          9|          1|          3|          0|          1|\n",
            "|      0|      1|[0, -10, 0, 162, ...|[[7.593, 'GV Sain...|[[24.108, 'TOP_LA...|                  []|                  []|          [[21.657]]|      []|[2415, 2425, 2721...|[[3.429, 'C9 Ball...|[[22.167, 'BOT_LA...|[[33.079, 'MID_LA...|[[22.465, None], ...|          [[32.145]]|      []|     0|        -10914|         8|        22|          0|          6|         11|          0|          0|          4|          0|\n",
            "|      1|      0|[0, 0, 0, 68, 498...|[[3.652, 'TSM Dyr...|[[19.95, 'BOT_LAN...|[[26.337, 'MID_LA...|    [[19.537, None]]|          [[27.532]]|      []|[2415, 2415, 2711...|[[11.625, 'T8 Por...|[[19.558, 'TOP_LA...|                  []|    [[26.965, None]]|                  []|      []|     1|         10867|        16|         9|          1|         11|          3|          0|          3|          0|          1|\n",
            "|      1|      0|[0, -10, -15, -27...|[[20.55, 'DIG Cru...|[[15.531, 'TOP_LA...|[[46.475, 'MID_LA...|[[39.705, None], ...|          [[48.915]]|      []|[2415, 2425, 2731...|[[22.492, 'GV Kea...|[[29.936, 'BOT_LA...|                  []|    [[13.393, None]]|                  []|      []|     1|         12212|         5|         4|          1|         11|          7|          1|          3|          0|          1|\n",
            "|      1|      0|[0, 0, 15, -91, -...|[[6.213, 'CST Cri...|[[37.651, 'MID_LA...|[[37.707, 'MID_LA...|    [[38.076, None]]|          [[28.332]]|      []|[2415, 2415, 2705...|[[6.611, 'T8 Sloo...|[[21.116, 'TOP_LA...|[[39.355, 'TOP_LA...|[[12.099, None], ...|          [[39.788]]|      []|     1|           498|        16|        14|          1|          8|          6|          0|          2|          1|          1|\n",
            "|      1|      0|[40, 40, 56, 30, ...|[[13.371, 'TL Xpe...|[[14.38, 'BOT_LAN...|[[36.495, 'MID_LA...|[[24.216, None], ...|[[35.751], [28.563]]|      []|[2375, 2375, 2670...|[[17.257, 'C9 Hai...|[[31.288, 'MID_LA...|                  []|                  []|                  []|      []|     1|         15884|        15|         3|          1|         11|          4|          1|          3|          0|          1|\n",
            "|      0|      1|[0, 0, 6, -532, -...|[[3.853, 'CLG Zio...|[[21.955, 'BOT_LA...|                  []|     [[4.656, None]]|                  []|      []|[2415, 2415, 2710...|[[2.547, 'TIP Imp...|[[24.232, 'TOP_LA...|[[25.299, 'TOP_LA...|[[19.08, None], [...|          [[27.243]]|      []|     0|        -10854|         4|        12|          0|          2|         11|          1|          0|          2|          0|\n",
            "|      1|      0|[0, 0, 0, 708, 46...|[[2.601, 'WFX Pob...|[[13.042, 'BOT_LA...|[[27.398, 'BOT_LA...|[[13.488, None], ...|          [[25.352]]|      []|[2415, 2415, 2716...|[[3.778, 'TSM Lus...|[[15.744, 'BOT_LA...|                  []|                  []|                  []|      []|     1|         10191|        13|         4|          1|         11|          3|          1|          2|          0|          1|\n",
            "|      1|      0|[0, 0, 0, 101, 28...|[[10.155, 'C9 Hai...|[[22.656, 'TOP_LA...|[[34.501, 'MID_LA...|[[24.303, None], ...|                  []|      []|[2415, 2415, 2711...|[[13.878, 'CLG Xm...|[[14.43, 'TOP_LAN...|                  []|                  []|                  []|      []|     1|          7085|        15|         7|          1|         10|          3|          0|          2|          0|          1|\n",
            "|      0|      1|[0, 10, -7, 78, 7...|[[26.576, 'WFX Po...|[[12.985, 'BOT_LA...|                  []|                  []|                  []|      []|[2415, 2415, 2738...|[[10.164, 'DIG Sh...|[[30.583, 'TOP_LA...|[[37.275, 'MID_LA...|[[28.754, None], ...|[[36.139], [26.788]]|      []|     0|        -20606|         2|        21|          0|          4|         12|          1|          0|          3|          0|\n",
            "|      1|      0|[0, 0, 0, -230, -...|[[12.101, 'TL Fen...|[[11.018, 'BOT_LA...|[[36.233, 'MID_LA...|[[14.868, None], ...|          [[31.889]]|      []|[2415, 2415, 2716...|[[38.476, 'TSM Wi...|[[11.073, 'TOP_LA...|                  []|     [[8.246, None]]|                  []|      []|     1|         12327|        13|         1|          1|         10|          3|          1|          1|          0|          1|\n",
            "|      1|      0|[0, 15, 35, 8, -1...|[[5.773, 'T8 Sloo...|[[13.393, 'TOP_LA...|[[39.355, 'MID_LA...|[[26.959, None], ...|                  []|      []|[2415, 2415, 2711...|[[15.969, 'TIP Ru...|[[16.225, 'BOT_LA...|[[34.423, 'BOT_LA...|[[13.617, None], ...|          [[31.408]]|      []|     1|          2002|        20|        14|          1|          8|          8|          1|          1|          2|          0|\n",
            "|      0|      1|[0, 0, 26, -26, -...|[[15.172, 'GV Sai...|[[24.471, 'TOP_LA...|                  []|    [[21.822, None]]|                  []|      []|[2415, 2415, 2710...|[[6.876, 'CST Mas...|[[19.211, 'MID_LA...|[[38.565, 'TOP_LA...|[[34.958, None], ...|          [[36.047]]|      []|     0|         -2297|        15|        19|          0|          4|          8|          0|          0|          1|          0|\n",
            "+-------+-------+--------------------+--------------------+--------------------+--------------------+--------------------+--------------------+--------+--------------------+--------------------+--------------------+--------------------+--------------------+--------------------+--------+------+--------------+----------+----------+-----------+-----------+-----------+-----------+-----------+-----------+-----------+\n",
            "only showing top 20 rows\n",
            "\n"
          ],
          "name": "stdout"
        }
      ]
    },
    {
      "cell_type": "markdown",
      "metadata": {
        "id": "zrH07csmgSve"
      },
      "source": [
        "##### Dragons\n",
        "\n",
        "For this part, we are calculating how many dragons each team killed and which team got the first dragon."
      ]
    },
    {
      "cell_type": "code",
      "metadata": {
        "colab": {
          "base_uri": "https://localhost:8080/"
        },
        "id": "lTbLZvn8gbrb",
        "outputId": "57070232-d2b6-4c9e-b7e5-4e16db6c463a"
      },
      "source": [
        "new_df = new_df.withColumn('bDragonCount', udf_countObj(f.col('bDragons')))\\\n",
        "         .withColumn('rDragonCount', udf_countObj(f.col('rDragons')))\\\n",
        "         .withColumn('first_dragon', udf_firstObj(f.col('bDragons'), f.col('rDragons')))\n",
        "\n",
        "new_df.show()"
      ],
      "execution_count": null,
      "outputs": [
        {
          "output_type": "stream",
          "text": [
            "+-------+-------+--------------------+--------------------+--------------------+--------------------+--------------------+--------------------+--------+--------------------+--------------------+--------------------+--------------------+--------------------+--------------------+--------+------+--------------+----------+----------+-----------+-----------+-----------+-----------+-----------+-----------+-----------+------------+------------+------------+\n",
            "|bResult|rResult|            golddiff|              bKills|             bTowers|             bInhibs|            bDragons|             bBarons|bHeralds|             goldred|              rKills|             rTowers|             rInhibs|            rDragons|             rBarons|rHeralds|winner|final_golddiff|bKillCount|rKillCount|first_blood|bTowerCount|rTowerCount|first_tower|bInhibCount|rInhibCount|first_inhib|bDragonCount|rDragonCount|first_dragon|\n",
            "+-------+-------+--------------------+--------------------+--------------------+--------------------+--------------------+--------------------+--------+--------------------+--------------------+--------------------+--------------------+--------------------+--------------------+--------+------+--------------+----------+----------+-----------+-----------+-----------+-----------+-----------+-----------+-----------+------------+------------+------------+\n",
            "|      1|      0|[0, 0, -14, -65, ...|[[10.82, 'C9 Hai'...|[[27.542, 'MID_LA...|[[36.686, 'MID_LA...|    [[37.267, None]]|                  []|      []|[2415, 2415, 2725...|[[16.529, 'TSM Lu...|[[39.23, 'TOP_LAN...|                  []|[[17.14, None], [...|          [[29.954]]|      []|     1|          6057|        16|         9|          1|          9|          4|          1|          2|          0|          1|           1|           3|           0|\n",
            "|      0|      1|[0, 0, -26, -18, ...|[[11.104, 'DIG Sh...|[[23.239, 'BOT_LA...|                  []|[[32.545, None], ...|          [[29.255]]|      []|[2415, 2415, 2731...|[[12.387, 'CST Je...|[[19.257, 'MID_LA...|[[36.813, 'MID_LA...|    [[12.264, None]]|                  []|      []|     0|          1165|        10|         9|          1|          7|          7|          0|          0|          1|          0|           3|           1|           0|\n",
            "|      1|      0|[0, 0, 10, -60, 3...|[[5.255, 'GV Kean...|[[15.045, 'BOT_LA...|[[37.511, 'TOP_LA...|[[24.577, None], ...|          [[35.144]]|      []|[2415, 2415, 2716...|[[8.449, 'WFX Alt...|[[24.62, 'MID_LAN...|                  []|                  []|                  []|      []|     1|         13915|        22|         8|          1|         15|          2|          1|          4|          0|          1|           4|           0|           1|\n",
            "|      0|      1|[0, 0, -15, 25, 2...|[[8.274, 'TL Quas...|[[19.941, 'BOT_LA...|                  []|                  []|          [[37.513]]|      []|[2415, 2415, 2720...|[[7.768, 'TIP Rus...|[[36.384, 'MID_LA...|[[35.867, 'MID_LA...|[[26.274, None], ...|                  []|      []|     0|         -4507|        10|        21|          0|          4|          7|          1|          0|          1|          0|           0|           4|           0|\n",
            "|      1|      0|[40, 40, 44, -36,...|[[11.438, 'T8 Dod...|[[22.594, 'MID_LA...|[[34.069, 'BOT_LA...|[[14.589, None], ...|          [[32.556]]|      []|[2375, 2375, 2666...|[[11.988, 'CLG Do...|[[11.644, 'MID_LA...|                  []|    [[21.901, None]]|                  []|      []|     1|         11322|        22|        10|          1|          8|          4|          0|          1|          0|          1|           2|           1|           1|\n",
            "|      0|      1|[0, 0, 20, -42, -...|[[11.143, 'TIP Ad...|                  []|                  []|                  []|                  []|      []|[2415, 2415, 2705...|[[12.216, 'DIG Ki...|[[17.977, 'TOP_LA...|[[20.869, 'MID_LA...|[[15.73, None], [...|                  []|      []|     0|         -7052|         4|         8|          1|          0|         10|          0|          0|          2|          0|           0|           3|           0|\n",
            "|      1|      0|[0, 13, -7, 6, -3...|[[7.242, 'WFX Fla...|[[24.494, 'TOP_LA...|[[35.782, 'BOT_LA...|[[36.126, None], ...|          [[28.745]]|      []|[2415, 2420, 2741...|[[5.866, 'CST Imp...|[[13.891, 'TOP_LA...|                  []|[[9.321, None], [...|                  []|      []|     1|         14093|        25|         7|          0|         10|          3|          0|          2|          0|          1|           3|           2|           0|\n",
            "|      1|      0|[0, 0, 26, 91, -1...|[[4.413, 'CLG Xmi...|[[14.046, 'MID_LA...|[[41.77, 'BOT_LAN...|[[11.316, None], ...|[[31.577], [39.029]]|      []|[2415, 2415, 2705...|[[17.48, 'TL Feni...|[[27.121, 'BOT_LA...|                  []|[[32.204, None], ...|                  []|      []|     1|         15396|        27|        12|          1|         11|          9|          1|          3|          0|          1|           3|           2|           1|\n",
            "|      0|      1|[0, -10, 0, 162, ...|[[7.593, 'GV Sain...|[[24.108, 'TOP_LA...|                  []|                  []|          [[21.657]]|      []|[2415, 2425, 2721...|[[3.429, 'C9 Ball...|[[22.167, 'BOT_LA...|[[33.079, 'MID_LA...|[[22.465, None], ...|          [[32.145]]|      []|     0|        -10914|         8|        22|          0|          6|         11|          0|          0|          4|          0|           0|           4|           0|\n",
            "|      1|      0|[0, 0, 0, 68, 498...|[[3.652, 'TSM Dyr...|[[19.95, 'BOT_LAN...|[[26.337, 'MID_LA...|    [[19.537, None]]|          [[27.532]]|      []|[2415, 2415, 2711...|[[11.625, 'T8 Por...|[[19.558, 'TOP_LA...|                  []|    [[26.965, None]]|                  []|      []|     1|         10867|        16|         9|          1|         11|          3|          0|          3|          0|          1|           1|           1|           1|\n",
            "|      1|      0|[0, -10, -15, -27...|[[20.55, 'DIG Cru...|[[15.531, 'TOP_LA...|[[46.475, 'MID_LA...|[[39.705, None], ...|          [[48.915]]|      []|[2415, 2425, 2731...|[[22.492, 'GV Kea...|[[29.936, 'BOT_LA...|                  []|    [[13.393, None]]|                  []|      []|     1|         12212|         5|         4|          1|         11|          7|          1|          3|          0|          1|           5|           1|           0|\n",
            "|      1|      0|[0, 0, 15, -91, -...|[[6.213, 'CST Cri...|[[37.651, 'MID_LA...|[[37.707, 'MID_LA...|    [[38.076, None]]|          [[28.332]]|      []|[2415, 2415, 2705...|[[6.611, 'T8 Sloo...|[[21.116, 'TOP_LA...|[[39.355, 'TOP_LA...|[[12.099, None], ...|          [[39.788]]|      []|     1|           498|        16|        14|          1|          8|          6|          0|          2|          1|          1|           1|           4|           0|\n",
            "|      1|      0|[40, 40, 56, 30, ...|[[13.371, 'TL Xpe...|[[14.38, 'BOT_LAN...|[[36.495, 'MID_LA...|[[24.216, None], ...|[[35.751], [28.563]]|      []|[2375, 2375, 2670...|[[17.257, 'C9 Hai...|[[31.288, 'MID_LA...|                  []|                  []|                  []|      []|     1|         15884|        15|         3|          1|         11|          4|          1|          3|          0|          1|           4|           0|           1|\n",
            "|      0|      1|[0, 0, 6, -532, -...|[[3.853, 'CLG Zio...|[[21.955, 'BOT_LA...|                  []|     [[4.656, None]]|                  []|      []|[2415, 2415, 2710...|[[2.547, 'TIP Imp...|[[24.232, 'TOP_LA...|[[25.299, 'TOP_LA...|[[19.08, None], [...|          [[27.243]]|      []|     0|        -10854|         4|        12|          0|          2|         11|          1|          0|          2|          0|           1|           3|           1|\n",
            "|      1|      0|[0, 0, 0, 708, 46...|[[2.601, 'WFX Pob...|[[13.042, 'BOT_LA...|[[27.398, 'BOT_LA...|[[13.488, None], ...|          [[25.352]]|      []|[2415, 2415, 2716...|[[3.778, 'TSM Lus...|[[15.744, 'BOT_LA...|                  []|                  []|                  []|      []|     1|         10191|        13|         4|          1|         11|          3|          1|          2|          0|          1|           3|           0|           1|\n",
            "|      1|      0|[0, 0, 0, 101, 28...|[[10.155, 'C9 Hai...|[[22.656, 'TOP_LA...|[[34.501, 'MID_LA...|[[24.303, None], ...|                  []|      []|[2415, 2415, 2711...|[[13.878, 'CLG Xm...|[[14.43, 'TOP_LAN...|                  []|                  []|                  []|      []|     1|          7085|        15|         7|          1|         10|          3|          0|          2|          0|          1|           5|           0|           1|\n",
            "|      0|      1|[0, 10, -7, 78, 7...|[[26.576, 'WFX Po...|[[12.985, 'BOT_LA...|                  []|                  []|                  []|      []|[2415, 2415, 2738...|[[10.164, 'DIG Sh...|[[30.583, 'TOP_LA...|[[37.275, 'MID_LA...|[[28.754, None], ...|[[36.139], [26.788]]|      []|     0|        -20606|         2|        21|          0|          4|         12|          1|          0|          3|          0|           0|           5|           0|\n",
            "|      1|      0|[0, 0, 0, -230, -...|[[12.101, 'TL Fen...|[[11.018, 'BOT_LA...|[[36.233, 'MID_LA...|[[14.868, None], ...|          [[31.889]]|      []|[2415, 2415, 2716...|[[38.476, 'TSM Wi...|[[11.073, 'TOP_LA...|                  []|     [[8.246, None]]|                  []|      []|     1|         12327|        13|         1|          1|         10|          3|          1|          1|          0|          1|           4|           1|           0|\n",
            "|      1|      0|[0, 15, 35, 8, -1...|[[5.773, 'T8 Sloo...|[[13.393, 'TOP_LA...|[[39.355, 'MID_LA...|[[26.959, None], ...|                  []|      []|[2415, 2415, 2711...|[[15.969, 'TIP Ru...|[[16.225, 'BOT_LA...|[[34.423, 'BOT_LA...|[[13.617, None], ...|          [[31.408]]|      []|     1|          2002|        20|        14|          1|          8|          8|          1|          1|          2|          0|           2|           2|           0|\n",
            "|      0|      1|[0, 0, 26, -26, -...|[[15.172, 'GV Sai...|[[24.471, 'TOP_LA...|                  []|    [[21.822, None]]|                  []|      []|[2415, 2415, 2710...|[[6.876, 'CST Mas...|[[19.211, 'MID_LA...|[[38.565, 'TOP_LA...|[[34.958, None], ...|          [[36.047]]|      []|     0|         -2297|        15|        19|          0|          4|          8|          0|          0|          1|          0|           1|           3|           1|\n",
            "+-------+-------+--------------------+--------------------+--------------------+--------------------+--------------------+--------------------+--------+--------------------+--------------------+--------------------+--------------------+--------------------+--------------------+--------+------+--------------+----------+----------+-----------+-----------+-----------+-----------+-----------+-----------+-----------+------------+------------+------------+\n",
            "only showing top 20 rows\n",
            "\n"
          ],
          "name": "stdout"
        }
      ]
    },
    {
      "cell_type": "markdown",
      "metadata": {
        "id": "AP4Fv68vg6w5"
      },
      "source": [
        "##### Barons\n",
        "\n",
        "For this part, we are calculating how many barons each team killed and which team got the first baron."
      ]
    },
    {
      "cell_type": "code",
      "metadata": {
        "colab": {
          "base_uri": "https://localhost:8080/"
        },
        "id": "IDIRAKNYhEZk",
        "outputId": "ff474d04-bfd2-4a15-ce06-c4c0982b3b70"
      },
      "source": [
        "new_df = new_df.withColumn('bBaronCount', udf_countObj(f.col('bBarons')))\\\n",
        "         .withColumn('rBaronCount', udf_countObj(f.col('rBarons')))\\\n",
        "         .withColumn('first_baron', udf_firstObj(f.col('bBarons'), f.col('rBarons')))\n",
        "\n",
        "new_df.show()"
      ],
      "execution_count": null,
      "outputs": [
        {
          "output_type": "stream",
          "text": [
            "+-------+-------+--------------------+--------------------+--------------------+--------------------+--------------------+--------------------+--------+--------------------+--------------------+--------------------+--------------------+--------------------+--------------------+--------+------+--------------+----------+----------+-----------+-----------+-----------+-----------+-----------+-----------+-----------+------------+------------+------------+-----------+-----------+-----------+\n",
            "|bResult|rResult|            golddiff|              bKills|             bTowers|             bInhibs|            bDragons|             bBarons|bHeralds|             goldred|              rKills|             rTowers|             rInhibs|            rDragons|             rBarons|rHeralds|winner|final_golddiff|bKillCount|rKillCount|first_blood|bTowerCount|rTowerCount|first_tower|bInhibCount|rInhibCount|first_inhib|bDragonCount|rDragonCount|first_dragon|bBaronCount|rBaronCount|first_baron|\n",
            "+-------+-------+--------------------+--------------------+--------------------+--------------------+--------------------+--------------------+--------+--------------------+--------------------+--------------------+--------------------+--------------------+--------------------+--------+------+--------------+----------+----------+-----------+-----------+-----------+-----------+-----------+-----------+-----------+------------+------------+------------+-----------+-----------+-----------+\n",
            "|      1|      0|[0, 0, -14, -65, ...|[[10.82, 'C9 Hai'...|[[27.542, 'MID_LA...|[[36.686, 'MID_LA...|    [[37.267, None]]|                  []|      []|[2415, 2415, 2725...|[[16.529, 'TSM Lu...|[[39.23, 'TOP_LAN...|                  []|[[17.14, None], [...|          [[29.954]]|      []|     1|          6057|        16|         9|          1|          9|          4|          1|          2|          0|          1|           1|           3|           0|          0|          1|          0|\n",
            "|      0|      1|[0, 0, -26, -18, ...|[[11.104, 'DIG Sh...|[[23.239, 'BOT_LA...|                  []|[[32.545, None], ...|          [[29.255]]|      []|[2415, 2415, 2731...|[[12.387, 'CST Je...|[[19.257, 'MID_LA...|[[36.813, 'MID_LA...|    [[12.264, None]]|                  []|      []|     0|          1165|        10|         9|          1|          7|          7|          0|          0|          1|          0|           3|           1|           0|          1|          0|          1|\n",
            "|      1|      0|[0, 0, 10, -60, 3...|[[5.255, 'GV Kean...|[[15.045, 'BOT_LA...|[[37.511, 'TOP_LA...|[[24.577, None], ...|          [[35.144]]|      []|[2415, 2415, 2716...|[[8.449, 'WFX Alt...|[[24.62, 'MID_LAN...|                  []|                  []|                  []|      []|     1|         13915|        22|         8|          1|         15|          2|          1|          4|          0|          1|           4|           0|           1|          1|          0|          1|\n",
            "|      0|      1|[0, 0, -15, 25, 2...|[[8.274, 'TL Quas...|[[19.941, 'BOT_LA...|                  []|                  []|          [[37.513]]|      []|[2415, 2415, 2720...|[[7.768, 'TIP Rus...|[[36.384, 'MID_LA...|[[35.867, 'MID_LA...|[[26.274, None], ...|                  []|      []|     0|         -4507|        10|        21|          0|          4|          7|          1|          0|          1|          0|           0|           4|           0|          1|          0|          1|\n",
            "|      1|      0|[40, 40, 44, -36,...|[[11.438, 'T8 Dod...|[[22.594, 'MID_LA...|[[34.069, 'BOT_LA...|[[14.589, None], ...|          [[32.556]]|      []|[2375, 2375, 2666...|[[11.988, 'CLG Do...|[[11.644, 'MID_LA...|                  []|    [[21.901, None]]|                  []|      []|     1|         11322|        22|        10|          1|          8|          4|          0|          1|          0|          1|           2|           1|           1|          1|          0|          1|\n",
            "|      0|      1|[0, 0, 20, -42, -...|[[11.143, 'TIP Ad...|                  []|                  []|                  []|                  []|      []|[2415, 2415, 2705...|[[12.216, 'DIG Ki...|[[17.977, 'TOP_LA...|[[20.869, 'MID_LA...|[[15.73, None], [...|                  []|      []|     0|         -7052|         4|         8|          1|          0|         10|          0|          0|          2|          0|           0|           3|           0|          0|          0|         -1|\n",
            "|      1|      0|[0, 13, -7, 6, -3...|[[7.242, 'WFX Fla...|[[24.494, 'TOP_LA...|[[35.782, 'BOT_LA...|[[36.126, None], ...|          [[28.745]]|      []|[2415, 2420, 2741...|[[5.866, 'CST Imp...|[[13.891, 'TOP_LA...|                  []|[[9.321, None], [...|                  []|      []|     1|         14093|        25|         7|          0|         10|          3|          0|          2|          0|          1|           3|           2|           0|          1|          0|          1|\n",
            "|      1|      0|[0, 0, 26, 91, -1...|[[4.413, 'CLG Xmi...|[[14.046, 'MID_LA...|[[41.77, 'BOT_LAN...|[[11.316, None], ...|[[31.577], [39.029]]|      []|[2415, 2415, 2705...|[[17.48, 'TL Feni...|[[27.121, 'BOT_LA...|                  []|[[32.204, None], ...|                  []|      []|     1|         15396|        27|        12|          1|         11|          9|          1|          3|          0|          1|           3|           2|           1|          2|          0|          1|\n",
            "|      0|      1|[0, -10, 0, 162, ...|[[7.593, 'GV Sain...|[[24.108, 'TOP_LA...|                  []|                  []|          [[21.657]]|      []|[2415, 2425, 2721...|[[3.429, 'C9 Ball...|[[22.167, 'BOT_LA...|[[33.079, 'MID_LA...|[[22.465, None], ...|          [[32.145]]|      []|     0|        -10914|         8|        22|          0|          6|         11|          0|          0|          4|          0|           0|           4|           0|          1|          1|          1|\n",
            "|      1|      0|[0, 0, 0, 68, 498...|[[3.652, 'TSM Dyr...|[[19.95, 'BOT_LAN...|[[26.337, 'MID_LA...|    [[19.537, None]]|          [[27.532]]|      []|[2415, 2415, 2711...|[[11.625, 'T8 Por...|[[19.558, 'TOP_LA...|                  []|    [[26.965, None]]|                  []|      []|     1|         10867|        16|         9|          1|         11|          3|          0|          3|          0|          1|           1|           1|           1|          1|          0|          1|\n",
            "|      1|      0|[0, -10, -15, -27...|[[20.55, 'DIG Cru...|[[15.531, 'TOP_LA...|[[46.475, 'MID_LA...|[[39.705, None], ...|          [[48.915]]|      []|[2415, 2425, 2731...|[[22.492, 'GV Kea...|[[29.936, 'BOT_LA...|                  []|    [[13.393, None]]|                  []|      []|     1|         12212|         5|         4|          1|         11|          7|          1|          3|          0|          1|           5|           1|           0|          1|          0|          1|\n",
            "|      1|      0|[0, 0, 15, -91, -...|[[6.213, 'CST Cri...|[[37.651, 'MID_LA...|[[37.707, 'MID_LA...|    [[38.076, None]]|          [[28.332]]|      []|[2415, 2415, 2705...|[[6.611, 'T8 Sloo...|[[21.116, 'TOP_LA...|[[39.355, 'TOP_LA...|[[12.099, None], ...|          [[39.788]]|      []|     1|           498|        16|        14|          1|          8|          6|          0|          2|          1|          1|           1|           4|           0|          1|          1|          1|\n",
            "|      1|      0|[40, 40, 56, 30, ...|[[13.371, 'TL Xpe...|[[14.38, 'BOT_LAN...|[[36.495, 'MID_LA...|[[24.216, None], ...|[[35.751], [28.563]]|      []|[2375, 2375, 2670...|[[17.257, 'C9 Hai...|[[31.288, 'MID_LA...|                  []|                  []|                  []|      []|     1|         15884|        15|         3|          1|         11|          4|          1|          3|          0|          1|           4|           0|           1|          2|          0|          1|\n",
            "|      0|      1|[0, 0, 6, -532, -...|[[3.853, 'CLG Zio...|[[21.955, 'BOT_LA...|                  []|     [[4.656, None]]|                  []|      []|[2415, 2415, 2710...|[[2.547, 'TIP Imp...|[[24.232, 'TOP_LA...|[[25.299, 'TOP_LA...|[[19.08, None], [...|          [[27.243]]|      []|     0|        -10854|         4|        12|          0|          2|         11|          1|          0|          2|          0|           1|           3|           1|          0|          1|          0|\n",
            "|      1|      0|[0, 0, 0, 708, 46...|[[2.601, 'WFX Pob...|[[13.042, 'BOT_LA...|[[27.398, 'BOT_LA...|[[13.488, None], ...|          [[25.352]]|      []|[2415, 2415, 2716...|[[3.778, 'TSM Lus...|[[15.744, 'BOT_LA...|                  []|                  []|                  []|      []|     1|         10191|        13|         4|          1|         11|          3|          1|          2|          0|          1|           3|           0|           1|          1|          0|          1|\n",
            "|      1|      0|[0, 0, 0, 101, 28...|[[10.155, 'C9 Hai...|[[22.656, 'TOP_LA...|[[34.501, 'MID_LA...|[[24.303, None], ...|                  []|      []|[2415, 2415, 2711...|[[13.878, 'CLG Xm...|[[14.43, 'TOP_LAN...|                  []|                  []|                  []|      []|     1|          7085|        15|         7|          1|         10|          3|          0|          2|          0|          1|           5|           0|           1|          0|          0|         -1|\n",
            "|      0|      1|[0, 10, -7, 78, 7...|[[26.576, 'WFX Po...|[[12.985, 'BOT_LA...|                  []|                  []|                  []|      []|[2415, 2415, 2738...|[[10.164, 'DIG Sh...|[[30.583, 'TOP_LA...|[[37.275, 'MID_LA...|[[28.754, None], ...|[[36.139], [26.788]]|      []|     0|        -20606|         2|        21|          0|          4|         12|          1|          0|          3|          0|           0|           5|           0|          0|          2|          0|\n",
            "|      1|      0|[0, 0, 0, -230, -...|[[12.101, 'TL Fen...|[[11.018, 'BOT_LA...|[[36.233, 'MID_LA...|[[14.868, None], ...|          [[31.889]]|      []|[2415, 2415, 2716...|[[38.476, 'TSM Wi...|[[11.073, 'TOP_LA...|                  []|     [[8.246, None]]|                  []|      []|     1|         12327|        13|         1|          1|         10|          3|          1|          1|          0|          1|           4|           1|           0|          1|          0|          1|\n",
            "|      1|      0|[0, 15, 35, 8, -1...|[[5.773, 'T8 Sloo...|[[13.393, 'TOP_LA...|[[39.355, 'MID_LA...|[[26.959, None], ...|                  []|      []|[2415, 2415, 2711...|[[15.969, 'TIP Ru...|[[16.225, 'BOT_LA...|[[34.423, 'BOT_LA...|[[13.617, None], ...|          [[31.408]]|      []|     1|          2002|        20|        14|          1|          8|          8|          1|          1|          2|          0|           2|           2|           0|          0|          1|          0|\n",
            "|      0|      1|[0, 0, 26, -26, -...|[[15.172, 'GV Sai...|[[24.471, 'TOP_LA...|                  []|    [[21.822, None]]|                  []|      []|[2415, 2415, 2710...|[[6.876, 'CST Mas...|[[19.211, 'MID_LA...|[[38.565, 'TOP_LA...|[[34.958, None], ...|          [[36.047]]|      []|     0|         -2297|        15|        19|          0|          4|          8|          0|          0|          1|          0|           1|           3|           1|          0|          1|          0|\n",
            "+-------+-------+--------------------+--------------------+--------------------+--------------------+--------------------+--------------------+--------+--------------------+--------------------+--------------------+--------------------+--------------------+--------------------+--------+------+--------------+----------+----------+-----------+-----------+-----------+-----------+-----------+-----------+-----------+------------+------------+------------+-----------+-----------+-----------+\n",
            "only showing top 20 rows\n",
            "\n"
          ],
          "name": "stdout"
        }
      ]
    },
    {
      "cell_type": "markdown",
      "metadata": {
        "id": "e1oNPCulh-Hl"
      },
      "source": [
        "##### Heralds\n",
        "\n",
        "For this part, we are calculating how many heralds each team killed and which team got the first herald."
      ]
    },
    {
      "cell_type": "code",
      "metadata": {
        "colab": {
          "base_uri": "https://localhost:8080/"
        },
        "id": "K7d0dmbtiGR4",
        "outputId": "1020f5b2-6965-4982-ad88-cc2459666fea"
      },
      "source": [
        "new_df = new_df.withColumn('bHeraldCount', udf_countObj(f.col('bHeralds')))\\\n",
        "         .withColumn('rHeraldCount', udf_countObj(f.col('rHeralds')))\\\n",
        "         .withColumn('first_herald', udf_firstObj(f.col('bHeralds'), f.col('rHeralds')))\n",
        "\n",
        "new_df.show()"
      ],
      "execution_count": null,
      "outputs": [
        {
          "output_type": "stream",
          "text": [
            "+-------+-------+--------------------+--------------------+--------------------+--------------------+--------------------+--------------------+--------+--------------------+--------------------+--------------------+--------------------+--------------------+--------------------+--------+------+--------------+----------+----------+-----------+-----------+-----------+-----------+-----------+-----------+-----------+------------+------------+------------+-----------+-----------+-----------+------------+------------+------------+\n",
            "|bResult|rResult|            golddiff|              bKills|             bTowers|             bInhibs|            bDragons|             bBarons|bHeralds|             goldred|              rKills|             rTowers|             rInhibs|            rDragons|             rBarons|rHeralds|winner|final_golddiff|bKillCount|rKillCount|first_blood|bTowerCount|rTowerCount|first_tower|bInhibCount|rInhibCount|first_inhib|bDragonCount|rDragonCount|first_dragon|bBaronCount|rBaronCount|first_baron|bHeraldCount|rHeraldCount|first_herald|\n",
            "+-------+-------+--------------------+--------------------+--------------------+--------------------+--------------------+--------------------+--------+--------------------+--------------------+--------------------+--------------------+--------------------+--------------------+--------+------+--------------+----------+----------+-----------+-----------+-----------+-----------+-----------+-----------+-----------+------------+------------+------------+-----------+-----------+-----------+------------+------------+------------+\n",
            "|      1|      0|[0, 0, -14, -65, ...|[[10.82, 'C9 Hai'...|[[27.542, 'MID_LA...|[[36.686, 'MID_LA...|    [[37.267, None]]|                  []|      []|[2415, 2415, 2725...|[[16.529, 'TSM Lu...|[[39.23, 'TOP_LAN...|                  []|[[17.14, None], [...|          [[29.954]]|      []|     1|          6057|        16|         9|          1|          9|          4|          1|          2|          0|          1|           1|           3|           0|          0|          1|          0|           0|           0|          -1|\n",
            "|      0|      1|[0, 0, -26, -18, ...|[[11.104, 'DIG Sh...|[[23.239, 'BOT_LA...|                  []|[[32.545, None], ...|          [[29.255]]|      []|[2415, 2415, 2731...|[[12.387, 'CST Je...|[[19.257, 'MID_LA...|[[36.813, 'MID_LA...|    [[12.264, None]]|                  []|      []|     0|          1165|        10|         9|          1|          7|          7|          0|          0|          1|          0|           3|           1|           0|          1|          0|          1|           0|           0|          -1|\n",
            "|      1|      0|[0, 0, 10, -60, 3...|[[5.255, 'GV Kean...|[[15.045, 'BOT_LA...|[[37.511, 'TOP_LA...|[[24.577, None], ...|          [[35.144]]|      []|[2415, 2415, 2716...|[[8.449, 'WFX Alt...|[[24.62, 'MID_LAN...|                  []|                  []|                  []|      []|     1|         13915|        22|         8|          1|         15|          2|          1|          4|          0|          1|           4|           0|           1|          1|          0|          1|           0|           0|          -1|\n",
            "|      0|      1|[0, 0, -15, 25, 2...|[[8.274, 'TL Quas...|[[19.941, 'BOT_LA...|                  []|                  []|          [[37.513]]|      []|[2415, 2415, 2720...|[[7.768, 'TIP Rus...|[[36.384, 'MID_LA...|[[35.867, 'MID_LA...|[[26.274, None], ...|                  []|      []|     0|         -4507|        10|        21|          0|          4|          7|          1|          0|          1|          0|           0|           4|           0|          1|          0|          1|           0|           0|          -1|\n",
            "|      1|      0|[40, 40, 44, -36,...|[[11.438, 'T8 Dod...|[[22.594, 'MID_LA...|[[34.069, 'BOT_LA...|[[14.589, None], ...|          [[32.556]]|      []|[2375, 2375, 2666...|[[11.988, 'CLG Do...|[[11.644, 'MID_LA...|                  []|    [[21.901, None]]|                  []|      []|     1|         11322|        22|        10|          1|          8|          4|          0|          1|          0|          1|           2|           1|           1|          1|          0|          1|           0|           0|          -1|\n",
            "|      0|      1|[0, 0, 20, -42, -...|[[11.143, 'TIP Ad...|                  []|                  []|                  []|                  []|      []|[2415, 2415, 2705...|[[12.216, 'DIG Ki...|[[17.977, 'TOP_LA...|[[20.869, 'MID_LA...|[[15.73, None], [...|                  []|      []|     0|         -7052|         4|         8|          1|          0|         10|          0|          0|          2|          0|           0|           3|           0|          0|          0|         -1|           0|           0|          -1|\n",
            "|      1|      0|[0, 13, -7, 6, -3...|[[7.242, 'WFX Fla...|[[24.494, 'TOP_LA...|[[35.782, 'BOT_LA...|[[36.126, None], ...|          [[28.745]]|      []|[2415, 2420, 2741...|[[5.866, 'CST Imp...|[[13.891, 'TOP_LA...|                  []|[[9.321, None], [...|                  []|      []|     1|         14093|        25|         7|          0|         10|          3|          0|          2|          0|          1|           3|           2|           0|          1|          0|          1|           0|           0|          -1|\n",
            "|      1|      0|[0, 0, 26, 91, -1...|[[4.413, 'CLG Xmi...|[[14.046, 'MID_LA...|[[41.77, 'BOT_LAN...|[[11.316, None], ...|[[31.577], [39.029]]|      []|[2415, 2415, 2705...|[[17.48, 'TL Feni...|[[27.121, 'BOT_LA...|                  []|[[32.204, None], ...|                  []|      []|     1|         15396|        27|        12|          1|         11|          9|          1|          3|          0|          1|           3|           2|           1|          2|          0|          1|           0|           0|          -1|\n",
            "|      0|      1|[0, -10, 0, 162, ...|[[7.593, 'GV Sain...|[[24.108, 'TOP_LA...|                  []|                  []|          [[21.657]]|      []|[2415, 2425, 2721...|[[3.429, 'C9 Ball...|[[22.167, 'BOT_LA...|[[33.079, 'MID_LA...|[[22.465, None], ...|          [[32.145]]|      []|     0|        -10914|         8|        22|          0|          6|         11|          0|          0|          4|          0|           0|           4|           0|          1|          1|          1|           0|           0|          -1|\n",
            "|      1|      0|[0, 0, 0, 68, 498...|[[3.652, 'TSM Dyr...|[[19.95, 'BOT_LAN...|[[26.337, 'MID_LA...|    [[19.537, None]]|          [[27.532]]|      []|[2415, 2415, 2711...|[[11.625, 'T8 Por...|[[19.558, 'TOP_LA...|                  []|    [[26.965, None]]|                  []|      []|     1|         10867|        16|         9|          1|         11|          3|          0|          3|          0|          1|           1|           1|           1|          1|          0|          1|           0|           0|          -1|\n",
            "|      1|      0|[0, -10, -15, -27...|[[20.55, 'DIG Cru...|[[15.531, 'TOP_LA...|[[46.475, 'MID_LA...|[[39.705, None], ...|          [[48.915]]|      []|[2415, 2425, 2731...|[[22.492, 'GV Kea...|[[29.936, 'BOT_LA...|                  []|    [[13.393, None]]|                  []|      []|     1|         12212|         5|         4|          1|         11|          7|          1|          3|          0|          1|           5|           1|           0|          1|          0|          1|           0|           0|          -1|\n",
            "|      1|      0|[0, 0, 15, -91, -...|[[6.213, 'CST Cri...|[[37.651, 'MID_LA...|[[37.707, 'MID_LA...|    [[38.076, None]]|          [[28.332]]|      []|[2415, 2415, 2705...|[[6.611, 'T8 Sloo...|[[21.116, 'TOP_LA...|[[39.355, 'TOP_LA...|[[12.099, None], ...|          [[39.788]]|      []|     1|           498|        16|        14|          1|          8|          6|          0|          2|          1|          1|           1|           4|           0|          1|          1|          1|           0|           0|          -1|\n",
            "|      1|      0|[40, 40, 56, 30, ...|[[13.371, 'TL Xpe...|[[14.38, 'BOT_LAN...|[[36.495, 'MID_LA...|[[24.216, None], ...|[[35.751], [28.563]]|      []|[2375, 2375, 2670...|[[17.257, 'C9 Hai...|[[31.288, 'MID_LA...|                  []|                  []|                  []|      []|     1|         15884|        15|         3|          1|         11|          4|          1|          3|          0|          1|           4|           0|           1|          2|          0|          1|           0|           0|          -1|\n",
            "|      0|      1|[0, 0, 6, -532, -...|[[3.853, 'CLG Zio...|[[21.955, 'BOT_LA...|                  []|     [[4.656, None]]|                  []|      []|[2415, 2415, 2710...|[[2.547, 'TIP Imp...|[[24.232, 'TOP_LA...|[[25.299, 'TOP_LA...|[[19.08, None], [...|          [[27.243]]|      []|     0|        -10854|         4|        12|          0|          2|         11|          1|          0|          2|          0|           1|           3|           1|          0|          1|          0|           0|           0|          -1|\n",
            "|      1|      0|[0, 0, 0, 708, 46...|[[2.601, 'WFX Pob...|[[13.042, 'BOT_LA...|[[27.398, 'BOT_LA...|[[13.488, None], ...|          [[25.352]]|      []|[2415, 2415, 2716...|[[3.778, 'TSM Lus...|[[15.744, 'BOT_LA...|                  []|                  []|                  []|      []|     1|         10191|        13|         4|          1|         11|          3|          1|          2|          0|          1|           3|           0|           1|          1|          0|          1|           0|           0|          -1|\n",
            "|      1|      0|[0, 0, 0, 101, 28...|[[10.155, 'C9 Hai...|[[22.656, 'TOP_LA...|[[34.501, 'MID_LA...|[[24.303, None], ...|                  []|      []|[2415, 2415, 2711...|[[13.878, 'CLG Xm...|[[14.43, 'TOP_LAN...|                  []|                  []|                  []|      []|     1|          7085|        15|         7|          1|         10|          3|          0|          2|          0|          1|           5|           0|           1|          0|          0|         -1|           0|           0|          -1|\n",
            "|      0|      1|[0, 10, -7, 78, 7...|[[26.576, 'WFX Po...|[[12.985, 'BOT_LA...|                  []|                  []|                  []|      []|[2415, 2415, 2738...|[[10.164, 'DIG Sh...|[[30.583, 'TOP_LA...|[[37.275, 'MID_LA...|[[28.754, None], ...|[[36.139], [26.788]]|      []|     0|        -20606|         2|        21|          0|          4|         12|          1|          0|          3|          0|           0|           5|           0|          0|          2|          0|           0|           0|          -1|\n",
            "|      1|      0|[0, 0, 0, -230, -...|[[12.101, 'TL Fen...|[[11.018, 'BOT_LA...|[[36.233, 'MID_LA...|[[14.868, None], ...|          [[31.889]]|      []|[2415, 2415, 2716...|[[38.476, 'TSM Wi...|[[11.073, 'TOP_LA...|                  []|     [[8.246, None]]|                  []|      []|     1|         12327|        13|         1|          1|         10|          3|          1|          1|          0|          1|           4|           1|           0|          1|          0|          1|           0|           0|          -1|\n",
            "|      1|      0|[0, 15, 35, 8, -1...|[[5.773, 'T8 Sloo...|[[13.393, 'TOP_LA...|[[39.355, 'MID_LA...|[[26.959, None], ...|                  []|      []|[2415, 2415, 2711...|[[15.969, 'TIP Ru...|[[16.225, 'BOT_LA...|[[34.423, 'BOT_LA...|[[13.617, None], ...|          [[31.408]]|      []|     1|          2002|        20|        14|          1|          8|          8|          1|          1|          2|          0|           2|           2|           0|          0|          1|          0|           0|           0|          -1|\n",
            "|      0|      1|[0, 0, 26, -26, -...|[[15.172, 'GV Sai...|[[24.471, 'TOP_LA...|                  []|    [[21.822, None]]|                  []|      []|[2415, 2415, 2710...|[[6.876, 'CST Mas...|[[19.211, 'MID_LA...|[[38.565, 'TOP_LA...|[[34.958, None], ...|          [[36.047]]|      []|     0|         -2297|        15|        19|          0|          4|          8|          0|          0|          1|          0|           1|           3|           1|          0|          1|          0|           0|           0|          -1|\n",
            "+-------+-------+--------------------+--------------------+--------------------+--------------------+--------------------+--------------------+--------+--------------------+--------------------+--------------------+--------------------+--------------------+--------------------+--------+------+--------------+----------+----------+-----------+-----------+-----------+-----------+-----------+-----------+-----------+------------+------------+------------+-----------+-----------+-----------+------------+------------+------------+\n",
            "only showing top 20 rows\n",
            "\n"
          ],
          "name": "stdout"
        }
      ]
    },
    {
      "cell_type": "markdown",
      "metadata": {
        "id": "tz25iFnhjgNQ"
      },
      "source": [
        "#### Part(1f): Writing the data\n",
        "\n",
        "After we got the necessary columns for our models, we are going to store a subste of `new_df` that only contains columns that our models need. This will make things easier later as we can interact with the dataset without treating them as dataframes."
      ]
    },
    {
      "cell_type": "code",
      "metadata": {
        "colab": {
          "base_uri": "https://localhost:8080/"
        },
        "id": "zcco4i90j3AY",
        "outputId": "2b96c1ac-7ff1-428f-dae0-4cea89909453"
      },
      "source": [
        "model_df = new_df.select('winner', 'final_golddiff', 'bKillCount', 'rKillCount', \\\n",
        "                         'first_blood', 'bTowerCount', 'rTowerCount', 'first_tower',\\\n",
        "                         'bInhibCount', 'rInhibCount', 'first_inhib', 'bDragonCount', \\\n",
        "                         'rDragonCount', 'first_dragon', 'bBaronCount', 'rBaronCount', \\\n",
        "                         'first_baron', 'bHeraldCount', 'rHeraldCount', 'first_herald')\n",
        "model_df.printSchema()"
      ],
      "execution_count": null,
      "outputs": [
        {
          "output_type": "stream",
          "text": [
            "root\n",
            " |-- winner: integer (nullable = true)\n",
            " |-- final_golddiff: string (nullable = true)\n",
            " |-- bKillCount: string (nullable = true)\n",
            " |-- rKillCount: string (nullable = true)\n",
            " |-- first_blood: string (nullable = true)\n",
            " |-- bTowerCount: string (nullable = true)\n",
            " |-- rTowerCount: string (nullable = true)\n",
            " |-- first_tower: string (nullable = true)\n",
            " |-- bInhibCount: string (nullable = true)\n",
            " |-- rInhibCount: string (nullable = true)\n",
            " |-- first_inhib: string (nullable = true)\n",
            " |-- bDragonCount: string (nullable = true)\n",
            " |-- rDragonCount: string (nullable = true)\n",
            " |-- first_dragon: string (nullable = true)\n",
            " |-- bBaronCount: string (nullable = true)\n",
            " |-- rBaronCount: string (nullable = true)\n",
            " |-- first_baron: string (nullable = true)\n",
            " |-- bHeraldCount: string (nullable = true)\n",
            " |-- rHeraldCount: string (nullable = true)\n",
            " |-- first_herald: string (nullable = true)\n",
            "\n"
          ],
          "name": "stdout"
        }
      ]
    },
    {
      "cell_type": "code",
      "metadata": {
        "id": "j1oNkItQlWMm"
      },
      "source": [
        "file_dir = os.path.join(os.getcwd(), 'model_features')\n",
        "\n",
        "model_df.write.format('csv').option('header', False)\\\n",
        ".mode('overwrite').save(file_dir)"
      ],
      "execution_count": null,
      "outputs": []
    },
    {
      "cell_type": "markdown",
      "metadata": {
        "id": "wMY8aq9kArpL"
      },
      "source": [
        "## Mid-game Stats Processing\n",
        "\n",
        "In this section, we are gonna be doing the same thing a **Part 1**, but this time, we are only extracting mid-game stats ranther than the end game. We feel like a model that can predict which team will win looking at the mid-game will provide more value than model that uses end-game stats."
      ]
    },
    {
      "cell_type": "code",
      "metadata": {
        "id": "wSVZ410GDFtu"
      },
      "source": [
        "get_cols_query2 = 'SELECT bResult, rResult, gamelength, golddiff, bKills, \\\n",
        "               bTowers, bInhibs, bDragons, bBarons, \\\n",
        "               bHeralds, goldred, rKills, rTowers, \\\n",
        "               rInhibs, rDragons, rBarons, rHeralds \\\n",
        "               FROM games'\n",
        "match_df = spark.sql(get_cols_query2)"
      ],
      "execution_count": null,
      "outputs": []
    },
    {
      "cell_type": "markdown",
      "metadata": {
        "id": "Y56pfl8ABSWN"
      },
      "source": [
        "### Winner Calculation\n",
        "\n",
        "It will use the same function as **Part 1**."
      ]
    },
    {
      "cell_type": "code",
      "metadata": {
        "colab": {
          "base_uri": "https://localhost:8080/"
        },
        "id": "GnHT0yZKBOnz",
        "outputId": "6231f9ea-ea71-4853-9294-cf9731c8cd58"
      },
      "source": [
        "mid_df = match_df.withColumn(\"winner\", udf_calcWinner(f.col('bResult'), f.col('rResult')))\n",
        "mid_df.show()"
      ],
      "execution_count": null,
      "outputs": [
        {
          "output_type": "stream",
          "text": [
            "+-------+-------+----------+--------------------+--------------------+--------------------+--------------------+--------------------+--------------------+--------+--------------------+--------------------+--------------------+--------------------+--------------------+--------------------+--------+------+\n",
            "|bResult|rResult|gamelength|            golddiff|              bKills|             bTowers|             bInhibs|            bDragons|             bBarons|bHeralds|             goldred|              rKills|             rTowers|             rInhibs|            rDragons|             rBarons|rHeralds|winner|\n",
            "+-------+-------+----------+--------------------+--------------------+--------------------+--------------------+--------------------+--------------------+--------+--------------------+--------------------+--------------------+--------------------+--------------------+--------------------+--------+------+\n",
            "|      1|      0|        40|[0, 0, -14, -65, ...|[[10.82, 'C9 Hai'...|[[27.542, 'MID_LA...|[[36.686, 'MID_LA...|    [[37.267, None]]|                  []|      []|[2415, 2415, 2725...|[[16.529, 'TSM Lu...|[[39.23, 'TOP_LAN...|                  []|[[17.14, None], [...|          [[29.954]]|      []|     1|\n",
            "|      0|      1|        38|[0, 0, -26, -18, ...|[[11.104, 'DIG Sh...|[[23.239, 'BOT_LA...|                  []|[[32.545, None], ...|          [[29.255]]|      []|[2415, 2415, 2731...|[[12.387, 'CST Je...|[[19.257, 'MID_LA...|[[36.813, 'MID_LA...|    [[12.264, None]]|                  []|      []|     0|\n",
            "|      1|      0|        40|[0, 0, 10, -60, 3...|[[5.255, 'GV Kean...|[[15.045, 'BOT_LA...|[[37.511, 'TOP_LA...|[[24.577, None], ...|          [[35.144]]|      []|[2415, 2415, 2716...|[[8.449, 'WFX Alt...|[[24.62, 'MID_LAN...|                  []|                  []|                  []|      []|     1|\n",
            "|      0|      1|        41|[0, 0, -15, 25, 2...|[[8.274, 'TL Quas...|[[19.941, 'BOT_LA...|                  []|                  []|          [[37.513]]|      []|[2415, 2415, 2720...|[[7.768, 'TIP Rus...|[[36.384, 'MID_LA...|[[35.867, 'MID_LA...|[[26.274, None], ...|                  []|      []|     0|\n",
            "|      1|      0|        35|[40, 40, 44, -36,...|[[11.438, 'T8 Dod...|[[22.594, 'MID_LA...|[[34.069, 'BOT_LA...|[[14.589, None], ...|          [[32.556]]|      []|[2375, 2375, 2666...|[[11.988, 'CLG Do...|[[11.644, 'MID_LA...|                  []|    [[21.901, None]]|                  []|      []|     1|\n",
            "|      0|      1|        24|[0, 0, 20, -42, -...|[[11.143, 'TIP Ad...|                  []|                  []|                  []|                  []|      []|[2415, 2415, 2705...|[[12.216, 'DIG Ki...|[[17.977, 'TOP_LA...|[[20.869, 'MID_LA...|[[15.73, None], [...|                  []|      []|     0|\n",
            "|      1|      0|        39|[0, 13, -7, 6, -3...|[[7.242, 'WFX Fla...|[[24.494, 'TOP_LA...|[[35.782, 'BOT_LA...|[[36.126, None], ...|          [[28.745]]|      []|[2415, 2420, 2741...|[[5.866, 'CST Imp...|[[13.891, 'TOP_LA...|                  []|[[9.321, None], [...|                  []|      []|     1|\n",
            "|      1|      0|        43|[0, 0, 26, 91, -1...|[[4.413, 'CLG Xmi...|[[14.046, 'MID_LA...|[[41.77, 'BOT_LAN...|[[11.316, None], ...|[[31.577], [39.029]]|      []|[2415, 2415, 2705...|[[17.48, 'TL Feni...|[[27.121, 'BOT_LA...|                  []|[[32.204, None], ...|                  []|      []|     1|\n",
            "|      0|      1|        41|[0, -10, 0, 162, ...|[[7.593, 'GV Sain...|[[24.108, 'TOP_LA...|                  []|                  []|          [[21.657]]|      []|[2415, 2425, 2721...|[[3.429, 'C9 Ball...|[[22.167, 'BOT_LA...|[[33.079, 'MID_LA...|[[22.465, None], ...|          [[32.145]]|      []|     0|\n",
            "|      1|      0|        32|[0, 0, 0, 68, 498...|[[3.652, 'TSM Dyr...|[[19.95, 'BOT_LAN...|[[26.337, 'MID_LA...|    [[19.537, None]]|          [[27.532]]|      []|[2415, 2415, 2711...|[[11.625, 'T8 Por...|[[19.558, 'TOP_LA...|                  []|    [[26.965, None]]|                  []|      []|     1|\n",
            "|      1|      0|        52|[0, -10, -15, -27...|[[20.55, 'DIG Cru...|[[15.531, 'TOP_LA...|[[46.475, 'MID_LA...|[[39.705, None], ...|          [[48.915]]|      []|[2415, 2425, 2731...|[[22.492, 'GV Kea...|[[29.936, 'BOT_LA...|                  []|    [[13.393, None]]|                  []|      []|     1|\n",
            "|      1|      0|        46|[0, 0, 15, -91, -...|[[6.213, 'CST Cri...|[[37.651, 'MID_LA...|[[37.707, 'MID_LA...|    [[38.076, None]]|          [[28.332]]|      []|[2415, 2415, 2705...|[[6.611, 'T8 Sloo...|[[21.116, 'TOP_LA...|[[39.355, 'TOP_LA...|[[12.099, None], ...|          [[39.788]]|      []|     1|\n",
            "|      1|      0|        38|[40, 40, 56, 30, ...|[[13.371, 'TL Xpe...|[[14.38, 'BOT_LAN...|[[36.495, 'MID_LA...|[[24.216, None], ...|[[35.751], [28.563]]|      []|[2375, 2375, 2670...|[[17.257, 'C9 Hai...|[[31.288, 'MID_LA...|                  []|                  []|                  []|      []|     1|\n",
            "|      0|      1|        31|[0, 0, 6, -532, -...|[[3.853, 'CLG Zio...|[[21.955, 'BOT_LA...|                  []|     [[4.656, None]]|                  []|      []|[2415, 2415, 2710...|[[2.547, 'TIP Imp...|[[24.232, 'TOP_LA...|[[25.299, 'TOP_LA...|[[19.08, None], [...|          [[27.243]]|      []|     0|\n",
            "|      1|      0|        33|[0, 0, 0, 708, 46...|[[2.601, 'WFX Pob...|[[13.042, 'BOT_LA...|[[27.398, 'BOT_LA...|[[13.488, None], ...|          [[25.352]]|      []|[2415, 2415, 2716...|[[3.778, 'TSM Lus...|[[15.744, 'BOT_LA...|                  []|                  []|                  []|      []|     1|\n",
            "|      1|      0|        38|[0, 0, 0, 101, 28...|[[10.155, 'C9 Hai...|[[22.656, 'TOP_LA...|[[34.501, 'MID_LA...|[[24.303, None], ...|                  []|      []|[2415, 2415, 2711...|[[13.878, 'CLG Xm...|[[14.43, 'TOP_LAN...|                  []|                  []|                  []|      []|     1|\n",
            "|      0|      1|        40|[0, 10, -7, 78, 7...|[[26.576, 'WFX Po...|[[12.985, 'BOT_LA...|                  []|                  []|                  []|      []|[2415, 2415, 2738...|[[10.164, 'DIG Sh...|[[30.583, 'TOP_LA...|[[37.275, 'MID_LA...|[[28.754, None], ...|[[36.139], [26.788]]|      []|     0|\n",
            "|      1|      0|        39|[0, 0, 0, -230, -...|[[12.101, 'TL Fen...|[[11.018, 'BOT_LA...|[[36.233, 'MID_LA...|[[14.868, None], ...|          [[31.889]]|      []|[2415, 2415, 2716...|[[38.476, 'TSM Wi...|[[11.073, 'TOP_LA...|                  []|     [[8.246, None]]|                  []|      []|     1|\n",
            "|      1|      0|        40|[0, 15, 35, 8, -1...|[[5.773, 'T8 Sloo...|[[13.393, 'TOP_LA...|[[39.355, 'MID_LA...|[[26.959, None], ...|                  []|      []|[2415, 2415, 2711...|[[15.969, 'TIP Ru...|[[16.225, 'BOT_LA...|[[34.423, 'BOT_LA...|[[13.617, None], ...|          [[31.408]]|      []|     1|\n",
            "|      0|      1|        39|[0, 0, 26, -26, -...|[[15.172, 'GV Sai...|[[24.471, 'TOP_LA...|                  []|    [[21.822, None]]|                  []|      []|[2415, 2415, 2710...|[[6.876, 'CST Mas...|[[19.211, 'MID_LA...|[[38.565, 'TOP_LA...|[[34.958, None], ...|          [[36.047]]|      []|     0|\n",
            "+-------+-------+----------+--------------------+--------------------+--------------------+--------------------+--------------------+--------------------+--------+--------------------+--------------------+--------------------+--------------------+--------------------+--------------------+--------+------+\n",
            "only showing top 20 rows\n",
            "\n"
          ],
          "name": "stdout"
        }
      ]
    },
    {
      "cell_type": "markdown",
      "metadata": {
        "id": "OEPNxKeRBrs4"
      },
      "source": [
        "### Other Columns\n",
        "For the other columns the function will be very similar to **Part 1** but this time, it will take into account the game duration and only use the values that occur before the half-way point of the game."
      ]
    },
    {
      "cell_type": "code",
      "metadata": {
        "colab": {
          "base_uri": "https://localhost:8080/"
        },
        "id": "ZPEOqgVfri8z",
        "outputId": "2a07fedb-0c7e-47b7-8551-82878f2fdfae"
      },
      "source": [
        "mid_df = mid_df.withColumn(\"first_blood\", udf_firstKill(f.col('bKills'), f.col('rKills')))\n",
        "mid_df.show()"
      ],
      "execution_count": null,
      "outputs": [
        {
          "output_type": "stream",
          "text": [
            "+-------+-------+----------+--------------------+--------------------+--------------------+--------------------+--------------------+--------------------+--------+--------------------+--------------------+--------------------+--------------------+--------------------+--------------------+--------+------+------------+----------+----------+-----------+-----------+-----------+-----------+-----------+-----------+------------+------------+------------+-----------+-----------+-----------+-----------+\n",
            "|bResult|rResult|gamelength|            golddiff|              bKills|             bTowers|             bInhibs|            bDragons|             bBarons|bHeralds|             goldred|              rKills|             rTowers|             rInhibs|            rDragons|             rBarons|rHeralds|winner|mid_golddiff|bKillCount|rKillCount|bTowerCount|rTowerCount|first_tower|bInhibCount|rInhibCount|first_inhib|bDragonCount|rDragonCount|first_dragon|bBaronCount|rBaronCount|first_baron|first_blood|\n",
            "+-------+-------+----------+--------------------+--------------------+--------------------+--------------------+--------------------+--------------------+--------+--------------------+--------------------+--------------------+--------------------+--------------------+--------------------+--------+------+------------+----------+----------+-----------+-----------+-----------+-----------+-----------+-----------+------------+------------+------------+-----------+-----------+-----------+-----------+\n",
            "|      1|      0|        40|[0, 0, -14, -65, ...|[[10.82, 'C9 Hai'...|[[27.542, 'MID_LA...|[[36.686, 'MID_LA...|    [[37.267, None]]|                  []|      []|[2415, 2415, 2725...|[[16.529, 'TSM Lu...|[[39.23, 'TOP_LAN...|                  []|[[17.14, None], [...|          [[29.954]]|      []|     1|        1422|         4|         3|          4|          2|          1|          0|          0|          1|           0|           1|           0|          0|          0|          0|          1|\n",
            "|      0|      1|        38|[0, 0, -26, -18, ...|[[11.104, 'DIG Sh...|[[23.239, 'BOT_LA...|                  []|[[32.545, None], ...|          [[29.255]]|      []|[2415, 2415, 2731...|[[12.387, 'CST Je...|[[19.257, 'MID_LA...|[[36.813, 'MID_LA...|    [[12.264, None]]|                  []|      []|     0|        1368|         5|         3|          1|          1|          0|          0|          0|          0|           0|           1|           0|          0|          0|          1|          1|\n",
            "|      1|      0|        40|[0, 0, 10, -60, 3...|[[5.255, 'GV Kean...|[[15.045, 'BOT_LA...|[[37.511, 'TOP_LA...|[[24.577, None], ...|          [[35.144]]|      []|[2415, 2415, 2716...|[[8.449, 'WFX Alt...|[[24.62, 'MID_LAN...|                  []|                  []|                  []|      []|     1|        5293|        11|         6|          3|          0|          1|          0|          0|          1|           1|           0|           1|          0|          0|          1|          1|\n",
            "|      0|      1|        41|[0, 0, -15, 25, 2...|[[8.274, 'TL Quas...|[[19.941, 'BOT_LA...|                  []|                  []|          [[37.513]]|      []|[2415, 2415, 2720...|[[7.768, 'TIP Rus...|[[36.384, 'MID_LA...|[[35.867, 'MID_LA...|[[26.274, None], ...|                  []|      []|     0|        2712|         5|         5|          2|          1|          1|          0|          0|          0|           0|           2|           0|          0|          0|          1|          0|\n",
            "|      1|      0|        35|[40, 40, 44, -36,...|[[11.438, 'T8 Dod...|[[22.594, 'MID_LA...|[[34.069, 'BOT_LA...|[[14.589, None], ...|          [[32.556]]|      []|[2375, 2375, 2666...|[[11.988, 'CLG Do...|[[11.644, 'MID_LA...|                  []|    [[21.901, None]]|                  []|      []|     1|        -730|         1|         1|          1|          3|          0|          0|          0|          1|           1|           0|           1|          0|          0|          1|          1|\n",
            "|      0|      1|        24|[0, 0, 20, -42, -...|[[11.143, 'TIP Ad...|                  []|                  []|                  []|                  []|      []|[2415, 2415, 2705...|[[12.216, 'DIG Ki...|[[17.977, 'TOP_LA...|[[20.869, 'MID_LA...|[[15.73, None], [...|                  []|      []|     0|        -557|         1|         0|          0|          0|          0|          0|          0|          0|           0|           1|           0|          0|          0|         -1|          1|\n",
            "|      1|      0|        39|[0, 13, -7, 6, -3...|[[7.242, 'WFX Fla...|[[24.494, 'TOP_LA...|[[35.782, 'BOT_LA...|[[36.126, None], ...|          [[28.745]]|      []|[2415, 2420, 2741...|[[5.866, 'CST Imp...|[[13.891, 'TOP_LA...|                  []|[[9.321, None], [...|                  []|      []|     1|        2252|         6|         1|          2|          2|          0|          0|          0|          1|           1|           1|           0|          0|          0|          1|          0|\n",
            "|      1|      0|        43|[0, 0, 26, 91, -1...|[[4.413, 'CLG Xmi...|[[14.046, 'MID_LA...|[[41.77, 'BOT_LAN...|[[11.316, None], ...|[[31.577], [39.029]]|      []|[2415, 2415, 2705...|[[17.48, 'TL Feni...|[[27.121, 'BOT_LA...|                  []|[[32.204, None], ...|                  []|      []|     1|        1110|         8|         4|          2|          3|          1|          0|          0|          1|           2|           0|           1|          0|          0|          1|          1|\n",
            "|      0|      1|        41|[0, -10, 0, 162, ...|[[7.593, 'GV Sain...|[[24.108, 'TOP_LA...|                  []|                  []|          [[21.657]]|      []|[2415, 2425, 2721...|[[3.429, 'C9 Ball...|[[22.167, 'BOT_LA...|[[33.079, 'MID_LA...|[[22.465, None], ...|          [[32.145]]|      []|     0|        1908|         6|        10|          3|          1|          0|          0|          0|          0|           0|           1|           0|          0|          0|          1|          0|\n",
            "|      1|      0|        32|[0, 0, 0, 68, 498...|[[3.652, 'TSM Dyr...|[[19.95, 'BOT_LAN...|[[26.337, 'MID_LA...|    [[19.537, None]]|          [[27.532]]|      []|[2415, 2415, 2711...|[[11.625, 'T8 Por...|[[19.558, 'TOP_LA...|                  []|    [[26.965, None]]|                  []|      []|     1|        -183|         2|         2|          1|          0|          0|          0|          0|          1|           0|           0|           1|          0|          0|          1|          1|\n",
            "|      1|      0|        52|[0, -10, -15, -27...|[[20.55, 'DIG Cru...|[[15.531, 'TOP_LA...|[[46.475, 'MID_LA...|[[39.705, None], ...|          [[48.915]]|      []|[2415, 2425, 2731...|[[22.492, 'GV Kea...|[[29.936, 'BOT_LA...|                  []|    [[13.393, None]]|                  []|      []|     1|        5156|         2|         1|          3|          2|          1|          0|          0|          1|           1|           1|           0|          0|          0|          1|          1|\n",
            "|      1|      0|        46|[0, 0, 15, -91, -...|[[6.213, 'CST Cri...|[[37.651, 'MID_LA...|[[37.707, 'MID_LA...|    [[38.076, None]]|          [[28.332]]|      []|[2415, 2415, 2705...|[[6.611, 'T8 Sloo...|[[21.116, 'TOP_LA...|[[39.355, 'TOP_LA...|[[12.099, None], ...|          [[39.788]]|      []|     1|       -1845|         5|         5|          2|          4|          0|          0|          0|          1|           0|           2|           0|          0|          0|          1|          1|\n",
            "|      1|      0|        38|[40, 40, 56, 30, ...|[[13.371, 'TL Xpe...|[[14.38, 'BOT_LAN...|[[36.495, 'MID_LA...|[[24.216, None], ...|[[35.751], [28.563]]|      []|[2375, 2375, 2670...|[[17.257, 'C9 Hai...|[[31.288, 'MID_LA...|                  []|                  []|                  []|      []|     1|        2789|         3|         1|          3|          1|          1|          0|          0|          1|           2|           0|           1|          0|          0|          1|          1|\n",
            "|      0|      1|        31|[0, 0, 6, -532, -...|[[3.853, 'CLG Zio...|[[21.955, 'BOT_LA...|                  []|     [[4.656, None]]|                  []|      []|[2415, 2415, 2710...|[[2.547, 'TIP Imp...|[[24.232, 'TOP_LA...|[[25.299, 'TOP_LA...|[[19.08, None], [...|          [[27.243]]|      []|     0|       -2971|         3|         4|          0|          3|          1|          0|          0|          0|           1|           1|           1|          0|          0|          0|          0|\n",
            "|      1|      0|        33|[0, 0, 0, 708, 46...|[[2.601, 'WFX Pob...|[[13.042, 'BOT_LA...|[[27.398, 'BOT_LA...|[[13.488, None], ...|          [[25.352]]|      []|[2415, 2415, 2716...|[[3.778, 'TSM Lus...|[[15.744, 'BOT_LA...|                  []|                  []|                  []|      []|     1|        3370|         5|         2|          3|          2|          1|          0|          0|          1|           1|           0|           1|          0|          0|          1|          1|\n",
            "|      1|      0|        38|[0, 0, 0, 101, 28...|[[10.155, 'C9 Hai...|[[22.656, 'TOP_LA...|[[34.501, 'MID_LA...|[[24.303, None], ...|                  []|      []|[2415, 2415, 2711...|[[13.878, 'CLG Xm...|[[14.43, 'TOP_LAN...|                  []|                  []|                  []|      []|     1|        3788|         2|         1|          4|          1|          0|          0|          0|          1|           2|           0|           1|          0|          0|         -1|          1|\n",
            "|      0|      1|        40|[0, 10, -7, 78, 7...|[[26.576, 'WFX Po...|[[12.985, 'BOT_LA...|                  []|                  []|                  []|      []|[2415, 2415, 2738...|[[10.164, 'DIG Sh...|[[30.583, 'TOP_LA...|[[37.275, 'MID_LA...|[[28.754, None], ...|[[36.139], [26.788]]|      []|     0|       -3127|         0|         5|          3|          4|          1|          0|          0|          0|           0|           2|           0|          0|          0|          0|          0|\n",
            "|      1|      0|        39|[0, 0, 0, -230, -...|[[12.101, 'TL Fen...|[[11.018, 'BOT_LA...|[[36.233, 'MID_LA...|[[14.868, None], ...|          [[31.889]]|      []|[2415, 2415, 2716...|[[38.476, 'TSM Wi...|[[11.073, 'TOP_LA...|                  []|     [[8.246, None]]|                  []|      []|     1|        2310|         1|         0|          3|          2|          1|          0|          0|          1|           1|           1|           0|          0|          0|          1|          1|\n",
            "|      1|      0|        40|[0, 15, 35, 8, -1...|[[5.773, 'T8 Sloo...|[[13.393, 'TOP_LA...|[[39.355, 'MID_LA...|[[26.959, None], ...|                  []|      []|[2415, 2415, 2711...|[[15.969, 'TIP Ru...|[[16.225, 'BOT_LA...|[[34.423, 'BOT_LA...|[[13.617, None], ...|          [[31.408]]|      []|     1|        3259|         2|         1|          3|          1|          1|          0|          0|          0|           1|           1|           0|          0|          0|          0|          1|\n",
            "|      0|      1|        39|[0, 0, 26, -26, -...|[[15.172, 'GV Sai...|[[24.471, 'TOP_LA...|                  []|    [[21.822, None]]|                  []|      []|[2415, 2415, 2710...|[[6.876, 'CST Mas...|[[19.211, 'MID_LA...|[[38.565, 'TOP_LA...|[[34.958, None], ...|          [[36.047]]|      []|     0|         730|         3|         3|          3|          2|          0|          0|          0|          0|           0|           1|           1|          0|          0|          0|          0|\n",
            "+-------+-------+----------+--------------------+--------------------+--------------------+--------------------+--------------------+--------------------+--------+--------------------+--------------------+--------------------+--------------------+--------------------+--------------------+--------+------+------------+----------+----------+-----------+-----------+-----------+-----------+-----------+-----------+------------+------------+------------+-----------+-----------+-----------+-----------+\n",
            "only showing top 20 rows\n",
            "\n"
          ],
          "name": "stdout"
        }
      ]
    },
    {
      "cell_type": "code",
      "metadata": {
        "colab": {
          "base_uri": "https://localhost:8080/"
        },
        "id": "VWzpmR--CUvx",
        "outputId": "e290d710-cd9b-4b4e-de11-715da101032e"
      },
      "source": [
        "import ast\n",
        "\n",
        "count = 0\n",
        "test = mid_df.first()\n",
        "arr = ast.literal_eval(test[\"bKills\"])\n",
        "mid_time = float(test[\"gamelength\"]) / 2\n",
        "print(mid_time)\n",
        "for k in arr:\n",
        "  if k[0] <= mid_time: \n",
        "    print(k[0])\n",
        "    count += 1\n",
        "\n",
        "# print(type(test[\"gamelength\"]))"
      ],
      "execution_count": null,
      "outputs": [
        {
          "output_type": "stream",
          "text": [
            "20.0\n",
            "10.82\n",
            "16.286\n",
            "18.733\n",
            "18.88\n"
          ],
          "name": "stdout"
        }
      ]
    },
    {
      "cell_type": "code",
      "metadata": {
        "colab": {
          "base_uri": "https://localhost:8080/"
        },
        "id": "3oC8L45hCAFp",
        "outputId": "32382a2a-0e18-45ce-f624-632dc0bbdcd8"
      },
      "source": [
        "import ast\n",
        "\n",
        "def midGoldDiff(golddiff, gamelength):\n",
        "  gDiff = ast.literal_eval(golddiff)\n",
        "  gLength = int(gamelength)\n",
        "  mid = -(-gLength//2)\n",
        "  \n",
        "  return gDiff[mid - 1]\n",
        "\n",
        "udf_midGoldDiff = f.udf(midGoldDiff, types.StringType())\n",
        "\n",
        "\n",
        "mid_df = mid_df.withColumn(\"mid_golddiff\", udf_midGoldDiff(f.col('golddiff'), f.col('gamelength')))\n",
        "mid_df.show()"
      ],
      "execution_count": null,
      "outputs": [
        {
          "output_type": "stream",
          "text": [
            "+-------+-------+----------+--------------------+--------------------+--------------------+--------------------+--------------------+--------------------+--------+--------------------+--------------------+--------------------+--------------------+--------------------+--------------------+--------+------+------------+\n",
            "|bResult|rResult|gamelength|            golddiff|              bKills|             bTowers|             bInhibs|            bDragons|             bBarons|bHeralds|             goldred|              rKills|             rTowers|             rInhibs|            rDragons|             rBarons|rHeralds|winner|mid_golddiff|\n",
            "+-------+-------+----------+--------------------+--------------------+--------------------+--------------------+--------------------+--------------------+--------+--------------------+--------------------+--------------------+--------------------+--------------------+--------------------+--------+------+------------+\n",
            "|      1|      0|        40|[0, 0, -14, -65, ...|[[10.82, 'C9 Hai'...|[[27.542, 'MID_LA...|[[36.686, 'MID_LA...|    [[37.267, None]]|                  []|      []|[2415, 2415, 2725...|[[16.529, 'TSM Lu...|[[39.23, 'TOP_LAN...|                  []|[[17.14, None], [...|          [[29.954]]|      []|     1|        1422|\n",
            "|      0|      1|        38|[0, 0, -26, -18, ...|[[11.104, 'DIG Sh...|[[23.239, 'BOT_LA...|                  []|[[32.545, None], ...|          [[29.255]]|      []|[2415, 2415, 2731...|[[12.387, 'CST Je...|[[19.257, 'MID_LA...|[[36.813, 'MID_LA...|    [[12.264, None]]|                  []|      []|     0|        1368|\n",
            "|      1|      0|        40|[0, 0, 10, -60, 3...|[[5.255, 'GV Kean...|[[15.045, 'BOT_LA...|[[37.511, 'TOP_LA...|[[24.577, None], ...|          [[35.144]]|      []|[2415, 2415, 2716...|[[8.449, 'WFX Alt...|[[24.62, 'MID_LAN...|                  []|                  []|                  []|      []|     1|        5293|\n",
            "|      0|      1|        41|[0, 0, -15, 25, 2...|[[8.274, 'TL Quas...|[[19.941, 'BOT_LA...|                  []|                  []|          [[37.513]]|      []|[2415, 2415, 2720...|[[7.768, 'TIP Rus...|[[36.384, 'MID_LA...|[[35.867, 'MID_LA...|[[26.274, None], ...|                  []|      []|     0|        2712|\n",
            "|      1|      0|        35|[40, 40, 44, -36,...|[[11.438, 'T8 Dod...|[[22.594, 'MID_LA...|[[34.069, 'BOT_LA...|[[14.589, None], ...|          [[32.556]]|      []|[2375, 2375, 2666...|[[11.988, 'CLG Do...|[[11.644, 'MID_LA...|                  []|    [[21.901, None]]|                  []|      []|     1|        -730|\n",
            "|      0|      1|        24|[0, 0, 20, -42, -...|[[11.143, 'TIP Ad...|                  []|                  []|                  []|                  []|      []|[2415, 2415, 2705...|[[12.216, 'DIG Ki...|[[17.977, 'TOP_LA...|[[20.869, 'MID_LA...|[[15.73, None], [...|                  []|      []|     0|        -557|\n",
            "|      1|      0|        39|[0, 13, -7, 6, -3...|[[7.242, 'WFX Fla...|[[24.494, 'TOP_LA...|[[35.782, 'BOT_LA...|[[36.126, None], ...|          [[28.745]]|      []|[2415, 2420, 2741...|[[5.866, 'CST Imp...|[[13.891, 'TOP_LA...|                  []|[[9.321, None], [...|                  []|      []|     1|        2252|\n",
            "|      1|      0|        43|[0, 0, 26, 91, -1...|[[4.413, 'CLG Xmi...|[[14.046, 'MID_LA...|[[41.77, 'BOT_LAN...|[[11.316, None], ...|[[31.577], [39.029]]|      []|[2415, 2415, 2705...|[[17.48, 'TL Feni...|[[27.121, 'BOT_LA...|                  []|[[32.204, None], ...|                  []|      []|     1|        1110|\n",
            "|      0|      1|        41|[0, -10, 0, 162, ...|[[7.593, 'GV Sain...|[[24.108, 'TOP_LA...|                  []|                  []|          [[21.657]]|      []|[2415, 2425, 2721...|[[3.429, 'C9 Ball...|[[22.167, 'BOT_LA...|[[33.079, 'MID_LA...|[[22.465, None], ...|          [[32.145]]|      []|     0|        1908|\n",
            "|      1|      0|        32|[0, 0, 0, 68, 498...|[[3.652, 'TSM Dyr...|[[19.95, 'BOT_LAN...|[[26.337, 'MID_LA...|    [[19.537, None]]|          [[27.532]]|      []|[2415, 2415, 2711...|[[11.625, 'T8 Por...|[[19.558, 'TOP_LA...|                  []|    [[26.965, None]]|                  []|      []|     1|        -183|\n",
            "|      1|      0|        52|[0, -10, -15, -27...|[[20.55, 'DIG Cru...|[[15.531, 'TOP_LA...|[[46.475, 'MID_LA...|[[39.705, None], ...|          [[48.915]]|      []|[2415, 2425, 2731...|[[22.492, 'GV Kea...|[[29.936, 'BOT_LA...|                  []|    [[13.393, None]]|                  []|      []|     1|        5156|\n",
            "|      1|      0|        46|[0, 0, 15, -91, -...|[[6.213, 'CST Cri...|[[37.651, 'MID_LA...|[[37.707, 'MID_LA...|    [[38.076, None]]|          [[28.332]]|      []|[2415, 2415, 2705...|[[6.611, 'T8 Sloo...|[[21.116, 'TOP_LA...|[[39.355, 'TOP_LA...|[[12.099, None], ...|          [[39.788]]|      []|     1|       -1845|\n",
            "|      1|      0|        38|[40, 40, 56, 30, ...|[[13.371, 'TL Xpe...|[[14.38, 'BOT_LAN...|[[36.495, 'MID_LA...|[[24.216, None], ...|[[35.751], [28.563]]|      []|[2375, 2375, 2670...|[[17.257, 'C9 Hai...|[[31.288, 'MID_LA...|                  []|                  []|                  []|      []|     1|        2789|\n",
            "|      0|      1|        31|[0, 0, 6, -532, -...|[[3.853, 'CLG Zio...|[[21.955, 'BOT_LA...|                  []|     [[4.656, None]]|                  []|      []|[2415, 2415, 2710...|[[2.547, 'TIP Imp...|[[24.232, 'TOP_LA...|[[25.299, 'TOP_LA...|[[19.08, None], [...|          [[27.243]]|      []|     0|       -2971|\n",
            "|      1|      0|        33|[0, 0, 0, 708, 46...|[[2.601, 'WFX Pob...|[[13.042, 'BOT_LA...|[[27.398, 'BOT_LA...|[[13.488, None], ...|          [[25.352]]|      []|[2415, 2415, 2716...|[[3.778, 'TSM Lus...|[[15.744, 'BOT_LA...|                  []|                  []|                  []|      []|     1|        3370|\n",
            "|      1|      0|        38|[0, 0, 0, 101, 28...|[[10.155, 'C9 Hai...|[[22.656, 'TOP_LA...|[[34.501, 'MID_LA...|[[24.303, None], ...|                  []|      []|[2415, 2415, 2711...|[[13.878, 'CLG Xm...|[[14.43, 'TOP_LAN...|                  []|                  []|                  []|      []|     1|        3788|\n",
            "|      0|      1|        40|[0, 10, -7, 78, 7...|[[26.576, 'WFX Po...|[[12.985, 'BOT_LA...|                  []|                  []|                  []|      []|[2415, 2415, 2738...|[[10.164, 'DIG Sh...|[[30.583, 'TOP_LA...|[[37.275, 'MID_LA...|[[28.754, None], ...|[[36.139], [26.788]]|      []|     0|       -3127|\n",
            "|      1|      0|        39|[0, 0, 0, -230, -...|[[12.101, 'TL Fen...|[[11.018, 'BOT_LA...|[[36.233, 'MID_LA...|[[14.868, None], ...|          [[31.889]]|      []|[2415, 2415, 2716...|[[38.476, 'TSM Wi...|[[11.073, 'TOP_LA...|                  []|     [[8.246, None]]|                  []|      []|     1|        2310|\n",
            "|      1|      0|        40|[0, 15, 35, 8, -1...|[[5.773, 'T8 Sloo...|[[13.393, 'TOP_LA...|[[39.355, 'MID_LA...|[[26.959, None], ...|                  []|      []|[2415, 2415, 2711...|[[15.969, 'TIP Ru...|[[16.225, 'BOT_LA...|[[34.423, 'BOT_LA...|[[13.617, None], ...|          [[31.408]]|      []|     1|        3259|\n",
            "|      0|      1|        39|[0, 0, 26, -26, -...|[[15.172, 'GV Sai...|[[24.471, 'TOP_LA...|                  []|    [[21.822, None]]|                  []|      []|[2415, 2415, 2710...|[[6.876, 'CST Mas...|[[19.211, 'MID_LA...|[[38.565, 'TOP_LA...|[[34.958, None], ...|          [[36.047]]|      []|     0|         730|\n",
            "+-------+-------+----------+--------------------+--------------------+--------------------+--------------------+--------------------+--------------------+--------+--------------------+--------------------+--------------------+--------------------+--------------------+--------------------+--------+------+------------+\n",
            "only showing top 20 rows\n",
            "\n"
          ],
          "name": "stdout"
        }
      ]
    },
    {
      "cell_type": "code",
      "metadata": {
        "colab": {
          "base_uri": "https://localhost:8080/"
        },
        "id": "YiJl8AL8NZzh",
        "outputId": "278331e8-e522-416f-d06d-6ec99258d498"
      },
      "source": [
        "def midCountKills(kills, gamelength):\n",
        "  kills_arr = ast.literal_eval(kills)\n",
        "  mid_time = float(gamelength) / 2\n",
        "\n",
        "  count = 0\n",
        "  for kill in kills_arr:\n",
        "    if kill[0] <= mid_time: \n",
        "      count += 1\n",
        "  \n",
        "  return count\n",
        "\n",
        "udf_midCountKills = f.udf(midCountKills, types.StringType())\n",
        "\n",
        "\n",
        "mid_df = mid_df.withColumn(\"bKillCount\", udf_midCountKills(f.col('bKills'),f.col('gamelength')))\\\n",
        "         .withColumn(\"rKillCount\", udf_midCountKills(f.col('rKills'), f.col('gamelength')))\n",
        "\n",
        "mid_df.show()"
      ],
      "execution_count": null,
      "outputs": [
        {
          "output_type": "stream",
          "text": [
            "+-------+-------+----------+--------------------+--------------------+--------------------+--------------------+--------------------+--------------------+--------+--------------------+--------------------+--------------------+--------------------+--------------------+--------------------+--------+------+------------+----------+----------+\n",
            "|bResult|rResult|gamelength|            golddiff|              bKills|             bTowers|             bInhibs|            bDragons|             bBarons|bHeralds|             goldred|              rKills|             rTowers|             rInhibs|            rDragons|             rBarons|rHeralds|winner|mid_golddiff|bKillCount|rKillCount|\n",
            "+-------+-------+----------+--------------------+--------------------+--------------------+--------------------+--------------------+--------------------+--------+--------------------+--------------------+--------------------+--------------------+--------------------+--------------------+--------+------+------------+----------+----------+\n",
            "|      1|      0|        40|[0, 0, -14, -65, ...|[[10.82, 'C9 Hai'...|[[27.542, 'MID_LA...|[[36.686, 'MID_LA...|    [[37.267, None]]|                  []|      []|[2415, 2415, 2725...|[[16.529, 'TSM Lu...|[[39.23, 'TOP_LAN...|                  []|[[17.14, None], [...|          [[29.954]]|      []|     1|        1422|         4|         3|\n",
            "|      0|      1|        38|[0, 0, -26, -18, ...|[[11.104, 'DIG Sh...|[[23.239, 'BOT_LA...|                  []|[[32.545, None], ...|          [[29.255]]|      []|[2415, 2415, 2731...|[[12.387, 'CST Je...|[[19.257, 'MID_LA...|[[36.813, 'MID_LA...|    [[12.264, None]]|                  []|      []|     0|        1368|         5|         3|\n",
            "|      1|      0|        40|[0, 0, 10, -60, 3...|[[5.255, 'GV Kean...|[[15.045, 'BOT_LA...|[[37.511, 'TOP_LA...|[[24.577, None], ...|          [[35.144]]|      []|[2415, 2415, 2716...|[[8.449, 'WFX Alt...|[[24.62, 'MID_LAN...|                  []|                  []|                  []|      []|     1|        5293|        11|         6|\n",
            "|      0|      1|        41|[0, 0, -15, 25, 2...|[[8.274, 'TL Quas...|[[19.941, 'BOT_LA...|                  []|                  []|          [[37.513]]|      []|[2415, 2415, 2720...|[[7.768, 'TIP Rus...|[[36.384, 'MID_LA...|[[35.867, 'MID_LA...|[[26.274, None], ...|                  []|      []|     0|        2712|         5|         5|\n",
            "|      1|      0|        35|[40, 40, 44, -36,...|[[11.438, 'T8 Dod...|[[22.594, 'MID_LA...|[[34.069, 'BOT_LA...|[[14.589, None], ...|          [[32.556]]|      []|[2375, 2375, 2666...|[[11.988, 'CLG Do...|[[11.644, 'MID_LA...|                  []|    [[21.901, None]]|                  []|      []|     1|        -730|         1|         1|\n",
            "|      0|      1|        24|[0, 0, 20, -42, -...|[[11.143, 'TIP Ad...|                  []|                  []|                  []|                  []|      []|[2415, 2415, 2705...|[[12.216, 'DIG Ki...|[[17.977, 'TOP_LA...|[[20.869, 'MID_LA...|[[15.73, None], [...|                  []|      []|     0|        -557|         1|         0|\n",
            "|      1|      0|        39|[0, 13, -7, 6, -3...|[[7.242, 'WFX Fla...|[[24.494, 'TOP_LA...|[[35.782, 'BOT_LA...|[[36.126, None], ...|          [[28.745]]|      []|[2415, 2420, 2741...|[[5.866, 'CST Imp...|[[13.891, 'TOP_LA...|                  []|[[9.321, None], [...|                  []|      []|     1|        2252|         6|         1|\n",
            "|      1|      0|        43|[0, 0, 26, 91, -1...|[[4.413, 'CLG Xmi...|[[14.046, 'MID_LA...|[[41.77, 'BOT_LAN...|[[11.316, None], ...|[[31.577], [39.029]]|      []|[2415, 2415, 2705...|[[17.48, 'TL Feni...|[[27.121, 'BOT_LA...|                  []|[[32.204, None], ...|                  []|      []|     1|        1110|         8|         4|\n",
            "|      0|      1|        41|[0, -10, 0, 162, ...|[[7.593, 'GV Sain...|[[24.108, 'TOP_LA...|                  []|                  []|          [[21.657]]|      []|[2415, 2425, 2721...|[[3.429, 'C9 Ball...|[[22.167, 'BOT_LA...|[[33.079, 'MID_LA...|[[22.465, None], ...|          [[32.145]]|      []|     0|        1908|         6|        10|\n",
            "|      1|      0|        32|[0, 0, 0, 68, 498...|[[3.652, 'TSM Dyr...|[[19.95, 'BOT_LAN...|[[26.337, 'MID_LA...|    [[19.537, None]]|          [[27.532]]|      []|[2415, 2415, 2711...|[[11.625, 'T8 Por...|[[19.558, 'TOP_LA...|                  []|    [[26.965, None]]|                  []|      []|     1|        -183|         2|         2|\n",
            "|      1|      0|        52|[0, -10, -15, -27...|[[20.55, 'DIG Cru...|[[15.531, 'TOP_LA...|[[46.475, 'MID_LA...|[[39.705, None], ...|          [[48.915]]|      []|[2415, 2425, 2731...|[[22.492, 'GV Kea...|[[29.936, 'BOT_LA...|                  []|    [[13.393, None]]|                  []|      []|     1|        5156|         2|         1|\n",
            "|      1|      0|        46|[0, 0, 15, -91, -...|[[6.213, 'CST Cri...|[[37.651, 'MID_LA...|[[37.707, 'MID_LA...|    [[38.076, None]]|          [[28.332]]|      []|[2415, 2415, 2705...|[[6.611, 'T8 Sloo...|[[21.116, 'TOP_LA...|[[39.355, 'TOP_LA...|[[12.099, None], ...|          [[39.788]]|      []|     1|       -1845|         5|         5|\n",
            "|      1|      0|        38|[40, 40, 56, 30, ...|[[13.371, 'TL Xpe...|[[14.38, 'BOT_LAN...|[[36.495, 'MID_LA...|[[24.216, None], ...|[[35.751], [28.563]]|      []|[2375, 2375, 2670...|[[17.257, 'C9 Hai...|[[31.288, 'MID_LA...|                  []|                  []|                  []|      []|     1|        2789|         3|         1|\n",
            "|      0|      1|        31|[0, 0, 6, -532, -...|[[3.853, 'CLG Zio...|[[21.955, 'BOT_LA...|                  []|     [[4.656, None]]|                  []|      []|[2415, 2415, 2710...|[[2.547, 'TIP Imp...|[[24.232, 'TOP_LA...|[[25.299, 'TOP_LA...|[[19.08, None], [...|          [[27.243]]|      []|     0|       -2971|         3|         4|\n",
            "|      1|      0|        33|[0, 0, 0, 708, 46...|[[2.601, 'WFX Pob...|[[13.042, 'BOT_LA...|[[27.398, 'BOT_LA...|[[13.488, None], ...|          [[25.352]]|      []|[2415, 2415, 2716...|[[3.778, 'TSM Lus...|[[15.744, 'BOT_LA...|                  []|                  []|                  []|      []|     1|        3370|         5|         2|\n",
            "|      1|      0|        38|[0, 0, 0, 101, 28...|[[10.155, 'C9 Hai...|[[22.656, 'TOP_LA...|[[34.501, 'MID_LA...|[[24.303, None], ...|                  []|      []|[2415, 2415, 2711...|[[13.878, 'CLG Xm...|[[14.43, 'TOP_LAN...|                  []|                  []|                  []|      []|     1|        3788|         2|         1|\n",
            "|      0|      1|        40|[0, 10, -7, 78, 7...|[[26.576, 'WFX Po...|[[12.985, 'BOT_LA...|                  []|                  []|                  []|      []|[2415, 2415, 2738...|[[10.164, 'DIG Sh...|[[30.583, 'TOP_LA...|[[37.275, 'MID_LA...|[[28.754, None], ...|[[36.139], [26.788]]|      []|     0|       -3127|         0|         5|\n",
            "|      1|      0|        39|[0, 0, 0, -230, -...|[[12.101, 'TL Fen...|[[11.018, 'BOT_LA...|[[36.233, 'MID_LA...|[[14.868, None], ...|          [[31.889]]|      []|[2415, 2415, 2716...|[[38.476, 'TSM Wi...|[[11.073, 'TOP_LA...|                  []|     [[8.246, None]]|                  []|      []|     1|        2310|         1|         0|\n",
            "|      1|      0|        40|[0, 15, 35, 8, -1...|[[5.773, 'T8 Sloo...|[[13.393, 'TOP_LA...|[[39.355, 'MID_LA...|[[26.959, None], ...|                  []|      []|[2415, 2415, 2711...|[[15.969, 'TIP Ru...|[[16.225, 'BOT_LA...|[[34.423, 'BOT_LA...|[[13.617, None], ...|          [[31.408]]|      []|     1|        3259|         2|         1|\n",
            "|      0|      1|        39|[0, 0, 26, -26, -...|[[15.172, 'GV Sai...|[[24.471, 'TOP_LA...|                  []|    [[21.822, None]]|                  []|      []|[2415, 2415, 2710...|[[6.876, 'CST Mas...|[[19.211, 'MID_LA...|[[38.565, 'TOP_LA...|[[34.958, None], ...|          [[36.047]]|      []|     0|         730|         3|         3|\n",
            "+-------+-------+----------+--------------------+--------------------+--------------------+--------------------+--------------------+--------------------+--------+--------------------+--------------------+--------------------+--------------------+--------------------+--------------------+--------+------+------------+----------+----------+\n",
            "only showing top 20 rows\n",
            "\n"
          ],
          "name": "stdout"
        }
      ]
    },
    {
      "cell_type": "markdown",
      "metadata": {
        "id": "c4R10X9Zpceb"
      },
      "source": [
        ""
      ]
    },
    {
      "cell_type": "code",
      "metadata": {
        "id": "4Kzf1sjzlC5Q"
      },
      "source": [
        "def midCountObj(obj, gamelength):\n",
        "  obj_lists = ast.literal_eval(obj)\n",
        "  obj_lists = list(filter(None, obj_lists))\n",
        "  mid_time = float(gamelength) / 2\n",
        "\n",
        "  count = 0\n",
        "  for obj in obj_lists:\n",
        "    if obj[0] <= mid_time:\n",
        "      count += 1\n",
        "\n",
        "  return count \n",
        "\n",
        "udf_midCountObj = f.udf(midCountObj, types.StringType())    "
      ],
      "execution_count": null,
      "outputs": []
    },
    {
      "cell_type": "code",
      "metadata": {
        "colab": {
          "base_uri": "https://localhost:8080/"
        },
        "id": "ZazagvBsoN02",
        "outputId": "0b7ab6fd-1956-4970-8660-d3b00800c2cf"
      },
      "source": [
        "mid_df = mid_df.withColumn('bTowerCount', udf_midCountObj(f.col('bTowers'),f.col('gamelength')))\\\n",
        "         .withColumn('rTowerCount', udf_midCountObj(f.col('rTowers'), f.col('gamelength')))\\\n",
        "         .withColumn('first_tower', udf_firstObj(f.col('bTowers'), f.col('rTowers')))\\\n",
        "         .withColumn('bInhibCount', udf_midCountObj(f.col('bInhibs'),f.col('gamelength')))\\\n",
        "         .withColumn('rInhibCount', udf_midCountObj(f.col('rInhibs'),f.col('gamelength')))\\\n",
        "         .withColumn('first_inhib', udf_firstObj(f.col('bInhibs'), f.col('rInhibs')))\\\n",
        "         .withColumn('bDragonCount', udf_midCountObj(f.col('bDragons'),f.col('gamelength')))\\\n",
        "         .withColumn('rDragonCount', udf_midCountObj(f.col('rDragons'),f.col('gamelength')))\\\n",
        "         .withColumn('first_dragon', udf_firstObj(f.col('bDragons'), f.col('rDragons')))\\\n",
        "         .withColumn('bBaronCount', udf_midCountObj(f.col('bBarons'),f.col('gamelength')))\\\n",
        "         .withColumn('rBaronCount', udf_midCountObj(f.col('rBarons'),f.col('gamelength')))\\\n",
        "         .withColumn('first_baron', udf_firstObj(f.col('bBarons'), f.col('rBarons')))\n",
        "\n",
        "\n",
        "mid_df.show()    "
      ],
      "execution_count": null,
      "outputs": [
        {
          "output_type": "stream",
          "text": [
            "+-------+-------+----------+--------------------+--------------------+--------------------+--------------------+--------------------+--------------------+--------+--------------------+--------------------+--------------------+--------------------+--------------------+--------------------+--------+------+------------+----------+----------+-----------+-----------+-----------+-----------+-----------+-----------+------------+------------+------------+-----------+-----------+-----------+\n",
            "|bResult|rResult|gamelength|            golddiff|              bKills|             bTowers|             bInhibs|            bDragons|             bBarons|bHeralds|             goldred|              rKills|             rTowers|             rInhibs|            rDragons|             rBarons|rHeralds|winner|mid_golddiff|bKillCount|rKillCount|bTowerCount|rTowerCount|first_tower|bInhibCount|rInhibCount|first_inhib|bDragonCount|rDragonCount|first_dragon|bBaronCount|rBaronCount|first_baron|\n",
            "+-------+-------+----------+--------------------+--------------------+--------------------+--------------------+--------------------+--------------------+--------+--------------------+--------------------+--------------------+--------------------+--------------------+--------------------+--------+------+------------+----------+----------+-----------+-----------+-----------+-----------+-----------+-----------+------------+------------+------------+-----------+-----------+-----------+\n",
            "|      1|      0|        40|[0, 0, -14, -65, ...|[[10.82, 'C9 Hai'...|[[27.542, 'MID_LA...|[[36.686, 'MID_LA...|    [[37.267, None]]|                  []|      []|[2415, 2415, 2725...|[[16.529, 'TSM Lu...|[[39.23, 'TOP_LAN...|                  []|[[17.14, None], [...|          [[29.954]]|      []|     1|        1422|         4|         3|          4|          2|          1|          0|          0|          1|           0|           1|           0|          0|          0|          0|\n",
            "|      0|      1|        38|[0, 0, -26, -18, ...|[[11.104, 'DIG Sh...|[[23.239, 'BOT_LA...|                  []|[[32.545, None], ...|          [[29.255]]|      []|[2415, 2415, 2731...|[[12.387, 'CST Je...|[[19.257, 'MID_LA...|[[36.813, 'MID_LA...|    [[12.264, None]]|                  []|      []|     0|        1368|         5|         3|          1|          1|          0|          0|          0|          0|           0|           1|           0|          0|          0|          1|\n",
            "|      1|      0|        40|[0, 0, 10, -60, 3...|[[5.255, 'GV Kean...|[[15.045, 'BOT_LA...|[[37.511, 'TOP_LA...|[[24.577, None], ...|          [[35.144]]|      []|[2415, 2415, 2716...|[[8.449, 'WFX Alt...|[[24.62, 'MID_LAN...|                  []|                  []|                  []|      []|     1|        5293|        11|         6|          3|          0|          1|          0|          0|          1|           1|           0|           1|          0|          0|          1|\n",
            "|      0|      1|        41|[0, 0, -15, 25, 2...|[[8.274, 'TL Quas...|[[19.941, 'BOT_LA...|                  []|                  []|          [[37.513]]|      []|[2415, 2415, 2720...|[[7.768, 'TIP Rus...|[[36.384, 'MID_LA...|[[35.867, 'MID_LA...|[[26.274, None], ...|                  []|      []|     0|        2712|         5|         5|          2|          1|          1|          0|          0|          0|           0|           2|           0|          0|          0|          1|\n",
            "|      1|      0|        35|[40, 40, 44, -36,...|[[11.438, 'T8 Dod...|[[22.594, 'MID_LA...|[[34.069, 'BOT_LA...|[[14.589, None], ...|          [[32.556]]|      []|[2375, 2375, 2666...|[[11.988, 'CLG Do...|[[11.644, 'MID_LA...|                  []|    [[21.901, None]]|                  []|      []|     1|        -730|         1|         1|          1|          3|          0|          0|          0|          1|           1|           0|           1|          0|          0|          1|\n",
            "|      0|      1|        24|[0, 0, 20, -42, -...|[[11.143, 'TIP Ad...|                  []|                  []|                  []|                  []|      []|[2415, 2415, 2705...|[[12.216, 'DIG Ki...|[[17.977, 'TOP_LA...|[[20.869, 'MID_LA...|[[15.73, None], [...|                  []|      []|     0|        -557|         1|         0|          0|          0|          0|          0|          0|          0|           0|           1|           0|          0|          0|         -1|\n",
            "|      1|      0|        39|[0, 13, -7, 6, -3...|[[7.242, 'WFX Fla...|[[24.494, 'TOP_LA...|[[35.782, 'BOT_LA...|[[36.126, None], ...|          [[28.745]]|      []|[2415, 2420, 2741...|[[5.866, 'CST Imp...|[[13.891, 'TOP_LA...|                  []|[[9.321, None], [...|                  []|      []|     1|        2252|         6|         1|          2|          2|          0|          0|          0|          1|           1|           1|           0|          0|          0|          1|\n",
            "|      1|      0|        43|[0, 0, 26, 91, -1...|[[4.413, 'CLG Xmi...|[[14.046, 'MID_LA...|[[41.77, 'BOT_LAN...|[[11.316, None], ...|[[31.577], [39.029]]|      []|[2415, 2415, 2705...|[[17.48, 'TL Feni...|[[27.121, 'BOT_LA...|                  []|[[32.204, None], ...|                  []|      []|     1|        1110|         8|         4|          2|          3|          1|          0|          0|          1|           2|           0|           1|          0|          0|          1|\n",
            "|      0|      1|        41|[0, -10, 0, 162, ...|[[7.593, 'GV Sain...|[[24.108, 'TOP_LA...|                  []|                  []|          [[21.657]]|      []|[2415, 2425, 2721...|[[3.429, 'C9 Ball...|[[22.167, 'BOT_LA...|[[33.079, 'MID_LA...|[[22.465, None], ...|          [[32.145]]|      []|     0|        1908|         6|        10|          3|          1|          0|          0|          0|          0|           0|           1|           0|          0|          0|          1|\n",
            "|      1|      0|        32|[0, 0, 0, 68, 498...|[[3.652, 'TSM Dyr...|[[19.95, 'BOT_LAN...|[[26.337, 'MID_LA...|    [[19.537, None]]|          [[27.532]]|      []|[2415, 2415, 2711...|[[11.625, 'T8 Por...|[[19.558, 'TOP_LA...|                  []|    [[26.965, None]]|                  []|      []|     1|        -183|         2|         2|          1|          0|          0|          0|          0|          1|           0|           0|           1|          0|          0|          1|\n",
            "|      1|      0|        52|[0, -10, -15, -27...|[[20.55, 'DIG Cru...|[[15.531, 'TOP_LA...|[[46.475, 'MID_LA...|[[39.705, None], ...|          [[48.915]]|      []|[2415, 2425, 2731...|[[22.492, 'GV Kea...|[[29.936, 'BOT_LA...|                  []|    [[13.393, None]]|                  []|      []|     1|        5156|         2|         1|          3|          2|          1|          0|          0|          1|           1|           1|           0|          0|          0|          1|\n",
            "|      1|      0|        46|[0, 0, 15, -91, -...|[[6.213, 'CST Cri...|[[37.651, 'MID_LA...|[[37.707, 'MID_LA...|    [[38.076, None]]|          [[28.332]]|      []|[2415, 2415, 2705...|[[6.611, 'T8 Sloo...|[[21.116, 'TOP_LA...|[[39.355, 'TOP_LA...|[[12.099, None], ...|          [[39.788]]|      []|     1|       -1845|         5|         5|          2|          4|          0|          0|          0|          1|           0|           2|           0|          0|          0|          1|\n",
            "|      1|      0|        38|[40, 40, 56, 30, ...|[[13.371, 'TL Xpe...|[[14.38, 'BOT_LAN...|[[36.495, 'MID_LA...|[[24.216, None], ...|[[35.751], [28.563]]|      []|[2375, 2375, 2670...|[[17.257, 'C9 Hai...|[[31.288, 'MID_LA...|                  []|                  []|                  []|      []|     1|        2789|         3|         1|          3|          1|          1|          0|          0|          1|           2|           0|           1|          0|          0|          1|\n",
            "|      0|      1|        31|[0, 0, 6, -532, -...|[[3.853, 'CLG Zio...|[[21.955, 'BOT_LA...|                  []|     [[4.656, None]]|                  []|      []|[2415, 2415, 2710...|[[2.547, 'TIP Imp...|[[24.232, 'TOP_LA...|[[25.299, 'TOP_LA...|[[19.08, None], [...|          [[27.243]]|      []|     0|       -2971|         3|         4|          0|          3|          1|          0|          0|          0|           1|           1|           1|          0|          0|          0|\n",
            "|      1|      0|        33|[0, 0, 0, 708, 46...|[[2.601, 'WFX Pob...|[[13.042, 'BOT_LA...|[[27.398, 'BOT_LA...|[[13.488, None], ...|          [[25.352]]|      []|[2415, 2415, 2716...|[[3.778, 'TSM Lus...|[[15.744, 'BOT_LA...|                  []|                  []|                  []|      []|     1|        3370|         5|         2|          3|          2|          1|          0|          0|          1|           1|           0|           1|          0|          0|          1|\n",
            "|      1|      0|        38|[0, 0, 0, 101, 28...|[[10.155, 'C9 Hai...|[[22.656, 'TOP_LA...|[[34.501, 'MID_LA...|[[24.303, None], ...|                  []|      []|[2415, 2415, 2711...|[[13.878, 'CLG Xm...|[[14.43, 'TOP_LAN...|                  []|                  []|                  []|      []|     1|        3788|         2|         1|          4|          1|          0|          0|          0|          1|           2|           0|           1|          0|          0|         -1|\n",
            "|      0|      1|        40|[0, 10, -7, 78, 7...|[[26.576, 'WFX Po...|[[12.985, 'BOT_LA...|                  []|                  []|                  []|      []|[2415, 2415, 2738...|[[10.164, 'DIG Sh...|[[30.583, 'TOP_LA...|[[37.275, 'MID_LA...|[[28.754, None], ...|[[36.139], [26.788]]|      []|     0|       -3127|         0|         5|          3|          4|          1|          0|          0|          0|           0|           2|           0|          0|          0|          0|\n",
            "|      1|      0|        39|[0, 0, 0, -230, -...|[[12.101, 'TL Fen...|[[11.018, 'BOT_LA...|[[36.233, 'MID_LA...|[[14.868, None], ...|          [[31.889]]|      []|[2415, 2415, 2716...|[[38.476, 'TSM Wi...|[[11.073, 'TOP_LA...|                  []|     [[8.246, None]]|                  []|      []|     1|        2310|         1|         0|          3|          2|          1|          0|          0|          1|           1|           1|           0|          0|          0|          1|\n",
            "|      1|      0|        40|[0, 15, 35, 8, -1...|[[5.773, 'T8 Sloo...|[[13.393, 'TOP_LA...|[[39.355, 'MID_LA...|[[26.959, None], ...|                  []|      []|[2415, 2415, 2711...|[[15.969, 'TIP Ru...|[[16.225, 'BOT_LA...|[[34.423, 'BOT_LA...|[[13.617, None], ...|          [[31.408]]|      []|     1|        3259|         2|         1|          3|          1|          1|          0|          0|          0|           1|           1|           0|          0|          0|          0|\n",
            "|      0|      1|        39|[0, 0, 26, -26, -...|[[15.172, 'GV Sai...|[[24.471, 'TOP_LA...|                  []|    [[21.822, None]]|                  []|      []|[2415, 2415, 2710...|[[6.876, 'CST Mas...|[[19.211, 'MID_LA...|[[38.565, 'TOP_LA...|[[34.958, None], ...|          [[36.047]]|      []|     0|         730|         3|         3|          3|          2|          0|          0|          0|          0|           0|           1|           1|          0|          0|          0|\n",
            "+-------+-------+----------+--------------------+--------------------+--------------------+--------------------+--------------------+--------------------+--------+--------------------+--------------------+--------------------+--------------------+--------------------+--------------------+--------+------+------------+----------+----------+-----------+-----------+-----------+-----------+-----------+-----------+------------+------------+------------+-----------+-----------+-----------+\n",
            "only showing top 20 rows\n",
            "\n"
          ],
          "name": "stdout"
        }
      ]
    },
    {
      "cell_type": "code",
      "metadata": {
        "colab": {
          "base_uri": "https://localhost:8080/"
        },
        "id": "tn0jGcxdqrMF",
        "outputId": "2b06c768-b4a0-44d8-ad8a-3943b4fbbd66"
      },
      "source": [
        "mid_model_df = mid_df.select('winner', 'mid_golddiff', 'bKillCount', 'rKillCount', \\\n",
        "                         'first_blood', 'bTowerCount', 'rTowerCount', 'first_tower',\\\n",
        "                         'bInhibCount', 'rInhibCount', 'first_inhib', 'bDragonCount', \\\n",
        "                         'rDragonCount', 'first_dragon', 'bBaronCount', 'rBaronCount', \\\n",
        "                         'first_baron')\n",
        "mid_model_df.printSchema()"
      ],
      "execution_count": null,
      "outputs": [
        {
          "output_type": "stream",
          "text": [
            "root\n",
            " |-- winner: integer (nullable = true)\n",
            " |-- mid_golddiff: string (nullable = true)\n",
            " |-- bKillCount: string (nullable = true)\n",
            " |-- rKillCount: string (nullable = true)\n",
            " |-- first_blood: string (nullable = true)\n",
            " |-- bTowerCount: string (nullable = true)\n",
            " |-- rTowerCount: string (nullable = true)\n",
            " |-- first_tower: string (nullable = true)\n",
            " |-- bInhibCount: string (nullable = true)\n",
            " |-- rInhibCount: string (nullable = true)\n",
            " |-- first_inhib: string (nullable = true)\n",
            " |-- bDragonCount: string (nullable = true)\n",
            " |-- rDragonCount: string (nullable = true)\n",
            " |-- first_dragon: string (nullable = true)\n",
            " |-- bBaronCount: string (nullable = true)\n",
            " |-- rBaronCount: string (nullable = true)\n",
            " |-- first_baron: string (nullable = true)\n",
            "\n"
          ],
          "name": "stdout"
        }
      ]
    },
    {
      "cell_type": "code",
      "metadata": {
        "id": "ZkE42CP5pe7b"
      },
      "source": [
        "file_dir = os.path.join(os.getcwd(), 'mid_model_features')\n",
        "\n",
        "mid_model_df.write.format('csv').option('header', False)\\\n",
        ".mode('overwrite').save(file_dir)"
      ],
      "execution_count": null,
      "outputs": []
    }
  ]
}