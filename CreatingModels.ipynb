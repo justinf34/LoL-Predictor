{
  "nbformat": 4,
  "nbformat_minor": 0,
  "metadata": {
    "accelerator": "GPU",
    "colab": {
      "name": "CreatingModels.ipynb",
      "provenance": [],
      "collapsed_sections": [
        "REuMuDXmgxKN",
        "tXC5m3WgIEwi"
      ],
      "authorship_tag": "ABX9TyNJrqkPq2+7k8mjKznIlKy5",
      "include_colab_link": true
    },
    "kernelspec": {
      "display_name": "Python 3",
      "name": "python3"
    }
  },
  "cells": [
    {
      "cell_type": "markdown",
      "metadata": {
        "id": "view-in-github",
        "colab_type": "text"
      },
      "source": [
        "<a href=\"https://colab.research.google.com/github/justinf34/SENG550-Project/blob/main/CreatingModels.ipynb\" target=\"_parent\"><img src=\"https://colab.research.google.com/assets/colab-badge.svg\" alt=\"Open In Colab\"/></a>"
      ]
    },
    {
      "cell_type": "markdown",
      "metadata": {
        "id": "T7ELzLQ4Ts1i"
      },
      "source": [
        "## Setting up Colab"
      ]
    },
    {
      "cell_type": "code",
      "metadata": {
        "colab": {
          "base_uri": "https://localhost:8080/"
        },
        "id": "brTz6FTVSCAD",
        "outputId": "53787a34-d477-4a47-ae69-8ec5f4a8982e"
      },
      "source": [
        "from google.colab import drive\n",
        "drive.mount('/content/drive')"
      ],
      "execution_count": null,
      "outputs": [
        {
          "output_type": "stream",
          "text": [
            "Mounted at /content/drive\n"
          ],
          "name": "stdout"
        }
      ]
    },
    {
      "cell_type": "code",
      "metadata": {
        "colab": {
          "base_uri": "https://localhost:8080/"
        },
        "id": "1L7iwuZVS7Re",
        "outputId": "ddccd20f-53f4-4bd6-9e90-72660e8ee908"
      },
      "source": [
        "import os\n",
        "os.chdir('drive/MyDrive/Colab Notebooks/SENG550/dataset/') # Chaging to dataset dir\n",
        "print(os.listdir())"
      ],
      "execution_count": null,
      "outputs": [
        {
          "output_type": "stream",
          "text": [
            "['LeagueofLegends.csv', 'gold.csv', '_columns.csv', 'bans.csv', 'kills.csv', 'monsters.csv', 'structures.csv', 'matchinfo.csv', 'Reference-Dataset', 'model_features', 'mid_model_features', 'mid_model_features_wh', 'mid_model_features_wh2', 'CV_LR_Model', 'LR_Model', 'RF_Model', 'CV_DT_Model', 'DT_Model']\n"
          ],
          "name": "stdout"
        }
      ]
    },
    {
      "cell_type": "code",
      "metadata": {
        "colab": {
          "base_uri": "https://localhost:8080/"
        },
        "id": "AnjcaEmuTaCU",
        "outputId": "e7be8df5-81cc-4cdc-99df-623b0bea54c4"
      },
      "source": [
        "!pip install pyspark handyspark"
      ],
      "execution_count": null,
      "outputs": [
        {
          "output_type": "stream",
          "text": [
            "Collecting pyspark\n",
            "\u001b[?25l  Downloading https://files.pythonhosted.org/packages/f0/26/198fc8c0b98580f617cb03cb298c6056587b8f0447e20fa40c5b634ced77/pyspark-3.0.1.tar.gz (204.2MB)\n",
            "\u001b[K     |████████████████████████████████| 204.2MB 79kB/s \n",
            "\u001b[?25hCollecting handyspark\n",
            "  Downloading https://files.pythonhosted.org/packages/87/8a/2ff2c58c219a680f5cbe8a2ed2eb20bc5126a587c47896339f927934a7c3/handyspark-0.2.2a1-py2.py3-none-any.whl\n",
            "Collecting py4j==0.10.9\n",
            "\u001b[?25l  Downloading https://files.pythonhosted.org/packages/9e/b6/6a4fb90cd235dc8e265a6a2067f2a2c99f0d91787f06aca4bcf7c23f3f80/py4j-0.10.9-py2.py3-none-any.whl (198kB)\n",
            "\u001b[K     |████████████████████████████████| 204kB 60.5MB/s \n",
            "\u001b[?25hRequirement already satisfied: seaborn in /usr/local/lib/python3.6/dist-packages (from handyspark) (0.11.0)\n",
            "Requirement already satisfied: pandas in /usr/local/lib/python3.6/dist-packages (from handyspark) (1.1.5)\n",
            "Requirement already satisfied: pyarrow in /usr/local/lib/python3.6/dist-packages (from handyspark) (0.14.1)\n",
            "Requirement already satisfied: scikit-learn in /usr/local/lib/python3.6/dist-packages (from handyspark) (0.22.2.post1)\n",
            "Requirement already satisfied: numpy in /usr/local/lib/python3.6/dist-packages (from handyspark) (1.19.4)\n",
            "Requirement already satisfied: scipy in /usr/local/lib/python3.6/dist-packages (from handyspark) (1.4.1)\n",
            "Requirement already satisfied: matplotlib in /usr/local/lib/python3.6/dist-packages (from handyspark) (3.2.2)\n",
            "Collecting findspark\n",
            "  Downloading https://files.pythonhosted.org/packages/fc/2d/2e39f9a023479ea798eed4351cd66f163ce61e00c717e03c37109f00c0f2/findspark-1.4.2-py2.py3-none-any.whl\n",
            "Requirement already satisfied: pytz>=2017.2 in /usr/local/lib/python3.6/dist-packages (from pandas->handyspark) (2018.9)\n",
            "Requirement already satisfied: python-dateutil>=2.7.3 in /usr/local/lib/python3.6/dist-packages (from pandas->handyspark) (2.8.1)\n",
            "Requirement already satisfied: six>=1.0.0 in /usr/local/lib/python3.6/dist-packages (from pyarrow->handyspark) (1.15.0)\n",
            "Requirement already satisfied: joblib>=0.11 in /usr/local/lib/python3.6/dist-packages (from scikit-learn->handyspark) (1.0.0)\n",
            "Requirement already satisfied: kiwisolver>=1.0.1 in /usr/local/lib/python3.6/dist-packages (from matplotlib->handyspark) (1.3.1)\n",
            "Requirement already satisfied: cycler>=0.10 in /usr/local/lib/python3.6/dist-packages (from matplotlib->handyspark) (0.10.0)\n",
            "Requirement already satisfied: pyparsing!=2.0.4,!=2.1.2,!=2.1.6,>=2.0.1 in /usr/local/lib/python3.6/dist-packages (from matplotlib->handyspark) (2.4.7)\n",
            "Building wheels for collected packages: pyspark\n",
            "  Building wheel for pyspark (setup.py) ... \u001b[?25l\u001b[?25hdone\n",
            "  Created wheel for pyspark: filename=pyspark-3.0.1-py2.py3-none-any.whl size=204612242 sha256=fefdbf208d2503e2166bf615a65392150a7755f2a7afd7026d4927f623f27ed0\n",
            "  Stored in directory: /root/.cache/pip/wheels/5e/bd/07/031766ca628adec8435bb40f0bd83bb676ce65ff4007f8e73f\n",
            "Successfully built pyspark\n",
            "Installing collected packages: py4j, pyspark, findspark, handyspark\n",
            "Successfully installed findspark-1.4.2 handyspark-0.2.2a1 py4j-0.10.9 pyspark-3.0.1\n"
          ],
          "name": "stdout"
        }
      ]
    },
    {
      "cell_type": "markdown",
      "metadata": {
        "id": "AohO2tfSTz-T"
      },
      "source": [
        "# Model Creation"
      ]
    },
    {
      "cell_type": "code",
      "metadata": {
        "id": "0K3nwPM-lSXf"
      },
      "source": [
        "# Setting up Spark context using SparkSession\n",
        "import pyspark\n",
        "from pyspark.sql import SparkSession\n",
        "\n",
        "spark = SparkSession.builder.appName('predictor-models').master(\"local[*]\").getOrCreate()"
      ],
      "execution_count": null,
      "outputs": []
    },
    {
      "cell_type": "markdown",
      "metadata": {
        "id": "bbncX27boHqq"
      },
      "source": [
        "### Loading the Data"
      ]
    },
    {
      "cell_type": "code",
      "metadata": {
        "colab": {
          "base_uri": "https://localhost:8080/"
        },
        "id": "0ign3jhtmoot",
        "outputId": "e46135f4-547f-42b9-b963-963faefbda15"
      },
      "source": [
        "mid_df = spark.read.csv('./mid_model_features_wh2/part-*.csv', header=True, inferSchema=True)\n",
        "mid_df.printSchema()"
      ],
      "execution_count": null,
      "outputs": [
        {
          "output_type": "stream",
          "text": [
            "root\n",
            " |-- winner: string (nullable = true)\n",
            " |-- mid_golddiff: integer (nullable = true)\n",
            " |-- bKillCount: integer (nullable = true)\n",
            " |-- rKillCount: integer (nullable = true)\n",
            " |-- first_blood: string (nullable = true)\n",
            " |-- bTowerCount: integer (nullable = true)\n",
            " |-- rTowerCount: integer (nullable = true)\n",
            " |-- first_tower: string (nullable = true)\n",
            " |-- bInhibCount: integer (nullable = true)\n",
            " |-- rInhibCount: integer (nullable = true)\n",
            " |-- first_inhib: string (nullable = true)\n",
            " |-- bDragonCount: integer (nullable = true)\n",
            " |-- rDragonCount: integer (nullable = true)\n",
            " |-- first_dragon: string (nullable = true)\n",
            " |-- bBaronCount: integer (nullable = true)\n",
            " |-- rBaronCount: integer (nullable = true)\n",
            " |-- first_baron: string (nullable = true)\n",
            "\n"
          ],
          "name": "stdout"
        }
      ]
    },
    {
      "cell_type": "markdown",
      "metadata": {
        "id": "XBnhF-PCrYVK"
      },
      "source": [
        "**Features:**\n",
        "\n",
        "- `mid_goldiff`: This is be the difference between the gold in each team. Computed by Blue(1) - Red(0) gold.\n",
        "- `bKillCount`: The number of kills that the Blue side has.\n",
        "- `rKillCount`: The number of kills that the Red side has.\n",
        "- `first_blood`: Which team got the first kills of the game.\n",
        "- `bTowerCount`: The number of towers that the Blue side knocked down.\n",
        "- `rTowerCount`: The number of towers that the Red side knocked down.\n",
        "- `first_tower`: Which team knocked down the first tower of the game.\n",
        "- `bInhibCount`: The number of inhibitors that the Blue side knocked down.\n",
        "- `rInhibCount`: The number of inhibitors that the Red side knocked down.\n",
        "- `first_inhib`: Which team knocked down the first inhibitor of the game.\n",
        "- `bDragonCount`: The number of dragons that the Blue side has.\n",
        "- `rDragonCount`: The number of dragons that the Red side has.\n",
        "- `first_dragon`: Which team got the first dragon of the game.\n",
        "- `bBaronCount`: The number of barons that the Blue side has.\n",
        "- `rBaronCount`: The number of barons that the Red side has.\n",
        "- `first_baron`: Which team got the first baron of the game\n",
        "\n",
        "**Label:**\n",
        "\n",
        "- `winner`: Indicates which team won the match\n",
        "\n"
      ]
    },
    {
      "cell_type": "markdown",
      "metadata": {
        "id": "hl587_uKuEDk"
      },
      "source": [
        "Looking at the first 5 matches in our dataset"
      ]
    },
    {
      "cell_type": "code",
      "metadata": {
        "colab": {
          "base_uri": "https://localhost:8080/",
          "height": 576
        },
        "id": "9npCWeqOp9l3",
        "outputId": "db7ec80c-70a0-413c-f511-79a05991cf9b"
      },
      "source": [
        "import pandas as pd\n",
        "pd.DataFrame(mid_df.take(5), columns=mid_df.columns).transpose()"
      ],
      "execution_count": null,
      "outputs": [
        {
          "output_type": "execute_result",
          "data": {
            "text/html": [
              "<div>\n",
              "<style scoped>\n",
              "    .dataframe tbody tr th:only-of-type {\n",
              "        vertical-align: middle;\n",
              "    }\n",
              "\n",
              "    .dataframe tbody tr th {\n",
              "        vertical-align: top;\n",
              "    }\n",
              "\n",
              "    .dataframe thead th {\n",
              "        text-align: right;\n",
              "    }\n",
              "</style>\n",
              "<table border=\"1\" class=\"dataframe\">\n",
              "  <thead>\n",
              "    <tr style=\"text-align: right;\">\n",
              "      <th></th>\n",
              "      <th>0</th>\n",
              "      <th>1</th>\n",
              "      <th>2</th>\n",
              "      <th>3</th>\n",
              "      <th>4</th>\n",
              "    </tr>\n",
              "  </thead>\n",
              "  <tbody>\n",
              "    <tr>\n",
              "      <th>winner</th>\n",
              "      <td>Blue</td>\n",
              "      <td>Red</td>\n",
              "      <td>Blue</td>\n",
              "      <td>Red</td>\n",
              "      <td>Blue</td>\n",
              "    </tr>\n",
              "    <tr>\n",
              "      <th>mid_golddiff</th>\n",
              "      <td>1422</td>\n",
              "      <td>1368</td>\n",
              "      <td>5293</td>\n",
              "      <td>2712</td>\n",
              "      <td>-730</td>\n",
              "    </tr>\n",
              "    <tr>\n",
              "      <th>bKillCount</th>\n",
              "      <td>4</td>\n",
              "      <td>5</td>\n",
              "      <td>11</td>\n",
              "      <td>5</td>\n",
              "      <td>1</td>\n",
              "    </tr>\n",
              "    <tr>\n",
              "      <th>rKillCount</th>\n",
              "      <td>3</td>\n",
              "      <td>3</td>\n",
              "      <td>6</td>\n",
              "      <td>5</td>\n",
              "      <td>1</td>\n",
              "    </tr>\n",
              "    <tr>\n",
              "      <th>first_blood</th>\n",
              "      <td>Blue</td>\n",
              "      <td>Blue</td>\n",
              "      <td>Blue</td>\n",
              "      <td>Red</td>\n",
              "      <td>Blue</td>\n",
              "    </tr>\n",
              "    <tr>\n",
              "      <th>bTowerCount</th>\n",
              "      <td>4</td>\n",
              "      <td>1</td>\n",
              "      <td>3</td>\n",
              "      <td>2</td>\n",
              "      <td>1</td>\n",
              "    </tr>\n",
              "    <tr>\n",
              "      <th>rTowerCount</th>\n",
              "      <td>2</td>\n",
              "      <td>1</td>\n",
              "      <td>0</td>\n",
              "      <td>1</td>\n",
              "      <td>3</td>\n",
              "    </tr>\n",
              "    <tr>\n",
              "      <th>first_tower</th>\n",
              "      <td>Blue</td>\n",
              "      <td>Read</td>\n",
              "      <td>Blue</td>\n",
              "      <td>Blue</td>\n",
              "      <td>Read</td>\n",
              "    </tr>\n",
              "    <tr>\n",
              "      <th>bInhibCount</th>\n",
              "      <td>0</td>\n",
              "      <td>0</td>\n",
              "      <td>0</td>\n",
              "      <td>0</td>\n",
              "      <td>0</td>\n",
              "    </tr>\n",
              "    <tr>\n",
              "      <th>rInhibCount</th>\n",
              "      <td>0</td>\n",
              "      <td>0</td>\n",
              "      <td>0</td>\n",
              "      <td>0</td>\n",
              "      <td>0</td>\n",
              "    </tr>\n",
              "    <tr>\n",
              "      <th>first_inhib</th>\n",
              "      <td>Blue</td>\n",
              "      <td>Red</td>\n",
              "      <td>Blue</td>\n",
              "      <td>Red</td>\n",
              "      <td>Blue</td>\n",
              "    </tr>\n",
              "    <tr>\n",
              "      <th>bDragonCount</th>\n",
              "      <td>0</td>\n",
              "      <td>0</td>\n",
              "      <td>1</td>\n",
              "      <td>0</td>\n",
              "      <td>1</td>\n",
              "    </tr>\n",
              "    <tr>\n",
              "      <th>rDragonCount</th>\n",
              "      <td>1</td>\n",
              "      <td>1</td>\n",
              "      <td>0</td>\n",
              "      <td>2</td>\n",
              "      <td>0</td>\n",
              "    </tr>\n",
              "    <tr>\n",
              "      <th>first_dragon</th>\n",
              "      <td>Read</td>\n",
              "      <td>Read</td>\n",
              "      <td>Blue</td>\n",
              "      <td>Red</td>\n",
              "      <td>Blue</td>\n",
              "    </tr>\n",
              "    <tr>\n",
              "      <th>bBaronCount</th>\n",
              "      <td>0</td>\n",
              "      <td>0</td>\n",
              "      <td>0</td>\n",
              "      <td>0</td>\n",
              "      <td>0</td>\n",
              "    </tr>\n",
              "    <tr>\n",
              "      <th>rBaronCount</th>\n",
              "      <td>0</td>\n",
              "      <td>0</td>\n",
              "      <td>0</td>\n",
              "      <td>0</td>\n",
              "      <td>0</td>\n",
              "    </tr>\n",
              "    <tr>\n",
              "      <th>first_baron</th>\n",
              "      <td>Red</td>\n",
              "      <td>Blue</td>\n",
              "      <td>Blue</td>\n",
              "      <td>Blue</td>\n",
              "      <td>Blue</td>\n",
              "    </tr>\n",
              "  </tbody>\n",
              "</table>\n",
              "</div>"
            ],
            "text/plain": [
              "                 0     1     2     3     4\n",
              "winner        Blue   Red  Blue   Red  Blue\n",
              "mid_golddiff  1422  1368  5293  2712  -730\n",
              "bKillCount       4     5    11     5     1\n",
              "rKillCount       3     3     6     5     1\n",
              "first_blood   Blue  Blue  Blue   Red  Blue\n",
              "bTowerCount      4     1     3     2     1\n",
              "rTowerCount      2     1     0     1     3\n",
              "first_tower   Blue  Read  Blue  Blue  Read\n",
              "bInhibCount      0     0     0     0     0\n",
              "rInhibCount      0     0     0     0     0\n",
              "first_inhib   Blue   Red  Blue   Red  Blue\n",
              "bDragonCount     0     0     1     0     1\n",
              "rDragonCount     1     1     0     2     0\n",
              "first_dragon  Read  Read  Blue   Red  Blue\n",
              "bBaronCount      0     0     0     0     0\n",
              "rBaronCount      0     0     0     0     0\n",
              "first_baron    Red  Blue  Blue  Blue  Blue"
            ]
          },
          "metadata": {
            "tags": []
          },
          "execution_count": 15
        }
      ]
    },
    {
      "cell_type": "markdown",
      "metadata": {
        "id": "Sx77-ZqzdLDP"
      },
      "source": [
        "Below we can see that the number of records where blue is the winner and when red is the winner is almost balanced."
      ]
    },
    {
      "cell_type": "code",
      "metadata": {
        "colab": {
          "base_uri": "https://localhost:8080/",
          "height": 111
        },
        "id": "r1NYOrIxc_qw",
        "outputId": "abf676cc-d2b0-46dd-fb9b-6da370f956e7"
      },
      "source": [
        "mid_df.groupby('winner').count().toPandas()"
      ],
      "execution_count": null,
      "outputs": [
        {
          "output_type": "execute_result",
          "data": {
            "text/html": [
              "<div>\n",
              "<style scoped>\n",
              "    .dataframe tbody tr th:only-of-type {\n",
              "        vertical-align: middle;\n",
              "    }\n",
              "\n",
              "    .dataframe tbody tr th {\n",
              "        vertical-align: top;\n",
              "    }\n",
              "\n",
              "    .dataframe thead th {\n",
              "        text-align: right;\n",
              "    }\n",
              "</style>\n",
              "<table border=\"1\" class=\"dataframe\">\n",
              "  <thead>\n",
              "    <tr style=\"text-align: right;\">\n",
              "      <th></th>\n",
              "      <th>winner</th>\n",
              "      <th>count</th>\n",
              "    </tr>\n",
              "  </thead>\n",
              "  <tbody>\n",
              "    <tr>\n",
              "      <th>0</th>\n",
              "      <td>Blue</td>\n",
              "      <td>4146</td>\n",
              "    </tr>\n",
              "    <tr>\n",
              "      <th>1</th>\n",
              "      <td>Red</td>\n",
              "      <td>3474</td>\n",
              "    </tr>\n",
              "  </tbody>\n",
              "</table>\n",
              "</div>"
            ],
            "text/plain": [
              "  winner  count\n",
              "0   Blue   4146\n",
              "1    Red   3474"
            ]
          },
          "metadata": {
            "tags": []
          },
          "execution_count": 7
        }
      ]
    },
    {
      "cell_type": "markdown",
      "metadata": {
        "id": "tQ-QsHqKdXZQ"
      },
      "source": [
        "### Summary Statistics"
      ]
    },
    {
      "cell_type": "markdown",
      "metadata": {
        "id": "l9QeIfc9f3j3"
      },
      "source": [
        "Here we can see the mean, standard deviation, max, and min for our numerical variables."
      ]
    },
    {
      "cell_type": "code",
      "metadata": {
        "colab": {
          "base_uri": "https://localhost:8080/",
          "height": 421
        },
        "id": "UEyPI0ZRdpUI",
        "outputId": "afc6b800-88b3-4efa-84bd-4706046bf660"
      },
      "source": [
        "numeric_data = [t[0] for t in mid_df.dtypes if t[1] == 'int']\n",
        "mid_df.select(numeric_data).describe().toPandas().transpose()"
      ],
      "execution_count": null,
      "outputs": [
        {
          "output_type": "execute_result",
          "data": {
            "text/html": [
              "<div>\n",
              "<style scoped>\n",
              "    .dataframe tbody tr th:only-of-type {\n",
              "        vertical-align: middle;\n",
              "    }\n",
              "\n",
              "    .dataframe tbody tr th {\n",
              "        vertical-align: top;\n",
              "    }\n",
              "\n",
              "    .dataframe thead th {\n",
              "        text-align: right;\n",
              "    }\n",
              "</style>\n",
              "<table border=\"1\" class=\"dataframe\">\n",
              "  <thead>\n",
              "    <tr style=\"text-align: right;\">\n",
              "      <th></th>\n",
              "      <th>0</th>\n",
              "      <th>1</th>\n",
              "      <th>2</th>\n",
              "      <th>3</th>\n",
              "      <th>4</th>\n",
              "    </tr>\n",
              "  </thead>\n",
              "  <tbody>\n",
              "    <tr>\n",
              "      <th>summary</th>\n",
              "      <td>count</td>\n",
              "      <td>mean</td>\n",
              "      <td>stddev</td>\n",
              "      <td>min</td>\n",
              "      <td>max</td>\n",
              "    </tr>\n",
              "    <tr>\n",
              "      <th>mid_golddiff</th>\n",
              "      <td>7620</td>\n",
              "      <td>209.72086614173227</td>\n",
              "      <td>2817.02348085286</td>\n",
              "      <td>-13591</td>\n",
              "      <td>12673</td>\n",
              "    </tr>\n",
              "    <tr>\n",
              "      <th>bKillCount</th>\n",
              "      <td>7620</td>\n",
              "      <td>3.862992125984252</td>\n",
              "      <td>2.802155522367613</td>\n",
              "      <td>0</td>\n",
              "      <td>31</td>\n",
              "    </tr>\n",
              "    <tr>\n",
              "      <th>rKillCount</th>\n",
              "      <td>7620</td>\n",
              "      <td>3.744225721784777</td>\n",
              "      <td>2.825049109605663</td>\n",
              "      <td>0</td>\n",
              "      <td>20</td>\n",
              "    </tr>\n",
              "    <tr>\n",
              "      <th>bTowerCount</th>\n",
              "      <td>7620</td>\n",
              "      <td>1.7263779527559056</td>\n",
              "      <td>1.323631865981659</td>\n",
              "      <td>0</td>\n",
              "      <td>8</td>\n",
              "    </tr>\n",
              "    <tr>\n",
              "      <th>rTowerCount</th>\n",
              "      <td>7620</td>\n",
              "      <td>1.5360892388451444</td>\n",
              "      <td>1.2876729076787756</td>\n",
              "      <td>0</td>\n",
              "      <td>9</td>\n",
              "    </tr>\n",
              "    <tr>\n",
              "      <th>bInhibCount</th>\n",
              "      <td>7620</td>\n",
              "      <td>0.0032808398950131233</td>\n",
              "      <td>0.06573059977889233</td>\n",
              "      <td>0</td>\n",
              "      <td>3</td>\n",
              "    </tr>\n",
              "    <tr>\n",
              "      <th>rInhibCount</th>\n",
              "      <td>7620</td>\n",
              "      <td>0.0034120734908136482</td>\n",
              "      <td>0.07053997021908105</td>\n",
              "      <td>0</td>\n",
              "      <td>4</td>\n",
              "    </tr>\n",
              "    <tr>\n",
              "      <th>bDragonCount</th>\n",
              "      <td>7620</td>\n",
              "      <td>0.6570866141732283</td>\n",
              "      <td>0.7255637472953317</td>\n",
              "      <td>0</td>\n",
              "      <td>4</td>\n",
              "    </tr>\n",
              "    <tr>\n",
              "      <th>rDragonCount</th>\n",
              "      <td>7620</td>\n",
              "      <td>0.75748031496063</td>\n",
              "      <td>0.7647421170462376</td>\n",
              "      <td>0</td>\n",
              "      <td>5</td>\n",
              "    </tr>\n",
              "    <tr>\n",
              "      <th>bBaronCount</th>\n",
              "      <td>7620</td>\n",
              "      <td>0.014041994750656168</td>\n",
              "      <td>0.11878188379681456</td>\n",
              "      <td>0</td>\n",
              "      <td>2</td>\n",
              "    </tr>\n",
              "    <tr>\n",
              "      <th>rBaronCount</th>\n",
              "      <td>7620</td>\n",
              "      <td>0.018503937007874015</td>\n",
              "      <td>0.13955799240264175</td>\n",
              "      <td>0</td>\n",
              "      <td>2</td>\n",
              "    </tr>\n",
              "  </tbody>\n",
              "</table>\n",
              "</div>"
            ],
            "text/plain": [
              "                  0                      1                    2       3      4\n",
              "summary       count                   mean               stddev     min    max\n",
              "mid_golddiff   7620     209.72086614173227     2817.02348085286  -13591  12673\n",
              "bKillCount     7620      3.862992125984252    2.802155522367613       0     31\n",
              "rKillCount     7620      3.744225721784777    2.825049109605663       0     20\n",
              "bTowerCount    7620     1.7263779527559056    1.323631865981659       0      8\n",
              "rTowerCount    7620     1.5360892388451444   1.2876729076787756       0      9\n",
              "bInhibCount    7620  0.0032808398950131233  0.06573059977889233       0      3\n",
              "rInhibCount    7620  0.0034120734908136482  0.07053997021908105       0      4\n",
              "bDragonCount   7620     0.6570866141732283   0.7255637472953317       0      4\n",
              "rDragonCount   7620       0.75748031496063   0.7647421170462376       0      5\n",
              "bBaronCount    7620   0.014041994750656168  0.11878188379681456       0      2\n",
              "rBaronCount    7620   0.018503937007874015  0.13955799240264175       0      2"
            ]
          },
          "metadata": {
            "tags": []
          },
          "execution_count": 8
        }
      ]
    },
    {
      "cell_type": "markdown",
      "metadata": {
        "id": "CEh-FGzLj1_e"
      },
      "source": [
        "## Model Building"
      ]
    },
    {
      "cell_type": "markdown",
      "metadata": {
        "id": "znb4CPlCkGsA"
      },
      "source": [
        "### Preparing Data\n",
        "\n",
        "Before we can create models, we must prepare our data so that the model can use our data and estimate parameters needed to predict game results. The data has already been altered during the firt phase of data preprocessing, however, we need to encode categroical features to numerical since machine learning models can only work with numbers. Also, we need to normalize our numeric features. This is necessar because the numeric features are in very different ranges. Numeric features that have larger values such as gold difference can influence the result more due to its larger values, however, this feature might not be as important as the other features."
      ]
    },
    {
      "cell_type": "markdown",
      "metadata": {
        "id": "TYTfdnluBpeX"
      },
      "source": [
        "#### Encoding Categorical Features"
      ]
    },
    {
      "cell_type": "code",
      "metadata": {
        "id": "6U-ul5KbkF7_"
      },
      "source": [
        "from pyspark.ml.feature import OneHotEncoder, StringIndexer, VectorAssembler\n",
        "\n",
        "# Creating coverting categorical feature to  numerical representations\n",
        "categorical_features = [t[0] for t in mid_df.dtypes if t[1] == 'string' and t[0] != 'winner' ]\n",
        "stages_v1 = [] # Stages in our Pipeline\n",
        "\n",
        "for col in categorical_features:\n",
        "  strIndexer = StringIndexer(inputCol=col, outputCol=col + \"Index\")\n",
        "  encoder = OneHotEncoder(inputCols=[strIndexer.getOutputCol()], outputCols=[col + \"classVec\"])\n",
        "  stages_v1 += [strIndexer, encoder]"
      ],
      "execution_count": null,
      "outputs": []
    },
    {
      "cell_type": "markdown",
      "metadata": {
        "id": "nz4N-S_o7jeI"
      },
      "source": [
        "Since we doing a binary classification, our label is also categorical which we have to convert to numerical. Our label only have category which means that we can use integer encoding rather than one-hot encoding."
      ]
    },
    {
      "cell_type": "code",
      "metadata": {
        "id": "d4UFtVIG7rRG"
      },
      "source": [
        "label_strIndexer = StringIndexer(inputCol=\"winner\", outputCol=\"label\")\n",
        "stages_v1 += [label_strIndexer]"
      ],
      "execution_count": null,
      "outputs": []
    },
    {
      "cell_type": "markdown",
      "metadata": {
        "id": "ag2fNDw-AmUy"
      },
      "source": [
        "#### Normalizing Numeric Features"
      ]
    },
    {
      "cell_type": "code",
      "metadata": {
        "id": "3UIvr5W5DLXJ"
      },
      "source": [
        "from pyspark.ml.feature import MinMaxScaler\n",
        "from pyspark.ml.feature import VectorAssembler\n",
        "from pyspark.sql.functions import udf\n",
        "from pyspark.sql.types import DoubleType\n",
        "\n",
        "num_features = [t[0] for t in mid_df.dtypes if t[1] == 'int']\n",
        "\n",
        "for col in num_features:\n",
        "  assembler = VectorAssembler(inputCols=[col], outputCol=col + \"_Vect\")\n",
        "  scaler = MinMaxScaler(inputCol=assembler.getOutputCol(), outputCol=col+\"_Scaled\")\n",
        "  stages_v1 +=[assembler,scaler]\n"
      ],
      "execution_count": null,
      "outputs": []
    },
    {
      "cell_type": "markdown",
      "metadata": {
        "id": "Wt9wRlmW8G_b"
      },
      "source": [
        "#### Combining All Features\n",
        "Now, we will combine all the features columns into a single vector column that we will call `features` which will be the input data to our models."
      ]
    },
    {
      "cell_type": "code",
      "metadata": {
        "id": "0HQzlZcJ8SWk"
      },
      "source": [
        "from pyspark.ml.feature import VectorAssembler\n",
        "\n",
        "assemblerInputs = [col + \"classVec\" for col in categorical_features] + [col + \"_Scaled\" for col in num_features]\n",
        "assembler2 = VectorAssembler(inputCols=assemblerInputs, outputCol=\"features\")\n",
        "stages_v1 += [assembler2]"
      ],
      "execution_count": null,
      "outputs": []
    },
    {
      "cell_type": "markdown",
      "metadata": {
        "id": "qot-er4q86Lg"
      },
      "source": [
        "Now that we have defined all our data transformations, it still has not been applied to our data. They will be applied when we start training a model. Below will be the number of transformations that our data will go through."
      ]
    },
    {
      "cell_type": "code",
      "metadata": {
        "colab": {
          "base_uri": "https://localhost:8080/"
        },
        "id": "mOiwpzNP-jfk",
        "outputId": "035a18e9-4ddc-4af6-ed7f-5f6184aecbe9"
      },
      "source": [
        "stages_v1"
      ],
      "execution_count": null,
      "outputs": [
        {
          "output_type": "execute_result",
          "data": {
            "text/plain": [
              "[StringIndexer_26b1aec17446,\n",
              " OneHotEncoder_c9c137cdff55,\n",
              " StringIndexer_83959da1c0b8,\n",
              " OneHotEncoder_27aa8be4b0d1,\n",
              " StringIndexer_5ac606e80601,\n",
              " OneHotEncoder_00a047325091,\n",
              " StringIndexer_6d3134c013e7,\n",
              " OneHotEncoder_b362722d0367,\n",
              " StringIndexer_5a95046f6e6a,\n",
              " OneHotEncoder_52969739cca6,\n",
              " StringIndexer_70defde1bab7,\n",
              " VectorAssembler_649e76d5ea03,\n",
              " MinMaxScaler_e43cfade97c8,\n",
              " VectorAssembler_1badc93ec818,\n",
              " MinMaxScaler_1057606a5c42,\n",
              " VectorAssembler_ecc24755c3da,\n",
              " MinMaxScaler_4c64422f848b,\n",
              " VectorAssembler_6edd3ae3a16e,\n",
              " MinMaxScaler_827755b1f425,\n",
              " VectorAssembler_3d60ff0fedfc,\n",
              " MinMaxScaler_ac763c3f7b33,\n",
              " VectorAssembler_3a6ad1109efb,\n",
              " MinMaxScaler_c69b6c8f6ad6,\n",
              " VectorAssembler_50545498fdf7,\n",
              " MinMaxScaler_ff1356ceb145,\n",
              " VectorAssembler_2680169a00b0,\n",
              " MinMaxScaler_83310fec2928,\n",
              " VectorAssembler_3c63bb1afb4f,\n",
              " MinMaxScaler_37d2c2db7209,\n",
              " VectorAssembler_0bdae9659db9,\n",
              " MinMaxScaler_3e3054c02d2e,\n",
              " VectorAssembler_85a0405d0117,\n",
              " MinMaxScaler_2d1badf593cb,\n",
              " VectorAssembler_eeedfa82e9c8]"
            ]
          },
          "metadata": {
            "tags": []
          },
          "execution_count": 12
        }
      ]
    },
    {
      "cell_type": "code",
      "metadata": {
        "id": "qzc4VDBG9RkR"
      },
      "source": [
        "from pyspark.ml import Pipeline\n",
        "\n",
        "pipeline = Pipeline().setStages(stages_v1)\n",
        "pipelineModel = pipeline.fit(mid_df)\n",
        "transformed_data = pipelineModel.transform(mid_df)"
      ],
      "execution_count": null,
      "outputs": []
    },
    {
      "cell_type": "code",
      "metadata": {
        "colab": {
          "base_uri": "https://localhost:8080/"
        },
        "id": "WjjN4SC89Rji",
        "outputId": "e2b5d3ca-520e-4940-87b2-c2c4ede98adf"
      },
      "source": [
        "selectedCols = ['label', 'features'] + mid_df.columns\n",
        "model_df = transformed_data.select(selectedCols)\n",
        "model_df.printSchema()"
      ],
      "execution_count": null,
      "outputs": [
        {
          "output_type": "stream",
          "text": [
            "root\n",
            " |-- label: double (nullable = false)\n",
            " |-- features: vector (nullable = true)\n",
            " |-- winner: string (nullable = true)\n",
            " |-- mid_golddiff: integer (nullable = true)\n",
            " |-- bKillCount: integer (nullable = true)\n",
            " |-- rKillCount: integer (nullable = true)\n",
            " |-- first_blood: string (nullable = true)\n",
            " |-- bTowerCount: integer (nullable = true)\n",
            " |-- rTowerCount: integer (nullable = true)\n",
            " |-- first_tower: string (nullable = true)\n",
            " |-- bInhibCount: integer (nullable = true)\n",
            " |-- rInhibCount: integer (nullable = true)\n",
            " |-- first_inhib: string (nullable = true)\n",
            " |-- bDragonCount: integer (nullable = true)\n",
            " |-- rDragonCount: integer (nullable = true)\n",
            " |-- first_dragon: string (nullable = true)\n",
            " |-- bBaronCount: integer (nullable = true)\n",
            " |-- rBaronCount: integer (nullable = true)\n",
            " |-- first_baron: string (nullable = true)\n",
            "\n"
          ],
          "name": "stdout"
        }
      ]
    },
    {
      "cell_type": "code",
      "metadata": {
        "colab": {
          "base_uri": "https://localhost:8080/",
          "height": 655
        },
        "id": "2nbYtvtzAA6x",
        "outputId": "6e2585a4-fb9b-459f-8939-01ff4d63789d"
      },
      "source": [
        "pd.DataFrame(model_df.take(5), columns=model_df.columns).transpose()"
      ],
      "execution_count": null,
      "outputs": [
        {
          "output_type": "execute_result",
          "data": {
            "text/html": [
              "<div>\n",
              "<style scoped>\n",
              "    .dataframe tbody tr th:only-of-type {\n",
              "        vertical-align: middle;\n",
              "    }\n",
              "\n",
              "    .dataframe tbody tr th {\n",
              "        vertical-align: top;\n",
              "    }\n",
              "\n",
              "    .dataframe thead th {\n",
              "        text-align: right;\n",
              "    }\n",
              "</style>\n",
              "<table border=\"1\" class=\"dataframe\">\n",
              "  <thead>\n",
              "    <tr style=\"text-align: right;\">\n",
              "      <th></th>\n",
              "      <th>0</th>\n",
              "      <th>1</th>\n",
              "      <th>2</th>\n",
              "      <th>3</th>\n",
              "      <th>4</th>\n",
              "    </tr>\n",
              "  </thead>\n",
              "  <tbody>\n",
              "    <tr>\n",
              "      <th>label</th>\n",
              "      <td>0</td>\n",
              "      <td>1</td>\n",
              "      <td>0</td>\n",
              "      <td>1</td>\n",
              "      <td>0</td>\n",
              "    </tr>\n",
              "    <tr>\n",
              "      <th>features</th>\n",
              "      <td>(1.0, 0.0, 0.0, 1.0, 0.0, 1.0, 0.0, 0.0, 0.0, ...</td>\n",
              "      <td>(1.0, 0.0, 0.0, 0.0, 1.0, 0.0, 1.0, 0.0, 0.0, ...</td>\n",
              "      <td>(1.0, 0.0, 0.0, 1.0, 0.0, 1.0, 0.0, 0.0, 1.0, ...</td>\n",
              "      <td>(0.0, 1.0, 0.0, 1.0, 0.0, 0.0, 1.0, 0.0, 0.0, ...</td>\n",
              "      <td>(1.0, 0.0, 0.0, 0.0, 1.0, 1.0, 0.0, 0.0, 1.0, ...</td>\n",
              "    </tr>\n",
              "    <tr>\n",
              "      <th>winner</th>\n",
              "      <td>Blue</td>\n",
              "      <td>Red</td>\n",
              "      <td>Blue</td>\n",
              "      <td>Red</td>\n",
              "      <td>Blue</td>\n",
              "    </tr>\n",
              "    <tr>\n",
              "      <th>mid_golddiff</th>\n",
              "      <td>1422</td>\n",
              "      <td>1368</td>\n",
              "      <td>5293</td>\n",
              "      <td>2712</td>\n",
              "      <td>-730</td>\n",
              "    </tr>\n",
              "    <tr>\n",
              "      <th>bKillCount</th>\n",
              "      <td>4</td>\n",
              "      <td>5</td>\n",
              "      <td>11</td>\n",
              "      <td>5</td>\n",
              "      <td>1</td>\n",
              "    </tr>\n",
              "    <tr>\n",
              "      <th>rKillCount</th>\n",
              "      <td>3</td>\n",
              "      <td>3</td>\n",
              "      <td>6</td>\n",
              "      <td>5</td>\n",
              "      <td>1</td>\n",
              "    </tr>\n",
              "    <tr>\n",
              "      <th>first_blood</th>\n",
              "      <td>Blue</td>\n",
              "      <td>Blue</td>\n",
              "      <td>Blue</td>\n",
              "      <td>Red</td>\n",
              "      <td>Blue</td>\n",
              "    </tr>\n",
              "    <tr>\n",
              "      <th>bTowerCount</th>\n",
              "      <td>4</td>\n",
              "      <td>1</td>\n",
              "      <td>3</td>\n",
              "      <td>2</td>\n",
              "      <td>1</td>\n",
              "    </tr>\n",
              "    <tr>\n",
              "      <th>rTowerCount</th>\n",
              "      <td>2</td>\n",
              "      <td>1</td>\n",
              "      <td>0</td>\n",
              "      <td>1</td>\n",
              "      <td>3</td>\n",
              "    </tr>\n",
              "    <tr>\n",
              "      <th>first_tower</th>\n",
              "      <td>Blue</td>\n",
              "      <td>Read</td>\n",
              "      <td>Blue</td>\n",
              "      <td>Blue</td>\n",
              "      <td>Read</td>\n",
              "    </tr>\n",
              "    <tr>\n",
              "      <th>bInhibCount</th>\n",
              "      <td>0</td>\n",
              "      <td>0</td>\n",
              "      <td>0</td>\n",
              "      <td>0</td>\n",
              "      <td>0</td>\n",
              "    </tr>\n",
              "    <tr>\n",
              "      <th>rInhibCount</th>\n",
              "      <td>0</td>\n",
              "      <td>0</td>\n",
              "      <td>0</td>\n",
              "      <td>0</td>\n",
              "      <td>0</td>\n",
              "    </tr>\n",
              "    <tr>\n",
              "      <th>first_inhib</th>\n",
              "      <td>Blue</td>\n",
              "      <td>Red</td>\n",
              "      <td>Blue</td>\n",
              "      <td>Red</td>\n",
              "      <td>Blue</td>\n",
              "    </tr>\n",
              "    <tr>\n",
              "      <th>bDragonCount</th>\n",
              "      <td>0</td>\n",
              "      <td>0</td>\n",
              "      <td>1</td>\n",
              "      <td>0</td>\n",
              "      <td>1</td>\n",
              "    </tr>\n",
              "    <tr>\n",
              "      <th>rDragonCount</th>\n",
              "      <td>1</td>\n",
              "      <td>1</td>\n",
              "      <td>0</td>\n",
              "      <td>2</td>\n",
              "      <td>0</td>\n",
              "    </tr>\n",
              "    <tr>\n",
              "      <th>first_dragon</th>\n",
              "      <td>Read</td>\n",
              "      <td>Read</td>\n",
              "      <td>Blue</td>\n",
              "      <td>Red</td>\n",
              "      <td>Blue</td>\n",
              "    </tr>\n",
              "    <tr>\n",
              "      <th>bBaronCount</th>\n",
              "      <td>0</td>\n",
              "      <td>0</td>\n",
              "      <td>0</td>\n",
              "      <td>0</td>\n",
              "      <td>0</td>\n",
              "    </tr>\n",
              "    <tr>\n",
              "      <th>rBaronCount</th>\n",
              "      <td>0</td>\n",
              "      <td>0</td>\n",
              "      <td>0</td>\n",
              "      <td>0</td>\n",
              "      <td>0</td>\n",
              "    </tr>\n",
              "    <tr>\n",
              "      <th>first_baron</th>\n",
              "      <td>Red</td>\n",
              "      <td>Blue</td>\n",
              "      <td>Blue</td>\n",
              "      <td>Blue</td>\n",
              "      <td>Blue</td>\n",
              "    </tr>\n",
              "  </tbody>\n",
              "</table>\n",
              "</div>"
            ],
            "text/plain": [
              "                                                              0  ...                                                  4\n",
              "label                                                         0  ...                                                  0\n",
              "features      (1.0, 0.0, 0.0, 1.0, 0.0, 1.0, 0.0, 0.0, 0.0, ...  ...  (1.0, 0.0, 0.0, 0.0, 1.0, 1.0, 0.0, 0.0, 1.0, ...\n",
              "winner                                                     Blue  ...                                               Blue\n",
              "mid_golddiff                                               1422  ...                                               -730\n",
              "bKillCount                                                    4  ...                                                  1\n",
              "rKillCount                                                    3  ...                                                  1\n",
              "first_blood                                                Blue  ...                                               Blue\n",
              "bTowerCount                                                   4  ...                                                  1\n",
              "rTowerCount                                                   2  ...                                                  3\n",
              "first_tower                                                Blue  ...                                               Read\n",
              "bInhibCount                                                   0  ...                                                  0\n",
              "rInhibCount                                                   0  ...                                                  0\n",
              "first_inhib                                                Blue  ...                                               Blue\n",
              "bDragonCount                                                  0  ...                                                  1\n",
              "rDragonCount                                                  1  ...                                                  0\n",
              "first_dragon                                               Read  ...                                               Blue\n",
              "bBaronCount                                                   0  ...                                                  0\n",
              "rBaronCount                                                   0  ...                                                  0\n",
              "first_baron                                                 Red  ...                                               Blue\n",
              "\n",
              "[19 rows x 5 columns]"
            ]
          },
          "metadata": {
            "tags": []
          },
          "execution_count": 16
        }
      ]
    },
    {
      "cell_type": "markdown",
      "metadata": {
        "id": "wOmcmssGAXeH"
      },
      "source": [
        "From the dataframe above, we can see that 0 indicates for Blue and 1 indicates for Red."
      ]
    },
    {
      "cell_type": "markdown",
      "metadata": {
        "id": "nGZpzPhoAsI4"
      },
      "source": [
        "#### Splitting the data into train and test sets"
      ]
    },
    {
      "cell_type": "code",
      "metadata": {
        "colab": {
          "base_uri": "https://localhost:8080/"
        },
        "id": "Ey0fuDRkAfBJ",
        "outputId": "8d534879-afde-40a1-daa7-1150b04c3a44"
      },
      "source": [
        "weights = [.8, .2] # train/test split\n",
        "seed = 1234\n",
        "trainData, testData = model_df.randomSplit(weights,seed)\n",
        "print(\"Training Dataset Count: \" + str(trainData.count()))\n",
        "print(\"Test Dataset Count: \" + str(testData.count()))"
      ],
      "execution_count": null,
      "outputs": [
        {
          "output_type": "stream",
          "text": [
            "Training Dataset Count: 6135\n",
            "Test Dataset Count: 1485\n"
          ],
          "name": "stdout"
        }
      ]
    },
    {
      "cell_type": "markdown",
      "metadata": {
        "id": "bQ5VYd6bB2q7"
      },
      "source": [
        "### Model 1 - Logistic Regression\n",
        "\n",
        "Now we will build our first model which use the logistic regression algorithm. This will be used as our baseline model as we explore other alogrithms and change the features we give our model."
      ]
    },
    {
      "cell_type": "markdown",
      "metadata": {
        "id": "REuMuDXmgxKN"
      },
      "source": [
        "### Initial Model"
      ]
    },
    {
      "cell_type": "code",
      "metadata": {
        "id": "lObgLWS9B5a4"
      },
      "source": [
        "from pyspark.ml.classification import LogisticRegression\n",
        "\n",
        "# Create initial LogisticRegression model\n",
        "lr = LogisticRegression(labelCol=\"label\",\\\n",
        "                        featuresCol=\"features\", \\\n",
        "                        maxIter=100, \\\n",
        "                        family=\"multinomial\",\n",
        "                        standardization = False)\n",
        "\n",
        "# Train model with Training Data\n",
        "lrModel = lr.fit(trainData)"
      ],
      "execution_count": null,
      "outputs": []
    },
    {
      "cell_type": "code",
      "metadata": {
        "id": "AzrfiXs_Dg5A"
      },
      "source": [
        "import matplotlib.pyplot as plt\n",
        "import numpy as np\n",
        "beta = np.sort(lrModel.coefficients)\n",
        "plt.plot(beta)\n",
        "plt.ylabel('Beta Coefficients')\n",
        "plt.show()"
      ],
      "execution_count": null,
      "outputs": []
    },
    {
      "cell_type": "code",
      "metadata": {
        "id": "aliOqacRDvPd"
      },
      "source": [
        "trainingSummary = lrModel.summary\n",
        "roc = trainingSummary.roc.toPandas()\n",
        "plt.plot(roc['FPR'],roc['TPR'])\n",
        "plt.ylabel('True Positive Rate')\n",
        "plt.xlabel('False Positive Rate')\n",
        "plt.title('ROC Curve')\n",
        "plt.show()\n",
        "# print('Training set areaUnderROC: ' + str(trainingSummary.areaAboveROC))"
      ],
      "execution_count": null,
      "outputs": []
    },
    {
      "cell_type": "code",
      "metadata": {
        "id": "UcJKbNdAD-wC"
      },
      "source": [
        "pr = trainingSummary.pr.toPandas()\n",
        "plt.plot(pr['recall'],pr['precision'])\n",
        "plt.ylabel('Precision')\n",
        "plt.xlabel('Recall')\n",
        "plt.show()"
      ],
      "execution_count": null,
      "outputs": []
    },
    {
      "cell_type": "markdown",
      "metadata": {
        "id": "PMuMz5E6T7JV"
      },
      "source": [
        "#### Evaluating the Model"
      ]
    },
    {
      "cell_type": "markdown",
      "metadata": {
        "id": "a3Q_89tkUArR"
      },
      "source": [
        "The first thing that we will do is evaluate our the model that we trained for  100 epochs."
      ]
    },
    {
      "cell_type": "code",
      "metadata": {
        "colab": {
          "base_uri": "https://localhost:8080/",
          "height": 802
        },
        "id": "4lxyXJl4ECBU",
        "outputId": "7ba38652-fe23-436b-f57f-dabd709fcef8"
      },
      "source": [
        "predictions = lrModel.transform(testData)\n",
        "predCols = ['mid_golddiff', 'bKillCount', 'rKillCount', 'first_blood',\\\n",
        "            'bTowerCount', 'rTowerCount', 'first_tower', 'bInhibCount',\\\n",
        "            'rInhibCount', 'first_inhib', 'bDragonCount', 'rDragonCount',\\\n",
        "            'first_dragon', 'bBaronCount', 'rBaronCount', 'first_baron',\\\n",
        "            'rawPrediction', 'prediction', 'probability']\n",
        "\n",
        "pd.DataFrame(predictions.take(5), columns=predictions.columns).transpose()"
      ],
      "execution_count": null,
      "outputs": [
        {
          "output_type": "execute_result",
          "data": {
            "text/html": [
              "<div>\n",
              "<style scoped>\n",
              "    .dataframe tbody tr th:only-of-type {\n",
              "        vertical-align: middle;\n",
              "    }\n",
              "\n",
              "    .dataframe tbody tr th {\n",
              "        vertical-align: top;\n",
              "    }\n",
              "\n",
              "    .dataframe thead th {\n",
              "        text-align: right;\n",
              "    }\n",
              "</style>\n",
              "<table border=\"1\" class=\"dataframe\">\n",
              "  <thead>\n",
              "    <tr style=\"text-align: right;\">\n",
              "      <th></th>\n",
              "      <th>0</th>\n",
              "      <th>1</th>\n",
              "      <th>2</th>\n",
              "      <th>3</th>\n",
              "      <th>4</th>\n",
              "    </tr>\n",
              "  </thead>\n",
              "  <tbody>\n",
              "    <tr>\n",
              "      <th>label</th>\n",
              "      <td>0</td>\n",
              "      <td>0</td>\n",
              "      <td>0</td>\n",
              "      <td>0</td>\n",
              "      <td>0</td>\n",
              "    </tr>\n",
              "    <tr>\n",
              "      <th>features</th>\n",
              "      <td>(1.0, 0.0, 0.0, 1.0, 0.0, 1.0, 0.0, 0.0, 1.0, ...</td>\n",
              "      <td>(1.0, 0.0, 0.0, 1.0, 0.0, 1.0, 0.0, 0.0, 1.0, ...</td>\n",
              "      <td>(1.0, 0.0, 0.0, 1.0, 0.0, 1.0, 0.0, 0.0, 1.0, ...</td>\n",
              "      <td>(1.0, 0.0, 0.0, 1.0, 0.0, 1.0, 0.0, 0.0, 1.0, ...</td>\n",
              "      <td>(1.0, 0.0, 0.0, 1.0, 0.0, 1.0, 0.0, 0.0, 1.0, ...</td>\n",
              "    </tr>\n",
              "    <tr>\n",
              "      <th>winner</th>\n",
              "      <td>Blue</td>\n",
              "      <td>Blue</td>\n",
              "      <td>Blue</td>\n",
              "      <td>Blue</td>\n",
              "      <td>Blue</td>\n",
              "    </tr>\n",
              "    <tr>\n",
              "      <th>mid_golddiff</th>\n",
              "      <td>659</td>\n",
              "      <td>1166</td>\n",
              "      <td>2128</td>\n",
              "      <td>1625</td>\n",
              "      <td>2106</td>\n",
              "    </tr>\n",
              "    <tr>\n",
              "      <th>bKillCount</th>\n",
              "      <td>1</td>\n",
              "      <td>4</td>\n",
              "      <td>8</td>\n",
              "      <td>4</td>\n",
              "      <td>4</td>\n",
              "    </tr>\n",
              "    <tr>\n",
              "      <th>rKillCount</th>\n",
              "      <td>0</td>\n",
              "      <td>1</td>\n",
              "      <td>2</td>\n",
              "      <td>1</td>\n",
              "      <td>3</td>\n",
              "    </tr>\n",
              "    <tr>\n",
              "      <th>first_blood</th>\n",
              "      <td>Blue</td>\n",
              "      <td>Blue</td>\n",
              "      <td>Blue</td>\n",
              "      <td>Blue</td>\n",
              "      <td>Blue</td>\n",
              "    </tr>\n",
              "    <tr>\n",
              "      <th>bTowerCount</th>\n",
              "      <td>0</td>\n",
              "      <td>0</td>\n",
              "      <td>0</td>\n",
              "      <td>1</td>\n",
              "      <td>1</td>\n",
              "    </tr>\n",
              "    <tr>\n",
              "      <th>rTowerCount</th>\n",
              "      <td>0</td>\n",
              "      <td>0</td>\n",
              "      <td>0</td>\n",
              "      <td>0</td>\n",
              "      <td>0</td>\n",
              "    </tr>\n",
              "    <tr>\n",
              "      <th>first_tower</th>\n",
              "      <td>Blue</td>\n",
              "      <td>Blue</td>\n",
              "      <td>Blue</td>\n",
              "      <td>Blue</td>\n",
              "      <td>Blue</td>\n",
              "    </tr>\n",
              "    <tr>\n",
              "      <th>bInhibCount</th>\n",
              "      <td>0</td>\n",
              "      <td>0</td>\n",
              "      <td>0</td>\n",
              "      <td>0</td>\n",
              "      <td>0</td>\n",
              "    </tr>\n",
              "    <tr>\n",
              "      <th>rInhibCount</th>\n",
              "      <td>0</td>\n",
              "      <td>0</td>\n",
              "      <td>0</td>\n",
              "      <td>0</td>\n",
              "      <td>0</td>\n",
              "    </tr>\n",
              "    <tr>\n",
              "      <th>first_inhib</th>\n",
              "      <td>Blue</td>\n",
              "      <td>Blue</td>\n",
              "      <td>Blue</td>\n",
              "      <td>Blue</td>\n",
              "      <td>Blue</td>\n",
              "    </tr>\n",
              "    <tr>\n",
              "      <th>bDragonCount</th>\n",
              "      <td>0</td>\n",
              "      <td>0</td>\n",
              "      <td>0</td>\n",
              "      <td>0</td>\n",
              "      <td>0</td>\n",
              "    </tr>\n",
              "    <tr>\n",
              "      <th>rDragonCount</th>\n",
              "      <td>0</td>\n",
              "      <td>0</td>\n",
              "      <td>0</td>\n",
              "      <td>0</td>\n",
              "      <td>0</td>\n",
              "    </tr>\n",
              "    <tr>\n",
              "      <th>first_dragon</th>\n",
              "      <td>Blue</td>\n",
              "      <td>Blue</td>\n",
              "      <td>Blue</td>\n",
              "      <td>Blue</td>\n",
              "      <td>Blue</td>\n",
              "    </tr>\n",
              "    <tr>\n",
              "      <th>bBaronCount</th>\n",
              "      <td>0</td>\n",
              "      <td>0</td>\n",
              "      <td>0</td>\n",
              "      <td>0</td>\n",
              "      <td>0</td>\n",
              "    </tr>\n",
              "    <tr>\n",
              "      <th>rBaronCount</th>\n",
              "      <td>0</td>\n",
              "      <td>0</td>\n",
              "      <td>0</td>\n",
              "      <td>0</td>\n",
              "      <td>0</td>\n",
              "    </tr>\n",
              "    <tr>\n",
              "      <th>first_baron</th>\n",
              "      <td>Blue</td>\n",
              "      <td>Blue</td>\n",
              "      <td>Blue</td>\n",
              "      <td>Blue</td>\n",
              "      <td>Blue</td>\n",
              "    </tr>\n",
              "    <tr>\n",
              "      <th>rawPrediction</th>\n",
              "      <td>[2.199790382541175, -2.199790382541175]</td>\n",
              "      <td>[2.1332272306544167, -2.1332272306544167]</td>\n",
              "      <td>[2.083241544599739, -2.083241544599739]</td>\n",
              "      <td>[2.0320464732462487, -2.0320464732462487]</td>\n",
              "      <td>[2.0429528758780484, -2.0429528758780484]</td>\n",
              "    </tr>\n",
              "    <tr>\n",
              "      <th>probability</th>\n",
              "      <td>[0.9878665409937902, 0.012133459006209792]</td>\n",
              "      <td>[0.9861627130267026, 0.013837286973297454]</td>\n",
              "      <td>[0.9847300859579122, 0.015269914042087813]</td>\n",
              "      <td>[0.9831115551464762, 0.016888444853523775]</td>\n",
              "      <td>[0.9834699273244838, 0.016530072675516202]</td>\n",
              "    </tr>\n",
              "    <tr>\n",
              "      <th>prediction</th>\n",
              "      <td>0</td>\n",
              "      <td>0</td>\n",
              "      <td>0</td>\n",
              "      <td>0</td>\n",
              "      <td>0</td>\n",
              "    </tr>\n",
              "  </tbody>\n",
              "</table>\n",
              "</div>"
            ],
            "text/plain": [
              "                                                               0  ...                                                  4\n",
              "label                                                          0  ...                                                  0\n",
              "features       (1.0, 0.0, 0.0, 1.0, 0.0, 1.0, 0.0, 0.0, 1.0, ...  ...  (1.0, 0.0, 0.0, 1.0, 0.0, 1.0, 0.0, 0.0, 1.0, ...\n",
              "winner                                                      Blue  ...                                               Blue\n",
              "mid_golddiff                                                 659  ...                                               2106\n",
              "bKillCount                                                     1  ...                                                  4\n",
              "rKillCount                                                     0  ...                                                  3\n",
              "first_blood                                                 Blue  ...                                               Blue\n",
              "bTowerCount                                                    0  ...                                                  1\n",
              "rTowerCount                                                    0  ...                                                  0\n",
              "first_tower                                                 Blue  ...                                               Blue\n",
              "bInhibCount                                                    0  ...                                                  0\n",
              "rInhibCount                                                    0  ...                                                  0\n",
              "first_inhib                                                 Blue  ...                                               Blue\n",
              "bDragonCount                                                   0  ...                                                  0\n",
              "rDragonCount                                                   0  ...                                                  0\n",
              "first_dragon                                                Blue  ...                                               Blue\n",
              "bBaronCount                                                    0  ...                                                  0\n",
              "rBaronCount                                                    0  ...                                                  0\n",
              "first_baron                                                 Blue  ...                                               Blue\n",
              "rawPrediction            [2.199790382541175, -2.199790382541175]  ...          [2.0429528758780484, -2.0429528758780484]\n",
              "probability           [0.9878665409937902, 0.012133459006209792]  ...         [0.9834699273244838, 0.016530072675516202]\n",
              "prediction                                                     0  ...                                                  0\n",
              "\n",
              "[22 rows x 5 columns]"
            ]
          },
          "metadata": {
            "tags": []
          },
          "execution_count": 33
        }
      ]
    },
    {
      "cell_type": "code",
      "metadata": {
        "colab": {
          "base_uri": "https://localhost:8080/"
        },
        "id": "9oozHS6AFzea",
        "outputId": "db2e773a-3d68-4f77-d4ff-afc09bd21edd"
      },
      "source": [
        "from pyspark.ml.evaluation import BinaryClassificationEvaluator\n",
        "\n",
        "# Evaluate model\n",
        "evaluator = BinaryClassificationEvaluator(rawPredictionCol=\"rawPrediction\", metricName=)\n",
        "print('Test Area Under ROC', evaluator.evaluate(predictions))"
      ],
      "execution_count": null,
      "outputs": [
        {
          "output_type": "stream",
          "text": [
            "Test Area Under ROC 0.9827937376501015\n"
          ],
          "name": "stdout"
        }
      ]
    },
    {
      "cell_type": "markdown",
      "metadata": {
        "id": "BH6rPOAAVdRg"
      },
      "source": [
        "### Cross-Validate Model\n",
        "\n",
        "Here we will use Cross Validation to find the best model by determinng which epoch from 50 to 100 will produce the best performing model. For this cross validation, we are using ten-fold cross validation?"
      ]
    },
    {
      "cell_type": "code",
      "metadata": {
        "colab": {
          "background_save": true
        },
        "id": "zRBVVvx9Jlrc"
      },
      "source": [
        "from pyspark.ml.classification import LogisticRegression\n",
        "from pyspark.ml.evaluation import BinaryClassificationEvaluator\n",
        "from pyspark.ml.tuning import *\n",
        "import numpy as np\n",
        "\n",
        "lr = LogisticRegression(labelCol=\"label\", featuresCol=\"features\", standardization=False)\n",
        "\n",
        "lmbd = np.arange(0,0.1,0.05)\n",
        "aggrDepth = [x for x in range(2, 11)]\n",
        "testIter = [x for x in range(50,101) if x%5==0]\n",
        "\n",
        "grid = ParamGridBuilder()\\\n",
        "      .addGrid(lr.maxIter, testIter)\\\n",
        "      .addGrid(lr.aggregationDepth, aggrDepth)\\\n",
        "      .addGrid(lr.regParam, lmbd)\\\n",
        "      .build()\n",
        "\n",
        "evaluator = BinaryClassificationEvaluator(rawPredictionCol=\"rawPrediction\")\n",
        "\n",
        "cv = CrossValidator(estimator=lr, estimatorParamMaps=grid, \\\n",
        "                    evaluator=evaluator, numFolds=3,\\\n",
        "                    parallelism=2)\n",
        "cv_LR_model = cv.fit(trainData)\n",
        "best_LR_Model = cv_LR_model.bestModel"
      ],
      "execution_count": null,
      "outputs": []
    },
    {
      "cell_type": "markdown",
      "metadata": {
        "id": "_7RA-OL54-FJ"
      },
      "source": [
        "Save the model so that we do not have to retrain."
      ]
    },
    {
      "cell_type": "code",
      "metadata": {
        "colab": {
          "base_uri": "https://localhost:8080/"
        },
        "id": "TS2YL5gQ2PTh",
        "outputId": "632e59fb-ab73-4578-c72f-7b88ebdb7b57"
      },
      "source": [
        "!ls ../dataset/"
      ],
      "execution_count": null,
      "outputs": [
        {
          "output_type": "stream",
          "text": [
            "bans.csv      kills.csv\t\t   mid_model_features\t   monsters.csv\n",
            "_columns.csv  LeagueofLegends.csv  mid_model_features_wh   Reference-Dataset\n",
            "DT_Model      LR_Model\t\t   mid_model_features_wh2  structures.csv\n",
            "gold.csv      matchinfo.csv\t   model_features\n"
          ],
          "name": "stdout"
        }
      ]
    },
    {
      "cell_type": "code",
      "metadata": {
        "id": "fw6lkV0H4dRG"
      },
      "source": [
        "!rm -rf CV_LR_Model && rm -rf LR_Model\n",
        "# Saving the model\n",
        "cv_LR_model.save(\"CV_LR_Model\")\n",
        "best_LR_Model.save(\"LR_Model\")"
      ],
      "execution_count": 25,
      "outputs": []
    },
    {
      "cell_type": "markdown",
      "metadata": {
        "id": "VZc3g4JpXEOk"
      },
      "source": [
        "Below we can see how well our model performed on each number of epochs. We can see that our model performs relatively the same no matter how much we increase our number of epochs from 50 to 100."
      ]
    },
    {
      "cell_type": "code",
      "metadata": {
        "id": "ye44P0Q3OElO"
      },
      "source": [
        "cv_LR_model.avgMetrics"
      ],
      "execution_count": null,
      "outputs": []
    },
    {
      "cell_type": "markdown",
      "metadata": {
        "id": "uM0KzBw--NOd"
      },
      "source": [
        "Parameters"
      ]
    },
    {
      "cell_type": "code",
      "metadata": {
        "colab": {
          "base_uri": "https://localhost:8080/"
        },
        "id": "iCzfjWWl-M52",
        "outputId": "fbb2c1b2-094a-4490-b490-06b0b7e2efdb"
      },
      "source": [
        "print('maxIter', cv_LR_model.bestModel.getMaxIter())\n",
        "print('regParam', cv_LR_model.bestModel.getRegParam())\n",
        "print('aggregationDepth', cv_LR_model.bestModel.getAggregationDepth())"
      ],
      "execution_count": 19,
      "outputs": [
        {
          "output_type": "stream",
          "text": [
            "maxIter 60\n",
            "regParam 0.0\n",
            "aggregationDepth 9\n"
          ],
          "name": "stdout"
        }
      ]
    },
    {
      "cell_type": "markdown",
      "metadata": {
        "id": "LXNxojzv-5yu"
      },
      "source": [
        "Results"
      ]
    },
    {
      "cell_type": "code",
      "metadata": {
        "colab": {
          "base_uri": "https://localhost:8080/",
          "height": 295
        },
        "id": "qXJsKZ3N-9_x",
        "outputId": "4e9feb85-37d3-43d3-a0dd-dc553ba84988"
      },
      "source": [
        "import matplotlib.pyplot as plt\n",
        "import numpy as np\n",
        "\n",
        "trainingSummary = best_LR_Model.summary\n",
        "roc = trainingSummary.roc.toPandas()\n",
        "plt.plot(roc['FPR'],roc['TPR'])\n",
        "plt.ylabel('True Positive Rate')\n",
        "plt.xlabel('False Positive Rate')\n",
        "plt.title('ROC Curve')\n",
        "plt.show()"
      ],
      "execution_count": 20,
      "outputs": [
        {
          "output_type": "display_data",
          "data": {
            "image/png": "[encoded data removed]",
            "text/plain": [
              "<Figure size 432x288 with 1 Axes>"
            ]
          },
          "metadata": {
            "tags": [],
            "needs_background": "light"
          }
        }
      ]
    },
    {
      "cell_type": "code",
      "metadata": {
        "colab": {
          "base_uri": "https://localhost:8080/"
        },
        "id": "34K-UJSQPL9o",
        "outputId": "fe7f1292-96b9-46f3-bfc3-c1683723e941"
      },
      "source": [
        "predictions = best_LR_Model.transform(testData)\n",
        "print('Test Area Under ROC', evaluator.evaluate(predictions))\n",
        "print('Train Area Under ROC', trainingSummary.areaUnderROC)"
      ],
      "execution_count": 21,
      "outputs": [
        {
          "output_type": "stream",
          "text": [
            "Test Area Under ROC 0.9867884545122443\n",
            "Train Area Under ROC 0.988414263514604\n"
          ],
          "name": "stdout"
        }
      ]
    },
    {
      "cell_type": "markdown",
      "metadata": {
        "id": "cZqzHum6QsAW"
      },
      "source": [
        "### Model 2 - Decision Tree Classifier\n",
        "\n",
        "Fort this model we are going to use the Decision Tree algorithm to create a model that can predict the outcome of a game."
      ]
    },
    {
      "cell_type": "markdown",
      "metadata": {
        "id": "tXC5m3WgIEwi"
      },
      "source": [
        "### Initial Model"
      ]
    },
    {
      "cell_type": "code",
      "metadata": {
        "id": "0oNqMCP1Wgm8"
      },
      "source": [
        "from pyspark.ml.classification import DecisionTreeClassifier\n",
        "\n",
        "dt = DecisionTreeClassifier(featuresCol = 'features', labelCol = 'label', maxDepth = 30)\n",
        "dtModel = dt.fit(trainData)"
      ],
      "execution_count": null,
      "outputs": []
    },
    {
      "cell_type": "markdown",
      "metadata": {
        "id": "9mms4OMnX4aP"
      },
      "source": [
        "#### Evaluating the Model"
      ]
    },
    {
      "cell_type": "markdown",
      "metadata": {
        "id": "CBNMzbONX4aP"
      },
      "source": [
        "The first thing that we will do is evaluate our the model that only had a max depth of 20."
      ]
    },
    {
      "cell_type": "code",
      "metadata": {
        "colab": {
          "base_uri": "https://localhost:8080/",
          "height": 748
        },
        "id": "MA_VwldMX4aP",
        "outputId": "26fc75c9-2101-4cb5-eb55-a9d00f1630d8"
      },
      "source": [
        "predictions = dtModel.transform(testData)\n",
        "predCols = ['mid_golddiff', 'bKillCount', 'rKillCount', 'first_blood',\\\n",
        "            'bTowerCount', 'rTowerCount', 'first_tower', 'bInhibCount',\\\n",
        "            'rInhibCount', 'first_inhib', 'bDragonCount', 'rDragonCount',\\\n",
        "            'first_dragon', 'bBaronCount', 'rBaronCount', 'first_baron',\\\n",
        "            'rawPrediction', 'prediction', 'probability']\n",
        "\n",
        "pd.DataFrame(predictions.take(5), columns=predictions.columns).transpose()"
      ],
      "execution_count": null,
      "outputs": [
        {
          "output_type": "execute_result",
          "data": {
            "text/html": [
              "<div>\n",
              "<style scoped>\n",
              "    .dataframe tbody tr th:only-of-type {\n",
              "        vertical-align: middle;\n",
              "    }\n",
              "\n",
              "    .dataframe tbody tr th {\n",
              "        vertical-align: top;\n",
              "    }\n",
              "\n",
              "    .dataframe thead th {\n",
              "        text-align: right;\n",
              "    }\n",
              "</style>\n",
              "<table border=\"1\" class=\"dataframe\">\n",
              "  <thead>\n",
              "    <tr style=\"text-align: right;\">\n",
              "      <th></th>\n",
              "      <th>0</th>\n",
              "      <th>1</th>\n",
              "      <th>2</th>\n",
              "      <th>3</th>\n",
              "      <th>4</th>\n",
              "    </tr>\n",
              "  </thead>\n",
              "  <tbody>\n",
              "    <tr>\n",
              "      <th>label</th>\n",
              "      <td>0</td>\n",
              "      <td>0</td>\n",
              "      <td>0</td>\n",
              "      <td>0</td>\n",
              "      <td>0</td>\n",
              "    </tr>\n",
              "    <tr>\n",
              "      <th>features</th>\n",
              "      <td>(1.0, 0.0, 0.0, 1.0, 0.0, 1.0, 0.0, 0.0, 1.0, ...</td>\n",
              "      <td>(1.0, 0.0, 0.0, 1.0, 0.0, 1.0, 0.0, 0.0, 1.0, ...</td>\n",
              "      <td>(1.0, 0.0, 0.0, 1.0, 0.0, 1.0, 0.0, 0.0, 1.0, ...</td>\n",
              "      <td>(1.0, 0.0, 0.0, 1.0, 0.0, 1.0, 0.0, 0.0, 1.0, ...</td>\n",
              "      <td>(1.0, 0.0, 0.0, 1.0, 0.0, 1.0, 0.0, 0.0, 1.0, ...</td>\n",
              "    </tr>\n",
              "    <tr>\n",
              "      <th>winner</th>\n",
              "      <td>Blue</td>\n",
              "      <td>Blue</td>\n",
              "      <td>Blue</td>\n",
              "      <td>Blue</td>\n",
              "      <td>Blue</td>\n",
              "    </tr>\n",
              "    <tr>\n",
              "      <th>mid_golddiff</th>\n",
              "      <td>659</td>\n",
              "      <td>1166</td>\n",
              "      <td>2128</td>\n",
              "      <td>1625</td>\n",
              "      <td>2106</td>\n",
              "    </tr>\n",
              "    <tr>\n",
              "      <th>bKillCount</th>\n",
              "      <td>1</td>\n",
              "      <td>4</td>\n",
              "      <td>8</td>\n",
              "      <td>4</td>\n",
              "      <td>4</td>\n",
              "    </tr>\n",
              "    <tr>\n",
              "      <th>rKillCount</th>\n",
              "      <td>0</td>\n",
              "      <td>1</td>\n",
              "      <td>2</td>\n",
              "      <td>1</td>\n",
              "      <td>3</td>\n",
              "    </tr>\n",
              "    <tr>\n",
              "      <th>first_blood</th>\n",
              "      <td>Blue</td>\n",
              "      <td>Blue</td>\n",
              "      <td>Blue</td>\n",
              "      <td>Blue</td>\n",
              "      <td>Blue</td>\n",
              "    </tr>\n",
              "    <tr>\n",
              "      <th>bTowerCount</th>\n",
              "      <td>0</td>\n",
              "      <td>0</td>\n",
              "      <td>0</td>\n",
              "      <td>1</td>\n",
              "      <td>1</td>\n",
              "    </tr>\n",
              "    <tr>\n",
              "      <th>rTowerCount</th>\n",
              "      <td>0</td>\n",
              "      <td>0</td>\n",
              "      <td>0</td>\n",
              "      <td>0</td>\n",
              "      <td>0</td>\n",
              "    </tr>\n",
              "    <tr>\n",
              "      <th>first_tower</th>\n",
              "      <td>Blue</td>\n",
              "      <td>Blue</td>\n",
              "      <td>Blue</td>\n",
              "      <td>Blue</td>\n",
              "      <td>Blue</td>\n",
              "    </tr>\n",
              "    <tr>\n",
              "      <th>bInhibCount</th>\n",
              "      <td>0</td>\n",
              "      <td>0</td>\n",
              "      <td>0</td>\n",
              "      <td>0</td>\n",
              "      <td>0</td>\n",
              "    </tr>\n",
              "    <tr>\n",
              "      <th>rInhibCount</th>\n",
              "      <td>0</td>\n",
              "      <td>0</td>\n",
              "      <td>0</td>\n",
              "      <td>0</td>\n",
              "      <td>0</td>\n",
              "    </tr>\n",
              "    <tr>\n",
              "      <th>first_inhib</th>\n",
              "      <td>Blue</td>\n",
              "      <td>Blue</td>\n",
              "      <td>Blue</td>\n",
              "      <td>Blue</td>\n",
              "      <td>Blue</td>\n",
              "    </tr>\n",
              "    <tr>\n",
              "      <th>bDragonCount</th>\n",
              "      <td>0</td>\n",
              "      <td>0</td>\n",
              "      <td>0</td>\n",
              "      <td>0</td>\n",
              "      <td>0</td>\n",
              "    </tr>\n",
              "    <tr>\n",
              "      <th>rDragonCount</th>\n",
              "      <td>0</td>\n",
              "      <td>0</td>\n",
              "      <td>0</td>\n",
              "      <td>0</td>\n",
              "      <td>0</td>\n",
              "    </tr>\n",
              "    <tr>\n",
              "      <th>first_dragon</th>\n",
              "      <td>Blue</td>\n",
              "      <td>Blue</td>\n",
              "      <td>Blue</td>\n",
              "      <td>Blue</td>\n",
              "      <td>Blue</td>\n",
              "    </tr>\n",
              "    <tr>\n",
              "      <th>bBaronCount</th>\n",
              "      <td>0</td>\n",
              "      <td>0</td>\n",
              "      <td>0</td>\n",
              "      <td>0</td>\n",
              "      <td>0</td>\n",
              "    </tr>\n",
              "    <tr>\n",
              "      <th>rBaronCount</th>\n",
              "      <td>0</td>\n",
              "      <td>0</td>\n",
              "      <td>0</td>\n",
              "      <td>0</td>\n",
              "      <td>0</td>\n",
              "    </tr>\n",
              "    <tr>\n",
              "      <th>first_baron</th>\n",
              "      <td>Blue</td>\n",
              "      <td>Blue</td>\n",
              "      <td>Blue</td>\n",
              "      <td>Blue</td>\n",
              "      <td>Blue</td>\n",
              "    </tr>\n",
              "    <tr>\n",
              "      <th>rawPrediction</th>\n",
              "      <td>[1035.0, 0.0]</td>\n",
              "      <td>[1035.0, 0.0]</td>\n",
              "      <td>[1035.0, 0.0]</td>\n",
              "      <td>[1035.0, 0.0]</td>\n",
              "      <td>[1035.0, 0.0]</td>\n",
              "    </tr>\n",
              "    <tr>\n",
              "      <th>probability</th>\n",
              "      <td>[1.0, 0.0]</td>\n",
              "      <td>[1.0, 0.0]</td>\n",
              "      <td>[1.0, 0.0]</td>\n",
              "      <td>[1.0, 0.0]</td>\n",
              "      <td>[1.0, 0.0]</td>\n",
              "    </tr>\n",
              "    <tr>\n",
              "      <th>prediction</th>\n",
              "      <td>0</td>\n",
              "      <td>0</td>\n",
              "      <td>0</td>\n",
              "      <td>0</td>\n",
              "      <td>0</td>\n",
              "    </tr>\n",
              "  </tbody>\n",
              "</table>\n",
              "</div>"
            ],
            "text/plain": [
              "                                                               0  ...                                                  4\n",
              "label                                                          0  ...                                                  0\n",
              "features       (1.0, 0.0, 0.0, 1.0, 0.0, 1.0, 0.0, 0.0, 1.0, ...  ...  (1.0, 0.0, 0.0, 1.0, 0.0, 1.0, 0.0, 0.0, 1.0, ...\n",
              "winner                                                      Blue  ...                                               Blue\n",
              "mid_golddiff                                                 659  ...                                               2106\n",
              "bKillCount                                                     1  ...                                                  4\n",
              "rKillCount                                                     0  ...                                                  3\n",
              "first_blood                                                 Blue  ...                                               Blue\n",
              "bTowerCount                                                    0  ...                                                  1\n",
              "rTowerCount                                                    0  ...                                                  0\n",
              "first_tower                                                 Blue  ...                                               Blue\n",
              "bInhibCount                                                    0  ...                                                  0\n",
              "rInhibCount                                                    0  ...                                                  0\n",
              "first_inhib                                                 Blue  ...                                               Blue\n",
              "bDragonCount                                                   0  ...                                                  0\n",
              "rDragonCount                                                   0  ...                                                  0\n",
              "first_dragon                                                Blue  ...                                               Blue\n",
              "bBaronCount                                                    0  ...                                                  0\n",
              "rBaronCount                                                    0  ...                                                  0\n",
              "first_baron                                                 Blue  ...                                               Blue\n",
              "rawPrediction                                      [1035.0, 0.0]  ...                                      [1035.0, 0.0]\n",
              "probability                                           [1.0, 0.0]  ...                                         [1.0, 0.0]\n",
              "prediction                                                     0  ...                                                  0\n",
              "\n",
              "[22 rows x 5 columns]"
            ]
          },
          "metadata": {
            "tags": []
          },
          "execution_count": 66
        }
      ]
    },
    {
      "cell_type": "code",
      "metadata": {
        "colab": {
          "base_uri": "https://localhost:8080/"
        },
        "id": "r8b1HBNyX4aQ",
        "outputId": "760c8a3c-d05b-43e1-8b0f-0031138ef539"
      },
      "source": [
        "from pyspark.ml.evaluation import BinaryClassificationEvaluator\n",
        "\n",
        "# Evaluate model\n",
        "evaluator = BinaryClassificationEvaluator(rawPredictionCol=\"rawPrediction\")\n",
        "print('Test Area Under ROC', evaluator.evaluate(predictions))"
      ],
      "execution_count": null,
      "outputs": [
        {
          "output_type": "stream",
          "text": [
            "Test Area Under ROC 0.9527426280589755\n"
          ],
          "name": "stdout"
        }
      ]
    },
    {
      "cell_type": "markdown",
      "metadata": {
        "id": "xDRLPgakX4aQ"
      },
      "source": [
        "### Cross-validate Model\n",
        "\n",
        "Here we will use Cross Validation to find the best decision tree model by trying out different max depths. For this cross validation, we are using ten-fold cross validation."
      ]
    },
    {
      "cell_type": "code",
      "metadata": {
        "id": "TAXg4z2fX4aQ"
      },
      "source": [
        "from pyspark.ml.classification import DecisionTreeClassifier\n",
        "from pyspark.ml.evaluation import BinaryClassificationEvaluator\n",
        "from pyspark.ml.tuning import *\n",
        "\n",
        "dt = DecisionTreeClassifier(labelCol=\"label\", featuresCol=\"features\")\n",
        "\n",
        "testDept = [x for x in range(2,22) if x%3==0]\n",
        "testBins = [x for x in range(3, 33) if x%6==0]\n",
        "\n",
        "grid = ParamGridBuilder()\\\n",
        "      .addGrid(dt.maxDepth, testDept)\\\n",
        "      .addGrid(dt.maxBins, testBins)\\\n",
        "      .build()\n",
        "\n",
        "evaluator = BinaryClassificationEvaluator(rawPredictionCol=\"rawPrediction\")\n",
        "\n",
        "cvDT = CrossValidator(estimator=dt, estimatorParamMaps=grid, evaluator=evaluator, numFolds=2)\n",
        "\n",
        "cv_DT_model = cvDT.fit(trainData)\n",
        "best_DT_Model = cv_DT_model.bestModel"
      ],
      "execution_count": 22,
      "outputs": []
    },
    {
      "cell_type": "code",
      "metadata": {
        "id": "dgxg3bA_I26i"
      },
      "source": [
        "!rm -rf CV_DT_Model && rm -rf DT_Model\n",
        "# Saving the model\n",
        "cv_DT_model.save(\"CV_DT_Model\")\n",
        "cv_DT_model.bestModel.save(\"DT_Model\")"
      ],
      "execution_count": 26,
      "outputs": []
    },
    {
      "cell_type": "markdown",
      "metadata": {
        "id": "iNjVS93IX4aQ"
      },
      "source": [
        "Below we can see how well our model performed on each number of epochs. We can see that our model performs relatively the same no matter how much we increase our number of epochs from 50 to 100."
      ]
    },
    {
      "cell_type": "code",
      "metadata": {
        "colab": {
          "base_uri": "https://localhost:8080/"
        },
        "id": "2MzMUn0hX4aQ",
        "outputId": "1f8e4ce2-1301-4cfb-80db-68fe34dcbbbb"
      },
      "source": [
        "cv_DT_model.avgMetrics"
      ],
      "execution_count": null,
      "outputs": [
        {
          "output_type": "execute_result",
          "data": {
            "text/plain": [
              "[0.9259894625208085,\n",
              " 0.9259894625208085,\n",
              " 0.9259894625208085,\n",
              " 0.9259894625208085,\n",
              " 0.9259894625208085,\n",
              " 0.9258642725795916,\n",
              " 0.9281210106871738,\n",
              " 0.9251286321525685,\n",
              " 0.9253422061691277,\n",
              " 0.9254475210626089,\n",
              " 0.9181468920871736,\n",
              " 0.9262073715259678,\n",
              " 0.9128981479152395,\n",
              " 0.9244748501862419,\n",
              " 0.9133758372870348,\n",
              " 0.9269250960198008,\n",
              " 0.9350184012255565,\n",
              " 0.9154624752395413,\n",
              " 0.9209399947039724,\n",
              " 0.9156019399533748,\n",
              " 0.9376787908056042,\n",
              " 0.936598035117603,\n",
              " 0.934746458046932,\n",
              " 0.9373267884326455,\n",
              " 0.9356799973638426,\n",
              " 0.953151724706885,\n",
              " 0.9577545469530266,\n",
              " 0.9572037325111016,\n",
              " 0.9553338876864652,\n",
              " 0.9574004906188234,\n",
              " 0.9579540211583875,\n",
              " 0.9588679343093773,\n",
              " 0.9569633278006253,\n",
              " 0.9563495173464072,\n",
              " 0.9568993537620998]"
            ]
          },
          "metadata": {
            "tags": []
          },
          "execution_count": 138
        }
      ]
    },
    {
      "cell_type": "markdown",
      "metadata": {
        "id": "R7IgxX4EJMPB"
      },
      "source": [
        "Parameters"
      ]
    },
    {
      "cell_type": "code",
      "metadata": {
        "colab": {
          "base_uri": "https://localhost:8080/"
        },
        "id": "N43ITZoZJOPg",
        "outputId": "0a04f6f1-8f97-496e-db39-752bd8c3c946"
      },
      "source": [
        "print('maxDepth', best_DT_Model.getMaxDepth())\n",
        "print('maxBins', best_DT_Model.getMaxBins())"
      ],
      "execution_count": 23,
      "outputs": [
        {
          "output_type": "stream",
          "text": [
            "maxDepth 15\n",
            "maxBins 18\n"
          ],
          "name": "stdout"
        }
      ]
    },
    {
      "cell_type": "code",
      "metadata": {
        "colab": {
          "base_uri": "https://localhost:8080/"
        },
        "id": "CZkcDBPBX4aQ",
        "outputId": "7ebd5e33-364c-4a89-e2ed-ba0da62a35a8"
      },
      "source": [
        "predictions = best_DT_Model.transform(testData)\n",
        "print('Test Area Under ROC', evaluator.evaluate(predictions))\n",
        "print('Train Area Under ROC', evaluator.evaluate(best_DT_Model.transform(trainData)))"
      ],
      "execution_count": 24,
      "outputs": [
        {
          "output_type": "stream",
          "text": [
            "Test Area Under ROC 0.9235622944830106\n",
            "Train Area Under ROC 0.9549062032057833\n"
          ],
          "name": "stdout"
        }
      ]
    },
    {
      "cell_type": "markdown",
      "metadata": {
        "id": "wtNiise-0PxQ"
      },
      "source": [
        "### Creating the ROC Graphs"
      ]
    },
    {
      "cell_type": "code",
      "metadata": {
        "id": "uA1FJtZA0gqp"
      },
      "source": [
        "from pyspark.ml.classification import LogisticRegressionModel\n",
        "from pyspark.ml.classification import DecisionTreeClassificationModel\n",
        "from pyspark.ml.classification import RandomForestClassificationModel\n",
        "from handyspark import *\n",
        "\n",
        "\n",
        "\n",
        "lr = LogisticRegressionModel.load('LR_Model')\n",
        "lr_predictions = lr.transform(testData)\n",
        "lr_bcm = BinaryClassificationMetrics(lr_predictions, scoreCol='probability', \\\n",
        "                                  labelCol='label')\n",
        "\n",
        "dt = DecisionTreeClassificationModel.load('DT_Model')\n",
        "dt_predictions = dt.transform(testData)\n",
        "dt_bcm = BinaryClassificationMetrics(dt_predictions, scoreCol='probability', \\\n",
        "                                  labelCol='label')\n",
        "\n",
        "\n",
        "rf = RandomForestClassificationModel.load('RF_Model')\n",
        "rf_predictions = rf.transform(testData)\n",
        "rf_bcm = BinaryClassificationMetrics(rf_predictions, scoreCol='probability', \\\n",
        "                                  labelCol='label')"
      ],
      "execution_count": 27,
      "outputs": []
    },
    {
      "cell_type": "code",
      "metadata": {
        "colab": {
          "base_uri": "https://localhost:8080/",
          "height": 312
        },
        "id": "GYNk1-2N6RiC",
        "outputId": "ebe8fb10-61b5-497d-a08d-0dbdc182d068"
      },
      "source": [
        "lr_fig, lr_axs = plt.subplots()\n",
        "lr_bcm.plot_roc_curve(ax=lr_axs)\n",
        "lr_axs.set_title('Test ROC Curve for the Logistic Regression Model')"
      ],
      "execution_count": 28,
      "outputs": [
        {
          "output_type": "execute_result",
          "data": {
            "text/plain": [
              "Text(0.5, 1.0, 'Test ROC Curve for the Logistic Regression Model')"
            ]
          },
          "metadata": {
            "tags": []
          },
          "execution_count": 28
        },
        {
          "output_type": "display_data",
          "data": {
            "image/png": "[encoded data removed]",
            "text/plain": [
              "<Figure size 432x288 with 1 Axes>"
            ]
          },
          "metadata": {
            "tags": [],
            "needs_background": "light"
          }
        }
      ]
    },
    {
      "cell_type": "code",
      "metadata": {
        "colab": {
          "base_uri": "https://localhost:8080/",
          "height": 312
        },
        "id": "c_f-Pdq97Cqj",
        "outputId": "7b4e9f43-dab0-42d3-f64b-2bb0ca0c5c01"
      },
      "source": [
        "dt_fig, dt_axs = plt.subplots()\n",
        "dt_bcm.plot_roc_curve(ax=dt_axs)\n",
        "dt_axs.set_title('Test ROC Curve for the Decision Tree Model')"
      ],
      "execution_count": 29,
      "outputs": [
        {
          "output_type": "execute_result",
          "data": {
            "text/plain": [
              "Text(0.5, 1.0, 'Test ROC Curve for the Decision Tree Model')"
            ]
          },
          "metadata": {
            "tags": []
          },
          "execution_count": 29
        },
        {
          "output_type": "display_data",
          "data": {
            "image/png": "[encoded data removed]",
            "text/plain": [
              "<Figure size 432x288 with 1 Axes>"
            ]
          },
          "metadata": {
            "tags": [],
            "needs_background": "light"
          }
        }
      ]
    },
    {
      "cell_type": "code",
      "metadata": {
        "colab": {
          "base_uri": "https://localhost:8080/",
          "height": 312
        },
        "id": "jERO85Iq7DJK",
        "outputId": "3fb20368-9791-4f78-c6ac-b48aa22fcf27"
      },
      "source": [
        "rf_fig, rf_axs = plt.subplots()\n",
        "rf_bcm.plot_roc_curve(ax=rf_axs)\n",
        "rf_axs.set_title('Test ROC Curve for the Random Forest Model')"
      ],
      "execution_count": null,
      "outputs": [
        {
          "output_type": "execute_result",
          "data": {
            "text/plain": [
              "Text(0.5, 1.0, 'Test ROC Curve for the Random Forest Model')"
            ]
          },
          "metadata": {
            "tags": []
          },
          "execution_count": 226
        },
        {
          "output_type": "display_data",
          "data": {
            "image/png": "[encoded data removed]",
            "text/plain": [
              "<Figure size 432x288 with 1 Axes>"
            ]
          },
          "metadata": {
            "tags": []
          }
        }
      ]
    }
  ]
}