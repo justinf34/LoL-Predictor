{
  "nbformat": 4,
  "nbformat_minor": 0,
  "metadata": {
    "colab": {
      "name": "CreatingModels.ipynb",
      "provenance": [],
      "collapsed_sections": [
        "REuMuDXmgxKN",
        "tXC5m3WgIEwi"
      ],
      "authorship_tag": "ABX9TyP6AlDtckZHYYX0sS7hMDf0",
      "include_colab_link": true
    },
    "kernelspec": {
      "name": "python3",
      "display_name": "Python 3"
    }
  },
  "cells": [
    {
      "cell_type": "markdown",
      "metadata": {
        "id": "view-in-github",
        "colab_type": "text"
      },
      "source": [
        "<a href=\"https://colab.research.google.com/github/justinf34/SENG550-Project/blob/main/CreatingModels.ipynb\" target=\"_parent\"><img src=\"https://colab.research.google.com/assets/colab-badge.svg\" alt=\"Open In Colab\"/></a>"
      ]
    },
    {
      "cell_type": "markdown",
      "metadata": {
        "id": "T7ELzLQ4Ts1i"
      },
      "source": [
        "## Setting up Colab"
      ]
    },
    {
      "cell_type": "code",
      "metadata": {
        "colab": {
          "base_uri": "https://localhost:8080/"
        },
        "id": "brTz6FTVSCAD",
        "outputId": "bb312963-9b59-4d84-dc26-c3ebfbb3a496"
      },
      "source": [
        "from google.colab import drive\n",
        "drive.mount('/content/drive')"
      ],
      "execution_count": 1,
      "outputs": [
        {
          "output_type": "stream",
          "text": [
            "Mounted at /content/drive\n"
          ],
          "name": "stdout"
        }
      ]
    },
    {
      "cell_type": "code",
      "metadata": {
        "id": "1L7iwuZVS7Re",
        "colab": {
          "base_uri": "https://localhost:8080/"
        },
        "outputId": "16815da1-440b-4a7a-cea0-f936313852a9"
      },
      "source": [
        "import os\n",
        "os.chdir('drive/MyDrive/Colab Notebooks/SENG550/dataset/') # Chaging to dataset dir\n",
        "print(os.listdir())"
      ],
      "execution_count": 2,
      "outputs": [
        {
          "output_type": "stream",
          "text": [
            "['LeagueofLegends.csv', 'gold.csv', '_columns.csv', 'bans.csv', 'kills.csv', 'monsters.csv', 'structures.csv', 'matchinfo.csv', 'Reference-Dataset', 'model_features', 'mid_model_features', 'mid_model_features_wh', 'mid_model_features_wh2']\n"
          ],
          "name": "stdout"
        }
      ]
    },
    {
      "cell_type": "code",
      "metadata": {
        "colab": {
          "base_uri": "https://localhost:8080/"
        },
        "id": "AnjcaEmuTaCU",
        "outputId": "551e9916-189a-48c4-9951-fd1f37aebe20"
      },
      "source": [
        "!pip install pyspark"
      ],
      "execution_count": 3,
      "outputs": [
        {
          "output_type": "stream",
          "text": [
            "Collecting pyspark\n",
            "\u001b[?25l  Downloading https://files.pythonhosted.org/packages/f0/26/198fc8c0b98580f617cb03cb298c6056587b8f0447e20fa40c5b634ced77/pyspark-3.0.1.tar.gz (204.2MB)\n",
            "\u001b[K     |████████████████████████████████| 204.2MB 65kB/s \n",
            "\u001b[?25hCollecting py4j==0.10.9\n",
            "\u001b[?25l  Downloading https://files.pythonhosted.org/packages/9e/b6/6a4fb90cd235dc8e265a6a2067f2a2c99f0d91787f06aca4bcf7c23f3f80/py4j-0.10.9-py2.py3-none-any.whl (198kB)\n",
            "\u001b[K     |████████████████████████████████| 204kB 2.5MB/s \n",
            "\u001b[?25hBuilding wheels for collected packages: pyspark\n",
            "  Building wheel for pyspark (setup.py) ... \u001b[?25l\u001b[?25hdone\n",
            "  Created wheel for pyspark: filename=pyspark-3.0.1-py2.py3-none-any.whl size=204612243 sha256=aa9ef1c0fa4192fcb239eab23f3e3cfe5dc70cd980f90940444c6b09c486f82c\n",
            "  Stored in directory: /root/.cache/pip/wheels/5e/bd/07/031766ca628adec8435bb40f0bd83bb676ce65ff4007f8e73f\n",
            "Successfully built pyspark\n",
            "Installing collected packages: py4j, pyspark\n",
            "Successfully installed py4j-0.10.9 pyspark-3.0.1\n"
          ],
          "name": "stdout"
        }
      ]
    },
    {
      "cell_type": "code",
      "metadata": {
        "colab": {
          "base_uri": "https://localhost:8080/"
        },
        "id": "u52dtWOWxBg_",
        "outputId": "278099d2-d668-4902-a9b3-f1a97073ebd7"
      },
      "source": [
        "!pip install handyspark "
      ],
      "execution_count": 143,
      "outputs": [
        {
          "output_type": "stream",
          "text": [
            "Collecting handyspark\n",
            "  Downloading https://files.pythonhosted.org/packages/87/8a/2ff2c58c219a680f5cbe8a2ed2eb20bc5126a587c47896339f927934a7c3/handyspark-0.2.2a1-py2.py3-none-any.whl\n",
            "Requirement already satisfied: pyspark in /usr/local/lib/python3.6/dist-packages (from handyspark) (3.0.1)\n",
            "Requirement already satisfied: pandas in /usr/local/lib/python3.6/dist-packages (from handyspark) (1.1.5)\n",
            "Requirement already satisfied: pyarrow in /usr/local/lib/python3.6/dist-packages (from handyspark) (0.14.1)\n",
            "Requirement already satisfied: matplotlib in /usr/local/lib/python3.6/dist-packages (from handyspark) (3.2.2)\n",
            "Collecting findspark\n",
            "  Downloading https://files.pythonhosted.org/packages/fc/2d/2e39f9a023479ea798eed4351cd66f163ce61e00c717e03c37109f00c0f2/findspark-1.4.2-py2.py3-none-any.whl\n",
            "Requirement already satisfied: scikit-learn in /usr/local/lib/python3.6/dist-packages (from handyspark) (0.22.2.post1)\n",
            "Requirement already satisfied: numpy in /usr/local/lib/python3.6/dist-packages (from handyspark) (1.18.5)\n",
            "Requirement already satisfied: seaborn in /usr/local/lib/python3.6/dist-packages (from handyspark) (0.11.0)\n",
            "Requirement already satisfied: scipy in /usr/local/lib/python3.6/dist-packages (from handyspark) (1.4.1)\n",
            "Requirement already satisfied: py4j==0.10.9 in /usr/local/lib/python3.6/dist-packages (from pyspark->handyspark) (0.10.9)\n",
            "Requirement already satisfied: python-dateutil>=2.7.3 in /usr/local/lib/python3.6/dist-packages (from pandas->handyspark) (2.8.1)\n",
            "Requirement already satisfied: pytz>=2017.2 in /usr/local/lib/python3.6/dist-packages (from pandas->handyspark) (2018.9)\n",
            "Requirement already satisfied: six>=1.0.0 in /usr/local/lib/python3.6/dist-packages (from pyarrow->handyspark) (1.15.0)\n",
            "Requirement already satisfied: kiwisolver>=1.0.1 in /usr/local/lib/python3.6/dist-packages (from matplotlib->handyspark) (1.3.1)\n",
            "Requirement already satisfied: cycler>=0.10 in /usr/local/lib/python3.6/dist-packages (from matplotlib->handyspark) (0.10.0)\n",
            "Requirement already satisfied: pyparsing!=2.0.4,!=2.1.2,!=2.1.6,>=2.0.1 in /usr/local/lib/python3.6/dist-packages (from matplotlib->handyspark) (2.4.7)\n",
            "Requirement already satisfied: joblib>=0.11 in /usr/local/lib/python3.6/dist-packages (from scikit-learn->handyspark) (0.17.0)\n",
            "Installing collected packages: findspark, handyspark\n",
            "Successfully installed findspark-1.4.2 handyspark-0.2.2a1\n"
          ],
          "name": "stdout"
        }
      ]
    },
    {
      "cell_type": "markdown",
      "metadata": {
        "id": "AohO2tfSTz-T"
      },
      "source": [
        "# Model Creation"
      ]
    },
    {
      "cell_type": "code",
      "metadata": {
        "id": "0K3nwPM-lSXf"
      },
      "source": [
        "# Setting up Spark context using SparkSession\n",
        "import pyspark\n",
        "from pyspark.sql import SparkSession\n",
        "\n",
        "spark = SparkSession.builder.appName('predictor-models').master(\"local[*]\").getOrCreate()"
      ],
      "execution_count": 4,
      "outputs": []
    },
    {
      "cell_type": "markdown",
      "metadata": {
        "id": "bbncX27boHqq"
      },
      "source": [
        "### Loading the Data"
      ]
    },
    {
      "cell_type": "code",
      "metadata": {
        "colab": {
          "base_uri": "https://localhost:8080/"
        },
        "id": "0ign3jhtmoot",
        "outputId": "ea424cac-3736-40d4-f8cc-5a3c29d4d6d2"
      },
      "source": [
        "\n",
        "mid_df = spark.read.csv('./mid_model_features_wh2/part-*.csv', header=True, inferSchema=True)\n",
        "mid_df.printSchema()"
      ],
      "execution_count": 5,
      "outputs": [
        {
          "output_type": "stream",
          "text": [
            "root\n",
            " |-- winner: string (nullable = true)\n",
            " |-- mid_golddiff: integer (nullable = true)\n",
            " |-- bKillCount: integer (nullable = true)\n",
            " |-- rKillCount: integer (nullable = true)\n",
            " |-- first_blood: string (nullable = true)\n",
            " |-- bTowerCount: integer (nullable = true)\n",
            " |-- rTowerCount: integer (nullable = true)\n",
            " |-- first_tower: string (nullable = true)\n",
            " |-- bInhibCount: integer (nullable = true)\n",
            " |-- rInhibCount: integer (nullable = true)\n",
            " |-- first_inhib: string (nullable = true)\n",
            " |-- bDragonCount: integer (nullable = true)\n",
            " |-- rDragonCount: integer (nullable = true)\n",
            " |-- first_dragon: string (nullable = true)\n",
            " |-- bBaronCount: integer (nullable = true)\n",
            " |-- rBaronCount: integer (nullable = true)\n",
            " |-- first_baron: string (nullable = true)\n",
            "\n"
          ],
          "name": "stdout"
        }
      ]
    },
    {
      "cell_type": "markdown",
      "metadata": {
        "id": "XBnhF-PCrYVK"
      },
      "source": [
        "**Features:**\n",
        "\n",
        "- `mid_goldiff`: This is be the difference between the gold in each team. Computed by Blue(1) - Red(0) gold.\n",
        "- `bKillCount`: The number of kills that the Blue side has.\n",
        "- `rKillCount`: The number of kills that the Red side has.\n",
        "- `first_blood`: Which team got the first kills of the game.\n",
        "- `bTowerCount`: The number of towers that the Blue side knocked down.\n",
        "- `rTowerCount`: The number of towers that the Red side knocked down.\n",
        "- `first_tower`: Which team knocked down the first tower of the game.\n",
        "- `bInhibCount`: The number of inhibitors that the Blue side knocked down.\n",
        "- `rInhibCount`: The number of inhibitors that the Red side knocked down.\n",
        "- `first_inhib`: Which team knocked down the first inhibitor of the game.\n",
        "- `bDragonCount`: The number of dragons that the Blue side has.\n",
        "- `rDragonCount`: The number of dragons that the Red side has.\n",
        "- `first_dragon`: Which team got the first dragon of the game.\n",
        "- `bBaronCount`: The number of barons that the Blue side has.\n",
        "- `rBaronCount`: The number of barons that the Red side has.\n",
        "- `first_baron`: Which team got the first baron of the game\n",
        "\n",
        "**Label:**\n",
        "\n",
        "- `winner`: Indicates which team won the match\n",
        "\n"
      ]
    },
    {
      "cell_type": "markdown",
      "metadata": {
        "id": "hl587_uKuEDk"
      },
      "source": [
        "Looking at the first 5 matches in our dataset"
      ]
    },
    {
      "cell_type": "code",
      "metadata": {
        "colab": {
          "base_uri": "https://localhost:8080/",
          "height": 576
        },
        "id": "9npCWeqOp9l3",
        "outputId": "7df9e47f-122b-4667-d3e5-210a95d67404"
      },
      "source": [
        "import pandas as pd\n",
        "pd.DataFrame(mid_df.take(5), columns=mid_df.columns).transpose()"
      ],
      "execution_count": 8,
      "outputs": [
        {
          "output_type": "execute_result",
          "data": {
            "text/html": [
              "<div>\n",
              "<style scoped>\n",
              "    .dataframe tbody tr th:only-of-type {\n",
              "        vertical-align: middle;\n",
              "    }\n",
              "\n",
              "    .dataframe tbody tr th {\n",
              "        vertical-align: top;\n",
              "    }\n",
              "\n",
              "    .dataframe thead th {\n",
              "        text-align: right;\n",
              "    }\n",
              "</style>\n",
              "<table border=\"1\" class=\"dataframe\">\n",
              "  <thead>\n",
              "    <tr style=\"text-align: right;\">\n",
              "      <th></th>\n",
              "      <th>0</th>\n",
              "      <th>1</th>\n",
              "      <th>2</th>\n",
              "      <th>3</th>\n",
              "      <th>4</th>\n",
              "    </tr>\n",
              "  </thead>\n",
              "  <tbody>\n",
              "    <tr>\n",
              "      <th>winner</th>\n",
              "      <td>Blue</td>\n",
              "      <td>Red</td>\n",
              "      <td>Blue</td>\n",
              "      <td>Red</td>\n",
              "      <td>Blue</td>\n",
              "    </tr>\n",
              "    <tr>\n",
              "      <th>mid_golddiff</th>\n",
              "      <td>1422</td>\n",
              "      <td>1368</td>\n",
              "      <td>5293</td>\n",
              "      <td>2712</td>\n",
              "      <td>-730</td>\n",
              "    </tr>\n",
              "    <tr>\n",
              "      <th>bKillCount</th>\n",
              "      <td>4</td>\n",
              "      <td>5</td>\n",
              "      <td>11</td>\n",
              "      <td>5</td>\n",
              "      <td>1</td>\n",
              "    </tr>\n",
              "    <tr>\n",
              "      <th>rKillCount</th>\n",
              "      <td>3</td>\n",
              "      <td>3</td>\n",
              "      <td>6</td>\n",
              "      <td>5</td>\n",
              "      <td>1</td>\n",
              "    </tr>\n",
              "    <tr>\n",
              "      <th>first_blood</th>\n",
              "      <td>Blue</td>\n",
              "      <td>Blue</td>\n",
              "      <td>Blue</td>\n",
              "      <td>Red</td>\n",
              "      <td>Blue</td>\n",
              "    </tr>\n",
              "    <tr>\n",
              "      <th>bTowerCount</th>\n",
              "      <td>4</td>\n",
              "      <td>1</td>\n",
              "      <td>3</td>\n",
              "      <td>2</td>\n",
              "      <td>1</td>\n",
              "    </tr>\n",
              "    <tr>\n",
              "      <th>rTowerCount</th>\n",
              "      <td>2</td>\n",
              "      <td>1</td>\n",
              "      <td>0</td>\n",
              "      <td>1</td>\n",
              "      <td>3</td>\n",
              "    </tr>\n",
              "    <tr>\n",
              "      <th>first_tower</th>\n",
              "      <td>Blue</td>\n",
              "      <td>Read</td>\n",
              "      <td>Blue</td>\n",
              "      <td>Blue</td>\n",
              "      <td>Read</td>\n",
              "    </tr>\n",
              "    <tr>\n",
              "      <th>bInhibCount</th>\n",
              "      <td>0</td>\n",
              "      <td>0</td>\n",
              "      <td>0</td>\n",
              "      <td>0</td>\n",
              "      <td>0</td>\n",
              "    </tr>\n",
              "    <tr>\n",
              "      <th>rInhibCount</th>\n",
              "      <td>0</td>\n",
              "      <td>0</td>\n",
              "      <td>0</td>\n",
              "      <td>0</td>\n",
              "      <td>0</td>\n",
              "    </tr>\n",
              "    <tr>\n",
              "      <th>first_inhib</th>\n",
              "      <td>Blue</td>\n",
              "      <td>Red</td>\n",
              "      <td>Blue</td>\n",
              "      <td>Red</td>\n",
              "      <td>Blue</td>\n",
              "    </tr>\n",
              "    <tr>\n",
              "      <th>bDragonCount</th>\n",
              "      <td>0</td>\n",
              "      <td>0</td>\n",
              "      <td>1</td>\n",
              "      <td>0</td>\n",
              "      <td>1</td>\n",
              "    </tr>\n",
              "    <tr>\n",
              "      <th>rDragonCount</th>\n",
              "      <td>1</td>\n",
              "      <td>1</td>\n",
              "      <td>0</td>\n",
              "      <td>2</td>\n",
              "      <td>0</td>\n",
              "    </tr>\n",
              "    <tr>\n",
              "      <th>first_dragon</th>\n",
              "      <td>Read</td>\n",
              "      <td>Read</td>\n",
              "      <td>Blue</td>\n",
              "      <td>Red</td>\n",
              "      <td>Blue</td>\n",
              "    </tr>\n",
              "    <tr>\n",
              "      <th>bBaronCount</th>\n",
              "      <td>0</td>\n",
              "      <td>0</td>\n",
              "      <td>0</td>\n",
              "      <td>0</td>\n",
              "      <td>0</td>\n",
              "    </tr>\n",
              "    <tr>\n",
              "      <th>rBaronCount</th>\n",
              "      <td>0</td>\n",
              "      <td>0</td>\n",
              "      <td>0</td>\n",
              "      <td>0</td>\n",
              "      <td>0</td>\n",
              "    </tr>\n",
              "    <tr>\n",
              "      <th>first_baron</th>\n",
              "      <td>Red</td>\n",
              "      <td>Blue</td>\n",
              "      <td>Blue</td>\n",
              "      <td>Blue</td>\n",
              "      <td>Blue</td>\n",
              "    </tr>\n",
              "  </tbody>\n",
              "</table>\n",
              "</div>"
            ],
            "text/plain": [
              "                 0     1     2     3     4\n",
              "winner        Blue   Red  Blue   Red  Blue\n",
              "mid_golddiff  1422  1368  5293  2712  -730\n",
              "bKillCount       4     5    11     5     1\n",
              "rKillCount       3     3     6     5     1\n",
              "first_blood   Blue  Blue  Blue   Red  Blue\n",
              "bTowerCount      4     1     3     2     1\n",
              "rTowerCount      2     1     0     1     3\n",
              "first_tower   Blue  Read  Blue  Blue  Read\n",
              "bInhibCount      0     0     0     0     0\n",
              "rInhibCount      0     0     0     0     0\n",
              "first_inhib   Blue   Red  Blue   Red  Blue\n",
              "bDragonCount     0     0     1     0     1\n",
              "rDragonCount     1     1     0     2     0\n",
              "first_dragon  Read  Read  Blue   Red  Blue\n",
              "bBaronCount      0     0     0     0     0\n",
              "rBaronCount      0     0     0     0     0\n",
              "first_baron    Red  Blue  Blue  Blue  Blue"
            ]
          },
          "metadata": {
            "tags": []
          },
          "execution_count": 8
        }
      ]
    },
    {
      "cell_type": "markdown",
      "metadata": {
        "id": "Sx77-ZqzdLDP"
      },
      "source": [
        "Below we can see that the number of records where blue is the winner and when red is the winner is almost balanced."
      ]
    },
    {
      "cell_type": "code",
      "metadata": {
        "colab": {
          "base_uri": "https://localhost:8080/",
          "height": 111
        },
        "id": "r1NYOrIxc_qw",
        "outputId": "779c8397-ae6f-4ffc-f036-b40304271af2"
      },
      "source": [
        "mid_df.groupby('winner').count().toPandas()"
      ],
      "execution_count": 7,
      "outputs": [
        {
          "output_type": "execute_result",
          "data": {
            "text/html": [
              "<div>\n",
              "<style scoped>\n",
              "    .dataframe tbody tr th:only-of-type {\n",
              "        vertical-align: middle;\n",
              "    }\n",
              "\n",
              "    .dataframe tbody tr th {\n",
              "        vertical-align: top;\n",
              "    }\n",
              "\n",
              "    .dataframe thead th {\n",
              "        text-align: right;\n",
              "    }\n",
              "</style>\n",
              "<table border=\"1\" class=\"dataframe\">\n",
              "  <thead>\n",
              "    <tr style=\"text-align: right;\">\n",
              "      <th></th>\n",
              "      <th>winner</th>\n",
              "      <th>count</th>\n",
              "    </tr>\n",
              "  </thead>\n",
              "  <tbody>\n",
              "    <tr>\n",
              "      <th>0</th>\n",
              "      <td>Blue</td>\n",
              "      <td>4146</td>\n",
              "    </tr>\n",
              "    <tr>\n",
              "      <th>1</th>\n",
              "      <td>Red</td>\n",
              "      <td>3474</td>\n",
              "    </tr>\n",
              "  </tbody>\n",
              "</table>\n",
              "</div>"
            ],
            "text/plain": [
              "  winner  count\n",
              "0   Blue   4146\n",
              "1    Red   3474"
            ]
          },
          "metadata": {
            "tags": []
          },
          "execution_count": 7
        }
      ]
    },
    {
      "cell_type": "markdown",
      "metadata": {
        "id": "tQ-QsHqKdXZQ"
      },
      "source": [
        "### Summary Statistics"
      ]
    },
    {
      "cell_type": "markdown",
      "metadata": {
        "id": "l9QeIfc9f3j3"
      },
      "source": [
        "Here we can see the mean, standard deviation, max, and min for our numerical variables."
      ]
    },
    {
      "cell_type": "code",
      "metadata": {
        "colab": {
          "base_uri": "https://localhost:8080/",
          "height": 421
        },
        "id": "UEyPI0ZRdpUI",
        "outputId": "afc6b800-88b3-4efa-84bd-4706046bf660"
      },
      "source": [
        "numeric_data = [t[0] for t in mid_df.dtypes if t[1] == 'int']\n",
        "mid_df.select(numeric_data).describe().toPandas().transpose()"
      ],
      "execution_count": null,
      "outputs": [
        {
          "output_type": "execute_result",
          "data": {
            "text/html": [
              "<div>\n",
              "<style scoped>\n",
              "    .dataframe tbody tr th:only-of-type {\n",
              "        vertical-align: middle;\n",
              "    }\n",
              "\n",
              "    .dataframe tbody tr th {\n",
              "        vertical-align: top;\n",
              "    }\n",
              "\n",
              "    .dataframe thead th {\n",
              "        text-align: right;\n",
              "    }\n",
              "</style>\n",
              "<table border=\"1\" class=\"dataframe\">\n",
              "  <thead>\n",
              "    <tr style=\"text-align: right;\">\n",
              "      <th></th>\n",
              "      <th>0</th>\n",
              "      <th>1</th>\n",
              "      <th>2</th>\n",
              "      <th>3</th>\n",
              "      <th>4</th>\n",
              "    </tr>\n",
              "  </thead>\n",
              "  <tbody>\n",
              "    <tr>\n",
              "      <th>summary</th>\n",
              "      <td>count</td>\n",
              "      <td>mean</td>\n",
              "      <td>stddev</td>\n",
              "      <td>min</td>\n",
              "      <td>max</td>\n",
              "    </tr>\n",
              "    <tr>\n",
              "      <th>mid_golddiff</th>\n",
              "      <td>7620</td>\n",
              "      <td>209.72086614173227</td>\n",
              "      <td>2817.02348085286</td>\n",
              "      <td>-13591</td>\n",
              "      <td>12673</td>\n",
              "    </tr>\n",
              "    <tr>\n",
              "      <th>bKillCount</th>\n",
              "      <td>7620</td>\n",
              "      <td>3.862992125984252</td>\n",
              "      <td>2.802155522367613</td>\n",
              "      <td>0</td>\n",
              "      <td>31</td>\n",
              "    </tr>\n",
              "    <tr>\n",
              "      <th>rKillCount</th>\n",
              "      <td>7620</td>\n",
              "      <td>3.744225721784777</td>\n",
              "      <td>2.825049109605663</td>\n",
              "      <td>0</td>\n",
              "      <td>20</td>\n",
              "    </tr>\n",
              "    <tr>\n",
              "      <th>bTowerCount</th>\n",
              "      <td>7620</td>\n",
              "      <td>1.7263779527559056</td>\n",
              "      <td>1.323631865981659</td>\n",
              "      <td>0</td>\n",
              "      <td>8</td>\n",
              "    </tr>\n",
              "    <tr>\n",
              "      <th>rTowerCount</th>\n",
              "      <td>7620</td>\n",
              "      <td>1.5360892388451444</td>\n",
              "      <td>1.2876729076787756</td>\n",
              "      <td>0</td>\n",
              "      <td>9</td>\n",
              "    </tr>\n",
              "    <tr>\n",
              "      <th>bInhibCount</th>\n",
              "      <td>7620</td>\n",
              "      <td>0.0032808398950131233</td>\n",
              "      <td>0.06573059977889233</td>\n",
              "      <td>0</td>\n",
              "      <td>3</td>\n",
              "    </tr>\n",
              "    <tr>\n",
              "      <th>rInhibCount</th>\n",
              "      <td>7620</td>\n",
              "      <td>0.0034120734908136482</td>\n",
              "      <td>0.07053997021908105</td>\n",
              "      <td>0</td>\n",
              "      <td>4</td>\n",
              "    </tr>\n",
              "    <tr>\n",
              "      <th>bDragonCount</th>\n",
              "      <td>7620</td>\n",
              "      <td>0.6570866141732283</td>\n",
              "      <td>0.7255637472953317</td>\n",
              "      <td>0</td>\n",
              "      <td>4</td>\n",
              "    </tr>\n",
              "    <tr>\n",
              "      <th>rDragonCount</th>\n",
              "      <td>7620</td>\n",
              "      <td>0.75748031496063</td>\n",
              "      <td>0.7647421170462376</td>\n",
              "      <td>0</td>\n",
              "      <td>5</td>\n",
              "    </tr>\n",
              "    <tr>\n",
              "      <th>bBaronCount</th>\n",
              "      <td>7620</td>\n",
              "      <td>0.014041994750656168</td>\n",
              "      <td>0.11878188379681456</td>\n",
              "      <td>0</td>\n",
              "      <td>2</td>\n",
              "    </tr>\n",
              "    <tr>\n",
              "      <th>rBaronCount</th>\n",
              "      <td>7620</td>\n",
              "      <td>0.018503937007874015</td>\n",
              "      <td>0.13955799240264175</td>\n",
              "      <td>0</td>\n",
              "      <td>2</td>\n",
              "    </tr>\n",
              "  </tbody>\n",
              "</table>\n",
              "</div>"
            ],
            "text/plain": [
              "                  0                      1                    2       3      4\n",
              "summary       count                   mean               stddev     min    max\n",
              "mid_golddiff   7620     209.72086614173227     2817.02348085286  -13591  12673\n",
              "bKillCount     7620      3.862992125984252    2.802155522367613       0     31\n",
              "rKillCount     7620      3.744225721784777    2.825049109605663       0     20\n",
              "bTowerCount    7620     1.7263779527559056    1.323631865981659       0      8\n",
              "rTowerCount    7620     1.5360892388451444   1.2876729076787756       0      9\n",
              "bInhibCount    7620  0.0032808398950131233  0.06573059977889233       0      3\n",
              "rInhibCount    7620  0.0034120734908136482  0.07053997021908105       0      4\n",
              "bDragonCount   7620     0.6570866141732283   0.7255637472953317       0      4\n",
              "rDragonCount   7620       0.75748031496063   0.7647421170462376       0      5\n",
              "bBaronCount    7620   0.014041994750656168  0.11878188379681456       0      2\n",
              "rBaronCount    7620   0.018503937007874015  0.13955799240264175       0      2"
            ]
          },
          "metadata": {
            "tags": []
          },
          "execution_count": 8
        }
      ]
    },
    {
      "cell_type": "markdown",
      "metadata": {
        "id": "CEh-FGzLj1_e"
      },
      "source": [
        "## Model Building"
      ]
    },
    {
      "cell_type": "markdown",
      "metadata": {
        "id": "znb4CPlCkGsA"
      },
      "source": [
        "### Preparing Data\n",
        "\n",
        "Before we can create models, we must prepare our data so that the model can use our data and estimate parameters needed to predict game results. The data has already been altered during the firt phase of data preprocessing, however, we need to encode categroical features to numerical since machine learning models can only work with numbers. Also, we need to normalize our numeric features. This is necessar because the numeric features are in very different ranges. Numeric features that have larger values such as gold difference can influence the result more due to its larger values, however, this feature might not be as important as the other features."
      ]
    },
    {
      "cell_type": "markdown",
      "metadata": {
        "id": "TYTfdnluBpeX"
      },
      "source": [
        "#### Encoding Categorical Features"
      ]
    },
    {
      "cell_type": "code",
      "metadata": {
        "id": "6U-ul5KbkF7_"
      },
      "source": [
        "from pyspark.ml.feature import OneHotEncoder, StringIndexer, VectorAssembler\n",
        "\n",
        "# Creating coverting categorical feature to  numerical representations\n",
        "categorical_features = [t[0] for t in mid_df.dtypes if t[1] == 'string' and t[0] != 'winner' ]\n",
        "stages_v1 = [] # Stages in our Pipeline\n",
        "\n",
        "for col in categorical_features:\n",
        "  strIndexer = StringIndexer(inputCol=col, outputCol=col + \"Index\")\n",
        "  encoder = OneHotEncoder(inputCols=[strIndexer.getOutputCol()], outputCols=[col + \"classVec\"])\n",
        "  stages_v1 += [strIndexer, encoder]"
      ],
      "execution_count": 9,
      "outputs": []
    },
    {
      "cell_type": "markdown",
      "metadata": {
        "id": "nz4N-S_o7jeI"
      },
      "source": [
        "Since we doing a binary classification, our label is also categorical which we have to convert to numerical. Our label only have category which means that we can use integer encoding rather than one-hot encoding."
      ]
    },
    {
      "cell_type": "code",
      "metadata": {
        "id": "d4UFtVIG7rRG"
      },
      "source": [
        "label_strIndexer = StringIndexer(inputCol=\"winner\", outputCol=\"label\")\n",
        "stages_v1 += [label_strIndexer]"
      ],
      "execution_count": 10,
      "outputs": []
    },
    {
      "cell_type": "markdown",
      "metadata": {
        "id": "ag2fNDw-AmUy"
      },
      "source": [
        "#### Normalizing Numeric Features"
      ]
    },
    {
      "cell_type": "code",
      "metadata": {
        "id": "3UIvr5W5DLXJ"
      },
      "source": [
        "from pyspark.ml.feature import MinMaxScaler\n",
        "from pyspark.ml.feature import VectorAssembler\n",
        "from pyspark.sql.functions import udf\n",
        "from pyspark.sql.types import DoubleType\n",
        "\n",
        "num_features = [t[0] for t in mid_df.dtypes if t[1] == 'int']\n",
        "\n",
        "for col in num_features:\n",
        "  assembler = VectorAssembler(inputCols=[col], outputCol=col + \"_Vect\")\n",
        "  scaler = MinMaxScaler(inputCol=assembler.getOutputCol(), outputCol=col+\"_Scaled\")\n",
        "  stages_v1 +=[assembler,scaler]\n"
      ],
      "execution_count": 11,
      "outputs": []
    },
    {
      "cell_type": "markdown",
      "metadata": {
        "id": "Wt9wRlmW8G_b"
      },
      "source": [
        "#### Combining All Features\n",
        "Now, we will combine all the features columns into a single vector column that we will call `features` which will be the input data to our models."
      ]
    },
    {
      "cell_type": "code",
      "metadata": {
        "id": "0HQzlZcJ8SWk"
      },
      "source": [
        "from pyspark.ml.feature import VectorAssembler\n",
        "\n",
        "assemblerInputs = [col + \"classVec\" for col in categorical_features] + [col + \"_Scaled\" for col in num_features]\n",
        "assembler2 = VectorAssembler(inputCols=assemblerInputs, outputCol=\"features\")\n",
        "stages_v1 += [assembler2]"
      ],
      "execution_count": 12,
      "outputs": []
    },
    {
      "cell_type": "markdown",
      "metadata": {
        "id": "qot-er4q86Lg"
      },
      "source": [
        "Now that we have defined all our data transformations, it still has not been applied to our data. They will be applied when we start training a model. Below will be the number of transformations that our data will go through."
      ]
    },
    {
      "cell_type": "code",
      "metadata": {
        "colab": {
          "base_uri": "https://localhost:8080/"
        },
        "id": "mOiwpzNP-jfk",
        "outputId": "710e79e7-388e-437a-e254-def8771e30d4"
      },
      "source": [
        "stages_v1"
      ],
      "execution_count": 13,
      "outputs": [
        {
          "output_type": "execute_result",
          "data": {
            "text/plain": [
              "[StringIndexer_9f1bfe08de55,\n",
              " OneHotEncoder_997938304287,\n",
              " StringIndexer_10965c18fdca,\n",
              " OneHotEncoder_23ef30ccccf3,\n",
              " StringIndexer_fefb3658b300,\n",
              " OneHotEncoder_22f9dfdca563,\n",
              " StringIndexer_3f1f423182c9,\n",
              " OneHotEncoder_75f2f1221960,\n",
              " StringIndexer_342501467e00,\n",
              " OneHotEncoder_6be882c4a00d,\n",
              " StringIndexer_e5b6c7fdb792,\n",
              " VectorAssembler_f0590a936610,\n",
              " MinMaxScaler_e17b16ae7f88,\n",
              " VectorAssembler_626b9d148f7b,\n",
              " MinMaxScaler_f87f5c90e1e8,\n",
              " VectorAssembler_6e6261eac6ca,\n",
              " MinMaxScaler_594614242705,\n",
              " VectorAssembler_2d9b3c0ac9c7,\n",
              " MinMaxScaler_84784a1f2df5,\n",
              " VectorAssembler_32da88e6b589,\n",
              " MinMaxScaler_799c9f22f0e6,\n",
              " VectorAssembler_c90a4d92aaa7,\n",
              " MinMaxScaler_7a43268627b2,\n",
              " VectorAssembler_36556d2d5ecf,\n",
              " MinMaxScaler_24a6a89394da,\n",
              " VectorAssembler_0eefe26cd1c3,\n",
              " MinMaxScaler_d6389732e8e9,\n",
              " VectorAssembler_494320d7a553,\n",
              " MinMaxScaler_4addafd7f7b7,\n",
              " VectorAssembler_1549727c8e47,\n",
              " MinMaxScaler_38bc6c0fe867,\n",
              " VectorAssembler_16fa5de68ef1,\n",
              " MinMaxScaler_881abf0627ec,\n",
              " VectorAssembler_b331d6e55cbf]"
            ]
          },
          "metadata": {
            "tags": []
          },
          "execution_count": 13
        }
      ]
    },
    {
      "cell_type": "code",
      "metadata": {
        "id": "qzc4VDBG9RkR"
      },
      "source": [
        "from pyspark.ml import Pipeline\n",
        "\n",
        "pipeline = Pipeline().setStages(stages_v1)\n",
        "pipelineModel = pipeline.fit(mid_df)\n",
        "transformed_data = pipelineModel.transform(mid_df)"
      ],
      "execution_count": 14,
      "outputs": []
    },
    {
      "cell_type": "code",
      "metadata": {
        "colab": {
          "base_uri": "https://localhost:8080/"
        },
        "id": "WjjN4SC89Rji",
        "outputId": "391d29b3-fac9-4e7d-d7b1-9a7fba4d5219"
      },
      "source": [
        "selectedCols = ['label', 'features'] + mid_df.columns\n",
        "model_df = transformed_data.select(selectedCols)\n",
        "model_df.printSchema()"
      ],
      "execution_count": 15,
      "outputs": [
        {
          "output_type": "stream",
          "text": [
            "root\n",
            " |-- label: double (nullable = false)\n",
            " |-- features: vector (nullable = true)\n",
            " |-- winner: string (nullable = true)\n",
            " |-- mid_golddiff: integer (nullable = true)\n",
            " |-- bKillCount: integer (nullable = true)\n",
            " |-- rKillCount: integer (nullable = true)\n",
            " |-- first_blood: string (nullable = true)\n",
            " |-- bTowerCount: integer (nullable = true)\n",
            " |-- rTowerCount: integer (nullable = true)\n",
            " |-- first_tower: string (nullable = true)\n",
            " |-- bInhibCount: integer (nullable = true)\n",
            " |-- rInhibCount: integer (nullable = true)\n",
            " |-- first_inhib: string (nullable = true)\n",
            " |-- bDragonCount: integer (nullable = true)\n",
            " |-- rDragonCount: integer (nullable = true)\n",
            " |-- first_dragon: string (nullable = true)\n",
            " |-- bBaronCount: integer (nullable = true)\n",
            " |-- rBaronCount: integer (nullable = true)\n",
            " |-- first_baron: string (nullable = true)\n",
            "\n"
          ],
          "name": "stdout"
        }
      ]
    },
    {
      "cell_type": "code",
      "metadata": {
        "colab": {
          "base_uri": "https://localhost:8080/",
          "height": 655
        },
        "id": "2nbYtvtzAA6x",
        "outputId": "f6c73b34-b371-4308-ba69-b9cb98681cc5"
      },
      "source": [
        "pd.DataFrame(model_df.take(5), columns=model_df.columns).transpose()"
      ],
      "execution_count": 16,
      "outputs": [
        {
          "output_type": "execute_result",
          "data": {
            "text/html": [
              "<div>\n",
              "<style scoped>\n",
              "    .dataframe tbody tr th:only-of-type {\n",
              "        vertical-align: middle;\n",
              "    }\n",
              "\n",
              "    .dataframe tbody tr th {\n",
              "        vertical-align: top;\n",
              "    }\n",
              "\n",
              "    .dataframe thead th {\n",
              "        text-align: right;\n",
              "    }\n",
              "</style>\n",
              "<table border=\"1\" class=\"dataframe\">\n",
              "  <thead>\n",
              "    <tr style=\"text-align: right;\">\n",
              "      <th></th>\n",
              "      <th>0</th>\n",
              "      <th>1</th>\n",
              "      <th>2</th>\n",
              "      <th>3</th>\n",
              "      <th>4</th>\n",
              "    </tr>\n",
              "  </thead>\n",
              "  <tbody>\n",
              "    <tr>\n",
              "      <th>label</th>\n",
              "      <td>0</td>\n",
              "      <td>1</td>\n",
              "      <td>0</td>\n",
              "      <td>1</td>\n",
              "      <td>0</td>\n",
              "    </tr>\n",
              "    <tr>\n",
              "      <th>features</th>\n",
              "      <td>(1.0, 0.0, 0.0, 1.0, 0.0, 1.0, 0.0, 0.0, 0.0, ...</td>\n",
              "      <td>(1.0, 0.0, 0.0, 0.0, 1.0, 0.0, 1.0, 0.0, 0.0, ...</td>\n",
              "      <td>(1.0, 0.0, 0.0, 1.0, 0.0, 1.0, 0.0, 0.0, 1.0, ...</td>\n",
              "      <td>(0.0, 1.0, 0.0, 1.0, 0.0, 0.0, 1.0, 0.0, 0.0, ...</td>\n",
              "      <td>(1.0, 0.0, 0.0, 0.0, 1.0, 1.0, 0.0, 0.0, 1.0, ...</td>\n",
              "    </tr>\n",
              "    <tr>\n",
              "      <th>winner</th>\n",
              "      <td>Blue</td>\n",
              "      <td>Red</td>\n",
              "      <td>Blue</td>\n",
              "      <td>Red</td>\n",
              "      <td>Blue</td>\n",
              "    </tr>\n",
              "    <tr>\n",
              "      <th>mid_golddiff</th>\n",
              "      <td>1422</td>\n",
              "      <td>1368</td>\n",
              "      <td>5293</td>\n",
              "      <td>2712</td>\n",
              "      <td>-730</td>\n",
              "    </tr>\n",
              "    <tr>\n",
              "      <th>bKillCount</th>\n",
              "      <td>4</td>\n",
              "      <td>5</td>\n",
              "      <td>11</td>\n",
              "      <td>5</td>\n",
              "      <td>1</td>\n",
              "    </tr>\n",
              "    <tr>\n",
              "      <th>rKillCount</th>\n",
              "      <td>3</td>\n",
              "      <td>3</td>\n",
              "      <td>6</td>\n",
              "      <td>5</td>\n",
              "      <td>1</td>\n",
              "    </tr>\n",
              "    <tr>\n",
              "      <th>first_blood</th>\n",
              "      <td>Blue</td>\n",
              "      <td>Blue</td>\n",
              "      <td>Blue</td>\n",
              "      <td>Red</td>\n",
              "      <td>Blue</td>\n",
              "    </tr>\n",
              "    <tr>\n",
              "      <th>bTowerCount</th>\n",
              "      <td>4</td>\n",
              "      <td>1</td>\n",
              "      <td>3</td>\n",
              "      <td>2</td>\n",
              "      <td>1</td>\n",
              "    </tr>\n",
              "    <tr>\n",
              "      <th>rTowerCount</th>\n",
              "      <td>2</td>\n",
              "      <td>1</td>\n",
              "      <td>0</td>\n",
              "      <td>1</td>\n",
              "      <td>3</td>\n",
              "    </tr>\n",
              "    <tr>\n",
              "      <th>first_tower</th>\n",
              "      <td>Blue</td>\n",
              "      <td>Read</td>\n",
              "      <td>Blue</td>\n",
              "      <td>Blue</td>\n",
              "      <td>Read</td>\n",
              "    </tr>\n",
              "    <tr>\n",
              "      <th>bInhibCount</th>\n",
              "      <td>0</td>\n",
              "      <td>0</td>\n",
              "      <td>0</td>\n",
              "      <td>0</td>\n",
              "      <td>0</td>\n",
              "    </tr>\n",
              "    <tr>\n",
              "      <th>rInhibCount</th>\n",
              "      <td>0</td>\n",
              "      <td>0</td>\n",
              "      <td>0</td>\n",
              "      <td>0</td>\n",
              "      <td>0</td>\n",
              "    </tr>\n",
              "    <tr>\n",
              "      <th>first_inhib</th>\n",
              "      <td>Blue</td>\n",
              "      <td>Red</td>\n",
              "      <td>Blue</td>\n",
              "      <td>Red</td>\n",
              "      <td>Blue</td>\n",
              "    </tr>\n",
              "    <tr>\n",
              "      <th>bDragonCount</th>\n",
              "      <td>0</td>\n",
              "      <td>0</td>\n",
              "      <td>1</td>\n",
              "      <td>0</td>\n",
              "      <td>1</td>\n",
              "    </tr>\n",
              "    <tr>\n",
              "      <th>rDragonCount</th>\n",
              "      <td>1</td>\n",
              "      <td>1</td>\n",
              "      <td>0</td>\n",
              "      <td>2</td>\n",
              "      <td>0</td>\n",
              "    </tr>\n",
              "    <tr>\n",
              "      <th>first_dragon</th>\n",
              "      <td>Read</td>\n",
              "      <td>Read</td>\n",
              "      <td>Blue</td>\n",
              "      <td>Red</td>\n",
              "      <td>Blue</td>\n",
              "    </tr>\n",
              "    <tr>\n",
              "      <th>bBaronCount</th>\n",
              "      <td>0</td>\n",
              "      <td>0</td>\n",
              "      <td>0</td>\n",
              "      <td>0</td>\n",
              "      <td>0</td>\n",
              "    </tr>\n",
              "    <tr>\n",
              "      <th>rBaronCount</th>\n",
              "      <td>0</td>\n",
              "      <td>0</td>\n",
              "      <td>0</td>\n",
              "      <td>0</td>\n",
              "      <td>0</td>\n",
              "    </tr>\n",
              "    <tr>\n",
              "      <th>first_baron</th>\n",
              "      <td>Red</td>\n",
              "      <td>Blue</td>\n",
              "      <td>Blue</td>\n",
              "      <td>Blue</td>\n",
              "      <td>Blue</td>\n",
              "    </tr>\n",
              "  </tbody>\n",
              "</table>\n",
              "</div>"
            ],
            "text/plain": [
              "                                                              0  ...                                                  4\n",
              "label                                                         0  ...                                                  0\n",
              "features      (1.0, 0.0, 0.0, 1.0, 0.0, 1.0, 0.0, 0.0, 0.0, ...  ...  (1.0, 0.0, 0.0, 0.0, 1.0, 1.0, 0.0, 0.0, 1.0, ...\n",
              "winner                                                     Blue  ...                                               Blue\n",
              "mid_golddiff                                               1422  ...                                               -730\n",
              "bKillCount                                                    4  ...                                                  1\n",
              "rKillCount                                                    3  ...                                                  1\n",
              "first_blood                                                Blue  ...                                               Blue\n",
              "bTowerCount                                                   4  ...                                                  1\n",
              "rTowerCount                                                   2  ...                                                  3\n",
              "first_tower                                                Blue  ...                                               Read\n",
              "bInhibCount                                                   0  ...                                                  0\n",
              "rInhibCount                                                   0  ...                                                  0\n",
              "first_inhib                                                Blue  ...                                               Blue\n",
              "bDragonCount                                                  0  ...                                                  1\n",
              "rDragonCount                                                  1  ...                                                  0\n",
              "first_dragon                                               Read  ...                                               Blue\n",
              "bBaronCount                                                   0  ...                                                  0\n",
              "rBaronCount                                                   0  ...                                                  0\n",
              "first_baron                                                 Red  ...                                               Blue\n",
              "\n",
              "[19 rows x 5 columns]"
            ]
          },
          "metadata": {
            "tags": []
          },
          "execution_count": 16
        }
      ]
    },
    {
      "cell_type": "markdown",
      "metadata": {
        "id": "wOmcmssGAXeH"
      },
      "source": [
        "From the dataframe above, we can see that 0 indicates for Blue and 1 indicates for Red."
      ]
    },
    {
      "cell_type": "markdown",
      "metadata": {
        "id": "nGZpzPhoAsI4"
      },
      "source": [
        "#### Splitting the data into train and test sets"
      ]
    },
    {
      "cell_type": "code",
      "metadata": {
        "colab": {
          "base_uri": "https://localhost:8080/"
        },
        "id": "Ey0fuDRkAfBJ",
        "outputId": "29ae40d6-08d4-471f-9255-144006722df7"
      },
      "source": [
        "weights = [.8, .2] # train/test split\n",
        "seed = 42\n",
        "trainData, testData = model_df.randomSplit(weights,seed)\n",
        "print(\"Training Dataset Count: \" + str(trainData.count()))\n",
        "print(\"Test Dataset Count: \" + str(testData.count()))"
      ],
      "execution_count": 17,
      "outputs": [
        {
          "output_type": "stream",
          "text": [
            "Training Dataset Count: 6166\n",
            "Test Dataset Count: 1454\n"
          ],
          "name": "stdout"
        }
      ]
    },
    {
      "cell_type": "markdown",
      "metadata": {
        "id": "bQ5VYd6bB2q7"
      },
      "source": [
        "### Model 1 - Logistic Regression\n",
        "\n",
        "Now we will build our first model which use the logistic regression algorithm. This will be used as our baseline model as we explore other alogrithms and change the features we give our model."
      ]
    },
    {
      "cell_type": "markdown",
      "metadata": {
        "id": "REuMuDXmgxKN"
      },
      "source": [
        "### Initial Model"
      ]
    },
    {
      "cell_type": "code",
      "metadata": {
        "id": "lObgLWS9B5a4"
      },
      "source": [
        "from pyspark.ml.classification import LogisticRegression\n",
        "\n",
        "# Create initial LogisticRegression model\n",
        "lr = LogisticRegression(labelCol=\"label\",\\\n",
        "                        featuresCol=\"features\", \\\n",
        "                        maxIter=100, \\\n",
        "                        family=\"multinomial\",\n",
        "                        standardization = False)\n",
        "\n",
        "# Train model with Training Data\n",
        "lrModel = lr.fit(trainData)"
      ],
      "execution_count": 32,
      "outputs": []
    },
    {
      "cell_type": "code",
      "metadata": {
        "id": "AzrfiXs_Dg5A"
      },
      "source": [
        "import matplotlib.pyplot as plt\n",
        "import numpy as np\n",
        "beta = np.sort(lrModel.coefficients)\n",
        "plt.plot(beta)\n",
        "plt.ylabel('Beta Coefficients')\n",
        "plt.show()"
      ],
      "execution_count": null,
      "outputs": []
    },
    {
      "cell_type": "code",
      "metadata": {
        "id": "aliOqacRDvPd"
      },
      "source": [
        "trainingSummary = lrModel.summary\n",
        "roc = trainingSummary.roc.toPandas()\n",
        "plt.plot(roc['FPR'],roc['TPR'])\n",
        "plt.ylabel('True Positive Rate')\n",
        "plt.xlabel('False Positive Rate')\n",
        "plt.title('ROC Curve')\n",
        "plt.show()\n",
        "# print('Training set areaUnderROC: ' + str(trainingSummary.areaAboveROC))"
      ],
      "execution_count": null,
      "outputs": []
    },
    {
      "cell_type": "code",
      "metadata": {
        "id": "UcJKbNdAD-wC"
      },
      "source": [
        "pr = trainingSummary.pr.toPandas()\n",
        "plt.plot(pr['recall'],pr['precision'])\n",
        "plt.ylabel('Precision')\n",
        "plt.xlabel('Recall')\n",
        "plt.show()"
      ],
      "execution_count": null,
      "outputs": []
    },
    {
      "cell_type": "markdown",
      "metadata": {
        "id": "PMuMz5E6T7JV"
      },
      "source": [
        "#### Evaluating the Model"
      ]
    },
    {
      "cell_type": "markdown",
      "metadata": {
        "id": "a3Q_89tkUArR"
      },
      "source": [
        "The first thing that we will do is evaluate our the model that we trained for  100 epochs."
      ]
    },
    {
      "cell_type": "code",
      "metadata": {
        "colab": {
          "base_uri": "https://localhost:8080/",
          "height": 802
        },
        "id": "4lxyXJl4ECBU",
        "outputId": "7ba38652-fe23-436b-f57f-dabd709fcef8"
      },
      "source": [
        "predictions = lrModel.transform(testData)\n",
        "predCols = ['mid_golddiff', 'bKillCount', 'rKillCount', 'first_blood',\\\n",
        "            'bTowerCount', 'rTowerCount', 'first_tower', 'bInhibCount',\\\n",
        "            'rInhibCount', 'first_inhib', 'bDragonCount', 'rDragonCount',\\\n",
        "            'first_dragon', 'bBaronCount', 'rBaronCount', 'first_baron',\\\n",
        "            'rawPrediction', 'prediction', 'probability']\n",
        "\n",
        "pd.DataFrame(predictions.take(5), columns=predictions.columns).transpose()"
      ],
      "execution_count": 33,
      "outputs": [
        {
          "output_type": "execute_result",
          "data": {
            "text/html": [
              "<div>\n",
              "<style scoped>\n",
              "    .dataframe tbody tr th:only-of-type {\n",
              "        vertical-align: middle;\n",
              "    }\n",
              "\n",
              "    .dataframe tbody tr th {\n",
              "        vertical-align: top;\n",
              "    }\n",
              "\n",
              "    .dataframe thead th {\n",
              "        text-align: right;\n",
              "    }\n",
              "</style>\n",
              "<table border=\"1\" class=\"dataframe\">\n",
              "  <thead>\n",
              "    <tr style=\"text-align: right;\">\n",
              "      <th></th>\n",
              "      <th>0</th>\n",
              "      <th>1</th>\n",
              "      <th>2</th>\n",
              "      <th>3</th>\n",
              "      <th>4</th>\n",
              "    </tr>\n",
              "  </thead>\n",
              "  <tbody>\n",
              "    <tr>\n",
              "      <th>label</th>\n",
              "      <td>0</td>\n",
              "      <td>0</td>\n",
              "      <td>0</td>\n",
              "      <td>0</td>\n",
              "      <td>0</td>\n",
              "    </tr>\n",
              "    <tr>\n",
              "      <th>features</th>\n",
              "      <td>(1.0, 0.0, 0.0, 1.0, 0.0, 1.0, 0.0, 0.0, 1.0, ...</td>\n",
              "      <td>(1.0, 0.0, 0.0, 1.0, 0.0, 1.0, 0.0, 0.0, 1.0, ...</td>\n",
              "      <td>(1.0, 0.0, 0.0, 1.0, 0.0, 1.0, 0.0, 0.0, 1.0, ...</td>\n",
              "      <td>(1.0, 0.0, 0.0, 1.0, 0.0, 1.0, 0.0, 0.0, 1.0, ...</td>\n",
              "      <td>(1.0, 0.0, 0.0, 1.0, 0.0, 1.0, 0.0, 0.0, 1.0, ...</td>\n",
              "    </tr>\n",
              "    <tr>\n",
              "      <th>winner</th>\n",
              "      <td>Blue</td>\n",
              "      <td>Blue</td>\n",
              "      <td>Blue</td>\n",
              "      <td>Blue</td>\n",
              "      <td>Blue</td>\n",
              "    </tr>\n",
              "    <tr>\n",
              "      <th>mid_golddiff</th>\n",
              "      <td>659</td>\n",
              "      <td>1166</td>\n",
              "      <td>2128</td>\n",
              "      <td>1625</td>\n",
              "      <td>2106</td>\n",
              "    </tr>\n",
              "    <tr>\n",
              "      <th>bKillCount</th>\n",
              "      <td>1</td>\n",
              "      <td>4</td>\n",
              "      <td>8</td>\n",
              "      <td>4</td>\n",
              "      <td>4</td>\n",
              "    </tr>\n",
              "    <tr>\n",
              "      <th>rKillCount</th>\n",
              "      <td>0</td>\n",
              "      <td>1</td>\n",
              "      <td>2</td>\n",
              "      <td>1</td>\n",
              "      <td>3</td>\n",
              "    </tr>\n",
              "    <tr>\n",
              "      <th>first_blood</th>\n",
              "      <td>Blue</td>\n",
              "      <td>Blue</td>\n",
              "      <td>Blue</td>\n",
              "      <td>Blue</td>\n",
              "      <td>Blue</td>\n",
              "    </tr>\n",
              "    <tr>\n",
              "      <th>bTowerCount</th>\n",
              "      <td>0</td>\n",
              "      <td>0</td>\n",
              "      <td>0</td>\n",
              "      <td>1</td>\n",
              "      <td>1</td>\n",
              "    </tr>\n",
              "    <tr>\n",
              "      <th>rTowerCount</th>\n",
              "      <td>0</td>\n",
              "      <td>0</td>\n",
              "      <td>0</td>\n",
              "      <td>0</td>\n",
              "      <td>0</td>\n",
              "    </tr>\n",
              "    <tr>\n",
              "      <th>first_tower</th>\n",
              "      <td>Blue</td>\n",
              "      <td>Blue</td>\n",
              "      <td>Blue</td>\n",
              "      <td>Blue</td>\n",
              "      <td>Blue</td>\n",
              "    </tr>\n",
              "    <tr>\n",
              "      <th>bInhibCount</th>\n",
              "      <td>0</td>\n",
              "      <td>0</td>\n",
              "      <td>0</td>\n",
              "      <td>0</td>\n",
              "      <td>0</td>\n",
              "    </tr>\n",
              "    <tr>\n",
              "      <th>rInhibCount</th>\n",
              "      <td>0</td>\n",
              "      <td>0</td>\n",
              "      <td>0</td>\n",
              "      <td>0</td>\n",
              "      <td>0</td>\n",
              "    </tr>\n",
              "    <tr>\n",
              "      <th>first_inhib</th>\n",
              "      <td>Blue</td>\n",
              "      <td>Blue</td>\n",
              "      <td>Blue</td>\n",
              "      <td>Blue</td>\n",
              "      <td>Blue</td>\n",
              "    </tr>\n",
              "    <tr>\n",
              "      <th>bDragonCount</th>\n",
              "      <td>0</td>\n",
              "      <td>0</td>\n",
              "      <td>0</td>\n",
              "      <td>0</td>\n",
              "      <td>0</td>\n",
              "    </tr>\n",
              "    <tr>\n",
              "      <th>rDragonCount</th>\n",
              "      <td>0</td>\n",
              "      <td>0</td>\n",
              "      <td>0</td>\n",
              "      <td>0</td>\n",
              "      <td>0</td>\n",
              "    </tr>\n",
              "    <tr>\n",
              "      <th>first_dragon</th>\n",
              "      <td>Blue</td>\n",
              "      <td>Blue</td>\n",
              "      <td>Blue</td>\n",
              "      <td>Blue</td>\n",
              "      <td>Blue</td>\n",
              "    </tr>\n",
              "    <tr>\n",
              "      <th>bBaronCount</th>\n",
              "      <td>0</td>\n",
              "      <td>0</td>\n",
              "      <td>0</td>\n",
              "      <td>0</td>\n",
              "      <td>0</td>\n",
              "    </tr>\n",
              "    <tr>\n",
              "      <th>rBaronCount</th>\n",
              "      <td>0</td>\n",
              "      <td>0</td>\n",
              "      <td>0</td>\n",
              "      <td>0</td>\n",
              "      <td>0</td>\n",
              "    </tr>\n",
              "    <tr>\n",
              "      <th>first_baron</th>\n",
              "      <td>Blue</td>\n",
              "      <td>Blue</td>\n",
              "      <td>Blue</td>\n",
              "      <td>Blue</td>\n",
              "      <td>Blue</td>\n",
              "    </tr>\n",
              "    <tr>\n",
              "      <th>rawPrediction</th>\n",
              "      <td>[2.199790382541175, -2.199790382541175]</td>\n",
              "      <td>[2.1332272306544167, -2.1332272306544167]</td>\n",
              "      <td>[2.083241544599739, -2.083241544599739]</td>\n",
              "      <td>[2.0320464732462487, -2.0320464732462487]</td>\n",
              "      <td>[2.0429528758780484, -2.0429528758780484]</td>\n",
              "    </tr>\n",
              "    <tr>\n",
              "      <th>probability</th>\n",
              "      <td>[0.9878665409937902, 0.012133459006209792]</td>\n",
              "      <td>[0.9861627130267026, 0.013837286973297454]</td>\n",
              "      <td>[0.9847300859579122, 0.015269914042087813]</td>\n",
              "      <td>[0.9831115551464762, 0.016888444853523775]</td>\n",
              "      <td>[0.9834699273244838, 0.016530072675516202]</td>\n",
              "    </tr>\n",
              "    <tr>\n",
              "      <th>prediction</th>\n",
              "      <td>0</td>\n",
              "      <td>0</td>\n",
              "      <td>0</td>\n",
              "      <td>0</td>\n",
              "      <td>0</td>\n",
              "    </tr>\n",
              "  </tbody>\n",
              "</table>\n",
              "</div>"
            ],
            "text/plain": [
              "                                                               0  ...                                                  4\n",
              "label                                                          0  ...                                                  0\n",
              "features       (1.0, 0.0, 0.0, 1.0, 0.0, 1.0, 0.0, 0.0, 1.0, ...  ...  (1.0, 0.0, 0.0, 1.0, 0.0, 1.0, 0.0, 0.0, 1.0, ...\n",
              "winner                                                      Blue  ...                                               Blue\n",
              "mid_golddiff                                                 659  ...                                               2106\n",
              "bKillCount                                                     1  ...                                                  4\n",
              "rKillCount                                                     0  ...                                                  3\n",
              "first_blood                                                 Blue  ...                                               Blue\n",
              "bTowerCount                                                    0  ...                                                  1\n",
              "rTowerCount                                                    0  ...                                                  0\n",
              "first_tower                                                 Blue  ...                                               Blue\n",
              "bInhibCount                                                    0  ...                                                  0\n",
              "rInhibCount                                                    0  ...                                                  0\n",
              "first_inhib                                                 Blue  ...                                               Blue\n",
              "bDragonCount                                                   0  ...                                                  0\n",
              "rDragonCount                                                   0  ...                                                  0\n",
              "first_dragon                                                Blue  ...                                               Blue\n",
              "bBaronCount                                                    0  ...                                                  0\n",
              "rBaronCount                                                    0  ...                                                  0\n",
              "first_baron                                                 Blue  ...                                               Blue\n",
              "rawPrediction            [2.199790382541175, -2.199790382541175]  ...          [2.0429528758780484, -2.0429528758780484]\n",
              "probability           [0.9878665409937902, 0.012133459006209792]  ...         [0.9834699273244838, 0.016530072675516202]\n",
              "prediction                                                     0  ...                                                  0\n",
              "\n",
              "[22 rows x 5 columns]"
            ]
          },
          "metadata": {
            "tags": []
          },
          "execution_count": 33
        }
      ]
    },
    {
      "cell_type": "code",
      "metadata": {
        "colab": {
          "base_uri": "https://localhost:8080/"
        },
        "id": "9oozHS6AFzea",
        "outputId": "db2e773a-3d68-4f77-d4ff-afc09bd21edd"
      },
      "source": [
        "from pyspark.ml.evaluation import BinaryClassificationEvaluator\n",
        "\n",
        "# Evaluate model\n",
        "evaluator = BinaryClassificationEvaluator(rawPredictionCol=\"rawPrediction\", metricName=)\n",
        "print('Test Area Under ROC', evaluator.evaluate(predictions))"
      ],
      "execution_count": 34,
      "outputs": [
        {
          "output_type": "stream",
          "text": [
            "Test Area Under ROC 0.9827937376501015\n"
          ],
          "name": "stdout"
        }
      ]
    },
    {
      "cell_type": "markdown",
      "metadata": {
        "id": "BH6rPOAAVdRg"
      },
      "source": [
        "### Cross-Validate Model\n",
        "\n",
        "Here we will use Cross Validation to find the best model by determinng which epoch from 50 to 100 will produce the best performing model. For this cross validation, we are using ten-fold cross validation?"
      ]
    },
    {
      "cell_type": "code",
      "metadata": {
        "id": "zRBVVvx9Jlrc"
      },
      "source": [
        "from pyspark.ml.classification import LogisticRegression\n",
        "from pyspark.ml.evaluation import BinaryClassificationEvaluator\n",
        "from pyspark.ml.tuning import *\n",
        "import numpy as np\n",
        "\n",
        "lr = LogisticRegression(labelCol=\"label\", featuresCol=\"features\", standardization=False)\n",
        "\n",
        "lmbd = np.arange(0,0.1,0.05)\n",
        "aggrDepth = [x for x in range(2, 11)]\n",
        "testIter = [x for x in range(50,101) if x%5==0]\n",
        "\n",
        "grid = ParamGridBuilder()\\\n",
        "      .addGrid(lr.maxIter, testIter)\\\n",
        "      .addGrid(lr.aggregationDepth, aggrDepth)\\\n",
        "      .addGrid(lr.regParam, lmbd)\\\n",
        "      .build()\n",
        "\n",
        "evaluator = BinaryClassificationEvaluator(rawPredictionCol=\"rawPrediction\", metricName=)\n",
        "\n",
        "cv = CrossValidator(estimator=lr, estimatorParamMaps=grid, \\\n",
        "                    evaluator=evaluator, numFolds=3,\\\n",
        "                    parallelism=2)\n",
        "cv_LR_model = cv.fit(model_df)\n",
        "best_LR_Model = cv_LR_model.bestModel"
      ],
      "execution_count": 41,
      "outputs": []
    },
    {
      "cell_type": "markdown",
      "metadata": {
        "id": "_7RA-OL54-FJ"
      },
      "source": [
        "Save the model so that we do not have to retrain."
      ]
    },
    {
      "cell_type": "code",
      "metadata": {
        "colab": {
          "base_uri": "https://localhost:8080/"
        },
        "id": "TS2YL5gQ2PTh",
        "outputId": "632e59fb-ab73-4578-c72f-7b88ebdb7b57"
      },
      "source": [
        "!ls ../dataset/"
      ],
      "execution_count": 187,
      "outputs": [
        {
          "output_type": "stream",
          "text": [
            "bans.csv      kills.csv\t\t   mid_model_features\t   monsters.csv\n",
            "_columns.csv  LeagueofLegends.csv  mid_model_features_wh   Reference-Dataset\n",
            "DT_Model      LR_Model\t\t   mid_model_features_wh2  structures.csv\n",
            "gold.csv      matchinfo.csv\t   model_features\n"
          ],
          "name": "stdout"
        }
      ]
    },
    {
      "cell_type": "code",
      "metadata": {
        "id": "fw6lkV0H4dRG"
      },
      "source": [
        "# Saving the model\n",
        "cv_LR_model.save(\"CV_LR_Model\")\n",
        "best_LR_Model.save(\"LR_Model\")"
      ],
      "execution_count": 191,
      "outputs": []
    },
    {
      "cell_type": "markdown",
      "metadata": {
        "id": "VZc3g4JpXEOk"
      },
      "source": [
        "Below we can see how well our model performed on each number of epochs. We can see that our model performs relatively the same no matter how much we increase our number of epochs from 50 to 100."
      ]
    },
    {
      "cell_type": "code",
      "metadata": {
        "id": "ye44P0Q3OElO"
      },
      "source": [
        "cv_LR_model.avgMetrics"
      ],
      "execution_count": null,
      "outputs": []
    },
    {
      "cell_type": "markdown",
      "metadata": {
        "id": "uM0KzBw--NOd"
      },
      "source": [
        "Parameters"
      ]
    },
    {
      "cell_type": "code",
      "metadata": {
        "colab": {
          "base_uri": "https://localhost:8080/"
        },
        "id": "iCzfjWWl-M52",
        "outputId": "1d44cb49-420c-400c-a365-16f445dda792"
      },
      "source": [
        "print('maxIter', cv_LR_model.bestModel.getMaxIter())\n",
        "print('regParam', cv_LR_model.bestModel.getRegParam())\n",
        "print('aggregationDepth', cv_LR_model.bestModel.getAggregationDepth())"
      ],
      "execution_count": 92,
      "outputs": [
        {
          "output_type": "stream",
          "text": [
            "maxIter 50\n",
            "regParam 0.0\n",
            "aggregationDepth 10\n"
          ],
          "name": "stdout"
        }
      ]
    },
    {
      "cell_type": "markdown",
      "metadata": {
        "id": "LXNxojzv-5yu"
      },
      "source": [
        "Results"
      ]
    },
    {
      "cell_type": "code",
      "metadata": {
        "colab": {
          "base_uri": "https://localhost:8080/",
          "height": 295
        },
        "id": "qXJsKZ3N-9_x",
        "outputId": "5e8734c6-d138-460d-db75-6e2946ff98b4"
      },
      "source": [
        "import matplotlib.pyplot as plt\n",
        "import numpy as np\n",
        "\n",
        "trainingSummary = best_LR_Model.summary\n",
        "roc = trainingSummary.roc.toPandas()\n",
        "plt.plot(roc['FPR'],roc['TPR'])\n",
        "plt.ylabel('True Positive Rate')\n",
        "plt.xlabel('False Positive Rate')\n",
        "plt.title('ROC Curve')\n",
        "plt.show()"
      ],
      "execution_count": 108,
      "outputs": [
        {
          "output_type": "display_data",
          "data": {
            "image/png": "[encoded data removed]",
            "text/plain": [
              "<Figure size 432x288 with 1 Axes>"
            ]
          },
          "metadata": {
            "tags": [],
            "needs_background": "light"
          }
        }
      ]
    },
    {
      "cell_type": "code",
      "metadata": {
        "colab": {
          "base_uri": "https://localhost:8080/"
        },
        "id": "34K-UJSQPL9o",
        "outputId": "d4f182a8-3daf-41ad-be24-8fd282f05b18"
      },
      "source": [
        "predictions = best_LR_Model.transform(testData)\n",
        "print('Test Area Under ROC', evaluator.evaluate(predictions))\n",
        "print('Train Area Under ROC', trainingSummary.areaUnderROC)"
      ],
      "execution_count": 105,
      "outputs": [
        {
          "output_type": "stream",
          "text": [
            "Test Area Under ROC 0.9839394284845768\n",
            "Train Area Under ROC 0.989220726756454\n"
          ],
          "name": "stdout"
        }
      ]
    },
    {
      "cell_type": "markdown",
      "metadata": {
        "id": "cZqzHum6QsAW"
      },
      "source": [
        "### Model 2 - Decision Tree Classifier\n",
        "\n",
        "Fort this model we are going to use the Decision Tree algorithm to create a model that can predict the outcome of a game."
      ]
    },
    {
      "cell_type": "markdown",
      "metadata": {
        "id": "tXC5m3WgIEwi"
      },
      "source": [
        "### Initial Model"
      ]
    },
    {
      "cell_type": "code",
      "metadata": {
        "id": "0oNqMCP1Wgm8"
      },
      "source": [
        "from pyspark.ml.classification import DecisionTreeClassifier\n",
        "\n",
        "dt = DecisionTreeClassifier(featuresCol = 'features', labelCol = 'label', maxDepth = 30)\n",
        "dtModel = dt.fit(trainData)"
      ],
      "execution_count": 65,
      "outputs": []
    },
    {
      "cell_type": "markdown",
      "metadata": {
        "id": "9mms4OMnX4aP"
      },
      "source": [
        "#### Evaluating the Model"
      ]
    },
    {
      "cell_type": "markdown",
      "metadata": {
        "id": "CBNMzbONX4aP"
      },
      "source": [
        "The first thing that we will do is evaluate our the model that only had a max depth of 20."
      ]
    },
    {
      "cell_type": "code",
      "metadata": {
        "colab": {
          "base_uri": "https://localhost:8080/",
          "height": 748
        },
        "id": "MA_VwldMX4aP",
        "outputId": "26fc75c9-2101-4cb5-eb55-a9d00f1630d8"
      },
      "source": [
        "predictions = dtModel.transform(testData)\n",
        "predCols = ['mid_golddiff', 'bKillCount', 'rKillCount', 'first_blood',\\\n",
        "            'bTowerCount', 'rTowerCount', 'first_tower', 'bInhibCount',\\\n",
        "            'rInhibCount', 'first_inhib', 'bDragonCount', 'rDragonCount',\\\n",
        "            'first_dragon', 'bBaronCount', 'rBaronCount', 'first_baron',\\\n",
        "            'rawPrediction', 'prediction', 'probability']\n",
        "\n",
        "pd.DataFrame(predictions.take(5), columns=predictions.columns).transpose()"
      ],
      "execution_count": 66,
      "outputs": [
        {
          "output_type": "execute_result",
          "data": {
            "text/html": [
              "<div>\n",
              "<style scoped>\n",
              "    .dataframe tbody tr th:only-of-type {\n",
              "        vertical-align: middle;\n",
              "    }\n",
              "\n",
              "    .dataframe tbody tr th {\n",
              "        vertical-align: top;\n",
              "    }\n",
              "\n",
              "    .dataframe thead th {\n",
              "        text-align: right;\n",
              "    }\n",
              "</style>\n",
              "<table border=\"1\" class=\"dataframe\">\n",
              "  <thead>\n",
              "    <tr style=\"text-align: right;\">\n",
              "      <th></th>\n",
              "      <th>0</th>\n",
              "      <th>1</th>\n",
              "      <th>2</th>\n",
              "      <th>3</th>\n",
              "      <th>4</th>\n",
              "    </tr>\n",
              "  </thead>\n",
              "  <tbody>\n",
              "    <tr>\n",
              "      <th>label</th>\n",
              "      <td>0</td>\n",
              "      <td>0</td>\n",
              "      <td>0</td>\n",
              "      <td>0</td>\n",
              "      <td>0</td>\n",
              "    </tr>\n",
              "    <tr>\n",
              "      <th>features</th>\n",
              "      <td>(1.0, 0.0, 0.0, 1.0, 0.0, 1.0, 0.0, 0.0, 1.0, ...</td>\n",
              "      <td>(1.0, 0.0, 0.0, 1.0, 0.0, 1.0, 0.0, 0.0, 1.0, ...</td>\n",
              "      <td>(1.0, 0.0, 0.0, 1.0, 0.0, 1.0, 0.0, 0.0, 1.0, ...</td>\n",
              "      <td>(1.0, 0.0, 0.0, 1.0, 0.0, 1.0, 0.0, 0.0, 1.0, ...</td>\n",
              "      <td>(1.0, 0.0, 0.0, 1.0, 0.0, 1.0, 0.0, 0.0, 1.0, ...</td>\n",
              "    </tr>\n",
              "    <tr>\n",
              "      <th>winner</th>\n",
              "      <td>Blue</td>\n",
              "      <td>Blue</td>\n",
              "      <td>Blue</td>\n",
              "      <td>Blue</td>\n",
              "      <td>Blue</td>\n",
              "    </tr>\n",
              "    <tr>\n",
              "      <th>mid_golddiff</th>\n",
              "      <td>659</td>\n",
              "      <td>1166</td>\n",
              "      <td>2128</td>\n",
              "      <td>1625</td>\n",
              "      <td>2106</td>\n",
              "    </tr>\n",
              "    <tr>\n",
              "      <th>bKillCount</th>\n",
              "      <td>1</td>\n",
              "      <td>4</td>\n",
              "      <td>8</td>\n",
              "      <td>4</td>\n",
              "      <td>4</td>\n",
              "    </tr>\n",
              "    <tr>\n",
              "      <th>rKillCount</th>\n",
              "      <td>0</td>\n",
              "      <td>1</td>\n",
              "      <td>2</td>\n",
              "      <td>1</td>\n",
              "      <td>3</td>\n",
              "    </tr>\n",
              "    <tr>\n",
              "      <th>first_blood</th>\n",
              "      <td>Blue</td>\n",
              "      <td>Blue</td>\n",
              "      <td>Blue</td>\n",
              "      <td>Blue</td>\n",
              "      <td>Blue</td>\n",
              "    </tr>\n",
              "    <tr>\n",
              "      <th>bTowerCount</th>\n",
              "      <td>0</td>\n",
              "      <td>0</td>\n",
              "      <td>0</td>\n",
              "      <td>1</td>\n",
              "      <td>1</td>\n",
              "    </tr>\n",
              "    <tr>\n",
              "      <th>rTowerCount</th>\n",
              "      <td>0</td>\n",
              "      <td>0</td>\n",
              "      <td>0</td>\n",
              "      <td>0</td>\n",
              "      <td>0</td>\n",
              "    </tr>\n",
              "    <tr>\n",
              "      <th>first_tower</th>\n",
              "      <td>Blue</td>\n",
              "      <td>Blue</td>\n",
              "      <td>Blue</td>\n",
              "      <td>Blue</td>\n",
              "      <td>Blue</td>\n",
              "    </tr>\n",
              "    <tr>\n",
              "      <th>bInhibCount</th>\n",
              "      <td>0</td>\n",
              "      <td>0</td>\n",
              "      <td>0</td>\n",
              "      <td>0</td>\n",
              "      <td>0</td>\n",
              "    </tr>\n",
              "    <tr>\n",
              "      <th>rInhibCount</th>\n",
              "      <td>0</td>\n",
              "      <td>0</td>\n",
              "      <td>0</td>\n",
              "      <td>0</td>\n",
              "      <td>0</td>\n",
              "    </tr>\n",
              "    <tr>\n",
              "      <th>first_inhib</th>\n",
              "      <td>Blue</td>\n",
              "      <td>Blue</td>\n",
              "      <td>Blue</td>\n",
              "      <td>Blue</td>\n",
              "      <td>Blue</td>\n",
              "    </tr>\n",
              "    <tr>\n",
              "      <th>bDragonCount</th>\n",
              "      <td>0</td>\n",
              "      <td>0</td>\n",
              "      <td>0</td>\n",
              "      <td>0</td>\n",
              "      <td>0</td>\n",
              "    </tr>\n",
              "    <tr>\n",
              "      <th>rDragonCount</th>\n",
              "      <td>0</td>\n",
              "      <td>0</td>\n",
              "      <td>0</td>\n",
              "      <td>0</td>\n",
              "      <td>0</td>\n",
              "    </tr>\n",
              "    <tr>\n",
              "      <th>first_dragon</th>\n",
              "      <td>Blue</td>\n",
              "      <td>Blue</td>\n",
              "      <td>Blue</td>\n",
              "      <td>Blue</td>\n",
              "      <td>Blue</td>\n",
              "    </tr>\n",
              "    <tr>\n",
              "      <th>bBaronCount</th>\n",
              "      <td>0</td>\n",
              "      <td>0</td>\n",
              "      <td>0</td>\n",
              "      <td>0</td>\n",
              "      <td>0</td>\n",
              "    </tr>\n",
              "    <tr>\n",
              "      <th>rBaronCount</th>\n",
              "      <td>0</td>\n",
              "      <td>0</td>\n",
              "      <td>0</td>\n",
              "      <td>0</td>\n",
              "      <td>0</td>\n",
              "    </tr>\n",
              "    <tr>\n",
              "      <th>first_baron</th>\n",
              "      <td>Blue</td>\n",
              "      <td>Blue</td>\n",
              "      <td>Blue</td>\n",
              "      <td>Blue</td>\n",
              "      <td>Blue</td>\n",
              "    </tr>\n",
              "    <tr>\n",
              "      <th>rawPrediction</th>\n",
              "      <td>[1035.0, 0.0]</td>\n",
              "      <td>[1035.0, 0.0]</td>\n",
              "      <td>[1035.0, 0.0]</td>\n",
              "      <td>[1035.0, 0.0]</td>\n",
              "      <td>[1035.0, 0.0]</td>\n",
              "    </tr>\n",
              "    <tr>\n",
              "      <th>probability</th>\n",
              "      <td>[1.0, 0.0]</td>\n",
              "      <td>[1.0, 0.0]</td>\n",
              "      <td>[1.0, 0.0]</td>\n",
              "      <td>[1.0, 0.0]</td>\n",
              "      <td>[1.0, 0.0]</td>\n",
              "    </tr>\n",
              "    <tr>\n",
              "      <th>prediction</th>\n",
              "      <td>0</td>\n",
              "      <td>0</td>\n",
              "      <td>0</td>\n",
              "      <td>0</td>\n",
              "      <td>0</td>\n",
              "    </tr>\n",
              "  </tbody>\n",
              "</table>\n",
              "</div>"
            ],
            "text/plain": [
              "                                                               0  ...                                                  4\n",
              "label                                                          0  ...                                                  0\n",
              "features       (1.0, 0.0, 0.0, 1.0, 0.0, 1.0, 0.0, 0.0, 1.0, ...  ...  (1.0, 0.0, 0.0, 1.0, 0.0, 1.0, 0.0, 0.0, 1.0, ...\n",
              "winner                                                      Blue  ...                                               Blue\n",
              "mid_golddiff                                                 659  ...                                               2106\n",
              "bKillCount                                                     1  ...                                                  4\n",
              "rKillCount                                                     0  ...                                                  3\n",
              "first_blood                                                 Blue  ...                                               Blue\n",
              "bTowerCount                                                    0  ...                                                  1\n",
              "rTowerCount                                                    0  ...                                                  0\n",
              "first_tower                                                 Blue  ...                                               Blue\n",
              "bInhibCount                                                    0  ...                                                  0\n",
              "rInhibCount                                                    0  ...                                                  0\n",
              "first_inhib                                                 Blue  ...                                               Blue\n",
              "bDragonCount                                                   0  ...                                                  0\n",
              "rDragonCount                                                   0  ...                                                  0\n",
              "first_dragon                                                Blue  ...                                               Blue\n",
              "bBaronCount                                                    0  ...                                                  0\n",
              "rBaronCount                                                    0  ...                                                  0\n",
              "first_baron                                                 Blue  ...                                               Blue\n",
              "rawPrediction                                      [1035.0, 0.0]  ...                                      [1035.0, 0.0]\n",
              "probability                                           [1.0, 0.0]  ...                                         [1.0, 0.0]\n",
              "prediction                                                     0  ...                                                  0\n",
              "\n",
              "[22 rows x 5 columns]"
            ]
          },
          "metadata": {
            "tags": []
          },
          "execution_count": 66
        }
      ]
    },
    {
      "cell_type": "code",
      "metadata": {
        "colab": {
          "base_uri": "https://localhost:8080/"
        },
        "id": "r8b1HBNyX4aQ",
        "outputId": "760c8a3c-d05b-43e1-8b0f-0031138ef539"
      },
      "source": [
        "from pyspark.ml.evaluation import BinaryClassificationEvaluator\n",
        "\n",
        "# Evaluate model\n",
        "evaluator = BinaryClassificationEvaluator(rawPredictionCol=\"rawPrediction\")\n",
        "print('Test Area Under ROC', evaluator.evaluate(predictions))"
      ],
      "execution_count": 77,
      "outputs": [
        {
          "output_type": "stream",
          "text": [
            "Test Area Under ROC 0.9527426280589755\n"
          ],
          "name": "stdout"
        }
      ]
    },
    {
      "cell_type": "markdown",
      "metadata": {
        "id": "xDRLPgakX4aQ"
      },
      "source": [
        "### Cross-validate Model\n",
        "\n",
        "Here we will use Cross Validation to find the best decision tree model by trying out different max depths. For this cross validation, we are using ten-fold cross validation."
      ]
    },
    {
      "cell_type": "code",
      "metadata": {
        "colab": {
          "base_uri": "https://localhost:8080/",
          "height": 171
        },
        "id": "XhKBaZ7XMG0t",
        "outputId": "40fbc9f9-eac2-47ff-b2ec-fa818932db56"
      },
      "source": [
        "dt.explainParams()"
      ],
      "execution_count": 126,
      "outputs": [
        {
          "output_type": "execute_result",
          "data": {
            "application/vnd.google.colaboratory.intrinsic+json": {
              "type": "string"
            },
            "text/plain": [
              "\"cacheNodeIds: If false, the algorithm will pass trees to executors to match instances with nodes. If true, the algorithm will cache node IDs for each instance. Caching can speed up training of deeper trees. Users can set how often should the cache be checkpointed or disable it by setting checkpointInterval. (default: False)\\ncheckpointInterval: set checkpoint interval (>= 1) or disable checkpoint (-1). E.g. 10 means that the cache will get checkpointed every 10 iterations. Note: this setting will be ignored if the checkpoint directory is not set in the SparkContext. (default: 10)\\nfeaturesCol: features column name. (default: features, current: features)\\nimpurity: Criterion used for information gain calculation (case-insensitive). Supported options: entropy, gini (default: gini)\\nlabelCol: label column name. (default: label, current: label)\\nleafCol: Leaf indices column name. Predicted leaf index of each instance in each tree by preorder. (default: )\\nmaxBins: Max number of bins for discretizing continuous features.  Must be >=2 and >= number of categories for any categorical feature. (default: 32)\\nmaxDepth: Maximum depth of the tree. (>= 0) E.g., depth 0 means 1 leaf node; depth 1 means 1 internal node + 2 leaf nodes. (default: 5)\\nmaxMemoryInMB: Maximum memory in MB allocated to histogram aggregation. If too small, then 1 node will be split per iteration, and its aggregates may exceed this size. (default: 256)\\nminInfoGain: Minimum information gain for a split to be considered at a tree node. (default: 0.0)\\nminInstancesPerNode: Minimum number of instances each child must have after split. If a split causes the left or right child to have fewer than minInstancesPerNode, the split will be discarded as invalid. Should be >= 1. (default: 1)\\nminWeightFractionPerNode: Minimum fraction of the weighted sample count that each child must have after split. If a split causes the fraction of the total weight in the left or right child to be less than minWeightFractionPerNode, the split will be discarded as invalid. Should be in interval [0.0, 0.5). (default: 0.0)\\npredictionCol: prediction column name. (default: prediction)\\nprobabilityCol: Column name for predicted class conditional probabilities. Note: Not all models output well-calibrated probability estimates! These probabilities should be treated as confidences, not precise probabilities. (default: probability)\\nrawPredictionCol: raw prediction (a.k.a. confidence) column name. (default: rawPrediction)\\nseed: random seed. (default: -2470804466245876718)\\nthresholds: Thresholds in multi-class classification to adjust the probability of predicting each class. Array must have length equal to the number of classes, with values > 0, excepting that at most one value may be 0. The class with largest value p/t is predicted, where p is the original probability of that class and t is the class's threshold. (undefined)\\nweightCol: weight column name. If this is not set or empty, we treat all instance weights as 1.0. (undefined)\""
            ]
          },
          "metadata": {
            "tags": []
          },
          "execution_count": 126
        }
      ]
    },
    {
      "cell_type": "code",
      "metadata": {
        "id": "TAXg4z2fX4aQ"
      },
      "source": [
        "from pyspark.ml.classification import DecisionTreeClassifier\n",
        "from pyspark.ml.evaluation import BinaryClassificationEvaluator\n",
        "from pyspark.ml.tuning import *\n",
        "\n",
        "dt = DecisionTreeClassifier(labelCol=\"label\", featuresCol=\"features\")\n",
        "\n",
        "testDept = [x for x in range(2,22) if x%3==0]\n",
        "testBins = [x for x in range(3, 33) if x%6==0]\n",
        "\n",
        "grid = ParamGridBuilder()\\\n",
        "      .addGrid(dt.maxDepth, testDept)\\\n",
        "      .addGrid(dt.maxBins, testBins)\\\n",
        "      .build()\n",
        "\n",
        "evaluator = BinaryClassificationEvaluator(rawPredictionCol=\"rawPrediction\")\n",
        "\n",
        "cvDT = CrossValidator(estimator=dt, estimatorParamMaps=grid, evaluator=evaluator, numFolds=2)\n",
        "\n",
        "cv_DT_model = cvDT.fit(model_df)\n",
        "best_DT_Model = cv_DT_model.bestModel"
      ],
      "execution_count": 132,
      "outputs": []
    },
    {
      "cell_type": "code",
      "metadata": {
        "id": "dgxg3bA_I26i"
      },
      "source": [
        "# Saving the model\n",
        "cv_DT_model.save(\"CV_DT_Model\")\n",
        "cv_DT_model.bestModel.save(\"DT_Model\")"
      ],
      "execution_count": 207,
      "outputs": []
    },
    {
      "cell_type": "markdown",
      "metadata": {
        "id": "iNjVS93IX4aQ"
      },
      "source": [
        "Below we can see how well our model performed on each number of epochs. We can see that our model performs relatively the same no matter how much we increase our number of epochs from 50 to 100."
      ]
    },
    {
      "cell_type": "code",
      "metadata": {
        "colab": {
          "base_uri": "https://localhost:8080/"
        },
        "id": "2MzMUn0hX4aQ",
        "outputId": "1f8e4ce2-1301-4cfb-80db-68fe34dcbbbb"
      },
      "source": [
        "cv_DT_model.avgMetrics"
      ],
      "execution_count": 138,
      "outputs": [
        {
          "output_type": "execute_result",
          "data": {
            "text/plain": [
              "[0.9259894625208085,\n",
              " 0.9259894625208085,\n",
              " 0.9259894625208085,\n",
              " 0.9259894625208085,\n",
              " 0.9259894625208085,\n",
              " 0.9258642725795916,\n",
              " 0.9281210106871738,\n",
              " 0.9251286321525685,\n",
              " 0.9253422061691277,\n",
              " 0.9254475210626089,\n",
              " 0.9181468920871736,\n",
              " 0.9262073715259678,\n",
              " 0.9128981479152395,\n",
              " 0.9244748501862419,\n",
              " 0.9133758372870348,\n",
              " 0.9269250960198008,\n",
              " 0.9350184012255565,\n",
              " 0.9154624752395413,\n",
              " 0.9209399947039724,\n",
              " 0.9156019399533748,\n",
              " 0.9376787908056042,\n",
              " 0.936598035117603,\n",
              " 0.934746458046932,\n",
              " 0.9373267884326455,\n",
              " 0.9356799973638426,\n",
              " 0.953151724706885,\n",
              " 0.9577545469530266,\n",
              " 0.9572037325111016,\n",
              " 0.9553338876864652,\n",
              " 0.9574004906188234,\n",
              " 0.9579540211583875,\n",
              " 0.9588679343093773,\n",
              " 0.9569633278006253,\n",
              " 0.9563495173464072,\n",
              " 0.9568993537620998]"
            ]
          },
          "metadata": {
            "tags": []
          },
          "execution_count": 138
        }
      ]
    },
    {
      "cell_type": "markdown",
      "metadata": {
        "id": "R7IgxX4EJMPB"
      },
      "source": [
        "Parameters"
      ]
    },
    {
      "cell_type": "code",
      "metadata": {
        "colab": {
          "base_uri": "https://localhost:8080/"
        },
        "id": "N43ITZoZJOPg",
        "outputId": "084ff182-3425-41fa-99a8-741583547a1f"
      },
      "source": [
        "print('maxDepth', best_DT_Model.getMaxDepth())\n",
        "print('maxBins', best_DT_Model.getMaxBins())"
      ],
      "execution_count": 142,
      "outputs": [
        {
          "output_type": "stream",
          "text": [
            "maxDepth 21\n",
            "maxBins 12\n"
          ],
          "name": "stdout"
        }
      ]
    },
    {
      "cell_type": "code",
      "metadata": {
        "colab": {
          "base_uri": "https://localhost:8080/"
        },
        "id": "CZkcDBPBX4aQ",
        "outputId": "369568fe-ea25-4b99-c5b2-190977b3a3c9"
      },
      "source": [
        "predictions = best_DT_Model.transform(testData)\n",
        "print('Test Area Under ROC', evaluator.evaluate(predictions))"
      ],
      "execution_count": 144,
      "outputs": [
        {
          "output_type": "stream",
          "text": [
            "Test Area Under ROC 0.9980886152910777\n"
          ],
          "name": "stdout"
        }
      ]
    },
    {
      "cell_type": "code",
      "metadata": {
        "colab": {
          "base_uri": "https://localhost:8080/"
        },
        "id": "haw0HcEGx71P",
        "outputId": "bff62967-b59d-46b0-a89e-20d9968230ab"
      },
      "source": [
        "predictions"
      ],
      "execution_count": 148,
      "outputs": [
        {
          "output_type": "execute_result",
          "data": {
            "text/plain": [
              "DataFrame[label: double, features: vector, winner: string, mid_golddiff: int, bKillCount: int, rKillCount: int, first_blood: string, bTowerCount: int, rTowerCount: int, first_tower: string, bInhibCount: int, rInhibCount: int, first_inhib: string, bDragonCount: int, rDragonCount: int, first_dragon: string, bBaronCount: int, rBaronCount: int, first_baron: string, rawPrediction: vector, probability: vector, prediction: double]"
            ]
          },
          "metadata": {
            "tags": []
          },
          "execution_count": 148
        }
      ]
    },
    {
      "cell_type": "markdown",
      "metadata": {
        "id": "wtNiise-0PxQ"
      },
      "source": [
        "### Creating the ROC Graphs"
      ]
    },
    {
      "cell_type": "code",
      "metadata": {
        "id": "uA1FJtZA0gqp"
      },
      "source": [
        "from pyspark.ml.classification import LogisticRegressionModel\n",
        "from pyspark.ml.classification import DecisionTreeClassificationModel\n",
        "from pyspark.ml.classification import RandomForestClassificationModel\n",
        "from handyspark import *\n",
        "\n",
        "\n",
        "\n",
        "lr = LogisticRegressionModel.load('LR_Model')\n",
        "lr_predictions = lr.transform(testData)\n",
        "lr_bcm = BinaryClassificationMetrics(lr_predictions, scoreCol='probability', \\\n",
        "                                  labelCol='label')\n",
        "\n",
        "dt = DecisionTreeClassificationModel.load('DT_Model')\n",
        "dt_predictions = dt.transform(testData)\n",
        "dt_bcm = BinaryClassificationMetrics(dt_predictions, scoreCol='probability', \\\n",
        "                                  labelCol='label')\n",
        "\n",
        "\n",
        "rf = RandomForestClassificationModel.load('RF_Model')\n",
        "rf_predictions = rf.transform(testData)\n",
        "rf_bcm = BinaryClassificationMetrics(rf_predictions, scoreCol='probability', \\\n",
        "                                  labelCol='label')"
      ],
      "execution_count": 214,
      "outputs": []
    },
    {
      "cell_type": "code",
      "metadata": {
        "colab": {
          "base_uri": "https://localhost:8080/",
          "height": 312
        },
        "id": "GYNk1-2N6RiC",
        "outputId": "b360fc41-6057-4323-ad3a-fb6f7dd8a28a"
      },
      "source": [
        "lr_fig, lr_axs = plt.subplots()\n",
        "lr_bcm.plot_roc_curve(ax=lr_axs)\n",
        "lr_axs.set_title('Test ROC Curve for the Logistice Regression Model')"
      ],
      "execution_count": 223,
      "outputs": [
        {
          "output_type": "execute_result",
          "data": {
            "text/plain": [
              "Text(0.5, 1.0, 'Test ROC Curve for the Logistice Regression Model')"
            ]
          },
          "metadata": {
            "tags": []
          },
          "execution_count": 223
        },
        {
          "output_type": "display_data",
          "data": {
            "image/png": "[encoded data removed]",
            "text/plain": [
              "<Figure size 432x288 with 1 Axes>"
            ]
          },
          "metadata": {
            "tags": [],
            "needs_background": "light"
          }
        }
      ]
    },
    {
      "cell_type": "code",
      "metadata": {
        "colab": {
          "base_uri": "https://localhost:8080/",
          "height": 312
        },
        "id": "c_f-Pdq97Cqj",
        "outputId": "c75bb45f-7065-4ae2-d3ce-d1ff937a75c2"
      },
      "source": [
        "dt_fig, dt_axs = plt.subplots()\n",
        "dt_bcm.plot_roc_curve(ax=dt_axs)\n",
        "dt_axs.set_title('Test ROC Curve for the Decision Tree Model')"
      ],
      "execution_count": 227,
      "outputs": [
        {
          "output_type": "execute_result",
          "data": {
            "text/plain": [
              "Text(0.5, 1.0, 'Test ROC Curve for the Decision Tree Model')"
            ]
          },
          "metadata": {
            "tags": []
          },
          "execution_count": 227
        },
        {
          "output_type": "display_data",
          "data": {
            "image/png": "[encoded data removed]",
            "text/plain": [
              "<Figure size 432x288 with 1 Axes>"
            ]
          },
          "metadata": {
            "tags": [],
            "needs_background": "light"
          }
        }
      ]
    },
    {
      "cell_type": "code",
      "metadata": {
        "colab": {
          "base_uri": "https://localhost:8080/",
          "height": 312
        },
        "id": "jERO85Iq7DJK",
        "outputId": "3fb20368-9791-4f78-c6ac-b48aa22fcf27"
      },
      "source": [
        "rf_fig, rf_axs = plt.subplots()\n",
        "rf_bcm.plot_roc_curve(ax=rf_axs)\n",
        "rf_axs.set_title('Test ROC Curve for the Random Forest Model')"
      ],
      "execution_count": 226,
      "outputs": [
        {
          "output_type": "execute_result",
          "data": {
            "text/plain": [
              "Text(0.5, 1.0, 'Test ROC Curve for the Random Forest Model')"
            ]
          },
          "metadata": {
            "tags": []
          },
          "execution_count": 226
        },
        {
          "output_type": "display_data",
          "data": {
            "image/png": "[encoded data removed]",
            "text/plain": [
              "<Figure size 432x288 with 1 Axes>"
            ]
          },
          "metadata": {
            "tags": [],
            "needs_background": "light"
          }
        }
      ]
    }
  ]
}