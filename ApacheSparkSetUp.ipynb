{
  "nbformat": 4,
  "nbformat_minor": 0,
  "metadata": {
    "colab": {
      "name": "ApacheSparkSetUp.ipynb",
      "provenance": [],
      "authorship_tag": "ABX9TyNb2HLS0S0d5tM7UtlgjC37",
      "include_colab_link": true
    },
    "kernelspec": {
      "name": "python3",
      "display_name": "Python 3"
    }
  },
  "cells": [
    {
      "cell_type": "markdown",
      "metadata": {
        "id": "view-in-github",
        "colab_type": "text"
      },
      "source": [
        "<a href=\"https://colab.research.google.com/github/justinf34/SENG550-Project/blob/main/ApacheSparkSetUp.ipynb\" target=\"_parent\"><img src=\"https://colab.research.google.com/assets/colab-badge.svg\" alt=\"Open In Colab\"/></a>"
      ]
    },
    {
      "cell_type": "markdown",
      "metadata": {
        "id": "gk0zgYGwRQKh"
      },
      "source": [
        "# Running Pyspark in Colab\n",
        "\n",
        "\n"
      ]
    },
    {
      "cell_type": "code",
      "metadata": {
        "id": "KQy3pIr1Subw",
        "outputId": "97032f83-0832-47a9-c8fa-230b0c9f5b6e",
        "colab": {
          "base_uri": "https://localhost:8080/"
        }
      },
      "source": [
        "!pip install pyspark"
      ],
      "execution_count": null,
      "outputs": [
        {
          "output_type": "stream",
          "text": [
            "Collecting pyspark\n",
            "\u001b[?25l  Downloading https://files.pythonhosted.org/packages/f0/26/198fc8c0b98580f617cb03cb298c6056587b8f0447e20fa40c5b634ced77/pyspark-3.0.1.tar.gz (204.2MB)\n",
            "\u001b[K     |████████████████████████████████| 204.2MB 57kB/s \n",
            "\u001b[?25hCollecting py4j==0.10.9\n",
            "\u001b[?25l  Downloading https://files.pythonhosted.org/packages/9e/b6/6a4fb90cd235dc8e265a6a2067f2a2c99f0d91787f06aca4bcf7c23f3f80/py4j-0.10.9-py2.py3-none-any.whl (198kB)\n",
            "\u001b[K     |████████████████████████████████| 204kB 39.1MB/s \n",
            "\u001b[?25hBuilding wheels for collected packages: pyspark\n",
            "  Building wheel for pyspark (setup.py) ... \u001b[?25l\u001b[?25hdone\n",
            "  Created wheel for pyspark: filename=pyspark-3.0.1-py2.py3-none-any.whl size=204612243 sha256=0744f67fecd7d3bfbff0760ad0f657c8cf546916e8d23a0ae296265116cdc633\n",
            "  Stored in directory: /root/.cache/pip/wheels/5e/bd/07/031766ca628adec8435bb40f0bd83bb676ce65ff4007f8e73f\n",
            "Successfully built pyspark\n",
            "Installing collected packages: py4j, pyspark\n",
            "Successfully installed py4j-0.10.9 pyspark-3.0.1\n"
          ],
          "name": "stdout"
        }
      ]
    },
    {
      "cell_type": "markdown",
      "metadata": {
        "id": "ROwESMZ7bfUO"
      },
      "source": [
        "We can run a local spark session to test our installation"
      ]
    },
    {
      "cell_type": "code",
      "metadata": {
        "id": "AKOg4JITUNEE"
      },
      "source": [
        "from pyspark.sql import SparkSession\n",
        "spark = SparkSession.builder.master(\"local[*]\").getOrCreate()"
      ],
      "execution_count": null,
      "outputs": []
    },
    {
      "cell_type": "markdown",
      "metadata": {
        "id": "me8KEIuMbnmn"
      },
      "source": [
        "To access the csv's of our dataset, we must mount our google drive to colab. Before you mount the drive, create a shortcut of the shared dataset folder to you 'My Drive'."
      ]
    },
    {
      "cell_type": "code",
      "metadata": {
        "id": "k2qj9C0GaLZO"
      },
      "source": [
        "from google.colab import drive\n",
        "drive.mount('/content/drive')"
      ],
      "execution_count": null,
      "outputs": []
    },
    {
      "cell_type": "markdown",
      "metadata": {
        "id": "Yp0JHH8r03wx"
      },
      "source": [
        "Check of the shared dataset folder is there."
      ]
    },
    {
      "cell_type": "code",
      "metadata": {
        "id": "es_cSAysaiGZ",
        "outputId": "2d78ea5e-f6f8-49e6-e90a-20329262071b",
        "colab": {
          "base_uri": "https://localhost:8080/"
        }
      },
      "source": [
        "!ls drive/My\\ Drive/dataset"
      ],
      "execution_count": null,
      "outputs": [
        {
          "output_type": "stream",
          "text": [
            "ls: cannot access 'drive/My Drive/Colab Notebooks/SENG550/dataset': No such file or directory\n"
          ],
          "name": "stdout"
        }
      ]
    },
    {
      "cell_type": "markdown",
      "metadata": {
        "id": "QTIEC5X607zu"
      },
      "source": [
        "Now we can test if we can read the csv files in the shared folder and test if spark is working."
      ]
    },
    {
      "cell_type": "code",
      "metadata": {
        "id": "lUuMCOjFa287"
      },
      "source": [
        "dataset = spark.read.csv(\"drive/My\\ Drive/dataset/teamstats.csv\",inferSchema=True,header=True)"
      ],
      "execution_count": null,
      "outputs": []
    },
    {
      "cell_type": "code",
      "metadata": {
        "id": "0HeJpF2UbOEg",
        "outputId": "587f2f4f-7550-4d6f-c11c-24b120d754a1",
        "colab": {
          "base_uri": "https://localhost:8080/"
        }
      },
      "source": [
        "dataset.printSchema()"
      ],
      "execution_count": null,
      "outputs": [
        {
          "output_type": "stream",
          "text": [
            "root\n",
            " |-- matchid: integer (nullable = true)\n",
            " |-- teamid: integer (nullable = true)\n",
            " |-- firstblood: integer (nullable = true)\n",
            " |-- firsttower: integer (nullable = true)\n",
            " |-- firstinhib: integer (nullable = true)\n",
            " |-- firstbaron: integer (nullable = true)\n",
            " |-- firstdragon: integer (nullable = true)\n",
            " |-- firstharry: integer (nullable = true)\n",
            " |-- towerkills: integer (nullable = true)\n",
            " |-- inhibkills: integer (nullable = true)\n",
            " |-- baronkills: integer (nullable = true)\n",
            " |-- dragonkills: integer (nullable = true)\n",
            " |-- harrykills: integer (nullable = true)\n",
            "\n"
          ],
          "name": "stdout"
        }
      ]
    }
  ]
}