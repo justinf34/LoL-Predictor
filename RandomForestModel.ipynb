{
  "nbformat": 4,
  "nbformat_minor": 0,
  "metadata": {
    "colab": {
      "name": "RandomForestModel.ipynb",
      "provenance": []
    },
    "kernelspec": {
      "name": "python3",
      "display_name": "Python 3"
    }
  },
  "cells": [
    {
      "cell_type": "markdown",
      "metadata": {
        "id": "8oZd7Mdh9V2k"
      },
      "source": [
        "# **Setting up Collab**"
      ]
    },
    {
      "cell_type": "code",
      "metadata": {
        "colab": {
          "base_uri": "https://localhost:8080/"
        },
        "id": "ypKtAob0h-v0",
        "outputId": "94d91a28-2f81-4771-d6fa-6398be17fcad"
      },
      "source": [
        "from google.colab import drive\n",
        "drive.mount('/content/drive')"
      ],
      "execution_count": null,
      "outputs": [
        {
          "output_type": "stream",
          "text": [
            "Mounted at /content/drive\n"
          ],
          "name": "stdout"
        }
      ]
    },
    {
      "cell_type": "code",
      "metadata": {
        "colab": {
          "base_uri": "https://localhost:8080/"
        },
        "id": "3nFbL5wYiGU4",
        "outputId": "f3c6f684-55b0-4184-d212-27d86214fb36"
      },
      "source": [
        "!pip install pyspark"
      ],
      "execution_count": null,
      "outputs": [
        {
          "output_type": "stream",
          "text": [
            "Collecting pyspark\n",
            "\u001b[?25l  Downloading https://files.pythonhosted.org/packages/f0/26/198fc8c0b98580f617cb03cb298c6056587b8f0447e20fa40c5b634ced77/pyspark-3.0.1.tar.gz (204.2MB)\n",
            "\u001b[K     |████████████████████████████████| 204.2MB 45kB/s \n",
            "\u001b[?25hCollecting py4j==0.10.9\n",
            "\u001b[?25l  Downloading https://files.pythonhosted.org/packages/9e/b6/6a4fb90cd235dc8e265a6a2067f2a2c99f0d91787f06aca4bcf7c23f3f80/py4j-0.10.9-py2.py3-none-any.whl (198kB)\n",
            "\u001b[K     |████████████████████████████████| 204kB 38.6MB/s \n",
            "\u001b[?25hBuilding wheels for collected packages: pyspark\n",
            "  Building wheel for pyspark (setup.py) ... \u001b[?25l\u001b[?25hdone\n",
            "  Created wheel for pyspark: filename=pyspark-3.0.1-py2.py3-none-any.whl size=204612243 sha256=dbaaa15194ca192befd2ec418679f95fea569048b2649a4778d36512e041a3df\n",
            "  Stored in directory: /root/.cache/pip/wheels/5e/bd/07/031766ca628adec8435bb40f0bd83bb676ce65ff4007f8e73f\n",
            "Successfully built pyspark\n",
            "Installing collected packages: py4j, pyspark\n",
            "Successfully installed py4j-0.10.9 pyspark-3.0.1\n"
          ],
          "name": "stdout"
        }
      ]
    },
    {
      "cell_type": "markdown",
      "metadata": {
        "id": "Lm-8hvWT-elV"
      },
      "source": [
        "# **Model Creation**"
      ]
    },
    {
      "cell_type": "code",
      "metadata": {
        "id": "DC_LmIe2icWb"
      },
      "source": [
        "\n",
        "# Setting up Spark context using SparkSession\n",
        "import pyspark\n",
        "from pyspark.sql import SparkSession\n",
        "\n",
        "spark = SparkSession.builder.appName('predictor-models').master(\"local[*]\").getOrCreate()"
      ],
      "execution_count": null,
      "outputs": []
    },
    {
      "cell_type": "markdown",
      "metadata": {
        "id": "QF7lRDXA-hWt"
      },
      "source": [
        "## **Loading the Data**"
      ]
    },
    {
      "cell_type": "code",
      "metadata": {
        "colab": {
          "base_uri": "https://localhost:8080/"
        },
        "id": "VD6J4ikOik2b",
        "outputId": "e8055746-5dd3-4e37-97c6-bb53a7a67347"
      },
      "source": [
        "mid_df = spark.read.csv('drive/MyDrive/dataset/mid_model_features_wh2/part-*.csv', header=True, inferSchema=True)\n",
        "mid_df.printSchema()"
      ],
      "execution_count": null,
      "outputs": [
        {
          "output_type": "stream",
          "text": [
            "root\n",
            " |-- winner: string (nullable = true)\n",
            " |-- mid_golddiff: integer (nullable = true)\n",
            " |-- bKillCount: integer (nullable = true)\n",
            " |-- rKillCount: integer (nullable = true)\n",
            " |-- first_blood: string (nullable = true)\n",
            " |-- bTowerCount: integer (nullable = true)\n",
            " |-- rTowerCount: integer (nullable = true)\n",
            " |-- first_tower: string (nullable = true)\n",
            " |-- bInhibCount: integer (nullable = true)\n",
            " |-- rInhibCount: integer (nullable = true)\n",
            " |-- first_inhib: string (nullable = true)\n",
            " |-- bDragonCount: integer (nullable = true)\n",
            " |-- rDragonCount: integer (nullable = true)\n",
            " |-- first_dragon: string (nullable = true)\n",
            " |-- bBaronCount: integer (nullable = true)\n",
            " |-- rBaronCount: integer (nullable = true)\n",
            " |-- first_baron: string (nullable = true)\n",
            "\n"
          ],
          "name": "stdout"
        }
      ]
    },
    {
      "cell_type": "markdown",
      "metadata": {
        "id": "EvsPK9ra_cXI"
      },
      "source": [
        "**Features:**\r\n",
        "*   mid_goldiff: This is be the difference between the gold in each team. Computed by Blue(1) - Red(0) gold.\r\n",
        "*   bKillCount: The number of kills that the Blue side has.\r\n",
        "*   rKillCount: The number of kills that the Red side has.\r\n",
        "*   first_blood: Which team got the first kills of the game.\r\n",
        "*   bTowerCount: The number of towers that the Blue side knocked down.\r\n",
        "*   rTowerCount: The number of towers that the Red side knocked down.\r\n",
        "*   first_tower: Which team knocked down the first tower of the game.\r\n",
        "*   bInhibCount: The number of inhibitors that the Blue side knocked down.\r\n",
        "*   rInhibCount: The number of inhibitors that the Red side knocked down.\r\n",
        "*   first_inhib: Which team knocked down the first inhibitor of the game.\r\n",
        "*   bDragonCount: The number of dragons that the Blue side has.\r\n",
        "*   rDragonCount: The number of dragons that the Red side has.\r\n",
        "*   first_dragon: Which team got the first dragon of the game.\r\n",
        "*   bBaronCount: The number of barons that the Blue side has.\r\n",
        "*   rBaronCount: The number of barons that the Red side has.\r\n",
        "*   first_baron: Which team got the first baron of the game\r\n",
        "\r\n",
        "\r\n",
        "**Label:**\r\n",
        "\r\n",
        "\r\n",
        "*   winner: Indicates which team won the match\r\n",
        "\r\n",
        "\r\n",
        "\r\n"
      ]
    },
    {
      "cell_type": "markdown",
      "metadata": {
        "id": "w2bMu18g_6Q7"
      },
      "source": [
        "Looking at the first 5 matches in our dataset"
      ]
    },
    {
      "cell_type": "code",
      "metadata": {
        "colab": {
          "base_uri": "https://localhost:8080/",
          "height": 576
        },
        "id": "CglcB-WKi3Em",
        "outputId": "8cfa1fd9-1ffb-41dd-abf8-da7b391a0cc6"
      },
      "source": [
        "import pandas as pd\n",
        "pd.DataFrame(mid_df.take(5), columns=mid_df.columns).transpose()"
      ],
      "execution_count": null,
      "outputs": [
        {
          "output_type": "execute_result",
          "data": {
            "text/html": [
              "<div>\n",
              "<style scoped>\n",
              "    .dataframe tbody tr th:only-of-type {\n",
              "        vertical-align: middle;\n",
              "    }\n",
              "\n",
              "    .dataframe tbody tr th {\n",
              "        vertical-align: top;\n",
              "    }\n",
              "\n",
              "    .dataframe thead th {\n",
              "        text-align: right;\n",
              "    }\n",
              "</style>\n",
              "<table border=\"1\" class=\"dataframe\">\n",
              "  <thead>\n",
              "    <tr style=\"text-align: right;\">\n",
              "      <th></th>\n",
              "      <th>0</th>\n",
              "      <th>1</th>\n",
              "      <th>2</th>\n",
              "      <th>3</th>\n",
              "      <th>4</th>\n",
              "    </tr>\n",
              "  </thead>\n",
              "  <tbody>\n",
              "    <tr>\n",
              "      <th>winner</th>\n",
              "      <td>Blue</td>\n",
              "      <td>Red</td>\n",
              "      <td>Blue</td>\n",
              "      <td>Red</td>\n",
              "      <td>Blue</td>\n",
              "    </tr>\n",
              "    <tr>\n",
              "      <th>mid_golddiff</th>\n",
              "      <td>1422</td>\n",
              "      <td>1368</td>\n",
              "      <td>5293</td>\n",
              "      <td>2712</td>\n",
              "      <td>-730</td>\n",
              "    </tr>\n",
              "    <tr>\n",
              "      <th>bKillCount</th>\n",
              "      <td>4</td>\n",
              "      <td>5</td>\n",
              "      <td>11</td>\n",
              "      <td>5</td>\n",
              "      <td>1</td>\n",
              "    </tr>\n",
              "    <tr>\n",
              "      <th>rKillCount</th>\n",
              "      <td>3</td>\n",
              "      <td>3</td>\n",
              "      <td>6</td>\n",
              "      <td>5</td>\n",
              "      <td>1</td>\n",
              "    </tr>\n",
              "    <tr>\n",
              "      <th>first_blood</th>\n",
              "      <td>Blue</td>\n",
              "      <td>Blue</td>\n",
              "      <td>Blue</td>\n",
              "      <td>Red</td>\n",
              "      <td>Blue</td>\n",
              "    </tr>\n",
              "    <tr>\n",
              "      <th>bTowerCount</th>\n",
              "      <td>4</td>\n",
              "      <td>1</td>\n",
              "      <td>3</td>\n",
              "      <td>2</td>\n",
              "      <td>1</td>\n",
              "    </tr>\n",
              "    <tr>\n",
              "      <th>rTowerCount</th>\n",
              "      <td>2</td>\n",
              "      <td>1</td>\n",
              "      <td>0</td>\n",
              "      <td>1</td>\n",
              "      <td>3</td>\n",
              "    </tr>\n",
              "    <tr>\n",
              "      <th>first_tower</th>\n",
              "      <td>Blue</td>\n",
              "      <td>Read</td>\n",
              "      <td>Blue</td>\n",
              "      <td>Blue</td>\n",
              "      <td>Read</td>\n",
              "    </tr>\n",
              "    <tr>\n",
              "      <th>bInhibCount</th>\n",
              "      <td>0</td>\n",
              "      <td>0</td>\n",
              "      <td>0</td>\n",
              "      <td>0</td>\n",
              "      <td>0</td>\n",
              "    </tr>\n",
              "    <tr>\n",
              "      <th>rInhibCount</th>\n",
              "      <td>0</td>\n",
              "      <td>0</td>\n",
              "      <td>0</td>\n",
              "      <td>0</td>\n",
              "      <td>0</td>\n",
              "    </tr>\n",
              "    <tr>\n",
              "      <th>first_inhib</th>\n",
              "      <td>Blue</td>\n",
              "      <td>Red</td>\n",
              "      <td>Blue</td>\n",
              "      <td>Red</td>\n",
              "      <td>Blue</td>\n",
              "    </tr>\n",
              "    <tr>\n",
              "      <th>bDragonCount</th>\n",
              "      <td>0</td>\n",
              "      <td>0</td>\n",
              "      <td>1</td>\n",
              "      <td>0</td>\n",
              "      <td>1</td>\n",
              "    </tr>\n",
              "    <tr>\n",
              "      <th>rDragonCount</th>\n",
              "      <td>1</td>\n",
              "      <td>1</td>\n",
              "      <td>0</td>\n",
              "      <td>2</td>\n",
              "      <td>0</td>\n",
              "    </tr>\n",
              "    <tr>\n",
              "      <th>first_dragon</th>\n",
              "      <td>Read</td>\n",
              "      <td>Read</td>\n",
              "      <td>Blue</td>\n",
              "      <td>Red</td>\n",
              "      <td>Blue</td>\n",
              "    </tr>\n",
              "    <tr>\n",
              "      <th>bBaronCount</th>\n",
              "      <td>0</td>\n",
              "      <td>0</td>\n",
              "      <td>0</td>\n",
              "      <td>0</td>\n",
              "      <td>0</td>\n",
              "    </tr>\n",
              "    <tr>\n",
              "      <th>rBaronCount</th>\n",
              "      <td>0</td>\n",
              "      <td>0</td>\n",
              "      <td>0</td>\n",
              "      <td>0</td>\n",
              "      <td>0</td>\n",
              "    </tr>\n",
              "    <tr>\n",
              "      <th>first_baron</th>\n",
              "      <td>Red</td>\n",
              "      <td>Blue</td>\n",
              "      <td>Blue</td>\n",
              "      <td>Blue</td>\n",
              "      <td>Blue</td>\n",
              "    </tr>\n",
              "  </tbody>\n",
              "</table>\n",
              "</div>"
            ],
            "text/plain": [
              "                 0     1     2     3     4\n",
              "winner        Blue   Red  Blue   Red  Blue\n",
              "mid_golddiff  1422  1368  5293  2712  -730\n",
              "bKillCount       4     5    11     5     1\n",
              "rKillCount       3     3     6     5     1\n",
              "first_blood   Blue  Blue  Blue   Red  Blue\n",
              "bTowerCount      4     1     3     2     1\n",
              "rTowerCount      2     1     0     1     3\n",
              "first_tower   Blue  Read  Blue  Blue  Read\n",
              "bInhibCount      0     0     0     0     0\n",
              "rInhibCount      0     0     0     0     0\n",
              "first_inhib   Blue   Red  Blue   Red  Blue\n",
              "bDragonCount     0     0     1     0     1\n",
              "rDragonCount     1     1     0     2     0\n",
              "first_dragon  Read  Read  Blue   Red  Blue\n",
              "bBaronCount      0     0     0     0     0\n",
              "rBaronCount      0     0     0     0     0\n",
              "first_baron    Red  Blue  Blue  Blue  Blue"
            ]
          },
          "metadata": {
            "tags": []
          },
          "execution_count": 5
        }
      ]
    },
    {
      "cell_type": "markdown",
      "metadata": {
        "id": "vGUpoYRM_88T"
      },
      "source": [
        "Below we can see that the number of records where blue is the winner and when red is the winner is almost balanced."
      ]
    },
    {
      "cell_type": "code",
      "metadata": {
        "colab": {
          "base_uri": "https://localhost:8080/",
          "height": 111
        },
        "id": "PsnUVKKFjCrA",
        "outputId": "4b66e346-d7ea-4f01-a614-a285c2928ecb"
      },
      "source": [
        "mid_df.groupby('winner').count().toPandas()"
      ],
      "execution_count": null,
      "outputs": [
        {
          "output_type": "execute_result",
          "data": {
            "text/html": [
              "<div>\n",
              "<style scoped>\n",
              "    .dataframe tbody tr th:only-of-type {\n",
              "        vertical-align: middle;\n",
              "    }\n",
              "\n",
              "    .dataframe tbody tr th {\n",
              "        vertical-align: top;\n",
              "    }\n",
              "\n",
              "    .dataframe thead th {\n",
              "        text-align: right;\n",
              "    }\n",
              "</style>\n",
              "<table border=\"1\" class=\"dataframe\">\n",
              "  <thead>\n",
              "    <tr style=\"text-align: right;\">\n",
              "      <th></th>\n",
              "      <th>winner</th>\n",
              "      <th>count</th>\n",
              "    </tr>\n",
              "  </thead>\n",
              "  <tbody>\n",
              "    <tr>\n",
              "      <th>0</th>\n",
              "      <td>Blue</td>\n",
              "      <td>4146</td>\n",
              "    </tr>\n",
              "    <tr>\n",
              "      <th>1</th>\n",
              "      <td>Red</td>\n",
              "      <td>3474</td>\n",
              "    </tr>\n",
              "  </tbody>\n",
              "</table>\n",
              "</div>"
            ],
            "text/plain": [
              "  winner  count\n",
              "0   Blue   4146\n",
              "1    Red   3474"
            ]
          },
          "metadata": {
            "tags": []
          },
          "execution_count": 6
        }
      ]
    },
    {
      "cell_type": "markdown",
      "metadata": {
        "id": "Ql53Kb4a-ryB"
      },
      "source": [
        "# **Summary Statistics**\r\n",
        "\r\n",
        "Here we can see the mean, standard deviation, max, and min for our numerical variables."
      ]
    },
    {
      "cell_type": "code",
      "metadata": {
        "colab": {
          "base_uri": "https://localhost:8080/",
          "height": 421
        },
        "id": "iZthcSBfjMlz",
        "outputId": "6082a215-1218-4553-c928-a7b91de475ee"
      },
      "source": [
        "numeric_data = [t[0] for t in mid_df.dtypes if t[1] == 'int']\n",
        "mid_df.select(numeric_data).describe().toPandas().transpose()"
      ],
      "execution_count": null,
      "outputs": [
        {
          "output_type": "execute_result",
          "data": {
            "text/html": [
              "<div>\n",
              "<style scoped>\n",
              "    .dataframe tbody tr th:only-of-type {\n",
              "        vertical-align: middle;\n",
              "    }\n",
              "\n",
              "    .dataframe tbody tr th {\n",
              "        vertical-align: top;\n",
              "    }\n",
              "\n",
              "    .dataframe thead th {\n",
              "        text-align: right;\n",
              "    }\n",
              "</style>\n",
              "<table border=\"1\" class=\"dataframe\">\n",
              "  <thead>\n",
              "    <tr style=\"text-align: right;\">\n",
              "      <th></th>\n",
              "      <th>0</th>\n",
              "      <th>1</th>\n",
              "      <th>2</th>\n",
              "      <th>3</th>\n",
              "      <th>4</th>\n",
              "    </tr>\n",
              "  </thead>\n",
              "  <tbody>\n",
              "    <tr>\n",
              "      <th>summary</th>\n",
              "      <td>count</td>\n",
              "      <td>mean</td>\n",
              "      <td>stddev</td>\n",
              "      <td>min</td>\n",
              "      <td>max</td>\n",
              "    </tr>\n",
              "    <tr>\n",
              "      <th>mid_golddiff</th>\n",
              "      <td>7620</td>\n",
              "      <td>209.72086614173227</td>\n",
              "      <td>2817.02348085286</td>\n",
              "      <td>-13591</td>\n",
              "      <td>12673</td>\n",
              "    </tr>\n",
              "    <tr>\n",
              "      <th>bKillCount</th>\n",
              "      <td>7620</td>\n",
              "      <td>3.862992125984252</td>\n",
              "      <td>2.802155522367613</td>\n",
              "      <td>0</td>\n",
              "      <td>31</td>\n",
              "    </tr>\n",
              "    <tr>\n",
              "      <th>rKillCount</th>\n",
              "      <td>7620</td>\n",
              "      <td>3.744225721784777</td>\n",
              "      <td>2.825049109605663</td>\n",
              "      <td>0</td>\n",
              "      <td>20</td>\n",
              "    </tr>\n",
              "    <tr>\n",
              "      <th>bTowerCount</th>\n",
              "      <td>7620</td>\n",
              "      <td>1.7263779527559056</td>\n",
              "      <td>1.323631865981659</td>\n",
              "      <td>0</td>\n",
              "      <td>8</td>\n",
              "    </tr>\n",
              "    <tr>\n",
              "      <th>rTowerCount</th>\n",
              "      <td>7620</td>\n",
              "      <td>1.5360892388451444</td>\n",
              "      <td>1.2876729076787756</td>\n",
              "      <td>0</td>\n",
              "      <td>9</td>\n",
              "    </tr>\n",
              "    <tr>\n",
              "      <th>bInhibCount</th>\n",
              "      <td>7620</td>\n",
              "      <td>0.0032808398950131233</td>\n",
              "      <td>0.06573059977889233</td>\n",
              "      <td>0</td>\n",
              "      <td>3</td>\n",
              "    </tr>\n",
              "    <tr>\n",
              "      <th>rInhibCount</th>\n",
              "      <td>7620</td>\n",
              "      <td>0.0034120734908136482</td>\n",
              "      <td>0.07053997021908105</td>\n",
              "      <td>0</td>\n",
              "      <td>4</td>\n",
              "    </tr>\n",
              "    <tr>\n",
              "      <th>bDragonCount</th>\n",
              "      <td>7620</td>\n",
              "      <td>0.6570866141732283</td>\n",
              "      <td>0.7255637472953317</td>\n",
              "      <td>0</td>\n",
              "      <td>4</td>\n",
              "    </tr>\n",
              "    <tr>\n",
              "      <th>rDragonCount</th>\n",
              "      <td>7620</td>\n",
              "      <td>0.75748031496063</td>\n",
              "      <td>0.7647421170462376</td>\n",
              "      <td>0</td>\n",
              "      <td>5</td>\n",
              "    </tr>\n",
              "    <tr>\n",
              "      <th>bBaronCount</th>\n",
              "      <td>7620</td>\n",
              "      <td>0.014041994750656168</td>\n",
              "      <td>0.11878188379681456</td>\n",
              "      <td>0</td>\n",
              "      <td>2</td>\n",
              "    </tr>\n",
              "    <tr>\n",
              "      <th>rBaronCount</th>\n",
              "      <td>7620</td>\n",
              "      <td>0.018503937007874015</td>\n",
              "      <td>0.13955799240264175</td>\n",
              "      <td>0</td>\n",
              "      <td>2</td>\n",
              "    </tr>\n",
              "  </tbody>\n",
              "</table>\n",
              "</div>"
            ],
            "text/plain": [
              "                  0                      1                    2       3      4\n",
              "summary       count                   mean               stddev     min    max\n",
              "mid_golddiff   7620     209.72086614173227     2817.02348085286  -13591  12673\n",
              "bKillCount     7620      3.862992125984252    2.802155522367613       0     31\n",
              "rKillCount     7620      3.744225721784777    2.825049109605663       0     20\n",
              "bTowerCount    7620     1.7263779527559056    1.323631865981659       0      8\n",
              "rTowerCount    7620     1.5360892388451444   1.2876729076787756       0      9\n",
              "bInhibCount    7620  0.0032808398950131233  0.06573059977889233       0      3\n",
              "rInhibCount    7620  0.0034120734908136482  0.07053997021908105       0      4\n",
              "bDragonCount   7620     0.6570866141732283   0.7255637472953317       0      4\n",
              "rDragonCount   7620       0.75748031496063   0.7647421170462376       0      5\n",
              "bBaronCount    7620   0.014041994750656168  0.11878188379681456       0      2\n",
              "rBaronCount    7620   0.018503937007874015  0.13955799240264175       0      2"
            ]
          },
          "metadata": {
            "tags": []
          },
          "execution_count": 7
        }
      ]
    },
    {
      "cell_type": "markdown",
      "metadata": {
        "id": "Bk9TOkUI_B2-"
      },
      "source": [
        "\r\n",
        "# **Model Building**\r\n",
        "### **Preparing Data**\r\n",
        "\r\n",
        "Before we can create models, we must prepare our data so that the model can use our data and estimate parameters needed to predict game results. The data has already been altered during the firt phase of data preprocessing, however, we need to encode categroical features to numerical since machine learning models can only work with numbers. Also, we need to normalize our numeric features. This is necessar because the numeric features are in very different ranges. Numeric features that have larger values such as gold difference can influence the result more due to its larger values, however, this feature might not be as important as the other features.\r\n",
        "\r\n"
      ]
    },
    {
      "cell_type": "markdown",
      "metadata": {
        "id": "gLPXa9fvAUQW"
      },
      "source": [
        "### **Encoding Categorical Features**\r\n",
        "\r\n"
      ]
    },
    {
      "cell_type": "code",
      "metadata": {
        "id": "maH7D00VjV_I"
      },
      "source": [
        "from pyspark.ml.feature import OneHotEncoder, StringIndexer, VectorAssembler\n",
        "\n",
        "# Creating coverting categorical feature to  numerical representations\n",
        "categorical_features = [t[0] for t in mid_df.dtypes if t[1] == 'string' and t[0] != 'winner' ]\n",
        "stages_v1 = [] # Stages in our Pipeline\n",
        "\n",
        "for col in categorical_features:\n",
        "  strIndexer = StringIndexer(inputCol=col, outputCol=col + \"Index\")\n",
        "  encoder = OneHotEncoder(inputCols=[strIndexer.getOutputCol()], outputCols=[col + \"classVec\"])\n",
        "  stages_v1 += [strIndexer, encoder]"
      ],
      "execution_count": null,
      "outputs": []
    },
    {
      "cell_type": "markdown",
      "metadata": {
        "id": "OIkUWaI8AcqJ"
      },
      "source": [
        "\r\n",
        "Since we doing a binary classification, our label is also categorical which we have to convert to numerical. Our label only have category which means that we can use integer encoding rather than one-hot encoding."
      ]
    },
    {
      "cell_type": "code",
      "metadata": {
        "id": "6-OriUNhjbmI"
      },
      "source": [
        "label_strIndexer = StringIndexer(inputCol=\"winner\", outputCol=\"label\")\n",
        "stages_v1 += [label_strIndexer]"
      ],
      "execution_count": null,
      "outputs": []
    },
    {
      "cell_type": "markdown",
      "metadata": {
        "id": "Mtc9703EAfZw"
      },
      "source": [
        "**Normalizing Numeric Features**"
      ]
    },
    {
      "cell_type": "code",
      "metadata": {
        "id": "i_8Dfaz8jeB8"
      },
      "source": [
        "from pyspark.ml.feature import MinMaxScaler\n",
        "from pyspark.ml.feature import VectorAssembler\n",
        "from pyspark.sql.functions import udf\n",
        "from pyspark.sql.types import DoubleType\n",
        "\n",
        "num_features = [t[0] for t in mid_df.dtypes if t[1] == 'int']\n",
        "\n",
        "for col in num_features:\n",
        "  assembler = VectorAssembler(inputCols=[col], outputCol=col + \"_Vect\")\n",
        "  scaler = MinMaxScaler(inputCol=assembler.getOutputCol(), outputCol=col+\"_Scaled\")\n",
        "  stages_v1 +=[assembler,scaler]"
      ],
      "execution_count": null,
      "outputs": []
    },
    {
      "cell_type": "markdown",
      "metadata": {
        "id": "wja478pFAh92"
      },
      "source": [
        "\r\n",
        "### **Combining All Features**\r\n",
        "Now, we will combine all the features columns into a single vector column that we will call features which will be the input data to our models"
      ]
    },
    {
      "cell_type": "code",
      "metadata": {
        "id": "lKU7YHlpjhBW"
      },
      "source": [
        "from pyspark.ml.feature import VectorAssembler\n",
        "\n",
        "assemblerInputs = [col + \"classVec\" for col in categorical_features] + [col + \"_Scaled\" for col in num_features]\n",
        "assembler2 = VectorAssembler(inputCols=assemblerInputs, outputCol=\"features\")\n",
        "stages_v1 += [assembler2]"
      ],
      "execution_count": null,
      "outputs": []
    },
    {
      "cell_type": "markdown",
      "metadata": {
        "id": "u6vM22iKAkcw"
      },
      "source": [
        "\r\n",
        "Now that we have defined all our data transformations, it still has not been applied to our data. They will be applied when we start training a model. Below will be the number of transformations that our data will go through."
      ]
    },
    {
      "cell_type": "code",
      "metadata": {
        "colab": {
          "base_uri": "https://localhost:8080/"
        },
        "id": "hjjlTNXkjisX",
        "outputId": "1b68d696-24a7-45c3-a6c0-c8fe665f292e"
      },
      "source": [
        "stages_v1"
      ],
      "execution_count": null,
      "outputs": [
        {
          "output_type": "execute_result",
          "data": {
            "text/plain": [
              "[StringIndexer_7046474865f2,\n",
              " OneHotEncoder_5b2205b1b3f0,\n",
              " StringIndexer_453b40b54bfa,\n",
              " OneHotEncoder_c9a444c73bb2,\n",
              " StringIndexer_a73781000fc6,\n",
              " OneHotEncoder_4a15ab493e2e,\n",
              " StringIndexer_f24fc67df6ce,\n",
              " OneHotEncoder_0a6ee7288645,\n",
              " StringIndexer_6841a6612552,\n",
              " OneHotEncoder_c7eff41dcc1e,\n",
              " StringIndexer_3a221ad1acb9,\n",
              " VectorAssembler_d1c5407d1d57,\n",
              " MinMaxScaler_e41f52baf1ae,\n",
              " VectorAssembler_eb35aac320a5,\n",
              " MinMaxScaler_66b1fc9d7c20,\n",
              " VectorAssembler_fb05c92d41de,\n",
              " MinMaxScaler_fa88df29e180,\n",
              " VectorAssembler_6e1eb553039e,\n",
              " MinMaxScaler_66dfba3e444f,\n",
              " VectorAssembler_e5b9cd1a92df,\n",
              " MinMaxScaler_d8b3c4de8411,\n",
              " VectorAssembler_6a3e88c6e8b1,\n",
              " MinMaxScaler_b87de969cb20,\n",
              " VectorAssembler_56f9b90d0f79,\n",
              " MinMaxScaler_8403daf5ee5f,\n",
              " VectorAssembler_35d10b2c7731,\n",
              " MinMaxScaler_6c822238c5bb,\n",
              " VectorAssembler_679b29239edc,\n",
              " MinMaxScaler_686cbdaee021,\n",
              " VectorAssembler_2cc7619997e9,\n",
              " MinMaxScaler_4172e5612fd3,\n",
              " VectorAssembler_eaa6f6c5f877,\n",
              " MinMaxScaler_d6fb5a6af0f6,\n",
              " VectorAssembler_71c18b8f9e9a]"
            ]
          },
          "metadata": {
            "tags": []
          },
          "execution_count": 13
        }
      ]
    },
    {
      "cell_type": "code",
      "metadata": {
        "id": "TDY7qWcEjkMt"
      },
      "source": [
        "from pyspark.ml import Pipeline\n",
        "\n",
        "pipeline = Pipeline().setStages(stages_v1)\n",
        "pipelineModel = pipeline.fit(mid_df)\n",
        "transformed_data = pipelineModel.transform(mid_df)"
      ],
      "execution_count": null,
      "outputs": []
    },
    {
      "cell_type": "code",
      "metadata": {
        "colab": {
          "base_uri": "https://localhost:8080/"
        },
        "id": "jckhvgTEjm79",
        "outputId": "51b90937-d0dd-4747-fd46-1b5ebe23d16b"
      },
      "source": [
        "selectedCols = ['label', 'features'] + mid_df.columns\n",
        "model_df = transformed_data.select(selectedCols)\n",
        "model_df.printSchema()"
      ],
      "execution_count": null,
      "outputs": [
        {
          "output_type": "stream",
          "text": [
            "root\n",
            " |-- label: double (nullable = false)\n",
            " |-- features: vector (nullable = true)\n",
            " |-- winner: string (nullable = true)\n",
            " |-- mid_golddiff: integer (nullable = true)\n",
            " |-- bKillCount: integer (nullable = true)\n",
            " |-- rKillCount: integer (nullable = true)\n",
            " |-- first_blood: string (nullable = true)\n",
            " |-- bTowerCount: integer (nullable = true)\n",
            " |-- rTowerCount: integer (nullable = true)\n",
            " |-- first_tower: string (nullable = true)\n",
            " |-- bInhibCount: integer (nullable = true)\n",
            " |-- rInhibCount: integer (nullable = true)\n",
            " |-- first_inhib: string (nullable = true)\n",
            " |-- bDragonCount: integer (nullable = true)\n",
            " |-- rDragonCount: integer (nullable = true)\n",
            " |-- first_dragon: string (nullable = true)\n",
            " |-- bBaronCount: integer (nullable = true)\n",
            " |-- rBaronCount: integer (nullable = true)\n",
            " |-- first_baron: string (nullable = true)\n",
            "\n"
          ],
          "name": "stdout"
        }
      ]
    },
    {
      "cell_type": "code",
      "metadata": {
        "colab": {
          "base_uri": "https://localhost:8080/",
          "height": 638
        },
        "id": "DTON6fS5jqvG",
        "outputId": "4d3b9ebc-f248-4fd0-9714-15e3c9d633ed"
      },
      "source": [
        "pd.DataFrame(model_df.take(5), columns=model_df.columns).transpose()"
      ],
      "execution_count": null,
      "outputs": [
        {
          "output_type": "execute_result",
          "data": {
            "text/html": [
              "<div>\n",
              "<style scoped>\n",
              "    .dataframe tbody tr th:only-of-type {\n",
              "        vertical-align: middle;\n",
              "    }\n",
              "\n",
              "    .dataframe tbody tr th {\n",
              "        vertical-align: top;\n",
              "    }\n",
              "\n",
              "    .dataframe thead th {\n",
              "        text-align: right;\n",
              "    }\n",
              "</style>\n",
              "<table border=\"1\" class=\"dataframe\">\n",
              "  <thead>\n",
              "    <tr style=\"text-align: right;\">\n",
              "      <th></th>\n",
              "      <th>0</th>\n",
              "      <th>1</th>\n",
              "      <th>2</th>\n",
              "      <th>3</th>\n",
              "      <th>4</th>\n",
              "    </tr>\n",
              "  </thead>\n",
              "  <tbody>\n",
              "    <tr>\n",
              "      <th>label</th>\n",
              "      <td>0</td>\n",
              "      <td>1</td>\n",
              "      <td>0</td>\n",
              "      <td>1</td>\n",
              "      <td>0</td>\n",
              "    </tr>\n",
              "    <tr>\n",
              "      <th>features</th>\n",
              "      <td>(1.0, 0.0, 0.0, 1.0, 0.0, 1.0, 0.0, 0.0, 0.0, ...</td>\n",
              "      <td>(1.0, 0.0, 0.0, 0.0, 1.0, 0.0, 1.0, 0.0, 0.0, ...</td>\n",
              "      <td>(1.0, 0.0, 0.0, 1.0, 0.0, 1.0, 0.0, 0.0, 1.0, ...</td>\n",
              "      <td>(0.0, 1.0, 0.0, 1.0, 0.0, 0.0, 1.0, 0.0, 0.0, ...</td>\n",
              "      <td>(1.0, 0.0, 0.0, 0.0, 1.0, 1.0, 0.0, 0.0, 1.0, ...</td>\n",
              "    </tr>\n",
              "    <tr>\n",
              "      <th>winner</th>\n",
              "      <td>Blue</td>\n",
              "      <td>Red</td>\n",
              "      <td>Blue</td>\n",
              "      <td>Red</td>\n",
              "      <td>Blue</td>\n",
              "    </tr>\n",
              "    <tr>\n",
              "      <th>mid_golddiff</th>\n",
              "      <td>1422</td>\n",
              "      <td>1368</td>\n",
              "      <td>5293</td>\n",
              "      <td>2712</td>\n",
              "      <td>-730</td>\n",
              "    </tr>\n",
              "    <tr>\n",
              "      <th>bKillCount</th>\n",
              "      <td>4</td>\n",
              "      <td>5</td>\n",
              "      <td>11</td>\n",
              "      <td>5</td>\n",
              "      <td>1</td>\n",
              "    </tr>\n",
              "    <tr>\n",
              "      <th>rKillCount</th>\n",
              "      <td>3</td>\n",
              "      <td>3</td>\n",
              "      <td>6</td>\n",
              "      <td>5</td>\n",
              "      <td>1</td>\n",
              "    </tr>\n",
              "    <tr>\n",
              "      <th>first_blood</th>\n",
              "      <td>Blue</td>\n",
              "      <td>Blue</td>\n",
              "      <td>Blue</td>\n",
              "      <td>Red</td>\n",
              "      <td>Blue</td>\n",
              "    </tr>\n",
              "    <tr>\n",
              "      <th>bTowerCount</th>\n",
              "      <td>4</td>\n",
              "      <td>1</td>\n",
              "      <td>3</td>\n",
              "      <td>2</td>\n",
              "      <td>1</td>\n",
              "    </tr>\n",
              "    <tr>\n",
              "      <th>rTowerCount</th>\n",
              "      <td>2</td>\n",
              "      <td>1</td>\n",
              "      <td>0</td>\n",
              "      <td>1</td>\n",
              "      <td>3</td>\n",
              "    </tr>\n",
              "    <tr>\n",
              "      <th>first_tower</th>\n",
              "      <td>Blue</td>\n",
              "      <td>Read</td>\n",
              "      <td>Blue</td>\n",
              "      <td>Blue</td>\n",
              "      <td>Read</td>\n",
              "    </tr>\n",
              "    <tr>\n",
              "      <th>bInhibCount</th>\n",
              "      <td>0</td>\n",
              "      <td>0</td>\n",
              "      <td>0</td>\n",
              "      <td>0</td>\n",
              "      <td>0</td>\n",
              "    </tr>\n",
              "    <tr>\n",
              "      <th>rInhibCount</th>\n",
              "      <td>0</td>\n",
              "      <td>0</td>\n",
              "      <td>0</td>\n",
              "      <td>0</td>\n",
              "      <td>0</td>\n",
              "    </tr>\n",
              "    <tr>\n",
              "      <th>first_inhib</th>\n",
              "      <td>Blue</td>\n",
              "      <td>Red</td>\n",
              "      <td>Blue</td>\n",
              "      <td>Red</td>\n",
              "      <td>Blue</td>\n",
              "    </tr>\n",
              "    <tr>\n",
              "      <th>bDragonCount</th>\n",
              "      <td>0</td>\n",
              "      <td>0</td>\n",
              "      <td>1</td>\n",
              "      <td>0</td>\n",
              "      <td>1</td>\n",
              "    </tr>\n",
              "    <tr>\n",
              "      <th>rDragonCount</th>\n",
              "      <td>1</td>\n",
              "      <td>1</td>\n",
              "      <td>0</td>\n",
              "      <td>2</td>\n",
              "      <td>0</td>\n",
              "    </tr>\n",
              "    <tr>\n",
              "      <th>first_dragon</th>\n",
              "      <td>Read</td>\n",
              "      <td>Read</td>\n",
              "      <td>Blue</td>\n",
              "      <td>Red</td>\n",
              "      <td>Blue</td>\n",
              "    </tr>\n",
              "    <tr>\n",
              "      <th>bBaronCount</th>\n",
              "      <td>0</td>\n",
              "      <td>0</td>\n",
              "      <td>0</td>\n",
              "      <td>0</td>\n",
              "      <td>0</td>\n",
              "    </tr>\n",
              "    <tr>\n",
              "      <th>rBaronCount</th>\n",
              "      <td>0</td>\n",
              "      <td>0</td>\n",
              "      <td>0</td>\n",
              "      <td>0</td>\n",
              "      <td>0</td>\n",
              "    </tr>\n",
              "    <tr>\n",
              "      <th>first_baron</th>\n",
              "      <td>Red</td>\n",
              "      <td>Blue</td>\n",
              "      <td>Blue</td>\n",
              "      <td>Blue</td>\n",
              "      <td>Blue</td>\n",
              "    </tr>\n",
              "  </tbody>\n",
              "</table>\n",
              "</div>"
            ],
            "text/plain": [
              "                                                              0  ...                                                  4\n",
              "label                                                         0  ...                                                  0\n",
              "features      (1.0, 0.0, 0.0, 1.0, 0.0, 1.0, 0.0, 0.0, 0.0, ...  ...  (1.0, 0.0, 0.0, 0.0, 1.0, 1.0, 0.0, 0.0, 1.0, ...\n",
              "winner                                                     Blue  ...                                               Blue\n",
              "mid_golddiff                                               1422  ...                                               -730\n",
              "bKillCount                                                    4  ...                                                  1\n",
              "rKillCount                                                    3  ...                                                  1\n",
              "first_blood                                                Blue  ...                                               Blue\n",
              "bTowerCount                                                   4  ...                                                  1\n",
              "rTowerCount                                                   2  ...                                                  3\n",
              "first_tower                                                Blue  ...                                               Read\n",
              "bInhibCount                                                   0  ...                                                  0\n",
              "rInhibCount                                                   0  ...                                                  0\n",
              "first_inhib                                                Blue  ...                                               Blue\n",
              "bDragonCount                                                  0  ...                                                  1\n",
              "rDragonCount                                                  1  ...                                                  0\n",
              "first_dragon                                               Read  ...                                               Blue\n",
              "bBaronCount                                                   0  ...                                                  0\n",
              "rBaronCount                                                   0  ...                                                  0\n",
              "first_baron                                                 Red  ...                                               Blue\n",
              "\n",
              "[19 rows x 5 columns]"
            ]
          },
          "metadata": {
            "tags": []
          },
          "execution_count": 16
        }
      ]
    },
    {
      "cell_type": "markdown",
      "metadata": {
        "id": "fkzV4DvzAowf"
      },
      "source": [
        "\r\n",
        "From the dataframe above, we can see that 0 indicates for Blue and 1 indicates for Red"
      ]
    },
    {
      "cell_type": "markdown",
      "metadata": {
        "id": "yLxiJrRzAyAR"
      },
      "source": [
        "\r\n",
        "**Splitting the data into train and test sets**"
      ]
    },
    {
      "cell_type": "code",
      "metadata": {
        "colab": {
          "base_uri": "https://localhost:8080/"
        },
        "id": "5onWeWhnjulA",
        "outputId": "3aa95bbb-2a82-4e77-c9a8-791f1330211c"
      },
      "source": [
        "weights = [.8, .2] # train/test split\n",
        "seed = 42\n",
        "trainData, testData = model_df.randomSplit(weights,seed)\n",
        "print(\"Training Dataset Count: \" + str(trainData.count()))\n",
        "print(\"Test Dataset Count: \" + str(testData.count()))"
      ],
      "execution_count": null,
      "outputs": [
        {
          "output_type": "stream",
          "text": [
            "Training Dataset Count: 6166\n",
            "Test Dataset Count: 1454\n"
          ],
          "name": "stdout"
        }
      ]
    },
    {
      "cell_type": "markdown",
      "metadata": {
        "id": "Qsj6hfm-kbpK"
      },
      "source": [
        "# **RandomForestModel:**"
      ]
    },
    {
      "cell_type": "markdown",
      "metadata": {
        "id": "P-ZJSxv4BDkf"
      },
      "source": [
        "**Initial model**"
      ]
    },
    {
      "cell_type": "code",
      "metadata": {
        "id": "CQxJRfc8kdAO"
      },
      "source": [
        "from pyspark.ml.classification import RandomForestClassifier\n",
        "\n",
        "# Create initial LogisticRegression model\n",
        "rf = RandomForestClassifier(labelCol=\"label\", featuresCol=\"features\", maxDepth=30)\n",
        "\n",
        "# Train model with Training Data\n",
        "rfModel = rf.fit(trainData)"
      ],
      "execution_count": null,
      "outputs": []
    },
    {
      "cell_type": "markdown",
      "metadata": {
        "id": "ANYXMjqfBI6T"
      },
      "source": [
        "\r\n",
        "**Evaluating the Model**\r\n",
        "\r\n",
        "The first thing that we will do is evaluate our the model that only had a max depth of 30."
      ]
    },
    {
      "cell_type": "code",
      "metadata": {
        "colab": {
          "base_uri": "https://localhost:8080/",
          "height": 731
        },
        "id": "rg_Lr1eUmuGn",
        "outputId": "a95f196c-4dcf-44b7-bfda-41cd2bacf2c8"
      },
      "source": [
        "predictions = rfModel.transform(testData)\n",
        "predCols = ['mid_golddiff', 'bKillCount', 'rKillCount', 'first_blood',\\\n",
        "            'bTowerCount', 'rTowerCount', 'first_tower', 'bInhibCount',\\\n",
        "            'rInhibCount', 'first_inhib', 'bDragonCount', 'rDragonCount',\\\n",
        "            'first_dragon', 'bBaronCount', 'rBaronCount', 'first_baron',\\\n",
        "            'rawPrediction', 'prediction', 'probability']\n",
        "\n",
        "pd.DataFrame(predictions.take(5), columns=predictions.columns).transpose()"
      ],
      "execution_count": null,
      "outputs": [
        {
          "output_type": "execute_result",
          "data": {
            "text/html": [
              "<div>\n",
              "<style scoped>\n",
              "    .dataframe tbody tr th:only-of-type {\n",
              "        vertical-align: middle;\n",
              "    }\n",
              "\n",
              "    .dataframe tbody tr th {\n",
              "        vertical-align: top;\n",
              "    }\n",
              "\n",
              "    .dataframe thead th {\n",
              "        text-align: right;\n",
              "    }\n",
              "</style>\n",
              "<table border=\"1\" class=\"dataframe\">\n",
              "  <thead>\n",
              "    <tr style=\"text-align: right;\">\n",
              "      <th></th>\n",
              "      <th>0</th>\n",
              "      <th>1</th>\n",
              "      <th>2</th>\n",
              "      <th>3</th>\n",
              "      <th>4</th>\n",
              "    </tr>\n",
              "  </thead>\n",
              "  <tbody>\n",
              "    <tr>\n",
              "      <th>label</th>\n",
              "      <td>0</td>\n",
              "      <td>0</td>\n",
              "      <td>0</td>\n",
              "      <td>0</td>\n",
              "      <td>0</td>\n",
              "    </tr>\n",
              "    <tr>\n",
              "      <th>features</th>\n",
              "      <td>(1.0, 0.0, 0.0, 1.0, 0.0, 1.0, 0.0, 0.0, 1.0, ...</td>\n",
              "      <td>(1.0, 0.0, 0.0, 1.0, 0.0, 1.0, 0.0, 0.0, 1.0, ...</td>\n",
              "      <td>(1.0, 0.0, 0.0, 1.0, 0.0, 1.0, 0.0, 0.0, 1.0, ...</td>\n",
              "      <td>(1.0, 0.0, 0.0, 1.0, 0.0, 1.0, 0.0, 0.0, 1.0, ...</td>\n",
              "      <td>(1.0, 0.0, 0.0, 1.0, 0.0, 1.0, 0.0, 0.0, 1.0, ...</td>\n",
              "    </tr>\n",
              "    <tr>\n",
              "      <th>winner</th>\n",
              "      <td>Blue</td>\n",
              "      <td>Blue</td>\n",
              "      <td>Blue</td>\n",
              "      <td>Blue</td>\n",
              "      <td>Blue</td>\n",
              "    </tr>\n",
              "    <tr>\n",
              "      <th>mid_golddiff</th>\n",
              "      <td>659</td>\n",
              "      <td>1166</td>\n",
              "      <td>2128</td>\n",
              "      <td>1625</td>\n",
              "      <td>2106</td>\n",
              "    </tr>\n",
              "    <tr>\n",
              "      <th>bKillCount</th>\n",
              "      <td>1</td>\n",
              "      <td>4</td>\n",
              "      <td>8</td>\n",
              "      <td>4</td>\n",
              "      <td>4</td>\n",
              "    </tr>\n",
              "    <tr>\n",
              "      <th>rKillCount</th>\n",
              "      <td>0</td>\n",
              "      <td>1</td>\n",
              "      <td>2</td>\n",
              "      <td>1</td>\n",
              "      <td>3</td>\n",
              "    </tr>\n",
              "    <tr>\n",
              "      <th>first_blood</th>\n",
              "      <td>Blue</td>\n",
              "      <td>Blue</td>\n",
              "      <td>Blue</td>\n",
              "      <td>Blue</td>\n",
              "      <td>Blue</td>\n",
              "    </tr>\n",
              "    <tr>\n",
              "      <th>bTowerCount</th>\n",
              "      <td>0</td>\n",
              "      <td>0</td>\n",
              "      <td>0</td>\n",
              "      <td>1</td>\n",
              "      <td>1</td>\n",
              "    </tr>\n",
              "    <tr>\n",
              "      <th>rTowerCount</th>\n",
              "      <td>0</td>\n",
              "      <td>0</td>\n",
              "      <td>0</td>\n",
              "      <td>0</td>\n",
              "      <td>0</td>\n",
              "    </tr>\n",
              "    <tr>\n",
              "      <th>first_tower</th>\n",
              "      <td>Blue</td>\n",
              "      <td>Blue</td>\n",
              "      <td>Blue</td>\n",
              "      <td>Blue</td>\n",
              "      <td>Blue</td>\n",
              "    </tr>\n",
              "    <tr>\n",
              "      <th>bInhibCount</th>\n",
              "      <td>0</td>\n",
              "      <td>0</td>\n",
              "      <td>0</td>\n",
              "      <td>0</td>\n",
              "      <td>0</td>\n",
              "    </tr>\n",
              "    <tr>\n",
              "      <th>rInhibCount</th>\n",
              "      <td>0</td>\n",
              "      <td>0</td>\n",
              "      <td>0</td>\n",
              "      <td>0</td>\n",
              "      <td>0</td>\n",
              "    </tr>\n",
              "    <tr>\n",
              "      <th>first_inhib</th>\n",
              "      <td>Blue</td>\n",
              "      <td>Blue</td>\n",
              "      <td>Blue</td>\n",
              "      <td>Blue</td>\n",
              "      <td>Blue</td>\n",
              "    </tr>\n",
              "    <tr>\n",
              "      <th>bDragonCount</th>\n",
              "      <td>0</td>\n",
              "      <td>0</td>\n",
              "      <td>0</td>\n",
              "      <td>0</td>\n",
              "      <td>0</td>\n",
              "    </tr>\n",
              "    <tr>\n",
              "      <th>rDragonCount</th>\n",
              "      <td>0</td>\n",
              "      <td>0</td>\n",
              "      <td>0</td>\n",
              "      <td>0</td>\n",
              "      <td>0</td>\n",
              "    </tr>\n",
              "    <tr>\n",
              "      <th>first_dragon</th>\n",
              "      <td>Blue</td>\n",
              "      <td>Blue</td>\n",
              "      <td>Blue</td>\n",
              "      <td>Blue</td>\n",
              "      <td>Blue</td>\n",
              "    </tr>\n",
              "    <tr>\n",
              "      <th>bBaronCount</th>\n",
              "      <td>0</td>\n",
              "      <td>0</td>\n",
              "      <td>0</td>\n",
              "      <td>0</td>\n",
              "      <td>0</td>\n",
              "    </tr>\n",
              "    <tr>\n",
              "      <th>rBaronCount</th>\n",
              "      <td>0</td>\n",
              "      <td>0</td>\n",
              "      <td>0</td>\n",
              "      <td>0</td>\n",
              "      <td>0</td>\n",
              "    </tr>\n",
              "    <tr>\n",
              "      <th>first_baron</th>\n",
              "      <td>Blue</td>\n",
              "      <td>Blue</td>\n",
              "      <td>Blue</td>\n",
              "      <td>Blue</td>\n",
              "      <td>Blue</td>\n",
              "    </tr>\n",
              "    <tr>\n",
              "      <th>rawPrediction</th>\n",
              "      <td>[19.985972866303644, 0.014027133696356515]</td>\n",
              "      <td>[19.985972866303644, 0.014027133696356515]</td>\n",
              "      <td>[19.98571049334809, 0.014289506651910255]</td>\n",
              "      <td>[19.98333782019034, 0.0166621798096635]</td>\n",
              "      <td>[19.98128203386528, 0.018717966134720834]</td>\n",
              "    </tr>\n",
              "    <tr>\n",
              "      <th>probability</th>\n",
              "      <td>[0.9992986433151823, 0.0007013566848178257]</td>\n",
              "      <td>[0.9992986433151823, 0.0007013566848178257]</td>\n",
              "      <td>[0.9992855246674045, 0.0007144753325955128]</td>\n",
              "      <td>[0.9991668910095168, 0.0008331089904831748]</td>\n",
              "      <td>[0.999064101693264, 0.0009358983067360417]</td>\n",
              "    </tr>\n",
              "    <tr>\n",
              "      <th>prediction</th>\n",
              "      <td>0</td>\n",
              "      <td>0</td>\n",
              "      <td>0</td>\n",
              "      <td>0</td>\n",
              "      <td>0</td>\n",
              "    </tr>\n",
              "  </tbody>\n",
              "</table>\n",
              "</div>"
            ],
            "text/plain": [
              "                                                               0  ...                                                  4\n",
              "label                                                          0  ...                                                  0\n",
              "features       (1.0, 0.0, 0.0, 1.0, 0.0, 1.0, 0.0, 0.0, 1.0, ...  ...  (1.0, 0.0, 0.0, 1.0, 0.0, 1.0, 0.0, 0.0, 1.0, ...\n",
              "winner                                                      Blue  ...                                               Blue\n",
              "mid_golddiff                                                 659  ...                                               2106\n",
              "bKillCount                                                     1  ...                                                  4\n",
              "rKillCount                                                     0  ...                                                  3\n",
              "first_blood                                                 Blue  ...                                               Blue\n",
              "bTowerCount                                                    0  ...                                                  1\n",
              "rTowerCount                                                    0  ...                                                  0\n",
              "first_tower                                                 Blue  ...                                               Blue\n",
              "bInhibCount                                                    0  ...                                                  0\n",
              "rInhibCount                                                    0  ...                                                  0\n",
              "first_inhib                                                 Blue  ...                                               Blue\n",
              "bDragonCount                                                   0  ...                                                  0\n",
              "rDragonCount                                                   0  ...                                                  0\n",
              "first_dragon                                                Blue  ...                                               Blue\n",
              "bBaronCount                                                    0  ...                                                  0\n",
              "rBaronCount                                                    0  ...                                                  0\n",
              "first_baron                                                 Blue  ...                                               Blue\n",
              "rawPrediction         [19.985972866303644, 0.014027133696356515]  ...          [19.98128203386528, 0.018717966134720834]\n",
              "probability          [0.9992986433151823, 0.0007013566848178257]  ...         [0.999064101693264, 0.0009358983067360417]\n",
              "prediction                                                     0  ...                                                  0\n",
              "\n",
              "[22 rows x 5 columns]"
            ]
          },
          "metadata": {
            "tags": []
          },
          "execution_count": 25
        }
      ]
    },
    {
      "cell_type": "code",
      "metadata": {
        "colab": {
          "base_uri": "https://localhost:8080/"
        },
        "id": "IyOrfpB0m5m0",
        "outputId": "8d43a0fa-e3b5-43f5-fb3e-574680d9ef47"
      },
      "source": [
        "\n",
        "from pyspark.ml.evaluation import BinaryClassificationEvaluator\n",
        "\n",
        "# Evaluate model\n",
        "evaluator = BinaryClassificationEvaluator(rawPredictionCol=\"rawPrediction\")\n",
        "print('Test Area Under ROC', evaluator.evaluate(predictions))"
      ],
      "execution_count": null,
      "outputs": [
        {
          "output_type": "stream",
          "text": [
            "Test Area Under ROC 0.98327633378933\n"
          ],
          "name": "stdout"
        }
      ]
    },
    {
      "cell_type": "markdown",
      "metadata": {
        "id": "QcRqlI8QBQcJ"
      },
      "source": [
        "\r\n",
        "## **Cross-validate Model**\r\n",
        "\r\n",
        "Here we will use Cross Validation to find the best decision tree model by trying out different max depths. For this cross validation, we are using ten-fold cross validation."
      ]
    },
    {
      "cell_type": "code",
      "metadata": {
        "colab": {
          "base_uri": "https://localhost:8080/",
          "height": 154
        },
        "id": "laIJCb6FCTLb",
        "outputId": "f5bf8fde-cdcb-4291-ece4-f543cbb72c19"
      },
      "source": [
        "rf.explainParams()"
      ],
      "execution_count": 72,
      "outputs": [
        {
          "output_type": "execute_result",
          "data": {
            "application/vnd.google.colaboratory.intrinsic+json": {
              "type": "string"
            },
            "text/plain": [
              "\"bootstrap: Whether bootstrap samples are used when building trees. (default: True)\\ncacheNodeIds: If false, the algorithm will pass trees to executors to match instances with nodes. If true, the algorithm will cache node IDs for each instance. Caching can speed up training of deeper trees. Users can set how often should the cache be checkpointed or disable it by setting checkpointInterval. (default: False)\\ncheckpointInterval: set checkpoint interval (>= 1) or disable checkpoint (-1). E.g. 10 means that the cache will get checkpointed every 10 iterations. Note: this setting will be ignored if the checkpoint directory is not set in the SparkContext. (default: 10)\\nfeatureSubsetStrategy: The number of features to consider for splits at each tree node. Supported options: 'auto' (choose automatically for task: If numTrees == 1, set to 'all'. If numTrees > 1 (forest), set to 'sqrt' for classification and to 'onethird' for regression), 'all' (use all features), 'onethird' (use 1/3 of the features), 'sqrt' (use sqrt(number of features)), 'log2' (use log2(number of features)), 'n' (when n is in the range (0, 1.0], use n * number of features. When n is in the range (1, number of features), use n features). default = 'auto' (default: auto)\\nfeaturesCol: features column name. (default: features, current: features)\\nimpurity: Criterion used for information gain calculation (case-insensitive). Supported options: entropy, gini (default: gini)\\nlabelCol: label column name. (default: label, current: label)\\nleafCol: Leaf indices column name. Predicted leaf index of each instance in each tree by preorder. (default: )\\nmaxBins: Max number of bins for discretizing continuous features.  Must be >=2 and >= number of categories for any categorical feature. (default: 32)\\nmaxDepth: Maximum depth of the tree. (>= 0) E.g., depth 0 means 1 leaf node; depth 1 means 1 internal node + 2 leaf nodes. (default: 5)\\nmaxMemoryInMB: Maximum memory in MB allocated to histogram aggregation. If too small, then 1 node will be split per iteration, and its aggregates may exceed this size. (default: 256)\\nminInfoGain: Minimum information gain for a split to be considered at a tree node. (default: 0.0)\\nminInstancesPerNode: Minimum number of instances each child must have after split. If a split causes the left or right child to have fewer than minInstancesPerNode, the split will be discarded as invalid. Should be >= 1. (default: 1)\\nminWeightFractionPerNode: Minimum fraction of the weighted sample count that each child must have after split. If a split causes the fraction of the total weight in the left or right child to be less than minWeightFractionPerNode, the split will be discarded as invalid. Should be in interval [0.0, 0.5). (default: 0.0)\\nnumTrees: Number of trees to train (>= 1). (default: 20)\\npredictionCol: prediction column name. (default: prediction)\\nprobabilityCol: Column name for predicted class conditional probabilities. Note: Not all models output well-calibrated probability estimates! These probabilities should be treated as confidences, not precise probabilities. (default: probability)\\nrawPredictionCol: raw prediction (a.k.a. confidence) column name. (default: rawPrediction)\\nseed: random seed. (default: 1496109656189716106)\\nsubsamplingRate: Fraction of the training data used for learning each decision tree, in range (0, 1]. (default: 1.0)\\nthresholds: Thresholds in multi-class classification to adjust the probability of predicting each class. Array must have length equal to the number of classes, with values > 0, excepting that at most one value may be 0. The class with largest value p/t is predicted, where p is the original probability of that class and t is the class's threshold. (undefined)\\nweightCol: weight column name. If this is not set or empty, we treat all instance weights as 1.0. (undefined)\""
            ]
          },
          "metadata": {
            "tags": []
          },
          "execution_count": 72
        }
      ]
    },
    {
      "cell_type": "code",
      "metadata": {
        "id": "f2v59rmSnMvV"
      },
      "source": [
        "\n",
        "from pyspark.ml.classification import RandomForestClassifier\n",
        "from pyspark.ml.evaluation import BinaryClassificationEvaluator\n",
        "from pyspark.ml.tuning import *\n",
        "\n",
        "testDept = [x for x in range(0, 31) if x%6==0]\n",
        "testBin = [x for x in range(2, 32) if x%6==0]\n",
        "testInstance = [x for x in range(1, 10) if x %3 ==0]\n",
        "rf = RandomForestClassifier(labelCol=\"label\", featuresCol=\"features\")\n",
        "grid = ParamGridBuilder().addGrid(rf.maxDepth, testDept).addGrid(rf.maxBins, testBin).addGrid(rf.bootstrap,[True, False]).addGrid(rf.minInstancesPerNode, testInstance).build()\n",
        "cvRF = CrossValidator(estimator=rf, estimatorParamMaps=grid, evaluator=evaluator, numFolds=3)\n",
        "cv_RF_model = cvRF.fit(model_df)\n"
      ],
      "execution_count": null,
      "outputs": []
    },
    {
      "cell_type": "code",
      "metadata": {
        "id": "F5ey4AnntxzV"
      },
      "source": [
        "best_RF_model = cv_RF_model.bestModel"
      ],
      "execution_count": null,
      "outputs": []
    },
    {
      "cell_type": "code",
      "metadata": {
        "colab": {
          "base_uri": "https://localhost:8080/",
          "height": 17
        },
        "id": "Hof0HqV6tIGG",
        "outputId": "a70f0d40-d6e0-4bc1-b152-952b07e6c6fb"
      },
      "source": [
        "# Saving the model\r\n",
        "cv_RF_model.save(\"RF_Model\")\r\n",
        "from google.colab import files\r\n",
        "files.download('RF_Model')"
      ],
      "execution_count": null,
      "outputs": [
        {
          "output_type": "display_data",
          "data": {
            "application/javascript": [
              "\n",
              "    async function download(id, filename, size) {\n",
              "      if (!google.colab.kernel.accessAllowed) {\n",
              "        return;\n",
              "      }\n",
              "      const div = document.createElement('div');\n",
              "      const label = document.createElement('label');\n",
              "      label.textContent = `Downloading \"${filename}\": `;\n",
              "      div.appendChild(label);\n",
              "      const progress = document.createElement('progress');\n",
              "      progress.max = size;\n",
              "      div.appendChild(progress);\n",
              "      document.body.appendChild(div);\n",
              "\n",
              "      const buffers = [];\n",
              "      let downloaded = 0;\n",
              "\n",
              "      const channel = await google.colab.kernel.comms.open(id);\n",
              "      // Send a message to notify the kernel that we're ready.\n",
              "      channel.send({})\n",
              "\n",
              "      for await (const message of channel.messages) {\n",
              "        // Send a message to notify the kernel that we're ready.\n",
              "        channel.send({})\n",
              "        if (message.buffers) {\n",
              "          for (const buffer of message.buffers) {\n",
              "            buffers.push(buffer);\n",
              "            downloaded += buffer.byteLength;\n",
              "            progress.value = downloaded;\n",
              "          }\n",
              "        }\n",
              "      }\n",
              "      const blob = new Blob(buffers, {type: 'application/binary'});\n",
              "      const a = document.createElement('a');\n",
              "      a.href = window.URL.createObjectURL(blob);\n",
              "      a.download = filename;\n",
              "      div.appendChild(a);\n",
              "      a.click();\n",
              "      div.remove();\n",
              "    }\n",
              "  "
            ],
            "text/plain": [
              "<IPython.core.display.Javascript object>"
            ]
          },
          "metadata": {
            "tags": []
          }
        },
        {
          "output_type": "display_data",
          "data": {
            "application/javascript": [
              "download(\"download_de7ab53a-fd88-49dc-bb10-7b4f81bc96e4\", \"RF_Model\", 4096)"
            ],
            "text/plain": [
              "<IPython.core.display.Javascript object>"
            ]
          },
          "metadata": {
            "tags": []
          }
        }
      ]
    },
    {
      "cell_type": "markdown",
      "metadata": {
        "id": "D000hPYiCgc-"
      },
      "source": [
        "Below we can see how well our model performed on each number of epochs. We can see that our model performs relatively the same after a certain point."
      ]
    },
    {
      "cell_type": "code",
      "metadata": {
        "colab": {
          "base_uri": "https://localhost:8080/"
        },
        "id": "eY653UJGoREM",
        "outputId": "92c88071-2f40-4516-a6f1-86f039aa192f"
      },
      "source": [
        "cv_RF_model.avgMetrics"
      ],
      "execution_count": null,
      "outputs": [
        {
          "output_type": "execute_result",
          "data": {
            "text/plain": [
              "[0.5,\n",
              " 0.5,\n",
              " 0.5,\n",
              " 0.5,\n",
              " 0.5,\n",
              " 0.5,\n",
              " 0.5,\n",
              " 0.5,\n",
              " 0.5,\n",
              " 0.5,\n",
              " 0.5,\n",
              " 0.5,\n",
              " 0.5,\n",
              " 0.5,\n",
              " 0.5,\n",
              " 0.5,\n",
              " 0.5,\n",
              " 0.5,\n",
              " 0.5,\n",
              " 0.5,\n",
              " 0.5,\n",
              " 0.5,\n",
              " 0.5,\n",
              " 0.5,\n",
              " 0.5,\n",
              " 0.5,\n",
              " 0.5,\n",
              " 0.5,\n",
              " 0.5,\n",
              " 0.5,\n",
              " 0.9867249221778315,\n",
              " 0.9868474568947445,\n",
              " 0.9863921989325777,\n",
              " 0.986934606156977,\n",
              " 0.9865213460852587,\n",
              " 0.9861846676223143,\n",
              " 0.9867593899752192,\n",
              " 0.9870620571400688,\n",
              " 0.986647084705405,\n",
              " 0.9867170536993686,\n",
              " 0.9863123814360909,\n",
              " 0.9859703901495378,\n",
              " 0.9868305389766188,\n",
              " 0.9864579893858163,\n",
              " 0.9861984137035296,\n",
              " 0.9868423116340965,\n",
              " 0.9862063444001501,\n",
              " 0.9860127395997562,\n",
              " 0.9864245550894035,\n",
              " 0.9863872783746492,\n",
              " 0.9864203206039224,\n",
              " 0.9868149208882855,\n",
              " 0.9862074582118419,\n",
              " 0.9861828252688583,\n",
              " 0.9863705499721814,\n",
              " 0.9864945039416861,\n",
              " 0.9864245467884489,\n",
              " 0.9866840866257013,\n",
              " 0.9865952527222267,\n",
              " 0.9862237501569258,\n",
              " 0.9869556046172616,\n",
              " 0.9873607885730575,\n",
              " 0.9868193355968715,\n",
              " 0.9870090812461996,\n",
              " 0.9870313057534801,\n",
              " 0.986805855237092,\n",
              " 0.98681620883732,\n",
              " 0.9871880754132871,\n",
              " 0.9870309518381186,\n",
              " 0.9876456412418233,\n",
              " 0.9875138353960278,\n",
              " 0.9870900600695307,\n",
              " 0.9868242818754025,\n",
              " 0.9872126330317366,\n",
              " 0.9869443470746504,\n",
              " 0.98781783066902,\n",
              " 0.9875950651518062,\n",
              " 0.986941993302515,\n",
              " 0.9869952859795748,\n",
              " 0.9869877831324072,\n",
              " 0.9872047549647205,\n",
              " 0.9877387071832768,\n",
              " 0.9871445161489416,\n",
              " 0.9872015242583418,\n",
              " 0.9866725919114339,\n",
              " 0.9872270278478146,\n",
              " 0.9872564066583616,\n",
              " 0.9878303129400313,\n",
              " 0.9871828755627321,\n",
              " 0.9872310658988044,\n",
              " 0.986959986853504,\n",
              " 0.987214002673551,\n",
              " 0.9868306489587584,\n",
              " 0.9869382595598835,\n",
              " 0.9870242368556178,\n",
              " 0.9867037474849163,\n",
              " 0.9865779745588464,\n",
              " 0.9872345067323338,\n",
              " 0.9871213643022514,\n",
              " 0.9875812474743332,\n",
              " 0.9875342662063205,\n",
              " 0.9871019040536977,\n",
              " 0.9866463587901007,\n",
              " 0.9872016615369634,\n",
              " 0.9869539711193489,\n",
              " 0.9878812692277184,\n",
              " 0.9875707003816758,\n",
              " 0.9869111444299836,\n",
              " 0.9869135379784111,\n",
              " 0.9869913559275235,\n",
              " 0.9871323859245608,\n",
              " 0.9875661858482365,\n",
              " 0.9871203575192292,\n",
              " 0.9871855403465701,\n",
              " 0.9863946971164339,\n",
              " 0.9873169632928115,\n",
              " 0.9872069458049977,\n",
              " 0.9876897971295575,\n",
              " 0.9872160653941342,\n",
              " 0.9872032703276501,\n",
              " 0.9869599868535035,\n",
              " 0.9872140026735509,\n",
              " 0.9868306489587583,\n",
              " 0.9869336326380544,\n",
              " 0.9870242368556175,\n",
              " 0.9867037474849163,\n",
              " 0.9865549829953599,\n",
              " 0.9872345067323334,\n",
              " 0.9871213643022516,\n",
              " 0.9875892443299434,\n",
              " 0.9875342662063193,\n",
              " 0.9871019040536978,\n",
              " 0.986604484435357,\n",
              " 0.9872016615369632,\n",
              " 0.986953971119349,\n",
              " 0.9878729018637018,\n",
              " 0.9875707003816752,\n",
              " 0.9869111444299838,\n",
              " 0.9869133338963616,\n",
              " 0.986991355927523,\n",
              " 0.9871323859245615,\n",
              " 0.9875520340353996,\n",
              " 0.9871203575192292,\n",
              " 0.9871855403465699,\n",
              " 0.9863863001825939,\n",
              " 0.9873173714569087,\n",
              " 0.9872069458049982,\n",
              " 0.987663458675722,\n",
              " 0.9872160653941338,\n",
              " 0.9872032703276497,\n",
              " 0.9869599868535035,\n",
              " 0.9872140026735516,\n",
              " 0.9868306489587588,\n",
              " 0.9869336326380542,\n",
              " 0.9870242368556177,\n",
              " 0.986703747484916,\n",
              " 0.9865549829953584,\n",
              " 0.987234506732334,\n",
              " 0.9871213643022521,\n",
              " 0.9875892443299434,\n",
              " 0.987534266206319,\n",
              " 0.9871019040536975,\n",
              " 0.9866044844353565,\n",
              " 0.9872016615369634,\n",
              " 0.9869539711193496,\n",
              " 0.9878729018637025,\n",
              " 0.9875707003816754,\n",
              " 0.9869111444299832,\n",
              " 0.9869133338963609,\n",
              " 0.9869913559275223,\n",
              " 0.9871323859245607,\n",
              " 0.987552034035399,\n",
              " 0.9871203575192289,\n",
              " 0.9871855403465695,\n",
              " 0.9863863001825943,\n",
              " 0.987317371456909,\n",
              " 0.9872069458049972,\n",
              " 0.9876634586757223,\n",
              " 0.9872160653941335,\n",
              " 0.9872032703276503]"
            ]
          },
          "metadata": {
            "tags": []
          },
          "execution_count": 28
        }
      ]
    },
    {
      "cell_type": "markdown",
      "metadata": {
        "id": "ppB2VlXKthxq"
      },
      "source": [
        "Best paramters\r\n"
      ]
    },
    {
      "cell_type": "code",
      "metadata": {
        "id": "heYmHQ7kulQA"
      },
      "source": [
        "best_RF_model = cv_RF_model.bestModel"
      ],
      "execution_count": null,
      "outputs": []
    },
    {
      "cell_type": "code",
      "metadata": {
        "id": "Dz-g8Ntd0iI8"
      },
      "source": [
        "# Saving the model\r\n",
        "best_RF_model.save(\"drive/MyDrive/dataset/RF_Model\")\r\n"
      ],
      "execution_count": null,
      "outputs": []
    },
    {
      "cell_type": "code",
      "metadata": {
        "colab": {
          "base_uri": "https://localhost:8080/"
        },
        "id": "GQ5Gtlx7tj5X",
        "outputId": "030d5786-546d-449e-e7b5-b6036f34a09f"
      },
      "source": [
        "print('maxDepth', best_RF_model.getMaxDepth())\r\n",
        "print('maxBins', best_RF_model.getMaxBins())\r\n",
        "print('minInstancePerNode', best_RF_model.getMinInstancesPerNode())\r\n",
        "print('bootstrap', best_RF_model.getBootstrap())\r\n"
      ],
      "execution_count": null,
      "outputs": [
        {
          "output_type": "stream",
          "text": [
            "maxDepth 18\n",
            "maxBins 18\n",
            "minInstancePerNode 3\n",
            "bootstrap False\n"
          ],
          "name": "stdout"
        }
      ]
    },
    {
      "cell_type": "code",
      "metadata": {
        "colab": {
          "base_uri": "https://localhost:8080/"
        },
        "id": "v200Vyp_u388",
        "outputId": "b40d0c21-c307-40d9-9adb-947097f92ce9"
      },
      "source": [
        "testPredictions = best_RF_model.transform(testData)\r\n",
        "print('Test Area Under ROC', evaluator.evaluate(testPredictions))"
      ],
      "execution_count": 70,
      "outputs": [
        {
          "output_type": "stream",
          "text": [
            "Test Area Under ROC 0.9957088843289255\n"
          ],
          "name": "stdout"
        }
      ]
    }
  ]
}